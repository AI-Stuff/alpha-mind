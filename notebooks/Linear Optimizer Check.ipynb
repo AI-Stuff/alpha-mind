{
 "cells": [
  {
   "cell_type": "code",
   "execution_count": null,
   "metadata": {
    "collapsed": true
   },
   "outputs": [],
   "source": [
    "import datetime as dt\n",
    "import numpy as np\n",
    "import cvxpy\n",
    "from cvxopt import solvers\n",
    "from alphamind.portfolio.linearbuilder import linear_build"
   ]
  },
  {
   "cell_type": "code",
   "execution_count": null,
   "metadata": {
    "collapsed": true
   },
   "outputs": [],
   "source": [
    "solvers.options['glpk'] = {'msg_lev': 'GLP_MSG_OFF'}"
   ]
  },
  {
   "cell_type": "code",
   "execution_count": null,
   "metadata": {
    "collapsed": true
   },
   "outputs": [],
   "source": [
    "def time_function(py_callable, n):\n",
    "    start = dt.datetime.now()\n",
    "    result = py_callable(n)\n",
    "    elapsed = (dt.datetime.now() - start).total_seconds()\n",
    "    return elapsed, result\n",
    "\n",
    "def cvxpy_lp(n):\n",
    "    w = cvxpy.Variable(n)\n",
    "\n",
    "    bndl = np.zeros(n)\n",
    "    bndu = 0.01 * np.ones(n)\n",
    "    risk_constraints = np.ones((n,1))\n",
    "\n",
    "    curr_risk_exposure = risk_constraints.T @ w\n",
    "\n",
    "    constraints = [w >= bndl,\n",
    "                   w <= bndu,\n",
    "                   curr_risk_exposure >= 1.,\n",
    "                   curr_risk_exposure <= 1.]\n",
    "\n",
    "    er = np.random.randn(n)\n",
    "\n",
    "\n",
    "    objective = cvxpy.Minimize(-w.T * er)\n",
    "    prob = cvxpy.Problem(objective, constraints)\n",
    "    prob.solve(solver='GLPK')\n",
    "    return w, prob"
   ]
  },
  {
   "cell_type": "code",
   "execution_count": null,
   "metadata": {},
   "outputs": [],
   "source": [
    "print(\"{0:<8}{1:>12}{2:>12}{3:>12}{4:>12}{5:>12}\".format('Scale(n)', 'time(ms)', 'feval', 'min(x)', 'max(x)', 'sum(x)'))\n",
    "\n",
    "for n in range(200, 3200, 200):\n",
    "    elapsed, result = time_function(cvxpy_lp, n)\n",
    "    s = np.array(result[0].value).flatten()\n",
    "    print(\"{0:<8}{1:>12.2f}{2:>12.2f}{3:>12f}{4:>12f}{5:>12f}\".format(n, elapsed*1000, result[1].value, s.min(), s.max(), s.sum()))"
   ]
  },
  {
   "cell_type": "code",
   "execution_count": null,
   "metadata": {
    "collapsed": true
   },
   "outputs": [],
   "source": [
    "def clp_lp(n):\n",
    "    er = np.random.randn(n)\n",
    "\n",
    "    bndl = np.zeros(n)\n",
    "    bndu = 0.01 * np.ones(n)\n",
    "    risk_constraints = np.ones((n,1))\n",
    "    risk_target = np.ones(1), np.ones(1)\n",
    "    \n",
    "    result = linear_build(er, bndl, bndu, risk_constraints, risk_target)\n",
    "    return result"
   ]
  },
  {
   "cell_type": "code",
   "execution_count": null,
   "metadata": {},
   "outputs": [],
   "source": [
    "print(\"{0:<8}{1:>12}{2:>12}{3:>12}{4:>12}{5:>12}\".format('Scale(n)', 'time(ms)', 'feval', 'min(x)', 'max(x)', 'sum(x)'))\n",
    "\n",
    "for n in range(200, 3200, 200):\n",
    "    elapsed, result = time_function(clp_lp, n)\n",
    "    s = result[2]\n",
    "    print(\"{0:<8}{1:>12.2f}{2:>12.2f}{3:>12f}{4:>12f}{5:>12f}\".format(n, elapsed*1000, result[1], s.min(), s.max(), s.sum()))"
   ]
  },
  {
   "cell_type": "code",
   "execution_count": null,
   "metadata": {
    "collapsed": true
   },
   "outputs": [],
   "source": []
  }
 ],
 "metadata": {
  "kernelspec": {
   "display_name": "Python 3",
   "language": "python",
   "name": "python3"
  },
  "language_info": {
   "codemirror_mode": {
    "name": "ipython",
    "version": 3
   },
   "file_extension": ".py",
   "mimetype": "text/x-python",
   "name": "python",
   "nbconvert_exporter": "python",
   "pygments_lexer": "ipython3",
   "version": "3.6.1"
  }
 },
 "nbformat": 4,
 "nbformat_minor": 2
}
