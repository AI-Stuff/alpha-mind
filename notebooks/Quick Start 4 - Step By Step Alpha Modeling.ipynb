{
 "cells": [
  {
   "cell_type": "markdown",
   "metadata": {},
   "source": [
    "> 在本文中，我们给出分步骤使用原始的多因子数据，生成目标权重的例子"
   ]
  },
  {
   "cell_type": "code",
   "execution_count": 136,
   "metadata": {},
   "outputs": [],
   "source": [
    "%matplotlib inline\n",
    "import os\n",
    "import numpy as np\n",
    "import pandas as pd\n",
    "from alphamind.data.dbmodel.models import Uqer\n",
    "from alphamind.data.dbmodel.models import Universe\n",
    "from alphamind.data.dbmodel.models import Industry\n",
    "from alphamind.data.dbmodel.models import IndexComponent\n",
    "from alphamind.data import neutralize\n",
    "from alphamind.portfolio.linearbuilder import linear_builder\n",
    "import sqlalchemy as sa\n",
    "from sqlalchemy import outerjoin, and_, select\n",
    "from matplotlib import rc\n",
    "from matplotlib import pyplot as plt\n",
    "\n",
    "rc('font', **{'family': 'Microsoft YaHei', 'size': 10})\n",
    "rc('mathtext', **{'default': 'regular'})\n",
    "rc('legend', **{'frameon': False})"
   ]
  },
  {
   "cell_type": "markdown",
   "metadata": {},
   "source": [
    "## 1. 组合构造要求\n",
    "--------------------------\n",
    "\n",
    "* 股票池：中证800\n",
    "* 交易日：2019年1月15日\n",
    "* alpha因子：EPS\n",
    "* 行业分类：申万行业一级分类\n",
    "* 基准指数：中证800指数\n",
    "* 行业暴露：各行业保持中性\n",
    "* 个股暴露：个股最大主动暴露不超过2%"
   ]
  },
  {
   "cell_type": "code",
   "execution_count": 140,
   "metadata": {},
   "outputs": [],
   "source": [
    "universe_name = 'zz800'\n",
    "trade_date = '2019-01-15'\n",
    "factor = 'EPS'\n",
    "industry_name = '申万行业分类'\n",
    "benchmark_code = 906\n",
    "max_active_industry_exposure = 0.\n",
    "max_active_single_stock_exposure = 0.02\n",
    "con = sa.create_engine(os.environ['DB_URI'])"
   ]
  },
  {
   "cell_type": "markdown",
   "metadata": {},
   "source": [
    "## 2. 获取基本数据\n",
    "----------------------\n",
    "\n",
    "获取在2019年1月15日中证800成分股的EPS因子值"
   ]
  },
  {
   "cell_type": "code",
   "execution_count": 142,
   "metadata": {},
   "outputs": [
    {
     "name": "stdout",
     "output_type": "stream",
     "text": [
      "   code     EPS\n",
      "0     1  1.5885\n",
      "1     2  1.6891\n",
      "2     6  0.4970\n",
      "3     8  0.0592\n",
      "4     9  0.0612\n",
      "Wall time: 150 ms\n"
     ]
    }
   ],
   "source": [
    "%%time\n",
    "\n",
    "big_table = outerjoin(Uqer, Universe, and_(Uqer.trade_date == Universe.trade_date,\n",
    "                                           Uqer.code == Universe.code))\n",
    "\n",
    "query = select([Uqer.code, getattr(Uqer, factor)]).select_from(big_table) \\\n",
    "    .where(and_(Uqer.trade_date == trade_date, \n",
    "                getattr(Universe, universe_name) == 1))\n",
    "\n",
    "factors = pd.read_sql(query, con=con)\n",
    "print(factors.head())"
   ]
  },
  {
   "cell_type": "markdown",
   "metadata": {},
   "source": [
    "获取在2019年1月15日中证800成分股的行业分类"
   ]
  },
  {
   "cell_type": "code",
   "execution_count": 143,
   "metadata": {},
   "outputs": [
    {
     "name": "stdout",
     "output_type": "stream",
     "text": [
      "   code industryName1\n",
      "0     1            银行\n",
      "1     2           房地产\n",
      "2     6           房地产\n",
      "3     8          机械设备\n",
      "4     9            综合\n",
      "Wall time: 140 ms\n"
     ]
    }
   ],
   "source": [
    "%%time\n",
    "\n",
    "big_table = outerjoin(Industry, Universe, and_(Industry.trade_date == Universe.trade_date,\n",
    "                                               Industry.code == Universe.code))\n",
    "\n",
    "query = select([Industry.code, Industry.industryName1]).select_from(big_table) \\\n",
    "    .where(and_(Industry.trade_date == trade_date,\n",
    "                Industry.industry == industry_name,\n",
    "                getattr(Universe, universe_name) == 1))\n",
    "\n",
    "industry = pd.read_sql(query, con=con)\n",
    "print(industry.head())"
   ]
  },
  {
   "cell_type": "markdown",
   "metadata": {},
   "source": [
    "获取在2019年1月15日中证800成分股的指数权重"
   ]
  },
  {
   "cell_type": "code",
   "execution_count": 148,
   "metadata": {},
   "outputs": [
    {
     "name": "stdout",
     "output_type": "stream",
     "text": [
      "Wall time: 413 ms\n"
     ]
    }
   ],
   "source": [
    "%%time\n",
    "\n",
    "big_table = outerjoin(IndexComponent, Universe, and_(IndexComponent.trade_date == Universe.trade_date,\n",
    "                                                     IndexComponent.code == Universe.code))\n",
    "\n",
    "query = select([IndexComponent.code, (IndexComponent.weight / 100.).label('index_weight')]) \\\n",
    "    .where(and_(IndexComponent.trade_date == trade_date,\n",
    "                IndexComponent.indexCode == benchmark_code))\n",
    "\n",
    "index_components = pd.read_sql(query, con=con)\n",
    "print(index_components.head())"
   ]
  },
  {
   "cell_type": "code",
   "execution_count": 149,
   "metadata": {},
   "outputs": [],
   "source": [
    "df = pd.merge(factors, industry, on=['code'], how='inner').dropna()\n",
    "df = pd.merge(df, index_components, on=['code'], how='inner').dropna()"
   ]
  },
  {
   "cell_type": "markdown",
   "metadata": {},
   "source": [
    "## 3. 因子中性化\n",
    "-------------------"
   ]
  },
  {
   "cell_type": "markdown",
   "metadata": {},
   "source": [
    "将行业数据（categorical）数据转为dummy矩阵"
   ]
  },
  {
   "cell_type": "code",
   "execution_count": 98,
   "metadata": {},
   "outputs": [],
   "source": [
    "industry_dummy = pd.get_dummies(df.industryName1)"
   ]
  },
  {
   "cell_type": "markdown",
   "metadata": {},
   "source": [
    "使用行业dummy矩阵对因子做中性化，得到**行业中性化后**的因子：`neutralized_factor`"
   ]
  },
  {
   "cell_type": "code",
   "execution_count": 152,
   "metadata": {},
   "outputs": [
    {
     "name": "stdout",
     "output_type": "stream",
     "text": [
      "   code  neutralized_factor\n",
      "0     1            0.253364\n",
      "1     2            0.990502\n",
      "2     6           -0.201598\n",
      "3     8           -0.396290\n",
      "4     9           -0.168950\n",
      "Wall time: 2.96 ms\n"
     ]
    }
   ],
   "source": [
    "%%time\n",
    "\n",
    "df['neutralized_factor'] = neutralize(industry_dummy.values.astype(float), df[factor].values).flatten()\n",
    "print(df[['code', 'neutralized_factor']].head())"
   ]
  },
  {
   "cell_type": "markdown",
   "metadata": {},
   "source": [
    "## 4. 组合构建\n",
    "-----------------------------\n",
    "\n",
    "使用alpha-mind中的线性优化器来做组合构建，在做组合构建的时候，我们已生成**主动权重**为目标（主动权重 = 组合权重 - 指数权重）。优化器，以最大化组合的预期收益为目标，同时达到以下的限制条件：\n",
    "\n",
    "* 最小主动权重-2%，同时保证不做空（所以单只股票最小主动权重为-2%与其指数权重负值中的较大值）；\n",
    "* 最大主动权重2%；\n",
    "* 行业主动暴露为0；\n",
    "* 主动权重加和为0，保证组合总权重与指数总权重一致。"
   ]
  },
  {
   "cell_type": "code",
   "execution_count": 111,
   "metadata": {},
   "outputs": [],
   "source": [
    "er = df.neutralized_factor.values\n",
    "lbound = np.maximum(-max_active_single_stock_exposure, -df['index_weight'].values)\n",
    "ubound = max_active_single_stock_exposure\n",
    "risk_constraints = np.concatenate((industry_dummy, np.ones((len(er), 1))), axis=1)\n",
    "industry_low_bounds = -max_active_industry_exposure * np.ones(industry_dummy.shape[1])\n",
    "industry_up_bounds = max_active_industry_exposure * np.ones(industry_dummy.shape[1])\n",
    "risk_target = (np.concatenate((industry_low_bounds, [0.])),\n",
    "               np.concatenate((industry_up_bounds, [0.])),)"
   ]
  },
  {
   "cell_type": "markdown",
   "metadata": {},
   "source": [
    "输出结果中：\n",
    "\n",
    "* `status`：优化状态；\n",
    "* `optimized_values`：组合预期收益的负值；\n",
    "* `weights`：组合中股票的主动权重"
   ]
  },
  {
   "cell_type": "code",
   "execution_count": 112,
   "metadata": {},
   "outputs": [
    {
     "name": "stdout",
     "output_type": "stream",
     "text": [
      "Wall time: 8.98 ms\n"
     ]
    }
   ],
   "source": [
    "%%time\n",
    "\n",
    "status, optimized_values, weights = linear_builder(er,\n",
    "                                                   lbound,\n",
    "                                                   ubound,\n",
    "                                                   risk_constraints,\n",
    "                                                   risk_target)"
   ]
  },
  {
   "cell_type": "markdown",
   "metadata": {},
   "source": [
    "计算最终持仓：\n",
    "\n",
    "* `portfolio_weight`：组合权重\n",
    "* `active_weight`：主动权重"
   ]
  },
  {
   "cell_type": "code",
   "execution_count": 157,
   "metadata": {},
   "outputs": [],
   "source": [
    "df['portfolio_weight'] = df['index_weight'] + weights\n",
    "df['active_weight'] = weights"
   ]
  },
  {
   "cell_type": "markdown",
   "metadata": {},
   "source": [
    "我们可以通过计算行业权重，并与指数的行业权重进行比较，验证行业暴露确实为0"
   ]
  },
  {
   "cell_type": "code",
   "execution_count": 158,
   "metadata": {},
   "outputs": [
    {
     "data": {
      "text/plain": [
       "<matplotlib.axes._subplots.AxesSubplot at 0x193c4445128>"
      ]
     },
     "execution_count": 158,
     "metadata": {},
     "output_type": "execute_result"
    },
    {
     "data": {
      "image/png": "[encoded data removed]",
      "text/plain": [
       "<Figure size 1008x504 with 1 Axes>"
      ]
     },
     "metadata": {
      "needs_background": "light"
     },
     "output_type": "display_data"
    }
   ],
   "source": [
    "df.groupby('industryName1').sum().plot.bar(y=['index_weight', 'portfolio_weight'], figsize=(14, 7))"
   ]
  },
  {
   "cell_type": "markdown",
   "metadata": {},
   "source": [
    "我们也可以通过观察中性化后因子值，观察个股权重与因子值的关系"
   ]
  },
  {
   "cell_type": "code",
   "execution_count": 139,
   "metadata": {},
   "outputs": [
    {
     "data": {
      "text/plain": [
       "(-0.02, 0.025)"
      ]
     },
     "execution_count": 139,
     "metadata": {},
     "output_type": "execute_result"
    },
    {
     "data": {
      "image/png": "[encoded data removed]",
      "text/plain": [
       "<Figure size 1008x504 with 1 Axes>"
      ]
     },
     "metadata": {
      "needs_background": "light"
     },
     "output_type": "display_data"
    }
   ],
   "source": [
    "df.plot(kind='scatter', x='neutralized_factor', y='active_weight', figsize=(14, 7))\n",
    "plt.xlim((-5, 5))\n",
    "plt.ylim((-0.02, 0.025))"
   ]
  },
  {
   "cell_type": "code",
   "execution_count": null,
   "metadata": {},
   "outputs": [],
   "source": []
  }
 ],
 "metadata": {
  "kernelspec": {
   "display_name": "Python 3",
   "language": "python",
   "name": "python3"
  },
  "language_info": {
   "codemirror_mode": {
    "name": "ipython",
    "version": 3
   },
   "file_extension": ".py",
   "mimetype": "text/x-python",
   "name": "python",
   "nbconvert_exporter": "python",
   "pygments_lexer": "ipython3",
   "version": "3.6.8"
  }
 },
 "nbformat": 4,
 "nbformat_minor": 2
}
