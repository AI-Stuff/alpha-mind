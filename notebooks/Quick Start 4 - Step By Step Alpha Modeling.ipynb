{
 "cells": [
  {
   "cell_type": "markdown",
   "metadata": {},
   "source": [
    "> 在本文中，我们给出分步骤使用原始的多因子数据，生成目标权重的例子"
   ]
  },
  {
   "cell_type": "code",
   "execution_count": 1,
   "metadata": {},
   "outputs": [],
   "source": [
    "%matplotlib inline\n",
    "import os\n",
    "import numpy as np\n",
    "import pandas as pd\n",
    "from alphamind.data.dbmodel.models import Uqer\n",
    "from alphamind.data.dbmodel.models import Universe as UniverseTable\n",
    "from alphamind.data.dbmodel.models import Industry\n",
    "from alphamind.data.dbmodel.models import IndexComponent\n",
    "from alphamind.data import neutralize\n",
    "from alphamind.portfolio.linearbuilder import linear_builder\n",
    "from PyFin.api import *\n",
    "import sqlalchemy as sa\n",
    "from sqlalchemy import outerjoin, and_, select\n",
    "from matplotlib import rc\n",
    "from matplotlib import pyplot as plt\n",
    "from alphamind.api import *\n",
    "\n",
    "rc('font', **{'family': 'Microsoft YaHei', 'size': 10})\n",
    "rc('mathtext', **{'default': 'regular'})\n",
    "rc('legend', **{'frameon': False})"
   ]
  },
  {
   "cell_type": "markdown",
   "metadata": {},
   "source": [
    "## 1. 组合构造要求\n",
    "--------------------------\n",
    "\n",
    "* 股票池：中证800\n",
    "* 交易日：2019年1月15日\n",
    "* alpha因子：$0.5 \\times \\mathrm{EPS} + 1.5 \\times \\mathrm{ROE}$\n",
    "* 行业分类：申万行业一级分类\n",
    "* 基准指数：中证800指数\n",
    "* 行业暴露：各行业保持中性\n",
    "* 个股暴露：个股最大主动暴露不超过2%"
   ]
  },
  {
   "cell_type": "code",
   "execution_count": 2,
   "metadata": {},
   "outputs": [],
   "source": [
    "universe_name = 'zz800'\n",
    "trade_date = '2019-01-15'\n",
    "industry_name = '申万行业分类'\n",
    "benchmark_code = 906\n",
    "max_active_industry_exposure = 0.\n",
    "max_active_single_stock_exposure = 0.02\n",
    "con = sa.create_engine(os.environ['DB_URI'])"
   ]
  },
  {
   "cell_type": "markdown",
   "metadata": {},
   "source": [
    "## 2. 获取基本数据\n",
    "----------------------\n",
    "\n",
    "### 2.1 获取EPS因子值和ROE因子值，然后相加：\n",
    "\n",
    "获取在2019年1月15日中证800成分股的EPS, ROETTM因子值"
   ]
  },
  {
   "cell_type": "code",
   "execution_count": 3,
   "metadata": {},
   "outputs": [
    {
     "name": "stdout",
     "output_type": "stream",
     "text": [
      "Wall time: 454 ms\n"
     ]
    }
   ],
   "source": [
    "%%time\n",
    "factor = ['EPS', 'ROE']\n",
    "\n",
    "big_table = outerjoin(Uqer, UniverseTable, and_(Uqer.trade_date == UniverseTable.trade_date,\n",
    "                                           Uqer.code == UniverseTable.code))\n",
    "\n",
    "query = select([Uqer.code] + [getattr(Uqer, f) for f in factor]).select_from(big_table) \\\n",
    "    .where(and_(Uqer.trade_date == trade_date, \n",
    "                getattr(UniverseTable, universe_name) == 1))\n",
    "\n",
    "factors = pd.read_sql(query, con=con)\n",
    "factors['factor'] = 0.5 * factors['EPS'] + 1.5 * factors['ROE']"
   ]
  },
  {
   "cell_type": "code",
   "execution_count": 4,
   "metadata": {},
   "outputs": [
    {
     "data": {
      "text/html": [
       "<div>\n",
       "<style scoped>\n",
       "    .dataframe tbody tr th:only-of-type {\n",
       "        vertical-align: middle;\n",
       "    }\n",
       "\n",
       "    .dataframe tbody tr th {\n",
       "        vertical-align: top;\n",
       "    }\n",
       "\n",
       "    .dataframe thead th {\n",
       "        text-align: right;\n",
       "    }\n",
       "</style>\n",
       "<table border=\"1\" class=\"dataframe\">\n",
       "  <thead>\n",
       "    <tr style=\"text-align: right;\">\n",
       "      <th></th>\n",
       "      <th>code</th>\n",
       "      <th>EPS</th>\n",
       "      <th>ROE</th>\n",
       "      <th>factor</th>\n",
       "    </tr>\n",
       "  </thead>\n",
       "  <tbody>\n",
       "    <tr>\n",
       "      <th>0</th>\n",
       "      <td>1</td>\n",
       "      <td>1.5885</td>\n",
       "      <td>0.1099</td>\n",
       "      <td>0.95910</td>\n",
       "    </tr>\n",
       "    <tr>\n",
       "      <th>1</th>\n",
       "      <td>2</td>\n",
       "      <td>1.6891</td>\n",
       "      <td>0.2380</td>\n",
       "      <td>1.20155</td>\n",
       "    </tr>\n",
       "    <tr>\n",
       "      <th>2</th>\n",
       "      <td>6</td>\n",
       "      <td>0.4970</td>\n",
       "      <td>0.1742</td>\n",
       "      <td>0.50980</td>\n",
       "    </tr>\n",
       "    <tr>\n",
       "      <th>3</th>\n",
       "      <td>8</td>\n",
       "      <td>0.0592</td>\n",
       "      <td>0.1273</td>\n",
       "      <td>0.22055</td>\n",
       "    </tr>\n",
       "    <tr>\n",
       "      <th>4</th>\n",
       "      <td>9</td>\n",
       "      <td>0.0612</td>\n",
       "      <td>0.0104</td>\n",
       "      <td>0.04620</td>\n",
       "    </tr>\n",
       "  </tbody>\n",
       "</table>\n",
       "</div>"
      ],
      "text/plain": [
       "   code     EPS     ROE   factor\n",
       "0     1  1.5885  0.1099  0.95910\n",
       "1     2  1.6891  0.2380  1.20155\n",
       "2     6  0.4970  0.1742  0.50980\n",
       "3     8  0.0592  0.1273  0.22055\n",
       "4     9  0.0612  0.0104  0.04620"
      ]
     },
     "execution_count": 4,
     "metadata": {},
     "output_type": "execute_result"
    }
   ],
   "source": [
    "factors.head()"
   ]
  },
  {
   "cell_type": "markdown",
   "metadata": {},
   "source": [
    "### 2.2 或者直接使用Finance - Python的因子计算功能"
   ]
  },
  {
   "cell_type": "code",
   "execution_count": 5,
   "metadata": {},
   "outputs": [
    {
     "data": {
      "text/html": [
       "<div>\n",
       "<style scoped>\n",
       "    .dataframe tbody tr th:only-of-type {\n",
       "        vertical-align: middle;\n",
       "    }\n",
       "\n",
       "    .dataframe tbody tr th {\n",
       "        vertical-align: top;\n",
       "    }\n",
       "\n",
       "    .dataframe thead th {\n",
       "        text-align: right;\n",
       "    }\n",
       "</style>\n",
       "<table border=\"1\" class=\"dataframe\">\n",
       "  <thead>\n",
       "    <tr style=\"text-align: right;\">\n",
       "      <th></th>\n",
       "      <th>trade_date</th>\n",
       "      <th>factor</th>\n",
       "      <th>code</th>\n",
       "      <th>chgPct</th>\n",
       "      <th>secShortName</th>\n",
       "    </tr>\n",
       "  </thead>\n",
       "  <tbody>\n",
       "    <tr>\n",
       "      <th>0</th>\n",
       "      <td>2019-01-15</td>\n",
       "      <td>0.95910</td>\n",
       "      <td>1</td>\n",
       "      <td>0.0129</td>\n",
       "      <td>平安银行</td>\n",
       "    </tr>\n",
       "    <tr>\n",
       "      <th>1</th>\n",
       "      <td>2019-01-15</td>\n",
       "      <td>1.20155</td>\n",
       "      <td>2</td>\n",
       "      <td>0.0056</td>\n",
       "      <td>万科A</td>\n",
       "    </tr>\n",
       "    <tr>\n",
       "      <th>2</th>\n",
       "      <td>2019-01-15</td>\n",
       "      <td>0.50980</td>\n",
       "      <td>6</td>\n",
       "      <td>0.0151</td>\n",
       "      <td>深振业A</td>\n",
       "    </tr>\n",
       "    <tr>\n",
       "      <th>3</th>\n",
       "      <td>2019-01-15</td>\n",
       "      <td>0.22055</td>\n",
       "      <td>8</td>\n",
       "      <td>0.0075</td>\n",
       "      <td>神州高铁</td>\n",
       "    </tr>\n",
       "    <tr>\n",
       "      <th>4</th>\n",
       "      <td>2019-01-15</td>\n",
       "      <td>0.04620</td>\n",
       "      <td>9</td>\n",
       "      <td>0.0089</td>\n",
       "      <td>中国宝安</td>\n",
       "    </tr>\n",
       "  </tbody>\n",
       "</table>\n",
       "</div>"
      ],
      "text/plain": [
       "  trade_date   factor  code  chgPct secShortName\n",
       "0 2019-01-15  0.95910     1  0.0129         平安银行\n",
       "1 2019-01-15  1.20155     2  0.0056          万科A\n",
       "2 2019-01-15  0.50980     6  0.0151         深振业A\n",
       "3 2019-01-15  0.22055     8  0.0075         神州高铁\n",
       "4 2019-01-15  0.04620     9  0.0089         中国宝安"
      ]
     },
     "execution_count": 5,
     "metadata": {},
     "output_type": "execute_result"
    }
   ],
   "source": [
    "#\n",
    "\n",
    "sql_engine = SqlEngine(os.environ['DB_URI'])\n",
    "factor_expression = 0.5*LAST('EPS') + 1.5*LAST('ROE')\n",
    "factors2 = sql_engine.fetch_factor_range(universe=Universe(universe_name),\n",
    "                                         dates=[trade_date],\n",
    "                                         factors=factor_expression)\n",
    "factors2.rename(columns={str(factor_expression): 'factor'}, inplace=True)\n",
    "factors2.head()"
   ]
  },
  {
   "cell_type": "code",
   "execution_count": 6,
   "metadata": {},
   "outputs": [
    {
     "name": "stdout",
     "output_type": "stream",
     "text": [
      "None\n"
     ]
    }
   ],
   "source": [
    "print(np.testing.assert_array_almost_equal(factors.factor, factors2.factor))"
   ]
  },
  {
   "cell_type": "markdown",
   "metadata": {},
   "source": [
    "### 2.3 获取在2019年1月15日中证800成分股的行业分类"
   ]
  },
  {
   "cell_type": "code",
   "execution_count": 7,
   "metadata": {},
   "outputs": [
    {
     "name": "stdout",
     "output_type": "stream",
     "text": [
      "   code industryName1\n",
      "0     1            银行\n",
      "1     2           房地产\n",
      "2     6           房地产\n",
      "3     8          机械设备\n",
      "4     9            综合\n",
      "Wall time: 198 ms\n"
     ]
    }
   ],
   "source": [
    "%%time\n",
    "\n",
    "big_table = outerjoin(Industry, UniverseTable, and_(Industry.trade_date == UniverseTable.trade_date,\n",
    "                                               Industry.code == UniverseTable.code))\n",
    "\n",
    "query = select([Industry.code, Industry.industryName1]).select_from(big_table) \\\n",
    "    .where(and_(Industry.trade_date == trade_date,\n",
    "                Industry.industry == industry_name,\n",
    "                getattr(UniverseTable, universe_name) == 1))\n",
    "\n",
    "industry = pd.read_sql(query, con=con)\n",
    "print(industry.head())"
   ]
  },
  {
   "cell_type": "markdown",
   "metadata": {},
   "source": [
    "### 2.4 获取在2019年1月15日中证800成分股的指数权重"
   ]
  },
  {
   "cell_type": "code",
   "execution_count": 8,
   "metadata": {},
   "outputs": [
    {
     "name": "stdout",
     "output_type": "stream",
     "text": [
      "   code  index_weight\n",
      "0     1       0.00649\n",
      "1     2       0.00934\n",
      "2     6       0.00039\n",
      "3     8       0.00071\n",
      "4     9       0.00075\n",
      "Wall time: 150 ms\n"
     ]
    }
   ],
   "source": [
    "%%time\n",
    "\n",
    "big_table = outerjoin(IndexComponent, UniverseTable, and_(IndexComponent.trade_date == UniverseTable.trade_date,\n",
    "                                                     IndexComponent.code == UniverseTable.code))\n",
    "\n",
    "query = select([IndexComponent.code, (IndexComponent.weight / 100.).label('index_weight')]) \\\n",
    "    .where(and_(IndexComponent.trade_date == trade_date,\n",
    "                IndexComponent.indexCode == benchmark_code))\n",
    "\n",
    "index_components = pd.read_sql(query, con=con)\n",
    "print(index_components.head())"
   ]
  },
  {
   "cell_type": "code",
   "execution_count": 9,
   "metadata": {},
   "outputs": [],
   "source": [
    "df = pd.merge(factors, industry, on=['code'], how='inner').dropna()\n",
    "df = pd.merge(df, index_components, on=['code'], how='inner').dropna()"
   ]
  },
  {
   "cell_type": "markdown",
   "metadata": {},
   "source": [
    "## 3. 因子中性化\n",
    "-------------------"
   ]
  },
  {
   "cell_type": "markdown",
   "metadata": {},
   "source": [
    "将行业数据（categorical）数据转为dummy矩阵"
   ]
  },
  {
   "cell_type": "code",
   "execution_count": 10,
   "metadata": {},
   "outputs": [],
   "source": [
    "industry_dummy = pd.get_dummies(df.industryName1)"
   ]
  },
  {
   "cell_type": "markdown",
   "metadata": {},
   "source": [
    "使用行业dummy矩阵对因子做中性化，得到**行业中性化后**的因子：`neutralized_factor`"
   ]
  },
  {
   "cell_type": "code",
   "execution_count": 11,
   "metadata": {},
   "outputs": [
    {
     "name": "stdout",
     "output_type": "stream",
     "text": [
      "   code  neutralized_factor\n",
      "0     1            0.094060\n",
      "1     2            0.648652\n",
      "2     6           -0.043098\n",
      "3     8           -0.174035\n",
      "4     9           -0.138300\n",
      "Wall time: 118 ms\n"
     ]
    }
   ],
   "source": [
    "%%time\n",
    "\n",
    "df['neutralized_factor'] = neutralize(industry_dummy.values.astype(float), df['factor'].values).flatten()\n",
    "print(df[['code', 'neutralized_factor']].head())"
   ]
  },
  {
   "cell_type": "markdown",
   "metadata": {},
   "source": [
    "## 4. 组合构建\n",
    "-----------------------------\n",
    "\n",
    "### 4.1 使用因子值作为组合权重\n",
    "\n",
    "使用alpha-mind中的线性优化器来做组合构建，在做组合构建的时候，我们已生成**主动权重**为目标（主动权重 = 组合权重 - 指数权重）。优化器，以最大化组合的预期收益为目标，同时达到以下的限制条件：\n",
    "\n",
    "* 最小主动权重-2%，同时保证不做空（所以单只股票最小主动权重为-2%与其指数权重负值中的较大值）；\n",
    "* 最大主动权重2%；\n",
    "* 行业主动暴露为0；\n",
    "* 主动权重加和为0，保证组合总权重与指数总权重一致。"
   ]
  },
  {
   "cell_type": "code",
   "execution_count": 12,
   "metadata": {},
   "outputs": [],
   "source": [
    "er = df.neutralized_factor.values\n",
    "lbound = np.maximum(-max_active_single_stock_exposure, -df['index_weight'].values)\n",
    "ubound = max_active_single_stock_exposure\n",
    "risk_constraints = np.concatenate((industry_dummy, np.ones((len(er), 1))), axis=1)\n",
    "industry_low_bounds = -max_active_industry_exposure * np.ones(industry_dummy.shape[1])\n",
    "industry_up_bounds = max_active_industry_exposure * np.ones(industry_dummy.shape[1])\n",
    "risk_target = (np.concatenate((industry_low_bounds, [0.])),\n",
    "               np.concatenate((industry_up_bounds, [0.])),)"
   ]
  },
  {
   "cell_type": "markdown",
   "metadata": {},
   "source": [
    "输出结果中：\n",
    "\n",
    "* `status`：优化状态；\n",
    "* `optimized_values`：组合预期收益的负值；\n",
    "* `weights`：组合中股票的主动权重"
   ]
  },
  {
   "cell_type": "code",
   "execution_count": 13,
   "metadata": {},
   "outputs": [
    {
     "name": "stdout",
     "output_type": "stream",
     "text": [
      "Wall time: 8.97 ms\n"
     ]
    }
   ],
   "source": [
    "%%time\n",
    "\n",
    "status, optimized_values, weights = linear_builder(er,\n",
    "                                                   lbound,\n",
    "                                                   ubound,\n",
    "                                                   risk_constraints,\n",
    "                                                   risk_target)"
   ]
  },
  {
   "cell_type": "markdown",
   "metadata": {},
   "source": [
    "计算最终持仓：\n",
    "\n",
    "* `portfolio_weight`：组合权重\n",
    "* `active_weight`：主动权重"
   ]
  },
  {
   "cell_type": "code",
   "execution_count": 14,
   "metadata": {},
   "outputs": [],
   "source": [
    "df['portfolio_weight'] = df['index_weight'] + weights\n",
    "df['active_weight'] = weights"
   ]
  },
  {
   "cell_type": "markdown",
   "metadata": {},
   "source": [
    "我们可以通过计算行业权重，并与指数的行业权重进行比较，验证行业暴露确实为0"
   ]
  },
  {
   "cell_type": "code",
   "execution_count": 15,
   "metadata": {},
   "outputs": [
    {
     "data": {
      "text/plain": [
       "<matplotlib.axes._subplots.AxesSubplot at 0x2844b3c43c8>"
      ]
     },
     "execution_count": 15,
     "metadata": {},
     "output_type": "execute_result"
    },
    {
     "data": {
      "image/png": "[encoded data removed]",
      "text/plain": [
       "<Figure size 1008x504 with 1 Axes>"
      ]
     },
     "metadata": {
      "needs_background": "light"
     },
     "output_type": "display_data"
    }
   ],
   "source": [
    "df.groupby('industryName1').sum().plot.bar(y=['index_weight', 'portfolio_weight'], figsize=(14, 7))"
   ]
  },
  {
   "cell_type": "markdown",
   "metadata": {},
   "source": [
    "我们也可以通过观察中性化后因子值，观察个股权重与因子值的关系"
   ]
  },
  {
   "cell_type": "code",
   "execution_count": 16,
   "metadata": {},
   "outputs": [
    {
     "data": {
      "text/plain": [
       "(-0.02, 0.025)"
      ]
     },
     "execution_count": 16,
     "metadata": {},
     "output_type": "execute_result"
    },
    {
     "data": {
      "image/png": "[encoded data removed]",
      "text/plain": [
       "<Figure size 1008x504 with 1 Axes>"
      ]
     },
     "metadata": {
      "needs_background": "light"
     },
     "output_type": "display_data"
    }
   ],
   "source": [
    "df.plot(kind='scatter', x='neutralized_factor', y='active_weight', figsize=(14, 7))\n",
    "plt.xlim((-5, 5))\n",
    "plt.ylim((-0.02, 0.025))"
   ]
  },
  {
   "cell_type": "markdown",
   "metadata": {},
   "source": [
    "### 4.2 使用每个行业中选择因子值最大的2只股票组成权重"
   ]
  },
  {
   "cell_type": "code",
   "execution_count": 17,
   "metadata": {},
   "outputs": [],
   "source": [
    "oper = CSTopN('er', 2, groups='industry')\n",
    "data = df[['code', 'neutralized_factor', 'industryName1']].set_index('code')\n",
    "data.rename(columns={'neutralized_factor': 'er'}, inplace=True)\n",
    "data['industry'] = pd.Categorical(data.industryName1).codes.astype(float)"
   ]
  },
  {
   "cell_type": "code",
   "execution_count": 18,
   "metadata": {},
   "outputs": [],
   "source": [
    "oper.push(data.to_dict(orient='index'))\n",
    "data['chosen'] = oper.value.to_pd_series()\n",
    "data = data[data.chosen == True]"
   ]
  },
  {
   "cell_type": "markdown",
   "metadata": {},
   "source": [
    "所有的行业都选择了两只股票，如下图所示："
   ]
  },
  {
   "cell_type": "code",
   "execution_count": 19,
   "metadata": {},
   "outputs": [
    {
     "data": {
      "text/plain": [
       "<matplotlib.axes._subplots.AxesSubplot at 0x284521258d0>"
      ]
     },
     "execution_count": 19,
     "metadata": {},
     "output_type": "execute_result"
    },
    {
     "data": {
      "image/png": "[encoded data removed]",
      "text/plain": [
       "<Figure size 1008x504 with 1 Axes>"
      ]
     },
     "metadata": {
      "needs_background": "light"
     },
     "output_type": "display_data"
    }
   ],
   "source": [
    "data.groupby('industryName1').count().plot.bar(y=['chosen'], figsize=(14, 7))"
   ]
  },
  {
   "cell_type": "code",
   "execution_count": 20,
   "metadata": {},
   "outputs": [
    {
     "data": {
      "text/plain": [
       "(56, 4)"
      ]
     },
     "execution_count": 20,
     "metadata": {},
     "output_type": "execute_result"
    }
   ],
   "source": [
    "data.shape"
   ]
  },
  {
   "cell_type": "markdown",
   "metadata": {},
   "source": [
    "股票代码："
   ]
  },
  {
   "cell_type": "code",
   "execution_count": 21,
   "metadata": {},
   "outputs": [
    {
     "data": {
      "text/plain": [
       "Int64Index([   333,    538,    581,    651,    661,   2008,   2027,   2051,\n",
       "              2110,   2120,   2304,   2311,   2916, 300033, 300144, 600009,\n",
       "            600036, 600038, 600104, 600260, 600298, 600309, 600340, 600398,\n",
       "            600507, 600516, 600519, 600525, 600570, 600585, 600694, 600704,\n",
       "            600729, 600760, 600801, 600835, 600900, 601088, 601155, 601166,\n",
       "            601186, 601225, 601318, 601336, 601869, 601877, 601888, 601992,\n",
       "            603225, 603260, 603444, 603486, 603568, 603816, 603833, 603877],\n",
       "           dtype='int64', name='code')"
      ]
     },
     "execution_count": 21,
     "metadata": {},
     "output_type": "execute_result"
    }
   ],
   "source": [
    "data.index"
   ]
  },
  {
   "cell_type": "code",
   "execution_count": null,
   "metadata": {},
   "outputs": [],
   "source": []
  }
 ],
 "metadata": {
  "kernelspec": {
   "display_name": "Python 3",
   "language": "python",
   "name": "python3"
  },
  "language_info": {
   "codemirror_mode": {
    "name": "ipython",
    "version": 3
   },
   "file_extension": ".py",
   "mimetype": "text/x-python",
   "name": "python",
   "nbconvert_exporter": "python",
   "pygments_lexer": "ipython3",
   "version": "3.6.8"
  }
 },
 "nbformat": 4,
 "nbformat_minor": 2
}
