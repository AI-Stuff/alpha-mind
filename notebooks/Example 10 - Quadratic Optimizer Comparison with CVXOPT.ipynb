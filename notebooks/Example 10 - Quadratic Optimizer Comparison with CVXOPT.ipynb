{
 "cells": [
  {
   "cell_type": "markdown",
   "metadata": {},
   "source": [
    "* 请在环境变量中设置`DB_URI`指向数据库"
   ]
  },
  {
   "cell_type": "code",
   "execution_count": 8,
   "metadata": {},
   "outputs": [],
   "source": [
    "import os\n",
    "import numpy as np\n",
    "import pandas as pd\n",
    "from cvxpy import *\n",
    "from cvxopt import *\n",
    "from alphamind.api import *\n",
    "from alphamind.cython.optimizers import QPOptimizer"
   ]
  },
  {
   "cell_type": "markdown",
   "metadata": {},
   "source": [
    "# Data Preparing\n",
    "--------------------------"
   ]
  },
  {
   "cell_type": "code",
   "execution_count": 9,
   "metadata": {},
   "outputs": [],
   "source": [
    "risk_penlty = 0.5\n",
    "ref_date = '2018-02-08'\n",
    "\n",
    "engine = SqlEngine(os.environ['DB_URI'])\n",
    "universe = Universe('ashare_ex')\n",
    "codes = engine.fetch_codes(ref_date, universe)\n",
    "\n",
    "risk_cov, risk_exposure = engine.fetch_risk_model(ref_date, codes)\n",
    "factor = engine.fetch_factor(ref_date, 'EPS', codes)\n",
    "\n",
    "total_data = pd.merge(factor, risk_exposure, on='code').dropna()\n",
    "all_styles = risk_styles + industry_styles + macro_styles\n",
    "\n",
    "risk_exposure_values = total_data[all_styles].values.astype(float)\n",
    "special_risk_values = total_data['srisk'].values.astype(float)\n",
    "risk_cov_values = risk_cov[all_styles].values\n",
    "\n",
    "sec_cov_values_full = risk_exposure_values @ risk_cov_values @ risk_exposure_values.T / 10000  + np.diag(special_risk_values ** 2) / 10000\n",
    "signal_full = total_data['EPS'].values"
   ]
  },
  {
   "cell_type": "code",
   "execution_count": 10,
   "metadata": {},
   "outputs": [],
   "source": [
    "n = 200\n",
    "\n",
    "sec_cov_values = sec_cov_values_full[:n, :n]\n",
    "signal = signal_full[:n]"
   ]
  },
  {
   "cell_type": "markdown",
   "metadata": {},
   "source": [
    "# Optimizing Weights\n",
    "-------------------------------------"
   ]
  },
  {
   "cell_type": "code",
   "execution_count": 11,
   "metadata": {},
   "outputs": [
    {
     "name": "stdout",
     "output_type": "stream",
     "text": [
      "Wall time: 2.99 ms\n"
     ]
    }
   ],
   "source": [
    "%%time\n",
    "w = Variable(n)\n",
    "\n",
    "lbound = 0.\n",
    "ubound = 1. / n * 20\n",
    "\n",
    "risk = sum_squares(multiply(special_risk_values[:n] / 100., w)) + quad_form((w.T * risk_exposure_values[:n]).T, risk_cov_values[:n, :n] / 10000.)\n",
    "\n",
    "objective = Minimize(risk_penlty * risk  - signal * w)\n",
    "constraints = [w >= lbound,\n",
    "               w <= ubound,\n",
    "               sum(w) == 1,]\n",
    "\n",
    "prob = Problem(objective, constraints)"
   ]
  },
  {
   "cell_type": "code",
   "execution_count": 12,
   "metadata": {},
   "outputs": [
    {
     "name": "stdout",
     "output_type": "stream",
     "text": [
      "-----------------------------------------------------------------\n",
      "           OSQP v0.4.1  -  Operator Splitting QP Solver\n",
      "              (c) Bartolomeo Stellato,  Goran Banjac\n",
      "        University of Oxford  -  Stanford University 2018\n",
      "-----------------------------------------------------------------\n",
      "problem:  variables n = 439, constraints m = 640\n",
      "          nnz(P) + nnz(A) = 4419\n",
      "settings: linear system solver = qdldl,\n",
      "          eps_abs = 1.0e-03, eps_rel = 1.0e-03,\n",
      "          eps_prim_inf = 1.0e-04, eps_dual_inf = 1.0e-04,\n",
      "          rho = 1.00e-01 (adaptive),\n",
      "          sigma = 1.00e-06, alpha = 1.60, max_iter = 4000\n",
      "          check_termination: on (interval 25),\n",
      "          scaling: on, scaled_termination: off\n",
      "          warm start: on, polish: on\n",
      "\n",
      "iter  objective    pri res    dua res    rho        time\n",
      "   1  -6.4413e+01   5.65e+00   6.37e+02   1.00e-01   1.36e-03s\n",
      " 200  -2.4008e+00   4.49e-06   1.89e-03   1.55e+00   5.62e-03s\n",
      "plsh  -2.4003e+00   5.55e-16   1.37e-14  ---------   6.38e-03s\n",
      "\n",
      "status:               solved\n",
      "solution polish:      successful\n",
      "number of iterations: 200\n",
      "optimal objective:    -2.4003\n",
      "run time:             6.38e-03s\n",
      "optimal rho estimate: 2.29e-01\n",
      "\n",
      "Wall time: 29.9 ms\n"
     ]
    },
    {
     "data": {
      "text/plain": [
       "-2.4003282365506444"
      ]
     },
     "execution_count": 12,
     "metadata": {},
     "output_type": "execute_result"
    }
   ],
   "source": [
    "%%time\n",
    "prob.solve(verbose=True)"
   ]
  },
  {
   "cell_type": "code",
   "execution_count": 13,
   "metadata": {},
   "outputs": [
    {
     "data": {
      "text/plain": [
       "('optimal', -2.4003282365506444)"
      ]
     },
     "execution_count": 13,
     "metadata": {},
     "output_type": "execute_result"
    }
   ],
   "source": [
    "prob.status, prob.value"
   ]
  },
  {
   "cell_type": "code",
   "execution_count": 14,
   "metadata": {},
   "outputs": [
    {
     "name": "stdout",
     "output_type": "stream",
     "text": [
      "\n",
      "ECOS 2.0.7 - (C) embotech GmbH, Zurich Switzerland, 2012-15. Web: www.embotech.com/ECOS\n",
      "\n",
      "It     pcost       dcost      gap   pres   dres    k/t    mu     step   sigma     IR    |   BT\n",
      " 0  -3.332e-01  -1.048e+02  +2e+03  9e-01  1e-02  1e+00  5e+00    ---    ---    1  1  - |  -  - \n",
      " 1  -3.461e-01  -1.811e+01  +1e+03  2e-01  2e-03  8e-01  3e+00  0.5430  3e-01   1  1  1 |  0  0\n",
      " 2  -2.875e+00  -4.039e+00  +2e+02  1e-02  9e-05  9e-02  4e-01  0.9297  6e-02   1  1  1 |  0  0\n",
      " 3  -2.573e+00  -2.939e+00  +5e+01  5e-03  3e-05  3e-02  1e-01  0.7733  9e-02   1  1  2 |  0  0\n",
      " 4  -2.449e+00  -2.553e+00  +1e+01  1e-03  8e-06  6e-03  3e-02  0.7708  6e-02   1  1  1 |  0  0\n",
      " 5  -2.407e+00  -2.418e+00  +2e+00  1e-04  9e-07  6e-04  4e-03  0.9066  2e-02   1  1  1 |  0  0\n",
      " 6  -2.402e+00  -2.404e+00  +3e-01  3e-05  2e-07  1e-04  7e-04  0.8248  1e-02   1  1  2 |  0  0\n",
      " 7  -2.401e+00  -2.401e+00  +6e-02  6e-06  4e-08  9e-06  2e-04  0.9466  2e-01   2  2  2 |  0  0\n",
      " 8  -2.400e+00  -2.400e+00  +5e-03  4e-07  3e-09  7e-07  1e-05  0.9237  1e-03   1  1  1 |  0  0\n",
      " 9  -2.400e+00  -2.400e+00  +2e-04  2e-08  1e-10  2e-08  5e-07  0.9890  3e-02   1  1  1 |  0  0\n",
      "10  -2.400e+00  -2.400e+00  +2e-06  2e-10  1e-12  2e-10  5e-09  0.9890  1e-04   1  1  1 |  0  0\n",
      "11  -2.400e+00  -2.400e+00  +2e-08  2e-12  1e-14  2e-12  6e-11  0.9890  1e-04   2  1  1 |  0  0\n",
      "\n",
      "OPTIMAL (within feastol=2.2e-12, reltol=9.8e-09, abstol=2.4e-08).\n",
      "Runtime: 0.011237 seconds.\n",
      "\n",
      "Wall time: 32.9 ms\n"
     ]
    },
    {
     "data": {
      "text/plain": [
       "-2.400328236659518"
      ]
     },
     "execution_count": 14,
     "metadata": {},
     "output_type": "execute_result"
    }
   ],
   "source": [
    "%%time\n",
    "prob.solve(verbose=True, solver='ECOS')"
   ]
  },
  {
   "cell_type": "code",
   "execution_count": 15,
   "metadata": {},
   "outputs": [
    {
     "data": {
      "text/plain": [
       "('optimal', -2.400328236659518)"
      ]
     },
     "execution_count": 15,
     "metadata": {},
     "output_type": "execute_result"
    }
   ],
   "source": [
    "prob.status, prob.value"
   ]
  },
  {
   "cell_type": "code",
   "execution_count": 16,
   "metadata": {},
   "outputs": [
    {
     "name": "stdout",
     "output_type": "stream",
     "text": [
      "     pcost       dcost       gap    pres   dres\n",
      " 0: -4.0275e+01 -8.9373e+01  8e+03  6e+01  6e-16\n",
      " 1: -2.7029e+00 -8.3780e+01  2e+02  1e+00  2e-15\n",
      " 2: -1.3699e+00 -2.0914e+01  2e+01  3e-15  3e-15\n",
      " 3: -1.6193e+00 -6.3167e+00  5e+00  5e-16  2e-15\n",
      " 4: -1.8992e+00 -4.2870e+00  2e+00  5e-16  1e-15\n",
      " 5: -2.1306e+00 -3.2594e+00  1e+00  4e-16  8e-16\n",
      " 6: -2.1625e+00 -2.9783e+00  8e-01  3e-16  6e-16\n",
      " 7: -2.2529e+00 -2.6835e+00  4e-01  3e-16  6e-16\n",
      " 8: -2.3100e+00 -2.5413e+00  2e-01  1e-15  5e-16\n",
      " 9: -2.3407e+00 -2.4723e+00  1e-01  8e-16  5e-16\n",
      "10: -2.3953e+00 -2.4100e+00  1e-02  4e-16  1e-15\n",
      "11: -2.4002e+00 -2.4005e+00  2e-04  2e-16  9e-16\n",
      "12: -2.4003e+00 -2.4003e+00  2e-06  2e-16  9e-16\n",
      "13: -2.4003e+00 -2.4003e+00  2e-08  2e-16  9e-16\n",
      "Optimal solution found.\n",
      "Wall time: 23.9 ms\n"
     ]
    }
   ],
   "source": [
    "%%time\n",
    "P = matrix(sec_cov_values)\n",
    "q = -matrix(signal)\n",
    "\n",
    "G = np.zeros((2*n, n))\n",
    "h = np.zeros(2*n)\n",
    "for i in range(n):\n",
    "    G[i, i] = 1.\n",
    "    h[i] = 1. / n * 20\n",
    "    G[i+n, i] = -1.\n",
    "    h[i+n] = 0.\n",
    "    \n",
    "G = matrix(G)\n",
    "h = matrix(h)\n",
    "    \n",
    "A = np.ones((1, n))\n",
    "b = np.ones(1)\n",
    "\n",
    "A = matrix(A)\n",
    "b = matrix(b)\n",
    "\n",
    "sol = solvers.qp(P, q, G, h, A, b)"
   ]
  },
  {
   "cell_type": "code",
   "execution_count": 17,
   "metadata": {},
   "outputs": [
    {
     "name": "stdout",
     "output_type": "stream",
     "text": [
      "Wall time: 20.9 ms\n"
     ]
    }
   ],
   "source": [
    "%%time\n",
    "lbound = np.zeros(n)\n",
    "ubound = np.ones(n) * 20 / n\n",
    "cons_matrix = np.ones((1, n))\n",
    "clb = np.ones(1)\n",
    "cub = np.ones(1)\n",
    "qpopt = QPOptimizer(signal,\n",
    "                    None,\n",
    "                    lbound,\n",
    "                    ubound,\n",
    "                    cons_matrix,\n",
    "                    clb,\n",
    "                    cub,\n",
    "                    1.,\n",
    "                    risk_cov_values[:n, :n] / 10000.,\n",
    "                    risk_exposure_values[:n],\n",
    "                    special_risk_values[:n] * special_risk_values[:n] / 10000.)\n",
    "qpopt.feval()\n",
    "qpopt.status()"
   ]
  },
  {
   "cell_type": "markdown",
   "metadata": {},
   "source": [
    "# Performace Timing\n",
    "-------------------------"
   ]
  },
  {
   "cell_type": "code",
   "execution_count": 18,
   "metadata": {},
   "outputs": [],
   "source": [
    "import datetime as dt"
   ]
  },
  {
   "cell_type": "code",
   "execution_count": 19,
   "metadata": {},
   "outputs": [],
   "source": [
    "def time_function(py_callable, n):\n",
    "    start = dt.datetime.now()\n",
    "    val = py_callable(n)\n",
    "    return (dt.datetime.now() - start).total_seconds(), val"
   ]
  },
  {
   "cell_type": "code",
   "execution_count": 20,
   "metadata": {},
   "outputs": [],
   "source": [
    "def cvxpy(n):\n",
    "    w = Variable(n)\n",
    "\n",
    "    lbound = 0.\n",
    "    ubound = 0.01\n",
    "    \n",
    "    risk = sum_squares(multiply(special_risk_values[:n] / 100., w)) + quad_form((w.T * risk_exposure_values[:n]).T, risk_cov_values[:n, :n] / 10000.)\n",
    "\n",
    "    objective = Minimize(risk_penlty * risk  - signal * w)\n",
    "    constraints = [w >= lbound,\n",
    "                   w <= ubound,\n",
    "                   sum(w) == 1,]\n",
    "\n",
    "    prob = Problem(objective, constraints)\n",
    "    prob.solve(verbose=False, solver='ECOS')\n",
    "    return prob.value"
   ]
  },
  {
   "cell_type": "code",
   "execution_count": 21,
   "metadata": {},
   "outputs": [],
   "source": [
    "def cvxopt(n):\n",
    "    P = matrix(sec_cov_values)\n",
    "    q = -matrix(signal)\n",
    "\n",
    "    G = np.zeros((2*n, n))\n",
    "    h = np.zeros(2*n)\n",
    "    for i in range(n):\n",
    "        G[i, i] = 1.\n",
    "        h[i] = 0.01\n",
    "        G[i+n, i] = -1.\n",
    "        h[i+n] = 0.\n",
    "\n",
    "    G = matrix(G)\n",
    "    h = matrix(h)\n",
    "\n",
    "    A = np.ones((1, n))\n",
    "    b = np.ones(1)\n",
    "\n",
    "    A = matrix(A)\n",
    "    b = matrix(b)\n",
    "    \n",
    "    solvers.options['show_progress'] = False\n",
    "    sol = solvers.qp(P, q, G, h, A, b)\n",
    "    return sol['primal objective']"
   ]
  },
  {
   "cell_type": "code",
   "execution_count": 22,
   "metadata": {},
   "outputs": [],
   "source": [
    "def ipopt(n):\n",
    "    lbound = np.zeros(n)\n",
    "    ubound = np.ones(n) * 0.01\n",
    "    cons_matrix = np.ones((1, n))\n",
    "    clb = np.ones(1)\n",
    "    cub = np.ones(1)\n",
    "    qpopt = QPOptimizer(signal, None, lbound, ubound, cons_matrix, clb, cub, 1.,\n",
    "                        risk_cov_values[:n, :n] / 10000.,\n",
    "                        risk_exposure_values[:n],\n",
    "                        special_risk_values[:n] * special_risk_values[:n] / 10000.)\n",
    "    return qpopt.feval()"
   ]
  },
  {
   "cell_type": "code",
   "execution_count": 23,
   "metadata": {},
   "outputs": [
    {
     "name": "stdout",
     "output_type": "stream",
     "text": [
      "Scale(n)       cvxpy      cvxopt       ipopt\n",
      "200           0.0340      0.0109      0.0120\n",
      "400           0.0399      0.0469      0.0199\n",
      "600           0.0519      0.1606      0.0319\n",
      "800           0.0708      0.5037      0.0519\n",
      "1000          0.1027      0.9594      0.0469\n",
      "1200          0.1406      1.6586      0.0539\n"
     ]
    },
    {
     "name": "stderr",
     "output_type": "stream",
     "text": [
      "D:\\ProgramData\\anaconda3\\lib\\site-packages\\cvxpy-1.0.10-py3.6-win-amd64.egg\\cvxpy\\problems\\problem.py:614: RuntimeWarning: overflow encountered in long_scalars\n",
      "  if self.max_big_small_squared < big*small**2:\n"
     ]
    },
    {
     "name": "stdout",
     "output_type": "stream",
     "text": [
      "1400          0.1386      2.7945      0.0728\n",
      "1600          0.1586      3.8437      0.0987\n"
     ]
    },
    {
     "name": "stderr",
     "output_type": "stream",
     "text": [
      "D:\\ProgramData\\anaconda3\\lib\\site-packages\\cvxpy-1.0.10-py3.6-win-amd64.egg\\cvxpy\\problems\\problem.py:615: RuntimeWarning: overflow encountered in long_scalars\n",
      "  self.max_big_small_squared = big*small**2\n"
     ]
    },
    {
     "name": "stdout",
     "output_type": "stream",
     "text": [
      "1800          0.2224      8.4165      0.1885\n",
      "2000          0.3022     10.5777      0.1905\n",
      "2200          0.3201     15.0518      0.1676\n",
      "2400          0.3282     17.1641      0.2045\n",
      "2600          0.3391     23.3546      0.1985\n",
      "2800          0.4807     29.7235      0.2424\n",
      "3000          0.4199     39.5318      0.2804\n",
      "3200          0.5067     53.5702      0.2586\n"
     ]
    }
   ],
   "source": [
    "n_steps = list(range(200, 3201, 200))\n",
    "cvxpy_times = [None] * len(n_steps)\n",
    "cvxopt_times = [None] * len(n_steps)\n",
    "ipopt_times = [None] * len(n_steps)\n",
    "print(\"{0:<8}{1:>12}{2:>12}{3:>12}\".format('Scale(n)', 'cvxpy', 'cvxopt', 'ipopt'))\n",
    "\n",
    "for i, n in enumerate(n_steps):\n",
    "    sec_cov_values = sec_cov_values_full[:n, :n]\n",
    "    signal = signal_full[:n]\n",
    "    cvxpy_times[i], val1 = time_function(cvxpy, n)\n",
    "    cvxopt_times[i], val2 = time_function(cvxopt, n)\n",
    "    ipopt_times[i], val3 = time_function(ipopt, n)\n",
    "    \n",
    "    np.testing.assert_almost_equal(val1, val2, 4)\n",
    "    np.testing.assert_almost_equal(val2, val3, 4)\n",
    "    \n",
    "    print(\"{0:<8}{1:>12.4f}{2:>12.4f}{3:>12.4f}\".format(n, cvxpy_times[i], cvxopt_times[i], ipopt_times[i]))"
   ]
  },
  {
   "cell_type": "code",
   "execution_count": null,
   "metadata": {},
   "outputs": [],
   "source": []
  }
 ],
 "metadata": {
  "kernelspec": {
   "display_name": "Python 3",
   "language": "python",
   "name": "python3"
  },
  "language_info": {
   "codemirror_mode": {
    "name": "ipython",
    "version": 3
   },
   "file_extension": ".py",
   "mimetype": "text/x-python",
   "name": "python",
   "nbconvert_exporter": "python",
   "pygments_lexer": "ipython3",
   "version": "3.6.8"
  },
  "varInspector": {
   "cols": {
    "lenName": 16,
    "lenType": 16,
    "lenVar": 40
   },
   "kernels_config": {
    "python": {
     "delete_cmd_postfix": "",
     "delete_cmd_prefix": "del ",
     "library": "var_list.py",
     "varRefreshCmd": "print(var_dic_list())"
    },
    "r": {
     "delete_cmd_postfix": ") ",
     "delete_cmd_prefix": "rm(",
     "library": "var_list.r",
     "varRefreshCmd": "cat(var_dic_list()) "
    }
   },
   "types_to_exclude": [
    "module",
    "function",
    "builtin_function_or_method",
    "instance",
    "_Feature"
   ],
   "window_display": false
  }
 },
 "nbformat": 4,
 "nbformat_minor": 2
}
