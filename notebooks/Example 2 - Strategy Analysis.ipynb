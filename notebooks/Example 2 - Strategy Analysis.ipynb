{
 "cells": [
  {
   "cell_type": "markdown",
   "metadata": {},
   "source": [
    "* 请在环境变量中设置`DB_URI`指向数据库"
   ]
  },
  {
   "cell_type": "code",
   "execution_count": 1,
   "metadata": {},
   "outputs": [],
   "source": [
    "%matplotlib inline\n",
    "import os\n",
    "import numpy as np\n",
    "import pandas as pd\n",
    "from PyFin.api import *\n",
    "from alphamind.api import *\n",
    "from alphamind.strategy.strategy import Strategy, RunningSetting\n",
    "from matplotlib import pyplot as plt\n",
    "\n",
    "plt.style.use('ggplot')"
   ]
  },
  {
   "cell_type": "code",
   "execution_count": 2,
   "metadata": {},
   "outputs": [],
   "source": [
    "# Back test parameter settings\n",
    "start_date = '2016-01-01'\n",
    "end_date = '2018-03-30'\n",
    "\n",
    "freq = '10b'\n",
    "industry_name = 'sw'\n",
    "industry_level = 1\n",
    "turn_over_target = 0.4\n",
    "batch = 1\n",
    "horizon = map_freq(freq)\n",
    "weights_bandwidth = 0.01\n",
    "universe = Universe('zz800')\n",
    "data_source = os.environ['DB_URI']\n",
    "benchmark_code = 905\n",
    "method = 'risk_neutral'"
   ]
  },
  {
   "cell_type": "code",
   "execution_count": 3,
   "metadata": {},
   "outputs": [],
   "source": [
    "# Model settings\n",
    "alpha_factors = {\n",
    "    'f01': CSQuantiles(LAST('EPS'), groups='sw1'),\n",
    "    'f02': CSQuantiles(LAST('ROE'), groups='sw1'),\n",
    "    }\n",
    "\n",
    "weights = dict(f01=1.,\n",
    "               f02=1.)\n",
    "\n",
    "alpha_model = ConstLinearModel(features=alpha_factors, weights=weights)\n",
    "\n",
    "data_meta = DataMeta(freq=freq,\n",
    "                     universe=universe,\n",
    "                     batch=1,\n",
    "                     neutralized_risk=None,\n",
    "                     pre_process=None,\n",
    "                     post_process=None,\n",
    "                     data_source=data_source)"
   ]
  },
  {
   "cell_type": "code",
   "execution_count": 4,
   "metadata": {},
   "outputs": [],
   "source": [
    "# Constraintes settings\n",
    "\n",
    "industry_names = industry_list(industry_name, industry_level)\n",
    "constraint_risk = ['SIZE', 'SIZENL', 'BETA']\n",
    "total_risk_names = constraint_risk + ['benchmark', 'total']\n",
    "all_styles = risk_styles + industry_styles + macro_styles\n",
    "\n",
    "b_type = []\n",
    "l_val = []\n",
    "u_val = []\n",
    "\n",
    "previous_pos = pd.DataFrame()\n",
    "rets = []\n",
    "turn_overs = []\n",
    "leverags = []\n",
    "\n",
    "for name in total_risk_names:\n",
    "    if name == 'benchmark':\n",
    "        b_type.append(BoundaryType.RELATIVE)\n",
    "        l_val.append(0.8)\n",
    "        u_val.append(1.0)\n",
    "    else:\n",
    "        b_type.append(BoundaryType.ABSOLUTE)\n",
    "        l_val.append(0.0)\n",
    "        u_val.append(0.0)\n",
    "\n",
    "bounds = create_box_bounds(total_risk_names, b_type, l_val, u_val)"
   ]
  },
  {
   "cell_type": "code",
   "execution_count": 5,
   "metadata": {},
   "outputs": [],
   "source": [
    "# Running settings\n",
    "running_setting = RunningSetting(weights_bandwidth=weights_bandwidth,\n",
    "                                 rebalance_method=method,\n",
    "                                 bounds=bounds,\n",
    "                                 turn_over_target=turn_over_target)"
   ]
  },
  {
   "cell_type": "code",
   "execution_count": 6,
   "metadata": {},
   "outputs": [
    {
     "name": "stderr",
     "output_type": "stream",
     "text": [
      "2019-02-10 00:33:29,656 - ALPHA_MIND - INFO - alpha factor data loading finished ...\n",
      "2019-02-10 00:33:30,687 - ALPHA_MIND - INFO - industry data loading finished ...\n",
      "2019-02-10 00:33:31,236 - ALPHA_MIND - INFO - benchmark data loading finished ...\n",
      "2019-02-10 00:33:36,367 - ALPHA_MIND - INFO - risk_model data loading finished ...\n",
      "2019-02-10 00:33:40,488 - ALPHA_MIND - INFO - returns data loading finished ...\n",
      "2019-02-10 00:33:40,798 - ALPHA_MIND - INFO - starting backting ...\n",
      "2019-02-10 00:33:41,103 - ALPHA_MIND - INFO - alpha models training finished ...\n",
      "D:\\ProgramData\\anaconda3\\lib\\site-packages\\pandas\\core\\frame.py:4024: SettingWithCopyWarning: \n",
      "A value is trying to be set on a copy of a slice from a DataFrame\n",
      "\n",
      "See the caveats in the documentation: http://pandas.pydata.org/pandas-docs/stable/indexing.html#indexing-view-versus-copy\n",
      "  downcast=downcast, **kwargs)\n",
      "2019-02-10 00:33:41,174 - ALPHA_MIND - INFO - 2016-01-04 00:00:00 re-balance: 799 codes\n",
      "2019-02-10 00:33:41,241 - ALPHA_MIND - INFO - 2016-01-18 00:00:00 re-balance: 800 codes\n",
      "D:\\ProgramData\\anaconda3\\lib\\site-packages\\cvxpy-1.0.10-py3.6-win-amd64.egg\\cvxpy\\problems\\problem.py:614: RuntimeWarning: overflow encountered in long_scalars\n",
      "  if self.max_big_small_squared < big*small**2:\n",
      "2019-02-10 00:33:41,362 - ALPHA_MIND - INFO - 2016-02-01 00:00:00 re-balance: 800 codes\n",
      "2019-02-10 00:33:41,474 - ALPHA_MIND - INFO - 2016-02-22 00:00:00 re-balance: 800 codes\n",
      "2019-02-10 00:33:41,584 - ALPHA_MIND - INFO - 2016-03-07 00:00:00 re-balance: 800 codes\n",
      "2019-02-10 00:33:41,694 - ALPHA_MIND - INFO - 2016-03-21 00:00:00 re-balance: 800 codes\n",
      "2019-02-10 00:33:41,810 - ALPHA_MIND - INFO - 2016-04-05 00:00:00 re-balance: 800 codes\n",
      "2019-02-10 00:33:41,943 - ALPHA_MIND - INFO - 2016-04-19 00:00:00 re-balance: 800 codes\n",
      "2019-02-10 00:33:42,074 - ALPHA_MIND - INFO - 2016-05-04 00:00:00 re-balance: 800 codes\n",
      "2019-02-10 00:33:42,190 - ALPHA_MIND - INFO - 2016-05-18 00:00:00 re-balance: 800 codes\n",
      "2019-02-10 00:33:42,328 - ALPHA_MIND - INFO - 2016-06-01 00:00:00 re-balance: 800 codes\n",
      "2019-02-10 00:33:42,453 - ALPHA_MIND - INFO - 2016-06-17 00:00:00 re-balance: 800 codes\n",
      "2019-02-10 00:33:42,577 - ALPHA_MIND - INFO - 2016-07-01 00:00:00 re-balance: 800 codes\n",
      "2019-02-10 00:33:42,704 - ALPHA_MIND - INFO - 2016-07-15 00:00:00 re-balance: 800 codes\n",
      "2019-02-10 00:33:42,836 - ALPHA_MIND - INFO - 2016-07-29 00:00:00 re-balance: 800 codes\n",
      "2019-02-10 00:33:42,980 - ALPHA_MIND - INFO - 2016-08-12 00:00:00 re-balance: 800 codes\n",
      "2019-02-10 00:33:43,109 - ALPHA_MIND - INFO - 2016-08-26 00:00:00 re-balance: 800 codes\n",
      "2019-02-10 00:33:43,274 - ALPHA_MIND - INFO - 2016-09-09 00:00:00 re-balance: 800 codes\n",
      "2019-02-10 00:33:43,396 - ALPHA_MIND - INFO - 2016-09-27 00:00:00 re-balance: 800 codes\n",
      "2019-02-10 00:33:43,507 - ALPHA_MIND - INFO - 2016-10-18 00:00:00 re-balance: 800 codes\n",
      "2019-02-10 00:33:43,626 - ALPHA_MIND - INFO - 2016-11-01 00:00:00 re-balance: 800 codes\n",
      "2019-02-10 00:33:43,766 - ALPHA_MIND - INFO - 2016-11-15 00:00:00 re-balance: 800 codes\n",
      "2019-02-10 00:33:43,877 - ALPHA_MIND - INFO - 2016-11-29 00:00:00 re-balance: 800 codes\n",
      "2019-02-10 00:33:43,986 - ALPHA_MIND - INFO - 2016-12-13 00:00:00 re-balance: 800 codes\n",
      "2019-02-10 00:33:44,099 - ALPHA_MIND - INFO - 2016-12-27 00:00:00 re-balance: 800 codes\n",
      "2019-02-10 00:33:44,212 - ALPHA_MIND - INFO - 2017-01-11 00:00:00 re-balance: 800 codes\n",
      "2019-02-10 00:33:44,354 - ALPHA_MIND - INFO - 2017-01-25 00:00:00 re-balance: 799 codes\n",
      "2019-02-10 00:33:44,483 - ALPHA_MIND - INFO - 2017-02-15 00:00:00 re-balance: 799 codes\n",
      "2019-02-10 00:33:44,599 - ALPHA_MIND - INFO - 2017-03-01 00:00:00 re-balance: 800 codes\n",
      "2019-02-10 00:33:44,726 - ALPHA_MIND - INFO - 2017-03-15 00:00:00 re-balance: 800 codes\n",
      "2019-02-10 00:33:44,855 - ALPHA_MIND - INFO - 2017-03-29 00:00:00 re-balance: 800 codes\n",
      "2019-02-10 00:33:44,982 - ALPHA_MIND - INFO - 2017-04-14 00:00:00 re-balance: 800 codes\n",
      "2019-02-10 00:33:45,134 - ALPHA_MIND - INFO - 2017-04-28 00:00:00 re-balance: 800 codes\n",
      "2019-02-10 00:33:45,248 - ALPHA_MIND - INFO - 2017-05-15 00:00:00 re-balance: 800 codes\n",
      "2019-02-10 00:33:45,373 - ALPHA_MIND - INFO - 2017-05-31 00:00:00 re-balance: 800 codes\n",
      "2019-02-10 00:33:45,492 - ALPHA_MIND - INFO - 2017-06-14 00:00:00 re-balance: 800 codes\n",
      "2019-02-10 00:33:45,611 - ALPHA_MIND - INFO - 2017-06-28 00:00:00 re-balance: 800 codes\n",
      "2019-02-10 00:33:45,736 - ALPHA_MIND - INFO - 2017-07-12 00:00:00 re-balance: 800 codes\n",
      "2019-02-10 00:33:45,890 - ALPHA_MIND - INFO - 2017-07-26 00:00:00 re-balance: 800 codes\n",
      "2019-02-10 00:33:46,021 - ALPHA_MIND - INFO - 2017-08-09 00:00:00 re-balance: 800 codes\n",
      "2019-02-10 00:33:46,133 - ALPHA_MIND - INFO - 2017-08-23 00:00:00 re-balance: 800 codes\n",
      "2019-02-10 00:33:46,280 - ALPHA_MIND - INFO - 2017-09-06 00:00:00 re-balance: 800 codes\n",
      "2019-02-10 00:33:46,435 - ALPHA_MIND - INFO - 2017-09-20 00:00:00 re-balance: 800 codes\n",
      "2019-02-10 00:33:46,553 - ALPHA_MIND - INFO - 2017-10-11 00:00:00 re-balance: 800 codes\n",
      "2019-02-10 00:33:46,670 - ALPHA_MIND - INFO - 2017-10-25 00:00:00 re-balance: 800 codes\n",
      "2019-02-10 00:33:46,803 - ALPHA_MIND - INFO - 2017-11-08 00:00:00 re-balance: 800 codes\n",
      "2019-02-10 00:33:46,942 - ALPHA_MIND - INFO - 2017-11-22 00:00:00 re-balance: 800 codes\n",
      "2019-02-10 00:33:47,065 - ALPHA_MIND - INFO - 2017-12-06 00:00:00 re-balance: 800 codes\n",
      "2019-02-10 00:33:47,193 - ALPHA_MIND - INFO - 2017-12-20 00:00:00 re-balance: 800 codes\n",
      "2019-02-10 00:33:47,336 - ALPHA_MIND - INFO - 2018-01-04 00:00:00 re-balance: 800 codes\n",
      "2019-02-10 00:33:47,477 - ALPHA_MIND - INFO - 2018-01-18 00:00:00 re-balance: 800 codes\n",
      "2019-02-10 00:33:47,602 - ALPHA_MIND - INFO - 2018-02-01 00:00:00 re-balance: 800 codes\n",
      "2019-02-10 00:33:47,724 - ALPHA_MIND - INFO - 2018-02-22 00:00:00 re-balance: 800 codes\n",
      "2019-02-10 00:33:47,859 - ALPHA_MIND - INFO - 2018-03-08 00:00:00 re-balance: 800 codes\n",
      "2019-02-10 00:33:47,989 - ALPHA_MIND - INFO - 2018-03-22 00:00:00 re-balance: 800 codes\n"
     ]
    }
   ],
   "source": [
    "# Strategy\n",
    "strategy = Strategy(alpha_model,\n",
    "                    data_meta,\n",
    "                    universe=universe,\n",
    "                    start_date=start_date,\n",
    "                    end_date=end_date,\n",
    "                    freq=freq,\n",
    "                    benchmark=benchmark_code)\n",
    "\n",
    "strategy.prepare_backtest_data()\n",
    "ret_df, positions = strategy.run(running_setting=running_setting)"
   ]
  },
  {
   "cell_type": "code",
   "execution_count": 7,
   "metadata": {},
   "outputs": [
    {
     "data": {
      "text/plain": [
       "<matplotlib.axes._subplots.AxesSubplot at 0x215af4105c0>"
      ]
     },
     "execution_count": 7,
     "metadata": {},
     "output_type": "execute_result"
    },
    {
     "data": {
      "image/png": "[encoded data removed]",
      "text/plain": [
       "<Figure size 1008x504 with 2 Axes>"
      ]
     },
     "metadata": {
      "needs_background": "light"
     },
     "output_type": "display_data"
    }
   ],
   "source": [
    "ret_df[['turn_over', 'excess_return']].cumsum().plot(figsize=(14, 7), secondary_y='turn_over')"
   ]
  },
  {
   "cell_type": "code",
   "execution_count": null,
   "metadata": {},
   "outputs": [],
   "source": []
  }
 ],
 "metadata": {
  "kernelspec": {
   "display_name": "Python 3",
   "language": "python",
   "name": "python3"
  },
  "language_info": {
   "codemirror_mode": {
    "name": "ipython",
    "version": 3
   },
   "file_extension": ".py",
   "mimetype": "text/x-python",
   "name": "python",
   "nbconvert_exporter": "python",
   "pygments_lexer": "ipython3",
   "version": "3.6.8"
  },
  "varInspector": {
   "cols": {
    "lenName": 16,
    "lenType": 16,
    "lenVar": 40
   },
   "kernels_config": {
    "python": {
     "delete_cmd_postfix": "",
     "delete_cmd_prefix": "del ",
     "library": "var_list.py",
     "varRefreshCmd": "print(var_dic_list())"
    },
    "r": {
     "delete_cmd_postfix": ") ",
     "delete_cmd_prefix": "rm(",
     "library": "var_list.r",
     "varRefreshCmd": "cat(var_dic_list()) "
    }
   },
   "types_to_exclude": [
    "module",
    "function",
    "builtin_function_or_method",
    "instance",
    "_Feature"
   ],
   "window_display": false
  }
 },
 "nbformat": 4,
 "nbformat_minor": 2
}
