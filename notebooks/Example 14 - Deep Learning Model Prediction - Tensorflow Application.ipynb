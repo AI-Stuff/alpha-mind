{
 "cells": [
  {
   "cell_type": "markdown",
   "metadata": {},
   "source": [
    "* 本例展示如何在alpha-mind中使用深度学习模型。\n",
    "    - 为方便比较，使用的数据参数与[机器学习模型示例](https://github.com/alpha-miner/alpha-mind/blob/master/notebooks/Example%2012%20-%20Machine%20Learning%20Model%20Prediction.ipynb)一致。\n",
    "    - 本例以tensorflow实现深度学习模型，故需要预装tensorflow。\n",
    "\n",
    "* 请在环境变量中设置`DB_URI`指向数据库"
   ]
  },
  {
   "cell_type": "code",
   "execution_count": 1,
   "metadata": {},
   "outputs": [],
   "source": [
    "%matplotlib inline\n",
    "\n",
    "import os\n",
    "import datetime as dt\n",
    "import numpy as np\n",
    "import pandas as pd\n",
    "from alphamind.api import *\n",
    "from PyFin.api import *\n",
    "import tensorflow as tf\n",
    "from alphamind.model.modelbase import create_model_base"
   ]
  },
  {
   "cell_type": "markdown",
   "metadata": {},
   "source": [
    "## 使用Tensorflow构建模型（以线性回归为例）\n",
    "\n",
    "### 构建Tensorflow的接口模型\n",
    "\n",
    "- alpha-mind中所有的模型算法都是通过底层接口模型实现的。在接口模型中都有统一的训练与预测方法，即*fit* 和 *predict*。\n",
    "- 下面的代码就是创建一个接口类，使用tensorflow实现线性回归的算法。*fit* 和 *predict* 分别对应拟合与预测功能。"
   ]
  },
  {
   "cell_type": "code",
   "execution_count": 2,
   "metadata": {},
   "outputs": [],
   "source": [
    "class LinearRegressionImpl(object):\n",
    "    def __init__(self, **kwargs):\n",
    "        self.learning_rate = kwargs.get('learning_rate', 0.1)\n",
    "        self.training_epochs = kwargs.get('training_epochs', 100)\n",
    "        self.display_steps = kwargs.get('display_steps', None)\n",
    "        self.W = None\n",
    "        self.b = None\n",
    "\n",
    "    def result(self):\n",
    "        with tf.Session() as sess:\n",
    "            ret = [sess.run(self.W), sess.run(self.b)]\n",
    "        return ret\n",
    "\n",
    "    def fit(self, x, y):\n",
    "        num_samples, num_features = x.shape\n",
    "\n",
    "        X = tf.placeholder(\"float\", shape=[None, num_features])\n",
    "        Y = tf.placeholder(\"float\", shape=[None, 1])\n",
    "        W = tf.Variable(np.random.randn(num_features, 1).astype(np.float32), name=\"weight\")\n",
    "        b = tf.Variable(np.random.randn(), name=\"bias\")\n",
    "        pred = tf.add(tf.matmul(X, W), b)\n",
    "\n",
    "        # Mean squared error\n",
    "        cost = tf.reduce_sum(tf.pow(pred - Y, 2)) / (2 * num_samples)\n",
    "        # Gradient descent\n",
    "        optimizer = tf.train.GradientDescentOptimizer(self.learning_rate).minimize(cost)\n",
    "\n",
    "        with tf.Session() as sess:\n",
    "            sess.run(tf.global_variables_initializer())\n",
    "\n",
    "            for epoch in range(self.training_epochs):\n",
    "                for (train_x, train_y) in zip(x, y):\n",
    "                    sess.run(optimizer, feed_dict={X: train_x.reshape(1, -1), Y: train_y.reshape(1, -1)})\n",
    "\n",
    "                if self.display_steps is not None and (epoch + 1) % self.display_steps == 0:\n",
    "                    c = sess.run(cost, feed_dict={X: x, Y: y})\n",
    "                    print(\"Epoch: {0}, cost = {1}, W = {2}, b = {3}\".format(epoch + 1, c, W, b))\n",
    "\n",
    "            print('Optimization finished ......')\n",
    "            training_cost = sess.run(cost, feed_dict={X: x, Y: y.reshape(-1, 1)})\n",
    "            self.W = sess.run(W)\n",
    "            self.b = sess.run(b)\n",
    "            print('Training cost = {0}, W = {1}, b = {2}'.format(training_cost, self.W, self.b))\n",
    "\n",
    "    def predict(self, x):\n",
    "        num_features = x.shape[1]\n",
    "        X = tf.placeholder(\"float\", shape=[None, num_features])\n",
    "        with tf.Session() as sess:\n",
    "            ret = sess.run(tf.add(tf.matmul(X, self.W), self.b), feed_dict={X: x})\n",
    "        return np.squeeze(ret)"
   ]
  },
  {
   "cell_type": "markdown",
   "metadata": {},
   "source": [
    "为了与alpha-mind的框架对接，还需要定义如下一个wrapper。这个wrapper需要实现*load* 和*save* 两种方法。"
   ]
  },
  {
   "cell_type": "code",
   "execution_count": 3,
   "metadata": {},
   "outputs": [],
   "source": [
    "class LinearRegressionTF(create_model_base()):\n",
    "    def __init__(self, features, fit_target, **kwargs):\n",
    "        super().__init__(features=features, fit_target=fit_target)\n",
    "        self.impl = LinearRegressionImpl(**kwargs)\n",
    "\n",
    "    @classmethod\n",
    "    def load(cls, model_desc: dict):\n",
    "        return super().load(model_desc)\n",
    "\n",
    "    def save(self):\n",
    "        model_desc = super().save()\n",
    "        model_desc['weight'] = self.impl.result()\n",
    "        return model_desc\n"
   ]
  },
  {
   "cell_type": "markdown",
   "metadata": {},
   "source": [
    "## 测试Tensorflow模型\n",
    " \n",
    "### 数据配置\n",
    "------------"
   ]
  },
  {
   "cell_type": "code",
   "execution_count": 4,
   "metadata": {},
   "outputs": [],
   "source": [
    "freq = '60b'\n",
    "universe = Universe('zz800')\n",
    "batch = 1\n",
    "neutralized_risk = industry_styles\n",
    "risk_model = 'short'\n",
    "pre_process = [winsorize_normal, standardize]\n",
    "post_process = [standardize]\n",
    "warm_start = 3\n",
    "data_source = os.environ['DB_URI']\n",
    "horizon = map_freq(freq)\n",
    "\n",
    "engine = SqlEngine(data_source)"
   ]
  },
  {
   "cell_type": "markdown",
   "metadata": {},
   "source": [
    "我们使用当期的`roe_q`因子，来尝试预测未来大概一个月以后的`roe_q`因子。\n",
    "\n",
    "* 训练的股票池为`zz800`;；\n",
    "* 因子都经过中性化以及标准化等预处理；\n",
    "* 预测模型使用线性模型，以20个工作日为一个时间间隔，用过去4期的数据作为训练用特征。"
   ]
  },
  {
   "cell_type": "code",
   "execution_count": 5,
   "metadata": {},
   "outputs": [],
   "source": [
    "\n",
    "kernal_feature = 'ROE'\n",
    "regress_features = {kernal_feature: LAST(kernal_feature),\n",
    "                    kernal_feature + '_l1': SHIFT(kernal_feature, 1),\n",
    "                    kernal_feature + '_l2': SHIFT(kernal_feature, 2),\n",
    "                    kernal_feature + '_l3': SHIFT(kernal_feature, 3)\n",
    "                   }\n",
    "fit_target = [kernal_feature]\n",
    "\n",
    "data_meta = DataMeta(freq=freq,\n",
    "                     universe=universe,\n",
    "                     batch=batch,\n",
    "                     neutralized_risk=neutralized_risk,\n",
    "                     risk_model=risk_model,\n",
    "                     pre_process=pre_process,\n",
    "                     post_process=post_process,\n",
    "                     warm_start=warm_start,\n",
    "                     data_source=data_source)\n",
    "\n",
    "regression_model_tf = LinearRegressionTF(features=regress_features, fit_target=fit_target, training_epochs=400, learning_rate=0.01)\n",
    "regression_composer_tf = Composer(alpha_model=regression_model_tf, data_meta=data_meta)"
   ]
  },
  {
   "cell_type": "markdown",
   "metadata": {},
   "source": [
    "## 模型对比（sklearn线性回归模型 v.s. tensorflow线性回归模型）： IC 系数\n",
    "------------------"
   ]
  },
  {
   "cell_type": "markdown",
   "metadata": {},
   "source": [
    "### model train and predict\n",
    "- train: 给定ref_date, 模型提取ref_date之前的所有训练日期的因子数据，以及ref_date当日的收益率数据进行训练。\n",
    "- predict: 给定ref_date, 模型提取ref_date当日的因子数据，预测下一期的收益率数据。\n",
    "- ic：给定ref_date, 模型用预测的结果与下一期真实的收益率数据求相关性。"
   ]
  },
  {
   "cell_type": "code",
   "execution_count": 10,
   "metadata": {},
   "outputs": [],
   "source": [
    "ref_date = '2011-01-01'\n",
    "ref_date = adjustDateByCalendar('china.sse', ref_date).strftime('%Y-%m-%d')"
   ]
  },
  {
   "cell_type": "code",
   "execution_count": 11,
   "metadata": {},
   "outputs": [],
   "source": [
    "regression_model_sk = LinearRegression(features=regress_features, fit_target=fit_target)\n",
    "regression_composer_sk = Composer(alpha_model=regression_model_sk, data_meta=data_meta)"
   ]
  },
  {
   "cell_type": "code",
   "execution_count": null,
   "metadata": {},
   "outputs": [],
   "source": [
    "%%time \n",
    "\n",
    "regression_composer_sk.train(ref_date)\n",
    "regression_composer_tf.train(ref_date)\n",
    "print(\"\\nSklearn Regression Testing IC: {0:.4f}\".format(regression_composer_sk.ic(ref_date=ref_date)[0]))\n",
    "print(\"Tensorflow Regression Testing IC: {0:.4f}\".format(regression_composer_tf.ic(ref_date=ref_date)[0]))"
   ]
  },
  {
   "cell_type": "markdown",
   "metadata": {},
   "source": [
    "## 回测（ simple long short strategy）\n",
    "--------------------------"
   ]
  },
  {
   "cell_type": "markdown",
   "metadata": {},
   "source": [
    "### 策略的初始化\n",
    "\n",
    "#### 加载数据： \n",
    "使用函数 *fetch_data_package* 加载\n",
    "- 因子数据\n",
    "- 行业数据\n",
    "- 风险模型数据\n",
    "- 数据的预处理"
   ]
  },
  {
   "cell_type": "code",
   "execution_count": 23,
   "metadata": {},
   "outputs": [
    {
     "name": "stderr",
     "output_type": "stream",
     "text": [
      "2019-02-10 01:20:50,287 - ALPHA_MIND - INFO - Starting data package fetching ...\n",
      "2019-02-10 01:20:51,440 - ALPHA_MIND - INFO - factor data loading finished\n",
      "2019-02-10 01:20:57,333 - ALPHA_MIND - INFO - fit target data loading finished\n",
      "2019-02-10 01:20:57,914 - ALPHA_MIND - INFO - industry data loading finished\n",
      "2019-02-10 01:20:58,312 - ALPHA_MIND - INFO - benchmark data loading finished\n",
      "2019-02-10 01:21:00,613 - ALPHA_MIND - INFO - data merging finished\n",
      "2019-02-10 01:21:00,670 - ALPHA_MIND - INFO - Loading data is finished\n",
      "2019-02-10 01:21:00,687 - ALPHA_MIND - INFO - Data processing is finished\n"
     ]
    }
   ],
   "source": [
    "start_date = '2011-01-01'\n",
    "end_date = '2012-01-01'\n",
    "\n",
    "data_package2 = fetch_data_package(engine,\n",
    "                                   alpha_factors=regress_features,\n",
    "                                   start_date=start_date,\n",
    "                                   end_date=end_date,\n",
    "                                   frequency=freq,\n",
    "                                   universe=universe,\n",
    "                                   benchmark=906,\n",
    "                                   warm_start=warm_start,\n",
    "                                   batch=1,\n",
    "                                   neutralized_risk=neutralized_risk,\n",
    "                                   pre_process=pre_process,\n",
    "                                   post_process=post_process)\n",
    "\n",
    "model_dates = [d.strftime('%Y-%m-%d') for d in list(data_package2['predict']['x'].keys())]\n",
    "\n",
    "\n",
    "industry_name = 'sw_adj'\n",
    "industry_level = 1\n",
    "\n",
    "industry_names = industry_list(industry_name, industry_level)\n",
    "industry_total = engine.fetch_industry_matrix_range(universe, dates=model_dates, category=industry_name, level=industry_level)"
   ]
  },
  {
   "cell_type": "markdown",
   "metadata": {},
   "source": [
    "#### 运行策略：（sklearn线性回归模型 v.s. tensorflow线性回归模型）"
   ]
  },
  {
   "cell_type": "code",
   "execution_count": 24,
   "metadata": {},
   "outputs": [
    {
     "name": "stderr",
     "output_type": "stream",
     "text": [
      "2019-02-10 01:21:00,967 - ALPHA_MIND - INFO - 2011-01-04 full re-balance: 789\n",
      "D:\\ProgramData\\anaconda3\\lib\\site-packages\\ipykernel_launcher.py:17: FutureWarning: \n",
      "Passing list-likes to .loc or [] with any missing label will raise\n",
      "KeyError in the future, you can use .reindex() as an alternative.\n",
      "\n",
      "See the documentation here:\n",
      "https://pandas.pydata.org/pandas-docs/stable/indexing.html#deprecate-loc-reindex-listlike\n",
      "D:\\ProgramData\\anaconda3\\lib\\site-packages\\ipykernel_launcher.py:35: FutureWarning: \n",
      "Passing list-likes to .loc or [] with any missing label will raise\n",
      "KeyError in the future, you can use .reindex() as an alternative.\n",
      "\n",
      "See the documentation here:\n",
      "https://pandas.pydata.org/pandas-docs/stable/indexing.html#deprecate-loc-reindex-listlike\n",
      "2019-02-10 01:21:01,961 - ALPHA_MIND - INFO - 2011-01-04 is finished\n",
      "2019-02-10 01:21:01,977 - ALPHA_MIND - INFO - 2011-04-07 full re-balance: 779\n",
      "D:\\ProgramData\\anaconda3\\lib\\site-packages\\ipykernel_launcher.py:17: FutureWarning: \n",
      "Passing list-likes to .loc or [] with any missing label will raise\n",
      "KeyError in the future, you can use .reindex() as an alternative.\n",
      "\n",
      "See the documentation here:\n",
      "https://pandas.pydata.org/pandas-docs/stable/indexing.html#deprecate-loc-reindex-listlike\n",
      "D:\\ProgramData\\anaconda3\\lib\\site-packages\\ipykernel_launcher.py:35: FutureWarning: \n",
      "Passing list-likes to .loc or [] with any missing label will raise\n",
      "KeyError in the future, you can use .reindex() as an alternative.\n",
      "\n",
      "See the documentation here:\n",
      "https://pandas.pydata.org/pandas-docs/stable/indexing.html#deprecate-loc-reindex-listlike\n",
      "2019-02-10 01:21:02,027 - ALPHA_MIND - INFO - 2011-04-07 is finished\n",
      "2019-02-10 01:21:02,053 - ALPHA_MIND - INFO - 2011-07-04 full re-balance: 796\n",
      "D:\\ProgramData\\anaconda3\\lib\\site-packages\\ipykernel_launcher.py:17: FutureWarning: \n",
      "Passing list-likes to .loc or [] with any missing label will raise\n",
      "KeyError in the future, you can use .reindex() as an alternative.\n",
      "\n",
      "See the documentation here:\n",
      "https://pandas.pydata.org/pandas-docs/stable/indexing.html#deprecate-loc-reindex-listlike\n",
      "D:\\ProgramData\\anaconda3\\lib\\site-packages\\ipykernel_launcher.py:35: FutureWarning: \n",
      "Passing list-likes to .loc or [] with any missing label will raise\n",
      "KeyError in the future, you can use .reindex() as an alternative.\n",
      "\n",
      "See the documentation here:\n",
      "https://pandas.pydata.org/pandas-docs/stable/indexing.html#deprecate-loc-reindex-listlike\n",
      "2019-02-10 01:21:02,157 - ALPHA_MIND - INFO - 2011-07-04 is finished\n",
      "2019-02-10 01:21:02,191 - ALPHA_MIND - INFO - 2011-09-27 full re-balance: 784\n",
      "D:\\ProgramData\\anaconda3\\lib\\site-packages\\ipykernel_launcher.py:17: FutureWarning: \n",
      "Passing list-likes to .loc or [] with any missing label will raise\n",
      "KeyError in the future, you can use .reindex() as an alternative.\n",
      "\n",
      "See the documentation here:\n",
      "https://pandas.pydata.org/pandas-docs/stable/indexing.html#deprecate-loc-reindex-listlike\n",
      "D:\\ProgramData\\anaconda3\\lib\\site-packages\\ipykernel_launcher.py:35: FutureWarning: \n",
      "Passing list-likes to .loc or [] with any missing label will raise\n",
      "KeyError in the future, you can use .reindex() as an alternative.\n",
      "\n",
      "See the documentation here:\n",
      "https://pandas.pydata.org/pandas-docs/stable/indexing.html#deprecate-loc-reindex-listlike\n",
      "2019-02-10 01:21:02,307 - ALPHA_MIND - INFO - 2011-09-27 is finished\n",
      "2019-02-10 01:21:02,340 - ALPHA_MIND - INFO - 2011-12-27 full re-balance: 795\n",
      "D:\\ProgramData\\anaconda3\\lib\\site-packages\\ipykernel_launcher.py:17: FutureWarning: \n",
      "Passing list-likes to .loc or [] with any missing label will raise\n",
      "KeyError in the future, you can use .reindex() as an alternative.\n",
      "\n",
      "See the documentation here:\n",
      "https://pandas.pydata.org/pandas-docs/stable/indexing.html#deprecate-loc-reindex-listlike\n",
      "D:\\ProgramData\\anaconda3\\lib\\site-packages\\ipykernel_launcher.py:35: FutureWarning: \n",
      "Passing list-likes to .loc or [] with any missing label will raise\n",
      "KeyError in the future, you can use .reindex() as an alternative.\n",
      "\n",
      "See the documentation here:\n",
      "https://pandas.pydata.org/pandas-docs/stable/indexing.html#deprecate-loc-reindex-listlike\n",
      "2019-02-10 01:21:02,432 - ALPHA_MIND - INFO - 2011-12-27 is finished\n"
     ]
    }
   ],
   "source": [
    "rets1 = []\n",
    "rets2 = []\n",
    "\n",
    "for i, ref_date in enumerate(model_dates):\n",
    "    py_ref_date = dt.datetime.strptime(ref_date, '%Y-%m-%d')\n",
    "    industry_matrix = industry_total[industry_total.trade_date == ref_date]\n",
    "    dx_returns = pd.DataFrame({'dx': data_package2['predict']['y'][py_ref_date].flatten(),\n",
    "                               'code': data_package2['predict']['code'][py_ref_date].flatten()})\n",
    "    \n",
    "    res = pd.merge(dx_returns, industry_matrix, on=['code']).dropna()\n",
    "    codes = res.code.values.tolist()\n",
    "    \n",
    "    alpha_logger.info('{0} full re-balance: {1}'.format(ref_date, len(codes)))\n",
    "    \n",
    "    ## sklearn regression model\n",
    "    \n",
    "    raw_predict1 = regression_composer_sk.predict(ref_date, x=data_package2['predict']['x'][py_ref_date])[0].loc[codes]\n",
    "    er1 = raw_predict1.fillna(raw_predict1.median()).values\n",
    "    \n",
    "    target_pos1, _ = er_portfolio_analysis(er1,\n",
    "                                           res.industry_name.values,\n",
    "                                           None,\n",
    "                                           None,\n",
    "                                           False,\n",
    "                                           None,\n",
    "                                           method='ls')\n",
    "        \n",
    "    target_pos1['code'] = codes\n",
    "    result1 = pd.merge(target_pos1, dx_returns, on=['code'])\n",
    "    ret1 = result1.weight.values @ (np.exp(result1.dx.values) - 1.)\n",
    "    rets1.append(np.log(1. + ret1))\n",
    "\n",
    "    ## tensorflow regression model\n",
    "    \n",
    "    raw_predict2 = regression_composer_tf.predict(ref_date, x=data_package2['predict']['x'][py_ref_date])[0].loc[codes]\n",
    "    er2 = raw_predict2.fillna(raw_predict2.median()).values\n",
    "    \n",
    "    target_pos2, _ = er_portfolio_analysis(er2,\n",
    "                                           res.industry_name.values,\n",
    "                                           None,\n",
    "                                           None,\n",
    "                                           False,\n",
    "                                           None,\n",
    "                                           method='ls')\n",
    "    \n",
    "    target_pos2['code'] = codes\n",
    "    result2 = pd.merge(target_pos2, dx_returns, on=['code'])\n",
    "    ret2 = result2.weight.values @ (np.exp(result2.dx.values) - 1.)\n",
    "    rets2.append(np.log(1. + ret2))\n",
    "    \n",
    "    alpha_logger.info('{0} is finished'.format(ref_date))"
   ]
  },
  {
   "cell_type": "markdown",
   "metadata": {},
   "source": [
    "#### 收益图对比"
   ]
  },
  {
   "cell_type": "code",
   "execution_count": 25,
   "metadata": {},
   "outputs": [
    {
     "data": {
      "text/plain": [
       "<matplotlib.axes._subplots.AxesSubplot at 0x210a0c51588>"
      ]
     },
     "execution_count": 25,
     "metadata": {},
     "output_type": "execute_result"
    },
    {
     "data": {
      "image/png": "[encoded data removed]",
      "text/plain": [
       "<Figure size 864x432 with 1 Axes>"
      ]
     },
     "metadata": {
      "needs_background": "light"
     },
     "output_type": "display_data"
    }
   ],
   "source": [
    "ret_df = pd.DataFrame({'sklearn': rets1, 'tensorflow': rets2}, index=model_dates)\n",
    "ret_df.loc[advanceDateByCalendar('china.sse', model_dates[-1], freq).strftime('%Y-%m-%d')] = 0.\n",
    "ret_df = ret_df.shift(1)\n",
    "ret_df.iloc[0] = 0.\n",
    "\n",
    "ret_df[['sklearn', 'tensorflow']].cumsum().plot(figsize=(12, 6),\n",
    "                                             title='Fixed freq rebalanced: {0}'.format(freq))"
   ]
  },
  {
   "cell_type": "code",
   "execution_count": null,
   "metadata": {},
   "outputs": [],
   "source": []
  }
 ],
 "metadata": {
  "kernelspec": {
   "display_name": "Python 3",
   "language": "python",
   "name": "python3"
  },
  "language_info": {
   "codemirror_mode": {
    "name": "ipython",
    "version": 3
   },
   "file_extension": ".py",
   "mimetype": "text/x-python",
   "name": "python",
   "nbconvert_exporter": "python",
   "pygments_lexer": "ipython3",
   "version": "3.6.8"
  },
  "varInspector": {
   "cols": {
    "lenName": 16,
    "lenType": 16,
    "lenVar": 40
   },
   "kernels_config": {
    "python": {
     "delete_cmd_postfix": "",
     "delete_cmd_prefix": "del ",
     "library": "var_list.py",
     "varRefreshCmd": "print(var_dic_list())"
    },
    "r": {
     "delete_cmd_postfix": ") ",
     "delete_cmd_prefix": "rm(",
     "library": "var_list.r",
     "varRefreshCmd": "cat(var_dic_list()) "
    }
   },
   "types_to_exclude": [
    "module",
    "function",
    "builtin_function_or_method",
    "instance",
    "_Feature"
   ],
   "window_display": false
  }
 },
 "nbformat": 4,
 "nbformat_minor": 2
}
