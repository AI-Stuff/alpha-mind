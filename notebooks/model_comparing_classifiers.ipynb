{
 "cells": [
  {
   "cell_type": "code",
   "execution_count": 1,
   "metadata": {
    "collapsed": true
   },
   "outputs": [],
   "source": [
    "%matplotlib inline\n",
    "import xgboost as xgb\n",
    "import numpy as np\n",
    "from alphamind.api import *\n",
    "from PyFin.api import *\n",
    "from sklearn.model_selection import train_test_split\n",
    "\n",
    "engine = SqlEngine()"
   ]
  },
  {
   "cell_type": "code",
   "execution_count": 23,
   "metadata": {
    "collapsed": true
   },
   "outputs": [],
   "source": [
    "start_date = '2012-01-01'\n",
    "end_date = '2018-01-05'\n",
    "\n",
    "features = ['roe_q',\n",
    "            'ep_q',\n",
    "            'DivP',\n",
    "            'cfinc1_q',\n",
    "            'EBIT',\n",
    "            'EARNYILD',\n",
    "            'EPIBS']\n",
    "\n",
    "freq = '10b'\n",
    "batch = 16\n",
    "universe = Universe('custom', ['zz500', 'hs300'])\n",
    "benchmark = 905\n",
    "neutralized_risk = ['SIZE'] + industry_styles\n",
    "horizon = map_freq(freq)"
   ]
  },
  {
   "cell_type": "code",
   "execution_count": 24,
   "metadata": {},
   "outputs": [
    {
     "name": "stderr",
     "output_type": "stream",
     "text": [
      "2018-01-11 15:12:44,105 - ALPHA_MIND - INFO - Starting data package fetching ...\n",
      "2018-01-11 15:12:53,578 - ALPHA_MIND - INFO - factor data loading finished\n",
      "2018-01-11 15:13:03,880 - ALPHA_MIND - INFO - return data loading finished\n",
      "2018-01-11 15:13:05,384 - ALPHA_MIND - INFO - industry data loading finished\n",
      "2018-01-11 15:13:06,178 - ALPHA_MIND - INFO - benchmark data loading finished\n",
      "2018-01-11 15:13:17,845 - ALPHA_MIND - INFO - risk data loading finished\n",
      "2018-01-11 15:13:21,266 - ALPHA_MIND - INFO - data merging finished\n",
      "2018-01-11 15:13:23,371 - ALPHA_MIND - INFO - Loading data is finished\n",
      "2018-01-11 15:13:33,174 - ALPHA_MIND - INFO - Data processing is finished\n"
     ]
    },
    {
     "name": "stdout",
     "output_type": "stream",
     "text": [
      "Wall time: 49.1 s\n"
     ]
    }
   ],
   "source": [
    "%%time\n",
    "factor_data = fetch_data_package(engine,\n",
    "                                 features,\n",
    "                                 start_date,\n",
    "                                 end_date,\n",
    "                                 '5b',\n",
    "                                 universe,\n",
    "                                 benchmark,\n",
    "                                 batch=batch,\n",
    "                                 warm_start=batch,\n",
    "                                 neutralized_risk=neutralized_risk, \n",
    "                                 pre_process=[winsorize_normal, standardize],\n",
    "                                 post_process=[winsorize_normal, standardize])"
   ]
  },
  {
   "cell_type": "code",
   "execution_count": 25,
   "metadata": {
    "collapsed": true
   },
   "outputs": [],
   "source": [
    "features = factor_data['x_names']\n",
    "\n",
    "train_x = factor_data['train']['x']\n",
    "train_y = factor_data['train']['y']\n",
    "train_risk = factor_data['train']['risk']\n",
    "ref_dates = sorted(train_x.keys())\n",
    "\n",
    "predict_x = factor_data['predict']['x']\n",
    "predict_y = factor_data['predict']['y']\n",
    "predict_risk = factor_data['predict']['risk']\n",
    "settlement = factor_data['settlement']"
   ]
  },
  {
   "cell_type": "code",
   "execution_count": 26,
   "metadata": {
    "collapsed": true
   },
   "outputs": [],
   "source": [
    "for key, val in train_y.items():\n",
    "    train_y[key] = np.where(val > 0., 1, 0)\n",
    "    \n",
    "for key, val in predict_y.items():\n",
    "    predict_y[key] = np.where(val > 0., 1, 0)"
   ]
  },
  {
   "cell_type": "markdown",
   "metadata": {},
   "source": [
    "## Logistic Regression\n",
    "--------------"
   ]
  },
  {
   "cell_type": "code",
   "execution_count": 27,
   "metadata": {},
   "outputs": [
    {
     "name": "stdout",
     "output_type": "stream",
     "text": [
      "2012-02-15 00:00:00\n",
      "2012-06-06 00:00:00\n",
      "2012-09-20 00:00:00\n",
      "2013-01-15 00:00:00\n",
      "2013-05-14 00:00:00\n",
      "2013-08-30 00:00:00\n",
      "2013-12-24 00:00:00\n",
      "2014-04-17 00:00:00\n",
      "2014-08-05 00:00:00\n",
      "2014-11-26 00:00:00\n",
      "2015-03-20 00:00:00\n",
      "2015-07-08 00:00:00\n",
      "2015-10-30 00:00:00\n",
      "2016-02-22 00:00:00\n",
      "2016-06-08 00:00:00\n",
      "2016-09-27 00:00:00\n",
      "2017-01-18 00:00:00\n",
      "2017-05-15 00:00:00\n",
      "2017-08-30 00:00:00\n",
      "2017-12-20 00:00:00\n",
      "Wall time: 5.34 s\n"
     ]
    }
   ],
   "source": [
    "%%time\n",
    "train_dates = list(train_x.keys())\n",
    "train_scores = []\n",
    "predict_scores = []\n",
    "\n",
    "for i, date in enumerate(train_dates):\n",
    "    if i % 15 == 0:\n",
    "        print(date)\n",
    "    x = train_x[date]\n",
    "    y = train_y[date]\n",
    "    \n",
    "    model = LogisticRegression(fit_intercept=False, features=features)\n",
    "    model.fit(x, y)\n",
    "    train_scores.append(model.score(x, y))\n",
    "    \n",
    "    p_x = predict_x[date]\n",
    "    p_y = predict_y[date]\n",
    "    predict_scores.append(model.score(p_x, p_y))"
   ]
  },
  {
   "cell_type": "code",
   "execution_count": 28,
   "metadata": {},
   "outputs": [
    {
     "name": "stdout",
     "output_type": "stream",
     "text": [
      "0.541013986745\n",
      "0.51932344036\n"
     ]
    }
   ],
   "source": [
    "print(np.mean(train_scores))\n",
    "print(np.mean(predict_scores))"
   ]
  },
  {
   "cell_type": "markdown",
   "metadata": {},
   "source": [
    "## Random Forest Classifier\n",
    "-----------"
   ]
  },
  {
   "cell_type": "code",
   "execution_count": 29,
   "metadata": {},
   "outputs": [
    {
     "name": "stdout",
     "output_type": "stream",
     "text": [
      "2012-02-15 00:00:00\n",
      "2012-06-06 00:00:00\n",
      "2012-09-20 00:00:00\n",
      "2013-01-15 00:00:00\n",
      "2013-05-14 00:00:00\n",
      "2013-08-30 00:00:00\n",
      "2013-12-24 00:00:00\n",
      "2014-04-17 00:00:00\n",
      "2014-08-05 00:00:00\n",
      "2014-11-26 00:00:00\n",
      "2015-03-20 00:00:00\n",
      "2015-07-08 00:00:00\n",
      "2015-10-30 00:00:00\n",
      "2016-02-22 00:00:00\n",
      "2016-06-08 00:00:00\n",
      "2016-09-27 00:00:00\n",
      "2017-01-18 00:00:00\n",
      "2017-05-15 00:00:00\n",
      "2017-08-30 00:00:00\n",
      "2017-12-20 00:00:00\n",
      "Wall time: 15min 34s\n"
     ]
    }
   ],
   "source": [
    "%%time\n",
    "train_dates = list(train_x.keys())\n",
    "train_scores = []\n",
    "predict_scores = []\n",
    "\n",
    "for i, date in enumerate(train_dates):\n",
    "    if i % 15 == 0:\n",
    "        print(date)\n",
    "    x = train_x[date]\n",
    "    y = train_y[date]\n",
    "    \n",
    "    model = RandomForestClassifier(n_estimators=1000, max_features='sqrt', max_depth=3, n_jobs=-1)\n",
    "    model.fit(x, y)\n",
    "    train_scores.append(model.score(x, y))\n",
    "    \n",
    "    p_x = predict_x[date]\n",
    "    p_y = predict_y[date]\n",
    "    predict_scores.append(model.score(p_x, p_y))"
   ]
  },
  {
   "cell_type": "code",
   "execution_count": 30,
   "metadata": {},
   "outputs": [
    {
     "name": "stdout",
     "output_type": "stream",
     "text": [
      "0.557563825608\n",
      "0.553974775005\n"
     ]
    }
   ],
   "source": [
    "print(np.mean(train_scores))\n",
    "print(np.mean(predict_scores))"
   ]
  },
  {
   "cell_type": "markdown",
   "metadata": {},
   "source": [
    "## XGBoost Classifier\n",
    "---------"
   ]
  },
  {
   "cell_type": "code",
   "execution_count": 31,
   "metadata": {},
   "outputs": [
    {
     "name": "stdout",
     "output_type": "stream",
     "text": [
      "2012-02-15 00:00:00\n",
      "2012-06-06 00:00:00\n",
      "2012-09-20 00:00:00\n",
      "2013-01-15 00:00:00\n",
      "2013-05-14 00:00:00\n",
      "2013-08-30 00:00:00\n",
      "2013-12-24 00:00:00\n",
      "2014-04-17 00:00:00\n",
      "2014-08-05 00:00:00\n",
      "2014-11-26 00:00:00\n",
      "2015-03-20 00:00:00\n",
      "2015-07-08 00:00:00\n",
      "2015-10-30 00:00:00\n",
      "2016-02-22 00:00:00\n",
      "2016-06-08 00:00:00\n",
      "2016-09-27 00:00:00\n",
      "2017-01-18 00:00:00\n",
      "2017-05-15 00:00:00\n",
      "2017-08-30 00:00:00\n",
      "2017-12-20 00:00:00\n",
      "Wall time: 13min 40s\n"
     ]
    }
   ],
   "source": [
    "%%time\n",
    "train_dates = list(train_x.keys())\n",
    "train_scores = []\n",
    "predict_scores = []\n",
    "\n",
    "for i, date in enumerate(train_dates):\n",
    "    if i % 15 == 0:\n",
    "        print(date)\n",
    "    x = train_x[date]\n",
    "    y = train_y[date]\n",
    "    \n",
    "    model = XGBClassifier(n_estimators=1000,\n",
    "                         learning_rate=0.02,\n",
    "                         max_depth=3,\n",
    "                         n_jobs=-1,\n",
    "                         subsample=0.25,\n",
    "                         colsample_bytree=0.5)\n",
    "    model.fit(x, y)\n",
    "    train_scores.append(model.score(x, y))\n",
    "    \n",
    "    p_x = predict_x[date]\n",
    "    p_y = predict_y[date]\n",
    "    predict_scores.append(model.score(p_x, p_y))"
   ]
  },
  {
   "cell_type": "code",
   "execution_count": 32,
   "metadata": {},
   "outputs": [
    {
     "name": "stdout",
     "output_type": "stream",
     "text": [
      "0.642946015759\n",
      "0.537550683184\n"
     ]
    }
   ],
   "source": [
    "print(np.mean(train_scores))\n",
    "print(np.mean(predict_scores))"
   ]
  },
  {
   "cell_type": "markdown",
   "metadata": {},
   "source": [
    "## Native XGBoost Classifier\n",
    "---------------"
   ]
  },
  {
   "cell_type": "code",
   "execution_count": 33,
   "metadata": {},
   "outputs": [
    {
     "name": "stdout",
     "output_type": "stream",
     "text": [
      "2012-02-15 00:00:00\n",
      "2012-06-06 00:00:00\n",
      "2012-09-20 00:00:00\n",
      "2013-01-15 00:00:00\n",
      "2013-05-14 00:00:00\n",
      "2013-08-30 00:00:00\n",
      "2013-12-24 00:00:00\n",
      "2014-04-17 00:00:00\n",
      "2014-08-05 00:00:00\n",
      "2014-11-26 00:00:00\n",
      "2015-03-20 00:00:00\n",
      "2015-07-08 00:00:00\n",
      "2015-10-30 00:00:00\n",
      "2016-02-22 00:00:00\n",
      "2016-06-08 00:00:00\n",
      "2016-09-27 00:00:00\n",
      "2017-01-18 00:00:00\n",
      "2017-05-15 00:00:00\n",
      "2017-08-30 00:00:00\n",
      "2017-12-20 00:00:00\n",
      "Wall time: 1min 6s\n"
     ]
    }
   ],
   "source": [
    "%%time\n",
    "train_dates = list(train_x.keys())\n",
    "train_scores = []\n",
    "predict_scores = []\n",
    "\n",
    "for i, date in enumerate(train_dates):\n",
    "    if i % 15 == 0:\n",
    "        print(date)\n",
    "    x = train_x[date]\n",
    "    y = train_y[date]\n",
    "    \n",
    "    x_train, x_eval, y_train, y_eval = train_test_split(x, y, test_size=0.33, random_state=42)\n",
    "    \n",
    "    dtrain = xgb.DMatrix(x_train, y_train)\n",
    "    deval = xgb.DMatrix(x_eval, y_eval)\n",
    "    param = {'silent': 1,\n",
    "             'objective': 'binary:logistic',\n",
    "             'max_depth': 3,\n",
    "             'eta': 0.01,\n",
    "             'boost': 'dart',\n",
    "             'tree_method': 'hist',\n",
    "             'subsample': 0.25,\n",
    "             'colsample_bytree': 0.5}\n",
    "    num_round = 2000\n",
    "    model = xgb.train(param, dtrain, num_round, evals=[(deval, 'eval')], early_stopping_rounds=50, verbose_eval=False)\n",
    "    \n",
    "    y_train_predict = model.predict(dtrain)\n",
    "    label = dtrain.get_label()\n",
    "    train_score = np.sum((y_train_predict > 0.5) == label) / float(len(label))\n",
    "\n",
    "    train_scores.append(train_score)\n",
    "    \n",
    "    p_x = predict_x[date]\n",
    "    p_y = predict_y[date]\n",
    "    dtest = xgb.DMatrix(p_x, p_y)\n",
    "    \n",
    "    y_test_predict = model.predict(dtest)\n",
    "    p_label = dtest.get_label()\n",
    "    test_score = np.sum((y_test_predict > 0.5) == p_label) / float(len(p_label))\n",
    "    predict_scores.append(test_score)"
   ]
  },
  {
   "cell_type": "code",
   "execution_count": 34,
   "metadata": {},
   "outputs": [
    {
     "name": "stdout",
     "output_type": "stream",
     "text": [
      "0.567225761699\n",
      "0.550997907465\n"
     ]
    }
   ],
   "source": [
    "print(np.mean(train_scores))\n",
    "print(np.mean(predict_scores))"
   ]
  },
  {
   "cell_type": "markdown",
   "metadata": {},
   "source": [
    "## Logistic Regression with More Features\n",
    "-----------------"
   ]
  },
  {
   "cell_type": "code",
   "execution_count": 35,
   "metadata": {
    "collapsed": true
   },
   "outputs": [],
   "source": [
    "def cross_product(x, y):\n",
    "    n, m = x.shape\n",
    "    res = []\n",
    "    \n",
    "    for j in range(m):\n",
    "        res.append(x[:, [j]] * y)\n",
    "        \n",
    "    return np.concatenate(res, axis=1)"
   ]
  },
  {
   "cell_type": "code",
   "execution_count": 36,
   "metadata": {},
   "outputs": [
    {
     "name": "stdout",
     "output_type": "stream",
     "text": [
      "2012-02-15 00:00:00\n",
      "2012-06-06 00:00:00\n",
      "2012-09-20 00:00:00\n",
      "2013-01-15 00:00:00\n",
      "2013-05-14 00:00:00\n",
      "2013-08-30 00:00:00\n",
      "2013-12-24 00:00:00\n",
      "2014-04-17 00:00:00\n",
      "2014-08-05 00:00:00\n",
      "2014-11-26 00:00:00\n",
      "2015-03-20 00:00:00\n",
      "2015-07-08 00:00:00\n",
      "2015-10-30 00:00:00\n",
      "2016-02-22 00:00:00\n",
      "2016-06-08 00:00:00\n",
      "2016-09-27 00:00:00\n",
      "2017-01-18 00:00:00\n",
      "2017-05-15 00:00:00\n",
      "2017-08-30 00:00:00\n",
      "2017-12-20 00:00:00\n",
      "Wall time: 36.1 s\n"
     ]
    }
   ],
   "source": [
    "%%time\n",
    "train_dates = list(train_x.keys())\n",
    "train_scores = []\n",
    "predict_scores = []\n",
    "\n",
    "for i, date in enumerate(train_dates):\n",
    "    if i % 15 == 0:\n",
    "        print(date)\n",
    "    x = train_x[date]\n",
    "    y = train_y[date]\n",
    "    risk = train_risk[date][:, 1:]\n",
    "    new_x = cross_product(x, risk)\n",
    "    \n",
    "    model = LogisticRegression(fit_intercept=False, features=features)\n",
    "    model.fit(new_x, y)\n",
    "    train_scores.append(model.score(new_x, y))\n",
    "    \n",
    "    p_x = predict_x[date]\n",
    "    p_y = predict_y[date]\n",
    "    p_risk = predict_risk[date][:, 1:]\n",
    "    new_p_x = cross_product(p_x, p_risk)\n",
    "    predict_scores.append(model.score(new_p_x, p_y))"
   ]
  },
  {
   "cell_type": "code",
   "execution_count": 37,
   "metadata": {},
   "outputs": [
    {
     "name": "stdout",
     "output_type": "stream",
     "text": [
      "0.568125478425\n",
      "0.517523115163\n"
     ]
    }
   ],
   "source": [
    "print(np.mean(train_scores))\n",
    "print(np.mean(predict_scores))"
   ]
  },
  {
   "cell_type": "markdown",
   "metadata": {},
   "source": [
    "## Random Forest Classifier with More Features\n",
    "-----------"
   ]
  },
  {
   "cell_type": "code",
   "execution_count": 38,
   "metadata": {},
   "outputs": [
    {
     "name": "stdout",
     "output_type": "stream",
     "text": [
      "2012-02-15 00:00:00\n",
      "2012-06-06 00:00:00\n",
      "2012-09-20 00:00:00\n",
      "2013-01-15 00:00:00\n",
      "2013-05-14 00:00:00\n",
      "2013-08-30 00:00:00\n",
      "2013-12-24 00:00:00\n",
      "2014-04-17 00:00:00\n",
      "2014-08-05 00:00:00\n",
      "2014-11-26 00:00:00\n",
      "2015-03-20 00:00:00\n",
      "2015-07-08 00:00:00\n",
      "2015-10-30 00:00:00\n",
      "2016-02-22 00:00:00\n",
      "2016-06-08 00:00:00\n",
      "2016-09-27 00:00:00\n",
      "2017-01-18 00:00:00\n",
      "2017-05-15 00:00:00\n",
      "2017-08-30 00:00:00\n",
      "2017-12-20 00:00:00\n",
      "Wall time: 14min 40s\n"
     ]
    }
   ],
   "source": [
    "%%time\n",
    "train_dates = list(train_x.keys())\n",
    "train_scores = []\n",
    "predict_scores = []\n",
    "\n",
    "for i, date in enumerate(train_dates):\n",
    "    if i % 15 == 0:\n",
    "        print(date)\n",
    "    x = train_x[date]\n",
    "    y = train_y[date]\n",
    "    risk = train_risk[date][:, 1:]\n",
    "    new_x = cross_product(x, risk)\n",
    "    \n",
    "    model = RandomForestClassifier(n_estimators=1000, max_features='sqrt', max_depth=3, n_jobs=-1)\n",
    "    model.fit(new_x, y)\n",
    "    train_scores.append(model.score(new_x, y))\n",
    "    \n",
    "    p_x = predict_x[date]\n",
    "    p_y = predict_y[date]\n",
    "    p_risk = predict_risk[date][:, 1:]\n",
    "    new_p_x = cross_product(p_x, p_risk)\n",
    "    predict_scores.append(model.score(new_p_x, p_y))"
   ]
  },
  {
   "cell_type": "code",
   "execution_count": 39,
   "metadata": {},
   "outputs": [
    {
     "name": "stdout",
     "output_type": "stream",
     "text": [
      "0.549090142483\n",
      "0.559944504146\n"
     ]
    }
   ],
   "source": [
    "print(np.mean(train_scores))\n",
    "print(np.mean(predict_scores))"
   ]
  },
  {
   "cell_type": "markdown",
   "metadata": {},
   "source": [
    "## XGBoost Classifier with More Features\n",
    "---------"
   ]
  },
  {
   "cell_type": "code",
   "execution_count": 40,
   "metadata": {},
   "outputs": [
    {
     "name": "stdout",
     "output_type": "stream",
     "text": [
      "2012-02-15 00:00:00\n",
      "2012-06-06 00:00:00\n",
      "2012-09-20 00:00:00\n",
      "2013-01-15 00:00:00\n",
      "2013-05-14 00:00:00\n",
      "2013-08-30 00:00:00\n",
      "2013-12-24 00:00:00\n",
      "2014-04-17 00:00:00\n",
      "2014-08-05 00:00:00\n",
      "2014-11-26 00:00:00\n",
      "2015-03-20 00:00:00\n",
      "2015-07-08 00:00:00\n",
      "2015-10-30 00:00:00\n",
      "2016-02-22 00:00:00\n",
      "2016-06-08 00:00:00\n",
      "2016-09-27 00:00:00\n",
      "2017-01-18 00:00:00\n",
      "2017-05-15 00:00:00\n",
      "2017-08-30 00:00:00\n",
      "2017-12-20 00:00:00\n",
      "Wall time: 12min 25s\n"
     ]
    }
   ],
   "source": [
    "%%time\n",
    "train_dates = list(train_x.keys())\n",
    "train_scores = []\n",
    "predict_scores = []\n",
    "\n",
    "for i, date in enumerate(train_dates):\n",
    "    if i % 15 == 0:\n",
    "        print(date)\n",
    "    x = train_x[date]\n",
    "    y = train_y[date]\n",
    "    risk = train_risk[date][:, 1:]\n",
    "    new_x = cross_product(x, risk)\n",
    "    \n",
    "    model = XGBClassifier(n_estimators=500,\n",
    "                         learning_rate=0.02,\n",
    "                         max_depth=3,\n",
    "                         n_jobs=-1,\n",
    "                         subsample=0.25,\n",
    "                         colsample_bytree=0.1)\n",
    "    model.fit(new_x, y)\n",
    "    train_scores.append(model.score(new_x, y))\n",
    "    \n",
    "    p_x = predict_x[date]\n",
    "    p_y = predict_y[date]\n",
    "    p_risk = predict_risk[date][:, 1:]\n",
    "    new_p_x = cross_product(p_x, p_risk)\n",
    "    predict_scores.append(model.score(new_p_x, p_y))"
   ]
  },
  {
   "cell_type": "code",
   "execution_count": 41,
   "metadata": {},
   "outputs": [
    {
     "name": "stdout",
     "output_type": "stream",
     "text": [
      "0.59375573895\n",
      "0.55230987889\n"
     ]
    }
   ],
   "source": [
    "print(np.mean(train_scores))\n",
    "print(np.mean(predict_scores))"
   ]
  },
  {
   "cell_type": "markdown",
   "metadata": {},
   "source": [
    "## Native XGBoost Classifier with More Features\n",
    "---------------"
   ]
  },
  {
   "cell_type": "code",
   "execution_count": 42,
   "metadata": {},
   "outputs": [
    {
     "name": "stdout",
     "output_type": "stream",
     "text": [
      "2012-02-15 00:00:00\n",
      "2012-06-06 00:00:00\n",
      "2012-09-20 00:00:00\n",
      "2013-01-15 00:00:00\n",
      "2013-05-14 00:00:00\n",
      "2013-08-30 00:00:00\n",
      "2013-12-24 00:00:00\n",
      "2014-04-17 00:00:00\n",
      "2014-08-05 00:00:00\n",
      "2014-11-26 00:00:00\n",
      "2015-03-20 00:00:00\n",
      "2015-07-08 00:00:00\n",
      "2015-10-30 00:00:00\n",
      "2016-02-22 00:00:00\n",
      "2016-06-08 00:00:00\n",
      "2016-09-27 00:00:00\n",
      "2017-01-18 00:00:00\n",
      "2017-05-15 00:00:00\n",
      "2017-08-30 00:00:00\n",
      "2017-12-20 00:00:00\n",
      "Wall time: 5min 23s\n"
     ]
    }
   ],
   "source": [
    "%%time\n",
    "train_dates = list(train_x.keys())\n",
    "train_scores = []\n",
    "predict_scores = []\n",
    "\n",
    "for i, date in enumerate(train_dates):\n",
    "    if i % 15 == 0:\n",
    "        print(date)\n",
    "    x = train_x[date]\n",
    "    y = train_y[date]\n",
    "    risk = train_risk[date][:, 1:]\n",
    "    new_x = cross_product(x, risk)\n",
    "    \n",
    "    x_train, x_eval, y_train, y_eval = train_test_split(new_x, y, test_size=0.33, random_state=42)\n",
    "    \n",
    "    dtrain = xgb.DMatrix(x_train, y_train)\n",
    "    deval = xgb.DMatrix(x_eval, y_eval)\n",
    "    param = {'silent': 1,\n",
    "             'objective': 'binary:logistic',\n",
    "             'max_depth': 3,\n",
    "             'eta': 0.01,\n",
    "             'booster': 'dart',\n",
    "             'tree_method': 'hist',\n",
    "             'subsample': 0.25,\n",
    "             'colsample_bytree': 0.5}\n",
    "    num_round = 2000\n",
    "    model = xgb.train(param, dtrain, num_round, evals=[(deval, 'eval')], early_stopping_rounds=50, verbose_eval=False)\n",
    "    \n",
    "    y_train_predict = model.predict(dtrain)\n",
    "    label = dtrain.get_label()\n",
    "    train_score = np.sum((y_train_predict > 0.5) == label) / float(len(label))\n",
    "\n",
    "    train_scores.append(train_score)\n",
    "    \n",
    "    p_x = predict_x[date]\n",
    "    p_y = predict_y[date]\n",
    "    p_risk = predict_risk[date][:, 1:]\n",
    "    new_p_x = cross_product(p_x, p_risk)\n",
    "    dtest = xgb.DMatrix(new_p_x, p_y)\n",
    "    \n",
    "    y_test_predict = model.predict(dtest)\n",
    "    p_label = dtest.get_label()\n",
    "    test_score = np.sum((y_test_predict > 0.5) == p_label) / float(len(p_label))\n",
    "    predict_scores.append(test_score)"
   ]
  },
  {
   "cell_type": "code",
   "execution_count": 43,
   "metadata": {},
   "outputs": [
    {
     "name": "stdout",
     "output_type": "stream",
     "text": [
      "0.560057712549\n",
      "0.552663472836\n"
     ]
    }
   ],
   "source": [
    "print(np.mean(train_scores))\n",
    "print(np.mean(predict_scores))"
   ]
  },
  {
   "cell_type": "code",
   "execution_count": null,
   "metadata": {
    "collapsed": true
   },
   "outputs": [],
   "source": []
  }
 ],
 "metadata": {
  "kernelspec": {
   "display_name": "Python 3",
   "language": "python",
   "name": "python3"
  },
  "language_info": {
   "codemirror_mode": {
    "name": "ipython",
    "version": 3
   },
   "file_extension": ".py",
   "mimetype": "text/x-python",
   "name": "python",
   "nbconvert_exporter": "python",
   "pygments_lexer": "ipython3",
   "version": "3.6.3"
  }
 },
 "nbformat": 4,
 "nbformat_minor": 2
}
