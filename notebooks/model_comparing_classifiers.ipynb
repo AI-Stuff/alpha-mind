{
 "cells": [
  {
   "cell_type": "code",
   "execution_count": 1,
   "metadata": {
    "collapsed": true
   },
   "outputs": [],
   "source": [
    "%matplotlib inline\n",
    "import numpy as np\n",
    "from alphamind.api import *\n",
    "from PyFin.api import *\n",
    "\n",
    "engine = SqlEngine()"
   ]
  },
  {
   "cell_type": "code",
   "execution_count": 2,
   "metadata": {
    "collapsed": true
   },
   "outputs": [],
   "source": [
    "start_date = '2012-01-01'\n",
    "end_date = '2017-12-31'\n",
    "\n",
    "features = ['roe_q',\n",
    "            'ep_q',\n",
    "            'DivP',\n",
    "            'cfinc1_q',\n",
    "            'EBIT',\n",
    "            'EARNYILD',\n",
    "            'EPIBS']\n",
    "\n",
    "freq = '5b'\n",
    "batch = 16\n",
    "universe = Universe('custom', ['zz500', 'hs300'])\n",
    "benchmark = 905\n",
    "neutralized_risk = ['SIZE'] + industry_styles\n",
    "horizon = map_freq(freq)"
   ]
  },
  {
   "cell_type": "code",
   "execution_count": 3,
   "metadata": {},
   "outputs": [
    {
     "name": "stderr",
     "output_type": "stream",
     "text": [
      "2018-01-08 16:54:05,618 - ALPHA_MIND - INFO - Starting data package fetching ...\n",
      "2018-01-08 16:54:15,904 - ALPHA_MIND - INFO - factor data loading finished\n",
      "2018-01-08 16:54:26,575 - ALPHA_MIND - INFO - return data loading finished\n",
      "2018-01-08 16:54:27,944 - ALPHA_MIND - INFO - industry data loading finished\n",
      "2018-01-08 16:54:28,634 - ALPHA_MIND - INFO - benchmark data loading finished\n",
      "2018-01-08 16:54:41,966 - ALPHA_MIND - INFO - risk data loading finished\n",
      "2018-01-08 16:54:45,557 - ALPHA_MIND - INFO - data merging finished\n",
      "2018-01-08 16:54:48,150 - ALPHA_MIND - INFO - Loading data is finished\n",
      "2018-01-08 16:54:59,541 - ALPHA_MIND - INFO - Data processing is finished\n"
     ]
    },
    {
     "name": "stdout",
     "output_type": "stream",
     "text": [
      "Wall time: 53.9 s\n"
     ]
    }
   ],
   "source": [
    "%%time\n",
    "factor_data = fetch_data_package(engine,\n",
    "                                 features,\n",
    "                                 start_date,\n",
    "                                 end_date,\n",
    "                                 '5b',\n",
    "                                 universe,\n",
    "                                 benchmark,\n",
    "                                 batch=batch,\n",
    "                                 warm_start=batch,\n",
    "                                 neutralized_risk=neutralized_risk, \n",
    "                                 pre_process=[winsorize_normal, standardize],\n",
    "                                 post_process=[winsorize_normal, standardize])"
   ]
  },
  {
   "cell_type": "code",
   "execution_count": 4,
   "metadata": {
    "collapsed": true
   },
   "outputs": [],
   "source": [
    "features = factor_data['x_names']\n",
    "\n",
    "train_x = factor_data['train']['x']\n",
    "train_y = factor_data['train']['y']\n",
    "train_risk = factor_data['train']['risk']\n",
    "ref_dates = sorted(train_x.keys())\n",
    "\n",
    "predict_x = factor_data['predict']['x']\n",
    "predict_y = factor_data['predict']['y']\n",
    "predict_risk = factor_data['predict']['risk']\n",
    "settlement = factor_data['settlement']"
   ]
  },
  {
   "cell_type": "code",
   "execution_count": 5,
   "metadata": {},
   "outputs": [],
   "source": [
    "for key, val in train_y.items():\n",
    "    train_y[key] = np.where(val > 0., 1, 0)\n",
    "    \n",
    "for key, val in predict_y.items():\n",
    "    predict_y[key] = np.where(val > 0., 1, 0)"
   ]
  },
  {
   "cell_type": "markdown",
   "metadata": {},
   "source": [
    "## Logistic Regression\n",
    "--------------"
   ]
  },
  {
   "cell_type": "code",
   "execution_count": 6,
   "metadata": {},
   "outputs": [
    {
     "name": "stdout",
     "output_type": "stream",
     "text": [
      "2012-02-15 00:00:00\n",
      "2012-06-06 00:00:00\n",
      "2012-09-20 00:00:00\n",
      "2013-01-15 00:00:00\n",
      "2013-05-14 00:00:00\n",
      "2013-08-30 00:00:00\n",
      "2013-12-24 00:00:00\n",
      "2014-04-17 00:00:00\n",
      "2014-08-05 00:00:00\n",
      "2014-11-26 00:00:00\n",
      "2015-03-20 00:00:00\n",
      "2015-07-08 00:00:00\n",
      "2015-10-30 00:00:00\n",
      "2016-02-22 00:00:00\n",
      "2016-06-08 00:00:00\n",
      "2016-09-27 00:00:00\n",
      "2017-01-18 00:00:00\n",
      "2017-05-15 00:00:00\n",
      "2017-08-30 00:00:00\n",
      "2017-12-20 00:00:00\n",
      "Wall time: 6.92 s\n"
     ]
    }
   ],
   "source": [
    "%%time\n",
    "train_dates = list(train_x.keys())\n",
    "train_scores = []\n",
    "predict_scores = []\n",
    "\n",
    "for i, date in enumerate(train_dates):\n",
    "    if i % 15 == 0:\n",
    "        print(date)\n",
    "    x = train_x[date]\n",
    "    y = train_y[date]\n",
    "    \n",
    "    model = LogisticRegression(fit_intercept=False, features=features)\n",
    "    model.fit(x, y)\n",
    "    train_scores.append(model.score(x, y))\n",
    "    \n",
    "    p_x = predict_x[date]\n",
    "    p_y = predict_y[date]\n",
    "    predict_scores.append(model.score(p_x, p_y))"
   ]
  },
  {
   "cell_type": "code",
   "execution_count": 7,
   "metadata": {},
   "outputs": [
    {
     "name": "stdout",
     "output_type": "stream",
     "text": [
      "0.54106394519\n",
      "0.519270440032\n"
     ]
    }
   ],
   "source": [
    "print(np.mean(train_scores))\n",
    "print(np.mean(predict_scores))"
   ]
  },
  {
   "cell_type": "markdown",
   "metadata": {},
   "source": [
    "## Random Forest Classifier\n",
    "-----------"
   ]
  },
  {
   "cell_type": "code",
   "execution_count": 21,
   "metadata": {},
   "outputs": [
    {
     "name": "stdout",
     "output_type": "stream",
     "text": [
      "2012-02-15 00:00:00\n",
      "2012-06-06 00:00:00\n",
      "2012-09-20 00:00:00\n",
      "2013-01-15 00:00:00\n",
      "2013-05-14 00:00:00\n",
      "2013-08-30 00:00:00\n",
      "2013-12-24 00:00:00\n",
      "2014-04-17 00:00:00\n",
      "2014-08-05 00:00:00\n",
      "2014-11-26 00:00:00\n",
      "2015-03-20 00:00:00\n",
      "2015-07-08 00:00:00\n",
      "2015-10-30 00:00:00\n",
      "2016-02-22 00:00:00\n",
      "2016-06-08 00:00:00\n",
      "2016-09-27 00:00:00\n",
      "2017-01-18 00:00:00\n",
      "2017-05-15 00:00:00\n",
      "2017-08-30 00:00:00\n",
      "2017-12-20 00:00:00\n",
      "Wall time: 17min 2s\n"
     ]
    }
   ],
   "source": [
    "%%time\n",
    "train_dates = list(train_x.keys())\n",
    "train_scores = []\n",
    "predict_scores = []\n",
    "\n",
    "for i, date in enumerate(train_dates):\n",
    "    if i % 15 == 0:\n",
    "        print(date)\n",
    "    x = train_x[date]\n",
    "    y = train_y[date]\n",
    "    \n",
    "    model = RandomForestClassifier(n_estimators=1000, max_features='sqrt', max_depth=3, n_jobs=-1)\n",
    "    model.fit(x, y)\n",
    "    train_scores.append(model.score(x, y))\n",
    "    \n",
    "    p_x = predict_x[date]\n",
    "    p_y = predict_y[date]\n",
    "    predict_scores.append(model.score(p_x, p_y))"
   ]
  },
  {
   "cell_type": "code",
   "execution_count": 22,
   "metadata": {},
   "outputs": [
    {
     "name": "stdout",
     "output_type": "stream",
     "text": [
      "0.557667621301\n",
      "0.554107283453\n"
     ]
    }
   ],
   "source": [
    "print(np.mean(train_scores))\n",
    "print(np.mean(predict_scores))"
   ]
  },
  {
   "cell_type": "markdown",
   "metadata": {},
   "source": [
    "## XGBoost Classifier\n",
    "---------"
   ]
  },
  {
   "cell_type": "code",
   "execution_count": 10,
   "metadata": {},
   "outputs": [
    {
     "name": "stdout",
     "output_type": "stream",
     "text": [
      "2012-02-15 00:00:00\n",
      "2012-06-06 00:00:00\n",
      "2012-09-20 00:00:00\n",
      "2013-01-15 00:00:00\n",
      "2013-05-14 00:00:00\n",
      "2013-08-30 00:00:00\n",
      "2013-12-24 00:00:00\n",
      "2014-04-17 00:00:00\n",
      "2014-08-05 00:00:00\n",
      "2014-11-26 00:00:00\n",
      "2015-03-20 00:00:00\n",
      "2015-07-08 00:00:00\n",
      "2015-10-30 00:00:00\n",
      "2016-02-22 00:00:00\n",
      "2016-06-08 00:00:00\n",
      "2016-09-27 00:00:00\n",
      "2017-01-18 00:00:00\n",
      "2017-05-15 00:00:00\n",
      "2017-08-30 00:00:00\n",
      "2017-12-20 00:00:00\n",
      "Wall time: 4min 33s\n"
     ]
    }
   ],
   "source": [
    "%%time\n",
    "train_dates = list(train_x.keys())\n",
    "train_scores = []\n",
    "predict_scores = []\n",
    "\n",
    "for i, date in enumerate(train_dates):\n",
    "    if i % 15 == 0:\n",
    "        print(date)\n",
    "    x = train_x[date]\n",
    "    y = train_y[date]\n",
    "    \n",
    "    model = XGBClassifier(n_estimators=500,\n",
    "                         learning_rate=0.02,\n",
    "                         max_depth=3,\n",
    "                         n_jobs=-1,\n",
    "                         subsample=0.25,\n",
    "                         colsample_bytree=0.5)\n",
    "    model.fit(x, y)\n",
    "    train_scores.append(model.score(x, y))\n",
    "    \n",
    "    p_x = predict_x[date]\n",
    "    p_y = predict_y[date]\n",
    "    predict_scores.append(model.score(p_x, p_y))"
   ]
  },
  {
   "cell_type": "code",
   "execution_count": 11,
   "metadata": {},
   "outputs": [
    {
     "name": "stdout",
     "output_type": "stream",
     "text": [
      "0.612408578757\n",
      "0.543523900352\n"
     ]
    }
   ],
   "source": [
    "print(np.mean(train_scores))\n",
    "print(np.mean(predict_scores))"
   ]
  },
  {
   "cell_type": "markdown",
   "metadata": {},
   "source": [
    "## Logistic Regression with More Features\n",
    "-----------------"
   ]
  },
  {
   "cell_type": "code",
   "execution_count": 12,
   "metadata": {
    "collapsed": true
   },
   "outputs": [],
   "source": [
    "def cross_product(x, y):\n",
    "    n, m = x.shape\n",
    "    res = []\n",
    "    \n",
    "    for j in range(m):\n",
    "        res.append(x[:, [j]] * y)\n",
    "        \n",
    "    return np.concatenate(res, axis=1)"
   ]
  },
  {
   "cell_type": "code",
   "execution_count": 13,
   "metadata": {},
   "outputs": [
    {
     "name": "stdout",
     "output_type": "stream",
     "text": [
      "2012-02-15 00:00:00\n",
      "2012-06-06 00:00:00\n",
      "2012-09-20 00:00:00\n",
      "2013-01-15 00:00:00\n",
      "2013-05-14 00:00:00\n",
      "2013-08-30 00:00:00\n",
      "2013-12-24 00:00:00\n",
      "2014-04-17 00:00:00\n",
      "2014-08-05 00:00:00\n",
      "2014-11-26 00:00:00\n",
      "2015-03-20 00:00:00\n",
      "2015-07-08 00:00:00\n",
      "2015-10-30 00:00:00\n",
      "2016-02-22 00:00:00\n",
      "2016-06-08 00:00:00\n",
      "2016-09-27 00:00:00\n",
      "2017-01-18 00:00:00\n",
      "2017-05-15 00:00:00\n",
      "2017-08-30 00:00:00\n",
      "2017-12-20 00:00:00\n",
      "Wall time: 26.7 s\n"
     ]
    }
   ],
   "source": [
    "%%time\n",
    "train_dates = list(train_x.keys())\n",
    "train_scores = []\n",
    "predict_scores = []\n",
    "\n",
    "for i, date in enumerate(train_dates):\n",
    "    if i % 15 == 0:\n",
    "        print(date)\n",
    "    x = train_x[date]\n",
    "    y = train_y[date]\n",
    "    risk = train_risk[date][:, 1:]\n",
    "    new_x = cross_product(x, risk)\n",
    "    \n",
    "    model = LogisticRegression(fit_intercept=False, features=features)\n",
    "    model.fit(new_x, y)\n",
    "    train_scores.append(model.score(new_x, y))\n",
    "    \n",
    "    p_x = predict_x[date]\n",
    "    p_y = predict_y[date]\n",
    "    p_risk = predict_risk[date][:, 1:]\n",
    "    new_p_x = cross_product(p_x, p_risk)\n",
    "    predict_scores.append(model.score(new_p_x, p_y))"
   ]
  },
  {
   "cell_type": "code",
   "execution_count": 14,
   "metadata": {},
   "outputs": [
    {
     "name": "stdout",
     "output_type": "stream",
     "text": [
      "0.568151341668\n",
      "0.517317353974\n"
     ]
    }
   ],
   "source": [
    "print(np.mean(train_scores))\n",
    "print(np.mean(predict_scores))"
   ]
  },
  {
   "cell_type": "markdown",
   "metadata": {},
   "source": [
    "## Random Forest Classifier with More Features\n",
    "-----------"
   ]
  },
  {
   "cell_type": "code",
   "execution_count": 19,
   "metadata": {},
   "outputs": [
    {
     "name": "stdout",
     "output_type": "stream",
     "text": [
      "2012-02-15 00:00:00\n",
      "2012-06-06 00:00:00\n",
      "2012-09-20 00:00:00\n",
      "2013-01-15 00:00:00\n",
      "2013-05-14 00:00:00\n",
      "2013-08-30 00:00:00\n",
      "2013-12-24 00:00:00\n",
      "2014-04-17 00:00:00\n",
      "2014-08-05 00:00:00\n",
      "2014-11-26 00:00:00\n",
      "2015-03-20 00:00:00\n",
      "2015-07-08 00:00:00\n",
      "2015-10-30 00:00:00\n",
      "2016-02-22 00:00:00\n",
      "2016-06-08 00:00:00\n",
      "2016-09-27 00:00:00\n",
      "2017-01-18 00:00:00\n",
      "2017-05-15 00:00:00\n",
      "2017-08-30 00:00:00\n",
      "2017-12-20 00:00:00\n",
      "Wall time: 12min 2s\n"
     ]
    }
   ],
   "source": [
    "%%time\n",
    "train_dates = list(train_x.keys())\n",
    "train_scores = []\n",
    "predict_scores = []\n",
    "\n",
    "for i, date in enumerate(train_dates):\n",
    "    if i % 15 == 0:\n",
    "        print(date)\n",
    "    x = train_x[date]\n",
    "    y = train_y[date]\n",
    "    risk = train_risk[date][:, 1:]\n",
    "    new_x = cross_product(x, risk)\n",
    "    \n",
    "    model = RandomForestClassifier(n_estimators=1000, max_features='sqrt', max_depth=3, n_jobs=-1)\n",
    "    model.fit(new_x, y)\n",
    "    train_scores.append(model.score(new_x, y))\n",
    "    \n",
    "    p_x = predict_x[date]\n",
    "    p_y = predict_y[date]\n",
    "    p_risk = predict_risk[date][:, 1:]\n",
    "    new_p_x = cross_product(p_x, p_risk)\n",
    "    predict_scores.append(model.score(new_p_x, p_y))"
   ]
  },
  {
   "cell_type": "code",
   "execution_count": 20,
   "metadata": {},
   "outputs": [
    {
     "name": "stdout",
     "output_type": "stream",
     "text": [
      "0.549010335268\n",
      "0.56003282178\n"
     ]
    }
   ],
   "source": [
    "print(np.mean(train_scores))\n",
    "print(np.mean(predict_scores))"
   ]
  },
  {
   "cell_type": "markdown",
   "metadata": {},
   "source": [
    "## XGBoost Classifier with More Features\n",
    "---------"
   ]
  },
  {
   "cell_type": "code",
   "execution_count": 17,
   "metadata": {},
   "outputs": [
    {
     "name": "stdout",
     "output_type": "stream",
     "text": [
      "2012-02-15 00:00:00\n",
      "2012-06-06 00:00:00\n",
      "2012-09-20 00:00:00\n",
      "2013-01-15 00:00:00\n",
      "2013-05-14 00:00:00\n",
      "2013-08-30 00:00:00\n",
      "2013-12-24 00:00:00\n",
      "2014-04-17 00:00:00\n",
      "2014-08-05 00:00:00\n",
      "2014-11-26 00:00:00\n",
      "2015-03-20 00:00:00\n",
      "2015-07-08 00:00:00\n",
      "2015-10-30 00:00:00\n",
      "2016-02-22 00:00:00\n",
      "2016-06-08 00:00:00\n",
      "2016-09-27 00:00:00\n",
      "2017-01-18 00:00:00\n",
      "2017-05-15 00:00:00\n",
      "2017-08-30 00:00:00\n",
      "2017-12-20 00:00:00\n",
      "Wall time: 17min 2s\n"
     ]
    }
   ],
   "source": [
    "%%time\n",
    "train_dates = list(train_x.keys())\n",
    "train_scores = []\n",
    "predict_scores = []\n",
    "\n",
    "for i, date in enumerate(train_dates):\n",
    "    if i % 15 == 0:\n",
    "        print(date)\n",
    "    x = train_x[date]\n",
    "    y = train_y[date]\n",
    "    risk = train_risk[date][:, 1:]\n",
    "    new_x = cross_product(x, risk)\n",
    "    \n",
    "    model = XGBClassifier(n_estimators=500,\n",
    "                         learning_rate=0.02,\n",
    "                         max_depth=3,\n",
    "                         n_jobs=-1,\n",
    "                         subsample=0.25,\n",
    "                         colsample_bytree=0.1)\n",
    "    model.fit(new_x, y)\n",
    "    train_scores.append(model.score(new_x, y))\n",
    "    \n",
    "    p_x = predict_x[date]\n",
    "    p_y = predict_y[date]\n",
    "    p_risk = predict_risk[date][:, 1:]\n",
    "    new_p_x = cross_product(p_x, p_risk)\n",
    "    predict_scores.append(model.score(new_p_x, p_y))"
   ]
  },
  {
   "cell_type": "code",
   "execution_count": 18,
   "metadata": {},
   "outputs": [
    {
     "name": "stdout",
     "output_type": "stream",
     "text": [
      "0.593739136739\n",
      "0.552533996977\n"
     ]
    }
   ],
   "source": [
    "print(np.mean(train_scores))\n",
    "print(np.mean(predict_scores))"
   ]
  },
  {
   "cell_type": "code",
   "execution_count": null,
   "metadata": {
    "collapsed": true
   },
   "outputs": [],
   "source": []
  }
 ],
 "metadata": {
  "kernelspec": {
   "display_name": "Python 3",
   "language": "python",
   "name": "python3"
  },
  "language_info": {
   "codemirror_mode": {
    "name": "ipython",
    "version": 3
   },
   "file_extension": ".py",
   "mimetype": "text/x-python",
   "name": "python",
   "nbconvert_exporter": "python",
   "pygments_lexer": "ipython3",
   "version": "3.6.3"
  }
 },
 "nbformat": 4,
 "nbformat_minor": 2
}
