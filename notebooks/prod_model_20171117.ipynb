{
 "cells": [
  {
   "cell_type": "code",
   "execution_count": 1,
   "metadata": {
    "collapsed": true
   },
   "outputs": [],
   "source": [
    "%matplotlib inline\n",
    "import numpy as np\n",
    "import pandas as pd\n",
    "from matplotlib import pyplot as plt\n",
    "from alphamind.api import *\n",
    "from PyFin.api import *\n",
    "from PyFin.Math.Accumulators.StatefulAccumulators import MovingAverage\n",
    "from PyFin.Math.Accumulators.StatefulAccumulators import MovingSharp\n",
    "from PyFin.Math.Accumulators.StatefulAccumulators import MovingMaxDrawdown\n",
    "\n",
    "plt.style.use('ggplot')"
   ]
  },
  {
   "cell_type": "code",
   "execution_count": 2,
   "metadata": {
    "collapsed": true
   },
   "outputs": [],
   "source": [
    "\"\"\"\n",
    "Back test parameter settings\n",
    "\"\"\"\n",
    "\n",
    "start_date = '2012-01-01'\n",
    "end_date = '2018-01-02'\n",
    "benchmark_code = 905\n",
    "universe_name = ['zz500', 'hs300']\n",
    "universe = Universe(universe_name, universe_name)\n",
    "frequency = '5b'\n",
    "batch = 8\n",
    "method = 'risk_neutral'\n",
    "use_rank = 100\n",
    "industry_lower = 1.\n",
    "industry_upper = 1.\n",
    "neutralize_risk = ['SIZE'] + industry_styles\n",
    "constraint_risk = ['SIZE'] + industry_styles\n",
    "size_risk_lower = 0\n",
    "size_risk_upper = 0\n",
    "turn_over_target_base = 0.25\n",
    "weight_gaps = [0.01]\n",
    "benchmark_total_lower = 0.8\n",
    "benchmark_total_upper = 1.\n",
    "horizon = map_freq(frequency)\n",
    "hedging_ratio = 0.\n",
    "\n",
    "executor = NaiveExecutor()"
   ]
  },
  {
   "cell_type": "code",
   "execution_count": 3,
   "metadata": {
    "collapsed": true
   },
   "outputs": [],
   "source": [
    "\"\"\"\n",
    "Model phase: we need 1 constant linear model and one alpha model\n",
    "\"\"\"\n",
    "\n",
    "# const_features = [\"IVR\", \"eps_q\", \"DivP\", \"CFinc1\", \"BDTO\"]\n",
    "\n",
    "const_features = {\n",
    "    'IVR_raw': LAST('IVR'),\n",
    "    'DivP_raw': LAST('DivP'),\n",
    "    'eps_q_raw': LAST('eps_q'),\n",
    "    'CFinc1_raw': LAST('CFinc1'),\n",
    "    'BDTO_raw': LAST('BDTO')\n",
    "}\n",
    "\n",
    "const_features_keys = list(const_features.keys())\n",
    "\n",
    "const_weights = pd.Series([0.05, 0.2, 0.075, 0.15, 0.05],\n",
    "                          index=['IVR_raw',\n",
    "                                 'eps_q_raw',\n",
    "                                 'DivP_raw',\n",
    "                                 'CFinc1_raw',\n",
    "                                 'BDTO_raw'])\n",
    "\n",
    "const_weights = const_weights[const_features_keys].values\n",
    "\n",
    "const_model = ConstLinearModel(features=const_features_keys,\n",
    "                               weights=const_weights)\n",
    "\n",
    "linear_model_features = {\n",
    "    'roe_q_raw': LAST('roe_q'),\n",
    "    'BDTO_raw': LAST('BDTO'),\n",
    "    'CFinc1_raw': LAST('CFinc1'),\n",
    "    'CHV_raw': LAST('CHV'),\n",
    "    'IVR_raw': LAST('IVR'),\n",
    "    'VAL_raw': LAST('VAL'),\n",
    "    'GREV_raw': LAST('GREV')\n",
    "}\n",
    "\n",
    "total_features = {\n",
    "    'IVR_raw': LAST('IVR'),\n",
    "    'DivP_raw': LAST('DivP'),\n",
    "    'CFinc1_raw': LAST('CFinc1'),\n",
    "    'BDTO_raw': LAST('BDTO'),\n",
    "    'eps_q_raw': LAST('eps_q'),\n",
    "    'roe_q_raw': LAST('roe_q'),\n",
    "    'CHV_raw': LAST('CHV'),\n",
    "    'VAL_raw': LAST('IVR'),\n",
    "    'GREV_raw': LAST('GREV')\n",
    "}\n",
    "\n",
    "total_features_keys = list(total_features.keys())"
   ]
  },
  {
   "cell_type": "code",
   "execution_count": 4,
   "metadata": {},
   "outputs": [
    {
     "name": "stderr",
     "output_type": "stream",
     "text": [
      "2018-01-03 16:22:49,660 - ALPHA_MIND - INFO - Starting data package fetching ...\n",
      "2018-01-03 16:23:38,398 - ALPHA_MIND - INFO - Loading data is finished\n",
      "2018-01-03 16:23:41,677 - ALPHA_MIND - INFO - Data processing is finished\n"
     ]
    }
   ],
   "source": [
    "\"\"\"\n",
    "Data phase\n",
    "\"\"\"\n",
    "\n",
    "engine = SqlEngine()\n",
    "\n",
    "linear_model_factor_data = fetch_data_package(engine,\n",
    "                                              alpha_factors=linear_model_features,\n",
    "                                              start_date=start_date,\n",
    "                                              end_date=end_date,\n",
    "                                              frequency=frequency,\n",
    "                                              universe=universe,\n",
    "                                              benchmark=benchmark_code,\n",
    "                                              batch=batch,\n",
    "                                              neutralized_risk=neutralize_risk,\n",
    "                                              pre_process=[winsorize_normal, standardize],\n",
    "                                              post_process=[winsorize_normal, standardize],\n",
    "                                              warm_start=batch)\n",
    "\n",
    "linear_model_features_keys = linear_model_factor_data['x_names']\n",
    "\n",
    "train_x = linear_model_factor_data['train']['x']\n",
    "train_y = linear_model_factor_data['train']['y']\n",
    "ref_dates = sorted(train_x.keys())\n",
    "\n",
    "predict_x = linear_model_factor_data['predict']['x']\n",
    "predict_y = linear_model_factor_data['predict']['y']\n",
    "settlement = linear_model_factor_data['settlement']\n"
   ]
  },
  {
   "cell_type": "code",
   "execution_count": 5,
   "metadata": {},
   "outputs": [
    {
     "name": "stderr",
     "output_type": "stream",
     "text": [
      "2018-01-03 16:23:41,783 - ALPHA_MIND - INFO - trade_date: 2012-02-08 00:00:00 training finished\n",
      "2018-01-03 16:23:41,788 - ALPHA_MIND - INFO - trade_date: 2012-02-15 00:00:00 training finished\n",
      "2018-01-03 16:23:41,793 - ALPHA_MIND - INFO - trade_date: 2012-02-22 00:00:00 training finished\n",
      "2018-01-03 16:23:41,799 - ALPHA_MIND - INFO - trade_date: 2012-02-29 00:00:00 training finished\n",
      "2018-01-03 16:23:41,804 - ALPHA_MIND - INFO - trade_date: 2012-03-07 00:00:00 training finished\n",
      "2018-01-03 16:23:41,810 - ALPHA_MIND - INFO - trade_date: 2012-03-14 00:00:00 training finished\n",
      "2018-01-03 16:23:41,815 - ALPHA_MIND - INFO - trade_date: 2012-03-21 00:00:00 training finished\n",
      "2018-01-03 16:23:41,821 - ALPHA_MIND - INFO - trade_date: 2012-03-28 00:00:00 training finished\n",
      "2018-01-03 16:23:41,825 - ALPHA_MIND - INFO - trade_date: 2012-04-09 00:00:00 training finished\n",
      "2018-01-03 16:23:41,829 - ALPHA_MIND - INFO - trade_date: 2012-04-16 00:00:00 training finished\n",
      "2018-01-03 16:23:41,834 - ALPHA_MIND - INFO - trade_date: 2012-04-23 00:00:00 training finished\n",
      "2018-01-03 16:23:41,839 - ALPHA_MIND - INFO - trade_date: 2012-05-02 00:00:00 training finished\n",
      "2018-01-03 16:23:41,843 - ALPHA_MIND - INFO - trade_date: 2012-05-09 00:00:00 training finished\n",
      "2018-01-03 16:23:41,847 - ALPHA_MIND - INFO - trade_date: 2012-05-16 00:00:00 training finished\n",
      "2018-01-03 16:23:41,853 - ALPHA_MIND - INFO - trade_date: 2012-05-23 00:00:00 training finished\n",
      "2018-01-03 16:23:41,857 - ALPHA_MIND - INFO - trade_date: 2012-05-30 00:00:00 training finished\n",
      "2018-01-03 16:23:41,861 - ALPHA_MIND - INFO - trade_date: 2012-06-06 00:00:00 training finished\n",
      "2018-01-03 16:23:41,864 - ALPHA_MIND - INFO - trade_date: 2012-06-13 00:00:00 training finished\n",
      "2018-01-03 16:23:41,870 - ALPHA_MIND - INFO - trade_date: 2012-06-20 00:00:00 training finished\n",
      "2018-01-03 16:23:41,874 - ALPHA_MIND - INFO - trade_date: 2012-06-28 00:00:00 training finished\n",
      "2018-01-03 16:23:41,879 - ALPHA_MIND - INFO - trade_date: 2012-07-05 00:00:00 training finished\n",
      "2018-01-03 16:23:41,883 - ALPHA_MIND - INFO - trade_date: 2012-07-12 00:00:00 training finished\n",
      "2018-01-03 16:23:41,889 - ALPHA_MIND - INFO - trade_date: 2012-07-19 00:00:00 training finished\n",
      "2018-01-03 16:23:41,892 - ALPHA_MIND - INFO - trade_date: 2012-07-26 00:00:00 training finished\n",
      "2018-01-03 16:23:41,896 - ALPHA_MIND - INFO - trade_date: 2012-08-02 00:00:00 training finished\n",
      "2018-01-03 16:23:41,900 - ALPHA_MIND - INFO - trade_date: 2012-08-09 00:00:00 training finished\n",
      "2018-01-03 16:23:41,904 - ALPHA_MIND - INFO - trade_date: 2012-08-16 00:00:00 training finished\n",
      "2018-01-03 16:23:41,910 - ALPHA_MIND - INFO - trade_date: 2012-08-23 00:00:00 training finished\n",
      "2018-01-03 16:23:41,916 - ALPHA_MIND - INFO - trade_date: 2012-08-30 00:00:00 training finished\n",
      "2018-01-03 16:23:41,923 - ALPHA_MIND - INFO - trade_date: 2012-09-06 00:00:00 training finished\n",
      "2018-01-03 16:23:41,927 - ALPHA_MIND - INFO - trade_date: 2012-09-13 00:00:00 training finished\n",
      "2018-01-03 16:23:41,932 - ALPHA_MIND - INFO - trade_date: 2012-09-20 00:00:00 training finished\n",
      "2018-01-03 16:23:41,936 - ALPHA_MIND - INFO - trade_date: 2012-09-27 00:00:00 training finished\n",
      "2018-01-03 16:23:41,940 - ALPHA_MIND - INFO - trade_date: 2012-10-11 00:00:00 training finished\n",
      "2018-01-03 16:23:41,943 - ALPHA_MIND - INFO - trade_date: 2012-10-18 00:00:00 training finished\n",
      "2018-01-03 16:23:41,947 - ALPHA_MIND - INFO - trade_date: 2012-10-25 00:00:00 training finished\n",
      "2018-01-03 16:23:41,952 - ALPHA_MIND - INFO - trade_date: 2012-11-01 00:00:00 training finished\n",
      "2018-01-03 16:23:41,958 - ALPHA_MIND - INFO - trade_date: 2012-11-08 00:00:00 training finished\n",
      "2018-01-03 16:23:41,963 - ALPHA_MIND - INFO - trade_date: 2012-11-15 00:00:00 training finished\n",
      "2018-01-03 16:23:41,967 - ALPHA_MIND - INFO - trade_date: 2012-11-22 00:00:00 training finished\n",
      "2018-01-03 16:23:41,970 - ALPHA_MIND - INFO - trade_date: 2012-11-29 00:00:00 training finished\n",
      "2018-01-03 16:23:41,974 - ALPHA_MIND - INFO - trade_date: 2012-12-06 00:00:00 training finished\n",
      "2018-01-03 16:23:41,979 - ALPHA_MIND - INFO - trade_date: 2012-12-13 00:00:00 training finished\n",
      "2018-01-03 16:23:41,983 - ALPHA_MIND - INFO - trade_date: 2012-12-20 00:00:00 training finished\n",
      "2018-01-03 16:23:41,988 - ALPHA_MIND - INFO - trade_date: 2012-12-27 00:00:00 training finished\n",
      "2018-01-03 16:23:41,993 - ALPHA_MIND - INFO - trade_date: 2013-01-08 00:00:00 training finished\n",
      "2018-01-03 16:23:41,997 - ALPHA_MIND - INFO - trade_date: 2013-01-15 00:00:00 training finished\n",
      "2018-01-03 16:23:42,002 - ALPHA_MIND - INFO - trade_date: 2013-01-22 00:00:00 training finished\n",
      "2018-01-03 16:23:42,007 - ALPHA_MIND - INFO - trade_date: 2013-01-29 00:00:00 training finished\n",
      "2018-01-03 16:23:42,011 - ALPHA_MIND - INFO - trade_date: 2013-02-05 00:00:00 training finished\n",
      "2018-01-03 16:23:42,015 - ALPHA_MIND - INFO - trade_date: 2013-02-19 00:00:00 training finished\n",
      "2018-01-03 16:23:42,020 - ALPHA_MIND - INFO - trade_date: 2013-02-26 00:00:00 training finished\n",
      "2018-01-03 16:23:42,026 - ALPHA_MIND - INFO - trade_date: 2013-03-05 00:00:00 training finished\n",
      "2018-01-03 16:23:42,031 - ALPHA_MIND - INFO - trade_date: 2013-03-12 00:00:00 training finished\n",
      "2018-01-03 16:23:42,039 - ALPHA_MIND - INFO - trade_date: 2013-03-19 00:00:00 training finished\n",
      "2018-01-03 16:23:42,043 - ALPHA_MIND - INFO - trade_date: 2013-03-26 00:00:00 training finished\n",
      "2018-01-03 16:23:42,048 - ALPHA_MIND - INFO - trade_date: 2013-04-02 00:00:00 training finished\n",
      "2018-01-03 16:23:42,053 - ALPHA_MIND - INFO - trade_date: 2013-04-11 00:00:00 training finished\n",
      "2018-01-03 16:23:42,058 - ALPHA_MIND - INFO - trade_date: 2013-04-18 00:00:00 training finished\n",
      "2018-01-03 16:23:42,062 - ALPHA_MIND - INFO - trade_date: 2013-04-25 00:00:00 training finished\n",
      "2018-01-03 16:23:42,066 - ALPHA_MIND - INFO - trade_date: 2013-05-07 00:00:00 training finished\n",
      "2018-01-03 16:23:42,070 - ALPHA_MIND - INFO - trade_date: 2013-05-14 00:00:00 training finished\n",
      "2018-01-03 16:23:42,074 - ALPHA_MIND - INFO - trade_date: 2013-05-21 00:00:00 training finished\n",
      "2018-01-03 16:23:42,078 - ALPHA_MIND - INFO - trade_date: 2013-05-28 00:00:00 training finished\n",
      "2018-01-03 16:23:42,082 - ALPHA_MIND - INFO - trade_date: 2013-06-04 00:00:00 training finished\n",
      "2018-01-03 16:23:42,086 - ALPHA_MIND - INFO - trade_date: 2013-06-14 00:00:00 training finished\n",
      "2018-01-03 16:23:42,089 - ALPHA_MIND - INFO - trade_date: 2013-06-21 00:00:00 training finished\n",
      "2018-01-03 16:23:42,093 - ALPHA_MIND - INFO - trade_date: 2013-06-28 00:00:00 training finished\n",
      "2018-01-03 16:23:42,097 - ALPHA_MIND - INFO - trade_date: 2013-07-05 00:00:00 training finished\n",
      "2018-01-03 16:23:42,101 - ALPHA_MIND - INFO - trade_date: 2013-07-12 00:00:00 training finished\n",
      "2018-01-03 16:23:42,106 - ALPHA_MIND - INFO - trade_date: 2013-07-19 00:00:00 training finished\n",
      "2018-01-03 16:23:42,110 - ALPHA_MIND - INFO - trade_date: 2013-07-26 00:00:00 training finished\n",
      "2018-01-03 16:23:42,114 - ALPHA_MIND - INFO - trade_date: 2013-08-02 00:00:00 training finished\n",
      "2018-01-03 16:23:42,118 - ALPHA_MIND - INFO - trade_date: 2013-08-09 00:00:00 training finished\n",
      "2018-01-03 16:23:42,121 - ALPHA_MIND - INFO - trade_date: 2013-08-16 00:00:00 training finished\n",
      "2018-01-03 16:23:42,125 - ALPHA_MIND - INFO - trade_date: 2013-08-23 00:00:00 training finished\n",
      "2018-01-03 16:23:42,128 - ALPHA_MIND - INFO - trade_date: 2013-08-30 00:00:00 training finished\n",
      "2018-01-03 16:23:42,132 - ALPHA_MIND - INFO - trade_date: 2013-09-06 00:00:00 training finished\n",
      "2018-01-03 16:23:42,137 - ALPHA_MIND - INFO - trade_date: 2013-09-13 00:00:00 training finished\n",
      "2018-01-03 16:23:42,141 - ALPHA_MIND - INFO - trade_date: 2013-09-24 00:00:00 training finished\n",
      "2018-01-03 16:23:42,145 - ALPHA_MIND - INFO - trade_date: 2013-10-08 00:00:00 training finished\n",
      "2018-01-03 16:23:42,149 - ALPHA_MIND - INFO - trade_date: 2013-10-15 00:00:00 training finished\n",
      "2018-01-03 16:23:42,153 - ALPHA_MIND - INFO - trade_date: 2013-10-22 00:00:00 training finished\n",
      "2018-01-03 16:23:42,157 - ALPHA_MIND - INFO - trade_date: 2013-10-29 00:00:00 training finished\n",
      "2018-01-03 16:23:42,161 - ALPHA_MIND - INFO - trade_date: 2013-11-05 00:00:00 training finished\n"
     ]
    },
    {
     "name": "stderr",
     "output_type": "stream",
     "text": [
      "2018-01-03 16:23:42,165 - ALPHA_MIND - INFO - trade_date: 2013-11-12 00:00:00 training finished\n",
      "2018-01-03 16:23:42,170 - ALPHA_MIND - INFO - trade_date: 2013-11-19 00:00:00 training finished\n",
      "2018-01-03 16:23:42,173 - ALPHA_MIND - INFO - trade_date: 2013-11-26 00:00:00 training finished\n",
      "2018-01-03 16:23:42,178 - ALPHA_MIND - INFO - trade_date: 2013-12-03 00:00:00 training finished\n",
      "2018-01-03 16:23:42,182 - ALPHA_MIND - INFO - trade_date: 2013-12-10 00:00:00 training finished\n",
      "2018-01-03 16:23:42,185 - ALPHA_MIND - INFO - trade_date: 2013-12-17 00:00:00 training finished\n",
      "2018-01-03 16:23:42,189 - ALPHA_MIND - INFO - trade_date: 2013-12-24 00:00:00 training finished\n",
      "2018-01-03 16:23:42,195 - ALPHA_MIND - INFO - trade_date: 2013-12-31 00:00:00 training finished\n",
      "2018-01-03 16:23:42,199 - ALPHA_MIND - INFO - trade_date: 2014-01-08 00:00:00 training finished\n",
      "2018-01-03 16:23:42,202 - ALPHA_MIND - INFO - trade_date: 2014-01-15 00:00:00 training finished\n",
      "2018-01-03 16:23:42,206 - ALPHA_MIND - INFO - trade_date: 2014-01-22 00:00:00 training finished\n",
      "2018-01-03 16:23:42,209 - ALPHA_MIND - INFO - trade_date: 2014-01-29 00:00:00 training finished\n",
      "2018-01-03 16:23:42,213 - ALPHA_MIND - INFO - trade_date: 2014-02-12 00:00:00 training finished\n",
      "2018-01-03 16:23:42,217 - ALPHA_MIND - INFO - trade_date: 2014-02-19 00:00:00 training finished\n",
      "2018-01-03 16:23:42,221 - ALPHA_MIND - INFO - trade_date: 2014-02-26 00:00:00 training finished\n",
      "2018-01-03 16:23:42,226 - ALPHA_MIND - INFO - trade_date: 2014-03-05 00:00:00 training finished\n",
      "2018-01-03 16:23:42,230 - ALPHA_MIND - INFO - trade_date: 2014-03-12 00:00:00 training finished\n",
      "2018-01-03 16:23:42,233 - ALPHA_MIND - INFO - trade_date: 2014-03-19 00:00:00 training finished\n",
      "2018-01-03 16:23:42,236 - ALPHA_MIND - INFO - trade_date: 2014-03-26 00:00:00 training finished\n",
      "2018-01-03 16:23:42,241 - ALPHA_MIND - INFO - trade_date: 2014-04-02 00:00:00 training finished\n",
      "2018-01-03 16:23:42,244 - ALPHA_MIND - INFO - trade_date: 2014-04-10 00:00:00 training finished\n",
      "2018-01-03 16:23:42,248 - ALPHA_MIND - INFO - trade_date: 2014-04-17 00:00:00 training finished\n",
      "2018-01-03 16:23:42,252 - ALPHA_MIND - INFO - trade_date: 2014-04-24 00:00:00 training finished\n",
      "2018-01-03 16:23:42,258 - ALPHA_MIND - INFO - trade_date: 2014-05-05 00:00:00 training finished\n",
      "2018-01-03 16:23:42,262 - ALPHA_MIND - INFO - trade_date: 2014-05-12 00:00:00 training finished\n",
      "2018-01-03 16:23:42,266 - ALPHA_MIND - INFO - trade_date: 2014-05-19 00:00:00 training finished\n",
      "2018-01-03 16:23:42,270 - ALPHA_MIND - INFO - trade_date: 2014-05-26 00:00:00 training finished\n",
      "2018-01-03 16:23:42,273 - ALPHA_MIND - INFO - trade_date: 2014-06-03 00:00:00 training finished\n",
      "2018-01-03 16:23:42,277 - ALPHA_MIND - INFO - trade_date: 2014-06-10 00:00:00 training finished\n",
      "2018-01-03 16:23:42,281 - ALPHA_MIND - INFO - trade_date: 2014-06-17 00:00:00 training finished\n",
      "2018-01-03 16:23:42,285 - ALPHA_MIND - INFO - trade_date: 2014-06-24 00:00:00 training finished\n",
      "2018-01-03 16:23:42,290 - ALPHA_MIND - INFO - trade_date: 2014-07-01 00:00:00 training finished\n",
      "2018-01-03 16:23:42,295 - ALPHA_MIND - INFO - trade_date: 2014-07-08 00:00:00 training finished\n",
      "2018-01-03 16:23:42,299 - ALPHA_MIND - INFO - trade_date: 2014-07-15 00:00:00 training finished\n",
      "2018-01-03 16:23:42,303 - ALPHA_MIND - INFO - trade_date: 2014-07-22 00:00:00 training finished\n",
      "2018-01-03 16:23:42,307 - ALPHA_MIND - INFO - trade_date: 2014-07-29 00:00:00 training finished\n",
      "2018-01-03 16:23:42,311 - ALPHA_MIND - INFO - trade_date: 2014-08-05 00:00:00 training finished\n",
      "2018-01-03 16:23:42,315 - ALPHA_MIND - INFO - trade_date: 2014-08-12 00:00:00 training finished\n",
      "2018-01-03 16:23:42,319 - ALPHA_MIND - INFO - trade_date: 2014-08-19 00:00:00 training finished\n",
      "2018-01-03 16:23:42,325 - ALPHA_MIND - INFO - trade_date: 2014-08-26 00:00:00 training finished\n",
      "2018-01-03 16:23:42,329 - ALPHA_MIND - INFO - trade_date: 2014-09-02 00:00:00 training finished\n",
      "2018-01-03 16:23:42,332 - ALPHA_MIND - INFO - trade_date: 2014-09-10 00:00:00 training finished\n",
      "2018-01-03 16:23:42,336 - ALPHA_MIND - INFO - trade_date: 2014-09-17 00:00:00 training finished\n",
      "2018-01-03 16:23:42,340 - ALPHA_MIND - INFO - trade_date: 2014-09-24 00:00:00 training finished\n",
      "2018-01-03 16:23:42,344 - ALPHA_MIND - INFO - trade_date: 2014-10-08 00:00:00 training finished\n",
      "2018-01-03 16:23:42,348 - ALPHA_MIND - INFO - trade_date: 2014-10-15 00:00:00 training finished\n",
      "2018-01-03 16:23:42,352 - ALPHA_MIND - INFO - trade_date: 2014-10-22 00:00:00 training finished\n",
      "2018-01-03 16:23:42,356 - ALPHA_MIND - INFO - trade_date: 2014-10-29 00:00:00 training finished\n",
      "2018-01-03 16:23:42,360 - ALPHA_MIND - INFO - trade_date: 2014-11-05 00:00:00 training finished\n",
      "2018-01-03 16:23:42,364 - ALPHA_MIND - INFO - trade_date: 2014-11-12 00:00:00 training finished\n",
      "2018-01-03 16:23:42,368 - ALPHA_MIND - INFO - trade_date: 2014-11-19 00:00:00 training finished\n",
      "2018-01-03 16:23:42,372 - ALPHA_MIND - INFO - trade_date: 2014-11-26 00:00:00 training finished\n",
      "2018-01-03 16:23:42,375 - ALPHA_MIND - INFO - trade_date: 2014-12-03 00:00:00 training finished\n",
      "2018-01-03 16:23:42,379 - ALPHA_MIND - INFO - trade_date: 2014-12-10 00:00:00 training finished\n",
      "2018-01-03 16:23:42,383 - ALPHA_MIND - INFO - trade_date: 2014-12-17 00:00:00 training finished\n",
      "2018-01-03 16:23:42,388 - ALPHA_MIND - INFO - trade_date: 2014-12-24 00:00:00 training finished\n",
      "2018-01-03 16:23:42,392 - ALPHA_MIND - INFO - trade_date: 2014-12-31 00:00:00 training finished\n",
      "2018-01-03 16:23:42,396 - ALPHA_MIND - INFO - trade_date: 2015-01-09 00:00:00 training finished\n",
      "2018-01-03 16:23:42,399 - ALPHA_MIND - INFO - trade_date: 2015-01-16 00:00:00 training finished\n",
      "2018-01-03 16:23:42,404 - ALPHA_MIND - INFO - trade_date: 2015-01-23 00:00:00 training finished\n",
      "2018-01-03 16:23:42,408 - ALPHA_MIND - INFO - trade_date: 2015-01-30 00:00:00 training finished\n",
      "2018-01-03 16:23:42,412 - ALPHA_MIND - INFO - trade_date: 2015-02-06 00:00:00 training finished\n",
      "2018-01-03 16:23:42,415 - ALPHA_MIND - INFO - trade_date: 2015-02-13 00:00:00 training finished\n",
      "2018-01-03 16:23:42,419 - ALPHA_MIND - INFO - trade_date: 2015-02-27 00:00:00 training finished\n",
      "2018-01-03 16:23:42,423 - ALPHA_MIND - INFO - trade_date: 2015-03-06 00:00:00 training finished\n",
      "2018-01-03 16:23:42,427 - ALPHA_MIND - INFO - trade_date: 2015-03-13 00:00:00 training finished\n",
      "2018-01-03 16:23:42,430 - ALPHA_MIND - INFO - trade_date: 2015-03-20 00:00:00 training finished\n",
      "2018-01-03 16:23:42,436 - ALPHA_MIND - INFO - trade_date: 2015-03-27 00:00:00 training finished\n",
      "2018-01-03 16:23:42,440 - ALPHA_MIND - INFO - trade_date: 2015-04-03 00:00:00 training finished\n",
      "2018-01-03 16:23:42,443 - ALPHA_MIND - INFO - trade_date: 2015-04-13 00:00:00 training finished\n",
      "2018-01-03 16:23:42,447 - ALPHA_MIND - INFO - trade_date: 2015-04-20 00:00:00 training finished\n",
      "2018-01-03 16:23:42,451 - ALPHA_MIND - INFO - trade_date: 2015-04-27 00:00:00 training finished\n",
      "2018-01-03 16:23:42,456 - ALPHA_MIND - INFO - trade_date: 2015-05-05 00:00:00 training finished\n",
      "2018-01-03 16:23:42,460 - ALPHA_MIND - INFO - trade_date: 2015-05-12 00:00:00 training finished\n",
      "2018-01-03 16:23:42,464 - ALPHA_MIND - INFO - trade_date: 2015-05-19 00:00:00 training finished\n",
      "2018-01-03 16:23:42,469 - ALPHA_MIND - INFO - trade_date: 2015-05-26 00:00:00 training finished\n",
      "2018-01-03 16:23:42,474 - ALPHA_MIND - INFO - trade_date: 2015-06-02 00:00:00 training finished\n",
      "2018-01-03 16:23:42,479 - ALPHA_MIND - INFO - trade_date: 2015-06-09 00:00:00 training finished\n",
      "2018-01-03 16:23:42,484 - ALPHA_MIND - INFO - trade_date: 2015-06-16 00:00:00 training finished\n",
      "2018-01-03 16:23:42,489 - ALPHA_MIND - INFO - trade_date: 2015-06-24 00:00:00 training finished\n",
      "2018-01-03 16:23:42,493 - ALPHA_MIND - INFO - trade_date: 2015-07-01 00:00:00 training finished\n",
      "2018-01-03 16:23:42,497 - ALPHA_MIND - INFO - trade_date: 2015-07-08 00:00:00 training finished\n",
      "2018-01-03 16:23:42,501 - ALPHA_MIND - INFO - trade_date: 2015-07-15 00:00:00 training finished\n",
      "2018-01-03 16:23:42,507 - ALPHA_MIND - INFO - trade_date: 2015-07-22 00:00:00 training finished\n",
      "2018-01-03 16:23:42,512 - ALPHA_MIND - INFO - trade_date: 2015-07-29 00:00:00 training finished\n"
     ]
    },
    {
     "name": "stderr",
     "output_type": "stream",
     "text": [
      "2018-01-03 16:23:42,515 - ALPHA_MIND - INFO - trade_date: 2015-08-05 00:00:00 training finished\n",
      "2018-01-03 16:23:42,521 - ALPHA_MIND - INFO - trade_date: 2015-08-12 00:00:00 training finished\n",
      "2018-01-03 16:23:42,526 - ALPHA_MIND - INFO - trade_date: 2015-08-19 00:00:00 training finished\n",
      "2018-01-03 16:23:42,531 - ALPHA_MIND - INFO - trade_date: 2015-08-26 00:00:00 training finished\n",
      "2018-01-03 16:23:42,535 - ALPHA_MIND - INFO - trade_date: 2015-09-02 00:00:00 training finished\n",
      "2018-01-03 16:23:42,540 - ALPHA_MIND - INFO - trade_date: 2015-09-11 00:00:00 training finished\n",
      "2018-01-03 16:23:42,544 - ALPHA_MIND - INFO - trade_date: 2015-09-18 00:00:00 training finished\n",
      "2018-01-03 16:23:42,548 - ALPHA_MIND - INFO - trade_date: 2015-09-25 00:00:00 training finished\n",
      "2018-01-03 16:23:42,553 - ALPHA_MIND - INFO - trade_date: 2015-10-09 00:00:00 training finished\n",
      "2018-01-03 16:23:42,557 - ALPHA_MIND - INFO - trade_date: 2015-10-16 00:00:00 training finished\n",
      "2018-01-03 16:23:42,562 - ALPHA_MIND - INFO - trade_date: 2015-10-23 00:00:00 training finished\n",
      "2018-01-03 16:23:42,566 - ALPHA_MIND - INFO - trade_date: 2015-10-30 00:00:00 training finished\n",
      "2018-01-03 16:23:42,570 - ALPHA_MIND - INFO - trade_date: 2015-11-06 00:00:00 training finished\n",
      "2018-01-03 16:23:42,574 - ALPHA_MIND - INFO - trade_date: 2015-11-13 00:00:00 training finished\n",
      "2018-01-03 16:23:42,578 - ALPHA_MIND - INFO - trade_date: 2015-11-20 00:00:00 training finished\n",
      "2018-01-03 16:23:42,582 - ALPHA_MIND - INFO - trade_date: 2015-11-27 00:00:00 training finished\n",
      "2018-01-03 16:23:42,587 - ALPHA_MIND - INFO - trade_date: 2015-12-04 00:00:00 training finished\n",
      "2018-01-03 16:23:42,590 - ALPHA_MIND - INFO - trade_date: 2015-12-11 00:00:00 training finished\n",
      "2018-01-03 16:23:42,594 - ALPHA_MIND - INFO - trade_date: 2015-12-18 00:00:00 training finished\n",
      "2018-01-03 16:23:42,598 - ALPHA_MIND - INFO - trade_date: 2015-12-25 00:00:00 training finished\n",
      "2018-01-03 16:23:42,602 - ALPHA_MIND - INFO - trade_date: 2016-01-04 00:00:00 training finished\n",
      "2018-01-03 16:23:42,606 - ALPHA_MIND - INFO - trade_date: 2016-01-11 00:00:00 training finished\n",
      "2018-01-03 16:23:42,610 - ALPHA_MIND - INFO - trade_date: 2016-01-18 00:00:00 training finished\n",
      "2018-01-03 16:23:42,614 - ALPHA_MIND - INFO - trade_date: 2016-01-25 00:00:00 training finished\n",
      "2018-01-03 16:23:42,617 - ALPHA_MIND - INFO - trade_date: 2016-02-01 00:00:00 training finished\n",
      "2018-01-03 16:23:42,621 - ALPHA_MIND - INFO - trade_date: 2016-02-15 00:00:00 training finished\n",
      "2018-01-03 16:23:42,625 - ALPHA_MIND - INFO - trade_date: 2016-02-22 00:00:00 training finished\n",
      "2018-01-03 16:23:42,629 - ALPHA_MIND - INFO - trade_date: 2016-02-29 00:00:00 training finished\n",
      "2018-01-03 16:23:42,632 - ALPHA_MIND - INFO - trade_date: 2016-03-07 00:00:00 training finished\n",
      "2018-01-03 16:23:42,636 - ALPHA_MIND - INFO - trade_date: 2016-03-14 00:00:00 training finished\n",
      "2018-01-03 16:23:42,640 - ALPHA_MIND - INFO - trade_date: 2016-03-21 00:00:00 training finished\n",
      "2018-01-03 16:23:42,645 - ALPHA_MIND - INFO - trade_date: 2016-03-28 00:00:00 training finished\n",
      "2018-01-03 16:23:42,648 - ALPHA_MIND - INFO - trade_date: 2016-04-05 00:00:00 training finished\n",
      "2018-01-03 16:23:42,652 - ALPHA_MIND - INFO - trade_date: 2016-04-12 00:00:00 training finished\n",
      "2018-01-03 16:23:42,657 - ALPHA_MIND - INFO - trade_date: 2016-04-19 00:00:00 training finished\n",
      "2018-01-03 16:23:42,661 - ALPHA_MIND - INFO - trade_date: 2016-04-26 00:00:00 training finished\n",
      "2018-01-03 16:23:42,665 - ALPHA_MIND - INFO - trade_date: 2016-05-04 00:00:00 training finished\n",
      "2018-01-03 16:23:42,669 - ALPHA_MIND - INFO - trade_date: 2016-05-11 00:00:00 training finished\n",
      "2018-01-03 16:23:42,672 - ALPHA_MIND - INFO - trade_date: 2016-05-18 00:00:00 training finished\n",
      "2018-01-03 16:23:42,676 - ALPHA_MIND - INFO - trade_date: 2016-05-25 00:00:00 training finished\n",
      "2018-01-03 16:23:42,680 - ALPHA_MIND - INFO - trade_date: 2016-06-01 00:00:00 training finished\n",
      "2018-01-03 16:23:42,683 - ALPHA_MIND - INFO - trade_date: 2016-06-08 00:00:00 training finished\n",
      "2018-01-03 16:23:42,688 - ALPHA_MIND - INFO - trade_date: 2016-06-17 00:00:00 training finished\n",
      "2018-01-03 16:23:42,693 - ALPHA_MIND - INFO - trade_date: 2016-06-24 00:00:00 training finished\n",
      "2018-01-03 16:23:42,697 - ALPHA_MIND - INFO - trade_date: 2016-07-01 00:00:00 training finished\n",
      "2018-01-03 16:23:42,701 - ALPHA_MIND - INFO - trade_date: 2016-07-08 00:00:00 training finished\n",
      "2018-01-03 16:23:42,707 - ALPHA_MIND - INFO - trade_date: 2016-07-15 00:00:00 training finished\n",
      "2018-01-03 16:23:42,710 - ALPHA_MIND - INFO - trade_date: 2016-07-22 00:00:00 training finished\n",
      "2018-01-03 16:23:42,714 - ALPHA_MIND - INFO - trade_date: 2016-07-29 00:00:00 training finished\n",
      "2018-01-03 16:23:42,718 - ALPHA_MIND - INFO - trade_date: 2016-08-05 00:00:00 training finished\n",
      "2018-01-03 16:23:42,722 - ALPHA_MIND - INFO - trade_date: 2016-08-12 00:00:00 training finished\n",
      "2018-01-03 16:23:42,726 - ALPHA_MIND - INFO - trade_date: 2016-08-19 00:00:00 training finished\n",
      "2018-01-03 16:23:42,731 - ALPHA_MIND - INFO - trade_date: 2016-08-26 00:00:00 training finished\n",
      "2018-01-03 16:23:42,735 - ALPHA_MIND - INFO - trade_date: 2016-09-02 00:00:00 training finished\n",
      "2018-01-03 16:23:42,740 - ALPHA_MIND - INFO - trade_date: 2016-09-09 00:00:00 training finished\n",
      "2018-01-03 16:23:42,743 - ALPHA_MIND - INFO - trade_date: 2016-09-20 00:00:00 training finished\n",
      "2018-01-03 16:23:42,747 - ALPHA_MIND - INFO - trade_date: 2016-09-27 00:00:00 training finished\n",
      "2018-01-03 16:23:42,750 - ALPHA_MIND - INFO - trade_date: 2016-10-11 00:00:00 training finished\n",
      "2018-01-03 16:23:42,755 - ALPHA_MIND - INFO - trade_date: 2016-10-18 00:00:00 training finished\n",
      "2018-01-03 16:23:42,759 - ALPHA_MIND - INFO - trade_date: 2016-10-25 00:00:00 training finished\n",
      "2018-01-03 16:23:42,767 - ALPHA_MIND - INFO - trade_date: 2016-11-01 00:00:00 training finished\n",
      "2018-01-03 16:23:42,773 - ALPHA_MIND - INFO - trade_date: 2016-11-08 00:00:00 training finished\n",
      "2018-01-03 16:23:42,777 - ALPHA_MIND - INFO - trade_date: 2016-11-15 00:00:00 training finished\n",
      "2018-01-03 16:23:42,780 - ALPHA_MIND - INFO - trade_date: 2016-11-22 00:00:00 training finished\n",
      "2018-01-03 16:23:42,783 - ALPHA_MIND - INFO - trade_date: 2016-11-29 00:00:00 training finished\n",
      "2018-01-03 16:23:42,787 - ALPHA_MIND - INFO - trade_date: 2016-12-06 00:00:00 training finished\n",
      "2018-01-03 16:23:42,791 - ALPHA_MIND - INFO - trade_date: 2016-12-13 00:00:00 training finished\n",
      "2018-01-03 16:23:42,795 - ALPHA_MIND - INFO - trade_date: 2016-12-20 00:00:00 training finished\n",
      "2018-01-03 16:23:42,798 - ALPHA_MIND - INFO - trade_date: 2016-12-27 00:00:00 training finished\n",
      "2018-01-03 16:23:42,802 - ALPHA_MIND - INFO - trade_date: 2017-01-04 00:00:00 training finished\n",
      "2018-01-03 16:23:42,806 - ALPHA_MIND - INFO - trade_date: 2017-01-11 00:00:00 training finished\n",
      "2018-01-03 16:23:42,810 - ALPHA_MIND - INFO - trade_date: 2017-01-18 00:00:00 training finished\n",
      "2018-01-03 16:23:42,813 - ALPHA_MIND - INFO - trade_date: 2017-01-25 00:00:00 training finished\n",
      "2018-01-03 16:23:42,818 - ALPHA_MIND - INFO - trade_date: 2017-02-08 00:00:00 training finished\n",
      "2018-01-03 16:23:42,822 - ALPHA_MIND - INFO - trade_date: 2017-02-15 00:00:00 training finished\n",
      "2018-01-03 16:23:42,826 - ALPHA_MIND - INFO - trade_date: 2017-02-22 00:00:00 training finished\n",
      "2018-01-03 16:23:42,830 - ALPHA_MIND - INFO - trade_date: 2017-03-01 00:00:00 training finished\n",
      "2018-01-03 16:23:42,834 - ALPHA_MIND - INFO - trade_date: 2017-03-08 00:00:00 training finished\n",
      "2018-01-03 16:23:42,839 - ALPHA_MIND - INFO - trade_date: 2017-03-15 00:00:00 training finished\n",
      "2018-01-03 16:23:42,842 - ALPHA_MIND - INFO - trade_date: 2017-03-22 00:00:00 training finished\n",
      "2018-01-03 16:23:42,846 - ALPHA_MIND - INFO - trade_date: 2017-03-29 00:00:00 training finished\n",
      "2018-01-03 16:23:42,850 - ALPHA_MIND - INFO - trade_date: 2017-04-07 00:00:00 training finished\n",
      "2018-01-03 16:23:42,856 - ALPHA_MIND - INFO - trade_date: 2017-04-14 00:00:00 training finished\n",
      "2018-01-03 16:23:42,860 - ALPHA_MIND - INFO - trade_date: 2017-04-21 00:00:00 training finished\n",
      "2018-01-03 16:23:42,864 - ALPHA_MIND - INFO - trade_date: 2017-04-28 00:00:00 training finished\n",
      "2018-01-03 16:23:42,867 - ALPHA_MIND - INFO - trade_date: 2017-05-08 00:00:00 training finished\n"
     ]
    },
    {
     "name": "stderr",
     "output_type": "stream",
     "text": [
      "2018-01-03 16:23:42,871 - ALPHA_MIND - INFO - trade_date: 2017-05-15 00:00:00 training finished\n",
      "2018-01-03 16:23:42,875 - ALPHA_MIND - INFO - trade_date: 2017-05-22 00:00:00 training finished\n",
      "2018-01-03 16:23:42,878 - ALPHA_MIND - INFO - trade_date: 2017-05-31 00:00:00 training finished\n",
      "2018-01-03 16:23:42,882 - ALPHA_MIND - INFO - trade_date: 2017-06-07 00:00:00 training finished\n",
      "2018-01-03 16:23:42,885 - ALPHA_MIND - INFO - trade_date: 2017-06-14 00:00:00 training finished\n",
      "2018-01-03 16:23:42,889 - ALPHA_MIND - INFO - trade_date: 2017-06-21 00:00:00 training finished\n",
      "2018-01-03 16:23:42,893 - ALPHA_MIND - INFO - trade_date: 2017-06-28 00:00:00 training finished\n",
      "2018-01-03 16:23:42,896 - ALPHA_MIND - INFO - trade_date: 2017-07-05 00:00:00 training finished\n",
      "2018-01-03 16:23:42,900 - ALPHA_MIND - INFO - trade_date: 2017-07-12 00:00:00 training finished\n",
      "2018-01-03 16:23:42,904 - ALPHA_MIND - INFO - trade_date: 2017-07-19 00:00:00 training finished\n",
      "2018-01-03 16:23:42,907 - ALPHA_MIND - INFO - trade_date: 2017-07-26 00:00:00 training finished\n",
      "2018-01-03 16:23:42,911 - ALPHA_MIND - INFO - trade_date: 2017-08-02 00:00:00 training finished\n",
      "2018-01-03 16:23:42,915 - ALPHA_MIND - INFO - trade_date: 2017-08-09 00:00:00 training finished\n",
      "2018-01-03 16:23:42,920 - ALPHA_MIND - INFO - trade_date: 2017-08-16 00:00:00 training finished\n",
      "2018-01-03 16:23:42,925 - ALPHA_MIND - INFO - trade_date: 2017-08-23 00:00:00 training finished\n",
      "2018-01-03 16:23:42,929 - ALPHA_MIND - INFO - trade_date: 2017-08-30 00:00:00 training finished\n",
      "2018-01-03 16:23:42,932 - ALPHA_MIND - INFO - trade_date: 2017-09-06 00:00:00 training finished\n",
      "2018-01-03 16:23:42,937 - ALPHA_MIND - INFO - trade_date: 2017-09-13 00:00:00 training finished\n",
      "2018-01-03 16:23:42,940 - ALPHA_MIND - INFO - trade_date: 2017-09-20 00:00:00 training finished\n",
      "2018-01-03 16:23:42,946 - ALPHA_MIND - INFO - trade_date: 2017-09-27 00:00:00 training finished\n",
      "2018-01-03 16:23:42,950 - ALPHA_MIND - INFO - trade_date: 2017-10-11 00:00:00 training finished\n",
      "2018-01-03 16:23:42,955 - ALPHA_MIND - INFO - trade_date: 2017-10-18 00:00:00 training finished\n",
      "2018-01-03 16:23:42,959 - ALPHA_MIND - INFO - trade_date: 2017-10-25 00:00:00 training finished\n",
      "2018-01-03 16:23:42,965 - ALPHA_MIND - INFO - trade_date: 2017-11-01 00:00:00 training finished\n",
      "2018-01-03 16:23:42,969 - ALPHA_MIND - INFO - trade_date: 2017-11-08 00:00:00 training finished\n",
      "2018-01-03 16:23:42,974 - ALPHA_MIND - INFO - trade_date: 2017-11-15 00:00:00 training finished\n",
      "2018-01-03 16:23:42,977 - ALPHA_MIND - INFO - trade_date: 2017-11-22 00:00:00 training finished\n",
      "2018-01-03 16:23:42,983 - ALPHA_MIND - INFO - trade_date: 2017-11-29 00:00:00 training finished\n",
      "2018-01-03 16:23:42,989 - ALPHA_MIND - INFO - trade_date: 2017-12-06 00:00:00 training finished\n",
      "2018-01-03 16:23:42,994 - ALPHA_MIND - INFO - trade_date: 2017-12-13 00:00:00 training finished\n",
      "2018-01-03 16:23:42,999 - ALPHA_MIND - INFO - trade_date: 2017-12-20 00:00:00 training finished\n",
      "2018-01-03 16:23:43,006 - ALPHA_MIND - INFO - trade_date: 2017-12-27 00:00:00 training finished\n"
     ]
    }
   ],
   "source": [
    "\"\"\"\n",
    "Training phase\n",
    "\"\"\"\n",
    "\n",
    "models_series = pd.Series()\n",
    "\n",
    "for ref_date in ref_dates:\n",
    "    x = train_x[ref_date]\n",
    "    y = train_y[ref_date].flatten()\n",
    "\n",
    "    model = LinearRegression(features=linear_model_features_keys, fit_intercept=False)\n",
    "    model.fit(x, y)\n",
    "    models_series.loc[ref_date] = model\n",
    "    alpha_logger.info('trade_date: {0} training finished'.format(ref_date))\n",
    "\n",
    "\n",
    "frequency = '5b'\n",
    "ref_dates = makeSchedule(start_date, end_date, frequency, 'china.sse')\n",
    "\n",
    "const_model_factor_data = engine.fetch_data_range(universe,\n",
    "                                                  total_features,\n",
    "                                                  dates=ref_dates,\n",
    "                                                  benchmark=benchmark_code)['factor']\n",
    "\n",
    "horizon = map_freq(frequency)"
   ]
  },
  {
   "cell_type": "code",
   "execution_count": 6,
   "metadata": {},
   "outputs": [
    {
     "name": "stderr",
     "output_type": "stream",
     "text": [
      "2018-01-03 16:24:22,101 - ALPHA_MIND - INFO - 2012-01-04 00:00:00: 800\n",
      "2018-01-03 16:24:22,119 - ALPHA_MIND - INFO - 2012-01-11 00:00:00: 800\n"
     ]
    },
    {
     "name": "stdout",
     "output_type": "stream",
     "text": [
      "start 0.01 weight gap simulation ...\n"
     ]
    },
    {
     "name": "stderr",
     "output_type": "stream",
     "text": [
      "2018-01-03 16:24:22,128 - ALPHA_MIND - INFO - 2012-01-18 00:00:00: 800\n",
      "2018-01-03 16:24:22,139 - ALPHA_MIND - INFO - 2012-02-01 00:00:00: 800\n",
      "2018-01-03 16:24:22,148 - ALPHA_MIND - INFO - 2012-02-08 00:00:00: 800\n",
      "2018-01-03 16:24:22,274 - ALPHA_MIND - INFO - 2012-02-08 00:00:00 is finished\n",
      "2018-01-03 16:24:22,281 - ALPHA_MIND - INFO - 2012-02-15 00:00:00: 800\n"
     ]
    },
    {
     "name": "stdout",
     "output_type": "stream",
     "text": [
      "using alpha model\n",
      "using alpha model\n"
     ]
    },
    {
     "name": "stderr",
     "output_type": "stream",
     "text": [
      "2018-01-03 16:24:22,529 - ALPHA_MIND - INFO - 2012-02-15 00:00:00 is finished\n",
      "2018-01-03 16:24:22,533 - ALPHA_MIND - INFO - 2012-02-22 00:00:00: 800\n"
     ]
    },
    {
     "name": "stdout",
     "output_type": "stream",
     "text": [
      "using alpha model\n"
     ]
    },
    {
     "name": "stderr",
     "output_type": "stream",
     "text": [
      "2018-01-03 16:24:22,752 - ALPHA_MIND - INFO - 2012-02-22 00:00:00 is finished\n",
      "2018-01-03 16:24:22,759 - ALPHA_MIND - INFO - 2012-02-29 00:00:00: 800\n"
     ]
    },
    {
     "name": "stdout",
     "output_type": "stream",
     "text": [
      "using alpha model\n"
     ]
    },
    {
     "name": "stderr",
     "output_type": "stream",
     "text": [
      "2018-01-03 16:24:22,975 - ALPHA_MIND - INFO - 2012-02-29 00:00:00 is finished\n",
      "2018-01-03 16:24:22,982 - ALPHA_MIND - INFO - 2012-03-07 00:00:00: 799\n",
      "2018-01-03 16:24:23,191 - ALPHA_MIND - INFO - 2012-03-07 00:00:00 is finished\n"
     ]
    },
    {
     "name": "stdout",
     "output_type": "stream",
     "text": [
      "using alpha model\n"
     ]
    },
    {
     "name": "stderr",
     "output_type": "stream",
     "text": [
      "2018-01-03 16:24:23,199 - ALPHA_MIND - INFO - 2012-03-14 00:00:00: 799\n"
     ]
    },
    {
     "name": "stdout",
     "output_type": "stream",
     "text": [
      "using alpha model\n"
     ]
    },
    {
     "name": "stderr",
     "output_type": "stream",
     "text": [
      "2018-01-03 16:24:23,409 - ALPHA_MIND - INFO - 2012-03-14 00:00:00 is finished\n",
      "2018-01-03 16:24:23,416 - ALPHA_MIND - INFO - 2012-03-21 00:00:00: 798\n"
     ]
    },
    {
     "name": "stdout",
     "output_type": "stream",
     "text": [
      "using alpha model\n"
     ]
    },
    {
     "name": "stderr",
     "output_type": "stream",
     "text": [
      "2018-01-03 16:24:23,647 - ALPHA_MIND - INFO - 2012-03-21 00:00:00 is finished\n",
      "2018-01-03 16:24:23,652 - ALPHA_MIND - INFO - 2012-03-28 00:00:00: 798\n"
     ]
    },
    {
     "name": "stdout",
     "output_type": "stream",
     "text": [
      "using alpha model\n"
     ]
    },
    {
     "name": "stderr",
     "output_type": "stream",
     "text": [
      "2018-01-03 16:24:23,864 - ALPHA_MIND - INFO - 2012-03-28 00:00:00 is finished\n",
      "2018-01-03 16:24:23,870 - ALPHA_MIND - INFO - 2012-04-09 00:00:00: 800\n"
     ]
    },
    {
     "name": "stdout",
     "output_type": "stream",
     "text": [
      "using alpha model\n"
     ]
    },
    {
     "name": "stderr",
     "output_type": "stream",
     "text": [
      "2018-01-03 16:24:24,103 - ALPHA_MIND - INFO - 2012-04-09 00:00:00 is finished\n",
      "2018-01-03 16:24:24,108 - ALPHA_MIND - INFO - 2012-04-16 00:00:00: 800\n"
     ]
    },
    {
     "name": "stdout",
     "output_type": "stream",
     "text": [
      "using alpha model\n"
     ]
    },
    {
     "name": "stderr",
     "output_type": "stream",
     "text": [
      "2018-01-03 16:24:24,333 - ALPHA_MIND - INFO - 2012-04-16 00:00:00 is finished\n",
      "2018-01-03 16:24:24,338 - ALPHA_MIND - INFO - 2012-04-23 00:00:00: 800\n"
     ]
    },
    {
     "name": "stdout",
     "output_type": "stream",
     "text": [
      "using alpha model\n"
     ]
    },
    {
     "name": "stderr",
     "output_type": "stream",
     "text": [
      "2018-01-03 16:24:24,557 - ALPHA_MIND - INFO - 2012-04-23 00:00:00 is finished\n",
      "2018-01-03 16:24:24,563 - ALPHA_MIND - INFO - 2012-05-02 00:00:00: 800\n"
     ]
    },
    {
     "name": "stdout",
     "output_type": "stream",
     "text": [
      "using alpha model\n"
     ]
    },
    {
     "name": "stderr",
     "output_type": "stream",
     "text": [
      "2018-01-03 16:24:24,797 - ALPHA_MIND - INFO - 2012-05-02 00:00:00 is finished\n",
      "2018-01-03 16:24:24,802 - ALPHA_MIND - INFO - 2012-05-09 00:00:00: 800\n"
     ]
    },
    {
     "name": "stdout",
     "output_type": "stream",
     "text": [
      "using alpha model\n"
     ]
    },
    {
     "name": "stderr",
     "output_type": "stream",
     "text": [
      "2018-01-03 16:24:25,029 - ALPHA_MIND - INFO - 2012-05-09 00:00:00 is finished\n",
      "2018-01-03 16:24:25,034 - ALPHA_MIND - INFO - 2012-05-16 00:00:00: 800\n"
     ]
    },
    {
     "name": "stdout",
     "output_type": "stream",
     "text": [
      "using alpha model\n"
     ]
    },
    {
     "name": "stderr",
     "output_type": "stream",
     "text": [
      "2018-01-03 16:24:25,256 - ALPHA_MIND - INFO - 2012-05-16 00:00:00 is finished\n",
      "2018-01-03 16:24:25,262 - ALPHA_MIND - INFO - 2012-05-23 00:00:00: 800\n"
     ]
    },
    {
     "name": "stdout",
     "output_type": "stream",
     "text": [
      "using alpha model\n"
     ]
    },
    {
     "name": "stderr",
     "output_type": "stream",
     "text": [
      "2018-01-03 16:24:25,492 - ALPHA_MIND - INFO - 2012-05-23 00:00:00 is finished\n",
      "2018-01-03 16:24:25,497 - ALPHA_MIND - INFO - 2012-05-30 00:00:00: 800\n"
     ]
    },
    {
     "name": "stdout",
     "output_type": "stream",
     "text": [
      "using alpha model\n"
     ]
    },
    {
     "name": "stderr",
     "output_type": "stream",
     "text": [
      "2018-01-03 16:24:25,732 - ALPHA_MIND - INFO - 2012-05-30 00:00:00 is finished\n",
      "2018-01-03 16:24:25,738 - ALPHA_MIND - INFO - 2012-06-06 00:00:00: 800\n"
     ]
    },
    {
     "name": "stdout",
     "output_type": "stream",
     "text": [
      "using alpha model\n"
     ]
    },
    {
     "name": "stderr",
     "output_type": "stream",
     "text": [
      "2018-01-03 16:24:25,981 - ALPHA_MIND - INFO - 2012-06-06 00:00:00 is finished\n",
      "2018-01-03 16:24:25,987 - ALPHA_MIND - INFO - 2012-06-13 00:00:00: 800\n"
     ]
    },
    {
     "name": "stdout",
     "output_type": "stream",
     "text": [
      "using alpha model\n"
     ]
    },
    {
     "name": "stderr",
     "output_type": "stream",
     "text": [
      "2018-01-03 16:24:26,218 - ALPHA_MIND - INFO - 2012-06-13 00:00:00 is finished\n",
      "2018-01-03 16:24:26,223 - ALPHA_MIND - INFO - 2012-06-20 00:00:00: 800\n"
     ]
    },
    {
     "name": "stdout",
     "output_type": "stream",
     "text": [
      "using alpha model\n"
     ]
    },
    {
     "name": "stderr",
     "output_type": "stream",
     "text": [
      "2018-01-03 16:24:26,466 - ALPHA_MIND - INFO - 2012-06-20 00:00:00 is finished\n",
      "2018-01-03 16:24:26,472 - ALPHA_MIND - INFO - 2012-06-28 00:00:00: 800\n"
     ]
    },
    {
     "name": "stdout",
     "output_type": "stream",
     "text": [
      "using alpha model\n"
     ]
    },
    {
     "name": "stderr",
     "output_type": "stream",
     "text": [
      "2018-01-03 16:24:26,720 - ALPHA_MIND - INFO - 2012-06-28 00:00:00 is finished\n",
      "2018-01-03 16:24:26,725 - ALPHA_MIND - INFO - 2012-07-05 00:00:00: 800\n"
     ]
    },
    {
     "name": "stdout",
     "output_type": "stream",
     "text": [
      "using alpha model\n"
     ]
    },
    {
     "name": "stderr",
     "output_type": "stream",
     "text": [
      "2018-01-03 16:24:26,958 - ALPHA_MIND - INFO - 2012-07-05 00:00:00 is finished\n",
      "2018-01-03 16:24:26,963 - ALPHA_MIND - INFO - 2012-07-12 00:00:00: 800\n"
     ]
    },
    {
     "name": "stdout",
     "output_type": "stream",
     "text": [
      "using alpha model\n"
     ]
    },
    {
     "name": "stderr",
     "output_type": "stream",
     "text": [
      "2018-01-03 16:24:27,208 - ALPHA_MIND - INFO - 2012-07-12 00:00:00 is finished\n",
      "2018-01-03 16:24:27,212 - ALPHA_MIND - INFO - 2012-07-19 00:00:00: 800\n"
     ]
    },
    {
     "name": "stdout",
     "output_type": "stream",
     "text": [
      "using alpha model\n"
     ]
    },
    {
     "name": "stderr",
     "output_type": "stream",
     "text": [
      "2018-01-03 16:24:27,431 - ALPHA_MIND - INFO - 2012-07-19 00:00:00 is finished\n",
      "2018-01-03 16:24:27,437 - ALPHA_MIND - INFO - 2012-07-26 00:00:00: 800\n"
     ]
    },
    {
     "name": "stdout",
     "output_type": "stream",
     "text": [
      "using alpha model\n"
     ]
    },
    {
     "name": "stderr",
     "output_type": "stream",
     "text": [
      "2018-01-03 16:24:27,660 - ALPHA_MIND - INFO - 2012-07-26 00:00:00 is finished\n",
      "2018-01-03 16:24:27,666 - ALPHA_MIND - INFO - 2012-08-02 00:00:00: 800\n"
     ]
    },
    {
     "name": "stdout",
     "output_type": "stream",
     "text": [
      "using alpha model\n"
     ]
    },
    {
     "name": "stderr",
     "output_type": "stream",
     "text": [
      "2018-01-03 16:24:27,886 - ALPHA_MIND - INFO - 2012-08-02 00:00:00 is finished\n",
      "2018-01-03 16:24:27,892 - ALPHA_MIND - INFO - 2012-08-09 00:00:00: 800\n"
     ]
    },
    {
     "name": "stdout",
     "output_type": "stream",
     "text": [
      "using alpha model\n"
     ]
    },
    {
     "name": "stderr",
     "output_type": "stream",
     "text": [
      "2018-01-03 16:24:28,119 - ALPHA_MIND - INFO - 2012-08-09 00:00:00 is finished\n",
      "2018-01-03 16:24:28,125 - ALPHA_MIND - INFO - 2012-08-16 00:00:00: 800\n"
     ]
    },
    {
     "name": "stdout",
     "output_type": "stream",
     "text": [
      "using alpha model\n"
     ]
    },
    {
     "name": "stderr",
     "output_type": "stream",
     "text": [
      "2018-01-03 16:24:28,352 - ALPHA_MIND - INFO - 2012-08-16 00:00:00 is finished\n",
      "2018-01-03 16:24:28,357 - ALPHA_MIND - INFO - 2012-08-23 00:00:00: 800\n",
      "2018-01-03 16:24:28,563 - ALPHA_MIND - INFO - 2012-08-23 00:00:00 is finished\n"
     ]
    },
    {
     "name": "stdout",
     "output_type": "stream",
     "text": [
      "using alpha model\n"
     ]
    },
    {
     "name": "stderr",
     "output_type": "stream",
     "text": [
      "2018-01-03 16:24:28,569 - ALPHA_MIND - INFO - 2012-08-30 00:00:00: 800\n"
     ]
    },
    {
     "name": "stdout",
     "output_type": "stream",
     "text": [
      "using alpha model\n"
     ]
    },
    {
     "name": "stderr",
     "output_type": "stream",
     "text": [
      "2018-01-03 16:24:28,816 - ALPHA_MIND - INFO - 2012-08-30 00:00:00 is finished\n",
      "2018-01-03 16:24:28,820 - ALPHA_MIND - INFO - 2012-09-06 00:00:00: 800\n"
     ]
    },
    {
     "name": "stdout",
     "output_type": "stream",
     "text": [
      "using alpha model\n"
     ]
    },
    {
     "name": "stderr",
     "output_type": "stream",
     "text": [
      "2018-01-03 16:24:29,048 - ALPHA_MIND - INFO - 2012-09-06 00:00:00 is finished\n",
      "2018-01-03 16:24:29,053 - ALPHA_MIND - INFO - 2012-09-13 00:00:00: 800\n"
     ]
    },
    {
     "name": "stdout",
     "output_type": "stream",
     "text": [
      "using alpha model\n"
     ]
    },
    {
     "name": "stderr",
     "output_type": "stream",
     "text": [
      "2018-01-03 16:24:29,291 - ALPHA_MIND - INFO - 2012-09-13 00:00:00 is finished\n",
      "2018-01-03 16:24:29,296 - ALPHA_MIND - INFO - 2012-09-20 00:00:00: 800\n"
     ]
    },
    {
     "name": "stdout",
     "output_type": "stream",
     "text": [
      "using alpha model\n"
     ]
    },
    {
     "name": "stderr",
     "output_type": "stream",
     "text": [
      "2018-01-03 16:24:29,523 - ALPHA_MIND - INFO - 2012-09-20 00:00:00 is finished\n",
      "2018-01-03 16:24:29,530 - ALPHA_MIND - INFO - 2012-09-27 00:00:00: 800\n"
     ]
    },
    {
     "name": "stdout",
     "output_type": "stream",
     "text": [
      "using alpha model\n"
     ]
    },
    {
     "name": "stderr",
     "output_type": "stream",
     "text": [
      "2018-01-03 16:24:29,775 - ALPHA_MIND - INFO - 2012-09-27 00:00:00 is finished\n",
      "2018-01-03 16:24:29,780 - ALPHA_MIND - INFO - 2012-10-11 00:00:00: 800\n"
     ]
    },
    {
     "name": "stdout",
     "output_type": "stream",
     "text": [
      "using alpha model\n"
     ]
    },
    {
     "name": "stderr",
     "output_type": "stream",
     "text": [
      "2018-01-03 16:24:30,012 - ALPHA_MIND - INFO - 2012-10-11 00:00:00 is finished\n",
      "2018-01-03 16:24:30,017 - ALPHA_MIND - INFO - 2012-10-18 00:00:00: 800\n"
     ]
    },
    {
     "name": "stdout",
     "output_type": "stream",
     "text": [
      "using alpha model\n"
     ]
    },
    {
     "name": "stderr",
     "output_type": "stream",
     "text": [
      "2018-01-03 16:24:30,400 - ALPHA_MIND - INFO - 2012-10-18 00:00:00 is finished\n",
      "2018-01-03 16:24:30,408 - ALPHA_MIND - INFO - 2012-10-25 00:00:00: 800\n"
     ]
    },
    {
     "name": "stdout",
     "output_type": "stream",
     "text": [
      "using alpha model\n"
     ]
    },
    {
     "name": "stderr",
     "output_type": "stream",
     "text": [
      "2018-01-03 16:24:30,651 - ALPHA_MIND - INFO - 2012-10-25 00:00:00 is finished\n",
      "2018-01-03 16:24:30,656 - ALPHA_MIND - INFO - 2012-11-01 00:00:00: 800\n"
     ]
    },
    {
     "name": "stdout",
     "output_type": "stream",
     "text": [
      "using alpha model\n"
     ]
    },
    {
     "name": "stderr",
     "output_type": "stream",
     "text": [
      "2018-01-03 16:24:30,889 - ALPHA_MIND - INFO - 2012-11-01 00:00:00 is finished\n",
      "2018-01-03 16:24:30,894 - ALPHA_MIND - INFO - 2012-11-08 00:00:00: 800\n"
     ]
    },
    {
     "name": "stdout",
     "output_type": "stream",
     "text": [
      "using alpha model\n"
     ]
    },
    {
     "name": "stderr",
     "output_type": "stream",
     "text": [
      "2018-01-03 16:24:31,166 - ALPHA_MIND - INFO - 2012-11-08 00:00:00 is finished\n",
      "2018-01-03 16:24:31,171 - ALPHA_MIND - INFO - 2012-11-15 00:00:00: 800\n"
     ]
    },
    {
     "name": "stdout",
     "output_type": "stream",
     "text": [
      "using alpha model\n"
     ]
    },
    {
     "name": "stderr",
     "output_type": "stream",
     "text": [
      "2018-01-03 16:24:31,420 - ALPHA_MIND - INFO - 2012-11-15 00:00:00 is finished\n",
      "2018-01-03 16:24:31,426 - ALPHA_MIND - INFO - 2012-11-22 00:00:00: 800\n"
     ]
    },
    {
     "name": "stdout",
     "output_type": "stream",
     "text": [
      "using alpha model\n"
     ]
    },
    {
     "name": "stderr",
     "output_type": "stream",
     "text": [
      "2018-01-03 16:24:31,667 - ALPHA_MIND - INFO - 2012-11-22 00:00:00 is finished\n",
      "2018-01-03 16:24:31,674 - ALPHA_MIND - INFO - 2012-11-29 00:00:00: 800\n"
     ]
    },
    {
     "name": "stdout",
     "output_type": "stream",
     "text": [
      "using alpha model\n"
     ]
    },
    {
     "name": "stderr",
     "output_type": "stream",
     "text": [
      "2018-01-03 16:24:31,911 - ALPHA_MIND - INFO - 2012-11-29 00:00:00 is finished\n",
      "2018-01-03 16:24:31,916 - ALPHA_MIND - INFO - 2012-12-06 00:00:00: 800\n"
     ]
    },
    {
     "name": "stdout",
     "output_type": "stream",
     "text": [
      "using alpha model\n"
     ]
    },
    {
     "name": "stderr",
     "output_type": "stream",
     "text": [
      "2018-01-03 16:24:32,144 - ALPHA_MIND - INFO - 2012-12-06 00:00:00 is finished\n",
      "2018-01-03 16:24:32,150 - ALPHA_MIND - INFO - 2012-12-13 00:00:00: 800\n"
     ]
    },
    {
     "name": "stdout",
     "output_type": "stream",
     "text": [
      "using alpha model\n"
     ]
    },
    {
     "name": "stderr",
     "output_type": "stream",
     "text": [
      "2018-01-03 16:24:32,392 - ALPHA_MIND - INFO - 2012-12-13 00:00:00 is finished\n",
      "2018-01-03 16:24:32,397 - ALPHA_MIND - INFO - 2012-12-20 00:00:00: 800\n"
     ]
    },
    {
     "name": "stdout",
     "output_type": "stream",
     "text": [
      "using alpha model\n"
     ]
    },
    {
     "name": "stderr",
     "output_type": "stream",
     "text": [
      "2018-01-03 16:24:32,631 - ALPHA_MIND - INFO - 2012-12-20 00:00:00 is finished\n",
      "2018-01-03 16:24:32,636 - ALPHA_MIND - INFO - 2012-12-27 00:00:00: 800\n"
     ]
    },
    {
     "name": "stdout",
     "output_type": "stream",
     "text": [
      "using alpha model\n"
     ]
    },
    {
     "name": "stderr",
     "output_type": "stream",
     "text": [
      "2018-01-03 16:24:32,852 - ALPHA_MIND - INFO - 2012-12-27 00:00:00 is finished\n",
      "2018-01-03 16:24:32,859 - ALPHA_MIND - INFO - 2013-01-08 00:00:00: 800\n"
     ]
    },
    {
     "name": "stdout",
     "output_type": "stream",
     "text": [
      "using alpha model\n"
     ]
    },
    {
     "name": "stderr",
     "output_type": "stream",
     "text": [
      "2018-01-03 16:24:33,095 - ALPHA_MIND - INFO - 2013-01-08 00:00:00 is finished\n",
      "2018-01-03 16:24:33,099 - ALPHA_MIND - INFO - 2013-01-15 00:00:00: 800\n"
     ]
    },
    {
     "name": "stdout",
     "output_type": "stream",
     "text": [
      "using alpha model\n"
     ]
    },
    {
     "name": "stderr",
     "output_type": "stream",
     "text": [
      "2018-01-03 16:24:33,321 - ALPHA_MIND - INFO - 2013-01-15 00:00:00 is finished\n",
      "2018-01-03 16:24:33,327 - ALPHA_MIND - INFO - 2013-01-22 00:00:00: 800\n"
     ]
    },
    {
     "name": "stdout",
     "output_type": "stream",
     "text": [
      "using alpha model\n"
     ]
    },
    {
     "name": "stderr",
     "output_type": "stream",
     "text": [
      "2018-01-03 16:24:33,574 - ALPHA_MIND - INFO - 2013-01-22 00:00:00 is finished\n",
      "2018-01-03 16:24:33,580 - ALPHA_MIND - INFO - 2013-01-29 00:00:00: 800\n"
     ]
    },
    {
     "name": "stdout",
     "output_type": "stream",
     "text": [
      "using alpha model\n"
     ]
    },
    {
     "name": "stderr",
     "output_type": "stream",
     "text": [
      "2018-01-03 16:24:33,809 - ALPHA_MIND - INFO - 2013-01-29 00:00:00 is finished\n",
      "2018-01-03 16:24:33,814 - ALPHA_MIND - INFO - 2013-02-05 00:00:00: 800\n"
     ]
    },
    {
     "name": "stdout",
     "output_type": "stream",
     "text": [
      "using alpha model\n"
     ]
    },
    {
     "name": "stderr",
     "output_type": "stream",
     "text": [
      "2018-01-03 16:24:34,135 - ALPHA_MIND - INFO - 2013-02-05 00:00:00 is finished\n",
      "2018-01-03 16:24:34,140 - ALPHA_MIND - INFO - 2013-02-19 00:00:00: 800\n"
     ]
    },
    {
     "name": "stdout",
     "output_type": "stream",
     "text": [
      "using alpha model\n"
     ]
    },
    {
     "name": "stderr",
     "output_type": "stream",
     "text": [
      "2018-01-03 16:24:34,366 - ALPHA_MIND - INFO - 2013-02-19 00:00:00 is finished\n",
      "2018-01-03 16:24:34,371 - ALPHA_MIND - INFO - 2013-02-26 00:00:00: 800\n"
     ]
    },
    {
     "name": "stdout",
     "output_type": "stream",
     "text": [
      "using alpha model\n"
     ]
    },
    {
     "name": "stderr",
     "output_type": "stream",
     "text": [
      "2018-01-03 16:24:34,641 - ALPHA_MIND - INFO - 2013-02-26 00:00:00 is finished\n",
      "2018-01-03 16:24:34,645 - ALPHA_MIND - INFO - 2013-03-05 00:00:00: 800\n"
     ]
    },
    {
     "name": "stdout",
     "output_type": "stream",
     "text": [
      "using alpha model\n"
     ]
    },
    {
     "name": "stderr",
     "output_type": "stream",
     "text": [
      "2018-01-03 16:24:34,875 - ALPHA_MIND - INFO - 2013-03-05 00:00:00 is finished\n",
      "2018-01-03 16:24:34,879 - ALPHA_MIND - INFO - 2013-03-12 00:00:00: 800\n"
     ]
    },
    {
     "name": "stdout",
     "output_type": "stream",
     "text": [
      "using alpha model\n"
     ]
    },
    {
     "name": "stderr",
     "output_type": "stream",
     "text": [
      "2018-01-03 16:24:35,114 - ALPHA_MIND - INFO - 2013-03-12 00:00:00 is finished\n",
      "2018-01-03 16:24:35,118 - ALPHA_MIND - INFO - 2013-03-19 00:00:00: 800\n"
     ]
    },
    {
     "name": "stdout",
     "output_type": "stream",
     "text": [
      "using alpha model\n"
     ]
    },
    {
     "name": "stderr",
     "output_type": "stream",
     "text": [
      "2018-01-03 16:24:35,342 - ALPHA_MIND - INFO - 2013-03-19 00:00:00 is finished\n",
      "2018-01-03 16:24:35,347 - ALPHA_MIND - INFO - 2013-03-26 00:00:00: 800\n"
     ]
    },
    {
     "name": "stdout",
     "output_type": "stream",
     "text": [
      "using alpha model\n"
     ]
    },
    {
     "name": "stderr",
     "output_type": "stream",
     "text": [
      "2018-01-03 16:24:35,586 - ALPHA_MIND - INFO - 2013-03-26 00:00:00 is finished\n",
      "2018-01-03 16:24:35,593 - ALPHA_MIND - INFO - 2013-04-02 00:00:00: 800\n"
     ]
    },
    {
     "name": "stdout",
     "output_type": "stream",
     "text": [
      "using alpha model\n"
     ]
    },
    {
     "name": "stderr",
     "output_type": "stream",
     "text": [
      "2018-01-03 16:24:35,853 - ALPHA_MIND - INFO - 2013-04-02 00:00:00 is finished\n",
      "2018-01-03 16:24:35,858 - ALPHA_MIND - INFO - 2013-04-11 00:00:00: 800\n"
     ]
    },
    {
     "name": "stdout",
     "output_type": "stream",
     "text": [
      "using alpha model\n"
     ]
    },
    {
     "name": "stderr",
     "output_type": "stream",
     "text": [
      "2018-01-03 16:24:36,088 - ALPHA_MIND - INFO - 2013-04-11 00:00:00 is finished\n",
      "2018-01-03 16:24:36,093 - ALPHA_MIND - INFO - 2013-04-18 00:00:00: 800\n"
     ]
    },
    {
     "name": "stdout",
     "output_type": "stream",
     "text": [
      "using alpha model\n"
     ]
    },
    {
     "name": "stderr",
     "output_type": "stream",
     "text": [
      "2018-01-03 16:24:36,325 - ALPHA_MIND - INFO - 2013-04-18 00:00:00 is finished\n",
      "2018-01-03 16:24:36,330 - ALPHA_MIND - INFO - 2013-04-25 00:00:00: 800\n"
     ]
    },
    {
     "name": "stdout",
     "output_type": "stream",
     "text": [
      "using alpha model\n"
     ]
    },
    {
     "name": "stderr",
     "output_type": "stream",
     "text": [
      "2018-01-03 16:24:36,553 - ALPHA_MIND - INFO - 2013-04-25 00:00:00 is finished\n",
      "2018-01-03 16:24:36,559 - ALPHA_MIND - INFO - 2013-05-07 00:00:00: 800\n"
     ]
    },
    {
     "name": "stdout",
     "output_type": "stream",
     "text": [
      "using alpha model\n"
     ]
    },
    {
     "name": "stderr",
     "output_type": "stream",
     "text": [
      "2018-01-03 16:24:36,801 - ALPHA_MIND - INFO - 2013-05-07 00:00:00 is finished\n",
      "2018-01-03 16:24:36,808 - ALPHA_MIND - INFO - 2013-05-14 00:00:00: 800\n"
     ]
    },
    {
     "name": "stdout",
     "output_type": "stream",
     "text": [
      "using alpha model\n"
     ]
    },
    {
     "name": "stderr",
     "output_type": "stream",
     "text": [
      "2018-01-03 16:24:37,061 - ALPHA_MIND - INFO - 2013-05-14 00:00:00 is finished\n",
      "2018-01-03 16:24:37,066 - ALPHA_MIND - INFO - 2013-05-21 00:00:00: 800\n"
     ]
    },
    {
     "name": "stdout",
     "output_type": "stream",
     "text": [
      "using alpha model\n"
     ]
    },
    {
     "name": "stderr",
     "output_type": "stream",
     "text": [
      "2018-01-03 16:24:37,305 - ALPHA_MIND - INFO - 2013-05-21 00:00:00 is finished\n",
      "2018-01-03 16:24:37,310 - ALPHA_MIND - INFO - 2013-05-28 00:00:00: 800\n"
     ]
    },
    {
     "name": "stdout",
     "output_type": "stream",
     "text": [
      "using alpha model\n"
     ]
    },
    {
     "name": "stderr",
     "output_type": "stream",
     "text": [
      "2018-01-03 16:24:37,554 - ALPHA_MIND - INFO - 2013-05-28 00:00:00 is finished\n",
      "2018-01-03 16:24:37,559 - ALPHA_MIND - INFO - 2013-06-04 00:00:00: 800\n"
     ]
    },
    {
     "name": "stdout",
     "output_type": "stream",
     "text": [
      "using alpha model\n"
     ]
    },
    {
     "name": "stderr",
     "output_type": "stream",
     "text": [
      "2018-01-03 16:24:37,771 - ALPHA_MIND - INFO - 2013-06-04 00:00:00 is finished\n",
      "2018-01-03 16:24:37,776 - ALPHA_MIND - INFO - 2013-06-14 00:00:00: 800\n"
     ]
    },
    {
     "name": "stdout",
     "output_type": "stream",
     "text": [
      "using alpha model\n"
     ]
    },
    {
     "name": "stderr",
     "output_type": "stream",
     "text": [
      "2018-01-03 16:24:38,102 - ALPHA_MIND - INFO - 2013-06-14 00:00:00 is finished\n",
      "2018-01-03 16:24:38,107 - ALPHA_MIND - INFO - 2013-06-21 00:00:00: 800\n"
     ]
    },
    {
     "name": "stdout",
     "output_type": "stream",
     "text": [
      "using alpha model\n"
     ]
    },
    {
     "name": "stderr",
     "output_type": "stream",
     "text": [
      "2018-01-03 16:24:38,330 - ALPHA_MIND - INFO - 2013-06-21 00:00:00 is finished\n",
      "2018-01-03 16:24:38,335 - ALPHA_MIND - INFO - 2013-06-28 00:00:00: 800\n"
     ]
    },
    {
     "name": "stdout",
     "output_type": "stream",
     "text": [
      "using alpha model\n"
     ]
    },
    {
     "name": "stderr",
     "output_type": "stream",
     "text": [
      "2018-01-03 16:24:38,557 - ALPHA_MIND - INFO - 2013-06-28 00:00:00 is finished\n",
      "2018-01-03 16:24:38,563 - ALPHA_MIND - INFO - 2013-07-05 00:00:00: 800\n"
     ]
    },
    {
     "name": "stdout",
     "output_type": "stream",
     "text": [
      "using alpha model\n"
     ]
    },
    {
     "name": "stderr",
     "output_type": "stream",
     "text": [
      "2018-01-03 16:24:38,798 - ALPHA_MIND - INFO - 2013-07-05 00:00:00 is finished\n",
      "2018-01-03 16:24:38,804 - ALPHA_MIND - INFO - 2013-07-12 00:00:00: 800\n"
     ]
    },
    {
     "name": "stdout",
     "output_type": "stream",
     "text": [
      "using alpha model\n"
     ]
    },
    {
     "name": "stderr",
     "output_type": "stream",
     "text": [
      "2018-01-03 16:24:39,041 - ALPHA_MIND - INFO - 2013-07-12 00:00:00 is finished\n",
      "2018-01-03 16:24:39,046 - ALPHA_MIND - INFO - 2013-07-19 00:00:00: 800\n"
     ]
    },
    {
     "name": "stdout",
     "output_type": "stream",
     "text": [
      "using alpha model\n"
     ]
    },
    {
     "name": "stderr",
     "output_type": "stream",
     "text": [
      "2018-01-03 16:24:39,284 - ALPHA_MIND - INFO - 2013-07-19 00:00:00 is finished\n",
      "2018-01-03 16:24:39,289 - ALPHA_MIND - INFO - 2013-07-26 00:00:00: 800\n"
     ]
    },
    {
     "name": "stdout",
     "output_type": "stream",
     "text": [
      "using alpha model\n"
     ]
    },
    {
     "name": "stderr",
     "output_type": "stream",
     "text": [
      "2018-01-03 16:24:39,518 - ALPHA_MIND - INFO - 2013-07-26 00:00:00 is finished\n",
      "2018-01-03 16:24:39,523 - ALPHA_MIND - INFO - 2013-08-02 00:00:00: 800\n"
     ]
    },
    {
     "name": "stdout",
     "output_type": "stream",
     "text": [
      "using alpha model\n"
     ]
    },
    {
     "name": "stderr",
     "output_type": "stream",
     "text": [
      "2018-01-03 16:24:39,750 - ALPHA_MIND - INFO - 2013-08-02 00:00:00 is finished\n",
      "2018-01-03 16:24:39,756 - ALPHA_MIND - INFO - 2013-08-09 00:00:00: 800\n"
     ]
    },
    {
     "name": "stdout",
     "output_type": "stream",
     "text": [
      "using alpha model\n"
     ]
    },
    {
     "name": "stderr",
     "output_type": "stream",
     "text": [
      "2018-01-03 16:24:39,997 - ALPHA_MIND - INFO - 2013-08-09 00:00:00 is finished\n",
      "2018-01-03 16:24:40,004 - ALPHA_MIND - INFO - 2013-08-16 00:00:00: 800\n"
     ]
    },
    {
     "name": "stdout",
     "output_type": "stream",
     "text": [
      "using alpha model\n"
     ]
    },
    {
     "name": "stderr",
     "output_type": "stream",
     "text": [
      "2018-01-03 16:24:40,247 - ALPHA_MIND - INFO - 2013-08-16 00:00:00 is finished\n",
      "2018-01-03 16:24:40,253 - ALPHA_MIND - INFO - 2013-08-23 00:00:00: 800\n"
     ]
    },
    {
     "name": "stdout",
     "output_type": "stream",
     "text": [
      "using alpha model\n"
     ]
    },
    {
     "name": "stderr",
     "output_type": "stream",
     "text": [
      "2018-01-03 16:24:40,480 - ALPHA_MIND - INFO - 2013-08-23 00:00:00 is finished\n",
      "2018-01-03 16:24:40,487 - ALPHA_MIND - INFO - 2013-08-30 00:00:00: 800\n"
     ]
    },
    {
     "name": "stdout",
     "output_type": "stream",
     "text": [
      "using alpha model\n"
     ]
    },
    {
     "name": "stderr",
     "output_type": "stream",
     "text": [
      "2018-01-03 16:24:40,741 - ALPHA_MIND - INFO - 2013-08-30 00:00:00 is finished\n",
      "2018-01-03 16:24:40,745 - ALPHA_MIND - INFO - 2013-09-06 00:00:00: 800\n"
     ]
    },
    {
     "name": "stdout",
     "output_type": "stream",
     "text": [
      "using alpha model\n"
     ]
    },
    {
     "name": "stderr",
     "output_type": "stream",
     "text": [
      "2018-01-03 16:24:40,990 - ALPHA_MIND - INFO - 2013-09-06 00:00:00 is finished\n",
      "2018-01-03 16:24:40,996 - ALPHA_MIND - INFO - 2013-09-13 00:00:00: 800\n"
     ]
    },
    {
     "name": "stdout",
     "output_type": "stream",
     "text": [
      "using alpha model\n"
     ]
    },
    {
     "name": "stderr",
     "output_type": "stream",
     "text": [
      "2018-01-03 16:24:41,234 - ALPHA_MIND - INFO - 2013-09-13 00:00:00 is finished\n",
      "2018-01-03 16:24:41,239 - ALPHA_MIND - INFO - 2013-09-24 00:00:00: 799\n"
     ]
    },
    {
     "name": "stdout",
     "output_type": "stream",
     "text": [
      "using alpha model\n"
     ]
    },
    {
     "name": "stderr",
     "output_type": "stream",
     "text": [
      "2018-01-03 16:24:41,461 - ALPHA_MIND - INFO - 2013-09-24 00:00:00 is finished\n",
      "2018-01-03 16:24:41,467 - ALPHA_MIND - INFO - 2013-10-08 00:00:00: 800\n"
     ]
    },
    {
     "name": "stdout",
     "output_type": "stream",
     "text": [
      "using alpha model\n"
     ]
    },
    {
     "name": "stderr",
     "output_type": "stream",
     "text": [
      "2018-01-03 16:24:41,702 - ALPHA_MIND - INFO - 2013-10-08 00:00:00 is finished\n",
      "2018-01-03 16:24:41,706 - ALPHA_MIND - INFO - 2013-10-15 00:00:00: 800\n"
     ]
    },
    {
     "name": "stdout",
     "output_type": "stream",
     "text": [
      "using alpha model\n"
     ]
    },
    {
     "name": "stderr",
     "output_type": "stream",
     "text": [
      "2018-01-03 16:24:42,036 - ALPHA_MIND - INFO - 2013-10-15 00:00:00 is finished\n",
      "2018-01-03 16:24:42,043 - ALPHA_MIND - INFO - 2013-10-22 00:00:00: 800\n"
     ]
    },
    {
     "name": "stdout",
     "output_type": "stream",
     "text": [
      "using alpha model\n"
     ]
    },
    {
     "name": "stderr",
     "output_type": "stream",
     "text": [
      "2018-01-03 16:24:42,281 - ALPHA_MIND - INFO - 2013-10-22 00:00:00 is finished\n",
      "2018-01-03 16:24:42,286 - ALPHA_MIND - INFO - 2013-10-29 00:00:00: 800\n"
     ]
    },
    {
     "name": "stdout",
     "output_type": "stream",
     "text": [
      "using alpha model\n"
     ]
    },
    {
     "name": "stderr",
     "output_type": "stream",
     "text": [
      "2018-01-03 16:24:42,524 - ALPHA_MIND - INFO - 2013-10-29 00:00:00 is finished\n",
      "2018-01-03 16:24:42,529 - ALPHA_MIND - INFO - 2013-11-05 00:00:00: 800\n"
     ]
    },
    {
     "name": "stdout",
     "output_type": "stream",
     "text": [
      "using alpha model\n"
     ]
    },
    {
     "name": "stderr",
     "output_type": "stream",
     "text": [
      "2018-01-03 16:24:42,753 - ALPHA_MIND - INFO - 2013-11-05 00:00:00 is finished\n",
      "2018-01-03 16:24:42,760 - ALPHA_MIND - INFO - 2013-11-12 00:00:00: 800\n"
     ]
    },
    {
     "name": "stdout",
     "output_type": "stream",
     "text": [
      "using alpha model\n"
     ]
    },
    {
     "name": "stderr",
     "output_type": "stream",
     "text": [
      "2018-01-03 16:24:42,990 - ALPHA_MIND - INFO - 2013-11-12 00:00:00 is finished\n",
      "2018-01-03 16:24:42,995 - ALPHA_MIND - INFO - 2013-11-19 00:00:00: 800\n"
     ]
    },
    {
     "name": "stdout",
     "output_type": "stream",
     "text": [
      "using alpha model\n"
     ]
    },
    {
     "name": "stderr",
     "output_type": "stream",
     "text": [
      "2018-01-03 16:24:43,243 - ALPHA_MIND - INFO - 2013-11-19 00:00:00 is finished\n",
      "2018-01-03 16:24:43,249 - ALPHA_MIND - INFO - 2013-11-26 00:00:00: 800\n"
     ]
    },
    {
     "name": "stdout",
     "output_type": "stream",
     "text": [
      "using alpha model\n"
     ]
    },
    {
     "name": "stderr",
     "output_type": "stream",
     "text": [
      "2018-01-03 16:24:43,497 - ALPHA_MIND - INFO - 2013-11-26 00:00:00 is finished\n",
      "2018-01-03 16:24:43,503 - ALPHA_MIND - INFO - 2013-12-03 00:00:00: 800\n"
     ]
    },
    {
     "name": "stdout",
     "output_type": "stream",
     "text": [
      "using alpha model\n"
     ]
    },
    {
     "name": "stderr",
     "output_type": "stream",
     "text": [
      "2018-01-03 16:24:43,741 - ALPHA_MIND - INFO - 2013-12-03 00:00:00 is finished\n",
      "2018-01-03 16:24:43,746 - ALPHA_MIND - INFO - 2013-12-10 00:00:00: 800\n"
     ]
    },
    {
     "name": "stdout",
     "output_type": "stream",
     "text": [
      "using alpha model\n"
     ]
    },
    {
     "name": "stderr",
     "output_type": "stream",
     "text": [
      "2018-01-03 16:24:43,980 - ALPHA_MIND - INFO - 2013-12-10 00:00:00 is finished\n",
      "2018-01-03 16:24:43,985 - ALPHA_MIND - INFO - 2013-12-17 00:00:00: 800\n"
     ]
    },
    {
     "name": "stdout",
     "output_type": "stream",
     "text": [
      "using alpha model\n"
     ]
    },
    {
     "name": "stderr",
     "output_type": "stream",
     "text": [
      "2018-01-03 16:24:44,215 - ALPHA_MIND - INFO - 2013-12-17 00:00:00 is finished\n",
      "2018-01-03 16:24:44,220 - ALPHA_MIND - INFO - 2013-12-24 00:00:00: 800\n"
     ]
    },
    {
     "name": "stdout",
     "output_type": "stream",
     "text": [
      "using alpha model\n"
     ]
    },
    {
     "name": "stderr",
     "output_type": "stream",
     "text": [
      "2018-01-03 16:24:44,455 - ALPHA_MIND - INFO - 2013-12-24 00:00:00 is finished\n",
      "2018-01-03 16:24:44,460 - ALPHA_MIND - INFO - 2013-12-31 00:00:00: 800\n"
     ]
    },
    {
     "name": "stdout",
     "output_type": "stream",
     "text": [
      "using alpha model\n"
     ]
    },
    {
     "name": "stderr",
     "output_type": "stream",
     "text": [
      "2018-01-03 16:24:44,688 - ALPHA_MIND - INFO - 2013-12-31 00:00:00 is finished\n",
      "2018-01-03 16:24:44,693 - ALPHA_MIND - INFO - 2014-01-08 00:00:00: 800\n"
     ]
    },
    {
     "name": "stdout",
     "output_type": "stream",
     "text": [
      "using alpha model\n"
     ]
    },
    {
     "name": "stderr",
     "output_type": "stream",
     "text": [
      "2018-01-03 16:24:44,924 - ALPHA_MIND - INFO - 2014-01-08 00:00:00 is finished\n",
      "2018-01-03 16:24:44,928 - ALPHA_MIND - INFO - 2014-01-15 00:00:00: 800\n"
     ]
    },
    {
     "name": "stdout",
     "output_type": "stream",
     "text": [
      "using alpha model\n"
     ]
    },
    {
     "name": "stderr",
     "output_type": "stream",
     "text": [
      "2018-01-03 16:24:45,160 - ALPHA_MIND - INFO - 2014-01-15 00:00:00 is finished\n",
      "2018-01-03 16:24:45,165 - ALPHA_MIND - INFO - 2014-01-22 00:00:00: 800\n"
     ]
    },
    {
     "name": "stdout",
     "output_type": "stream",
     "text": [
      "using alpha model\n"
     ]
    },
    {
     "name": "stderr",
     "output_type": "stream",
     "text": [
      "2018-01-03 16:24:45,398 - ALPHA_MIND - INFO - 2014-01-22 00:00:00 is finished\n",
      "2018-01-03 16:24:45,405 - ALPHA_MIND - INFO - 2014-01-29 00:00:00: 800\n"
     ]
    },
    {
     "name": "stdout",
     "output_type": "stream",
     "text": [
      "using alpha model\n"
     ]
    },
    {
     "name": "stderr",
     "output_type": "stream",
     "text": [
      "2018-01-03 16:24:45,642 - ALPHA_MIND - INFO - 2014-01-29 00:00:00 is finished\n",
      "2018-01-03 16:24:45,648 - ALPHA_MIND - INFO - 2014-02-12 00:00:00: 800\n"
     ]
    },
    {
     "name": "stdout",
     "output_type": "stream",
     "text": [
      "using alpha model\n"
     ]
    },
    {
     "name": "stderr",
     "output_type": "stream",
     "text": [
      "2018-01-03 16:24:45,947 - ALPHA_MIND - INFO - 2014-02-12 00:00:00 is finished\n",
      "2018-01-03 16:24:45,953 - ALPHA_MIND - INFO - 2014-02-19 00:00:00: 800\n"
     ]
    },
    {
     "name": "stdout",
     "output_type": "stream",
     "text": [
      "using alpha model\n"
     ]
    },
    {
     "name": "stderr",
     "output_type": "stream",
     "text": [
      "2018-01-03 16:24:46,172 - ALPHA_MIND - INFO - 2014-02-19 00:00:00 is finished\n",
      "2018-01-03 16:24:46,177 - ALPHA_MIND - INFO - 2014-02-26 00:00:00: 800\n"
     ]
    },
    {
     "name": "stdout",
     "output_type": "stream",
     "text": [
      "using alpha model\n"
     ]
    },
    {
     "name": "stderr",
     "output_type": "stream",
     "text": [
      "2018-01-03 16:24:46,392 - ALPHA_MIND - INFO - 2014-02-26 00:00:00 is finished\n",
      "2018-01-03 16:24:46,398 - ALPHA_MIND - INFO - 2014-03-05 00:00:00: 800\n"
     ]
    },
    {
     "name": "stdout",
     "output_type": "stream",
     "text": [
      "using alpha model\n"
     ]
    },
    {
     "name": "stderr",
     "output_type": "stream",
     "text": [
      "2018-01-03 16:24:46,639 - ALPHA_MIND - INFO - 2014-03-05 00:00:00 is finished\n",
      "2018-01-03 16:24:46,644 - ALPHA_MIND - INFO - 2014-03-12 00:00:00: 800\n"
     ]
    },
    {
     "name": "stdout",
     "output_type": "stream",
     "text": [
      "using alpha model\n"
     ]
    },
    {
     "name": "stderr",
     "output_type": "stream",
     "text": [
      "2018-01-03 16:24:46,870 - ALPHA_MIND - INFO - 2014-03-12 00:00:00 is finished\n",
      "2018-01-03 16:24:46,876 - ALPHA_MIND - INFO - 2014-03-19 00:00:00: 800\n"
     ]
    },
    {
     "name": "stdout",
     "output_type": "stream",
     "text": [
      "using alpha model\n"
     ]
    },
    {
     "name": "stderr",
     "output_type": "stream",
     "text": [
      "2018-01-03 16:24:47,106 - ALPHA_MIND - INFO - 2014-03-19 00:00:00 is finished\n",
      "2018-01-03 16:24:47,111 - ALPHA_MIND - INFO - 2014-03-26 00:00:00: 800\n"
     ]
    },
    {
     "name": "stdout",
     "output_type": "stream",
     "text": [
      "using alpha model\n"
     ]
    },
    {
     "name": "stderr",
     "output_type": "stream",
     "text": [
      "2018-01-03 16:24:47,335 - ALPHA_MIND - INFO - 2014-03-26 00:00:00 is finished\n",
      "2018-01-03 16:24:47,341 - ALPHA_MIND - INFO - 2014-04-02 00:00:00: 800\n"
     ]
    },
    {
     "name": "stdout",
     "output_type": "stream",
     "text": [
      "using alpha model\n"
     ]
    },
    {
     "name": "stderr",
     "output_type": "stream",
     "text": [
      "2018-01-03 16:24:47,572 - ALPHA_MIND - INFO - 2014-04-02 00:00:00 is finished\n",
      "2018-01-03 16:24:47,578 - ALPHA_MIND - INFO - 2014-04-10 00:00:00: 800\n"
     ]
    },
    {
     "name": "stdout",
     "output_type": "stream",
     "text": [
      "using alpha model\n"
     ]
    },
    {
     "name": "stderr",
     "output_type": "stream",
     "text": [
      "2018-01-03 16:24:47,808 - ALPHA_MIND - INFO - 2014-04-10 00:00:00 is finished\n",
      "2018-01-03 16:24:47,814 - ALPHA_MIND - INFO - 2014-04-17 00:00:00: 800\n"
     ]
    },
    {
     "name": "stdout",
     "output_type": "stream",
     "text": [
      "using alpha model\n"
     ]
    },
    {
     "name": "stderr",
     "output_type": "stream",
     "text": [
      "2018-01-03 16:24:48,033 - ALPHA_MIND - INFO - 2014-04-17 00:00:00 is finished\n",
      "2018-01-03 16:24:48,040 - ALPHA_MIND - INFO - 2014-04-24 00:00:00: 800\n"
     ]
    },
    {
     "name": "stdout",
     "output_type": "stream",
     "text": [
      "using alpha model\n"
     ]
    },
    {
     "name": "stderr",
     "output_type": "stream",
     "text": [
      "2018-01-03 16:24:48,271 - ALPHA_MIND - INFO - 2014-04-24 00:00:00 is finished\n",
      "2018-01-03 16:24:48,277 - ALPHA_MIND - INFO - 2014-05-05 00:00:00: 800\n"
     ]
    },
    {
     "name": "stdout",
     "output_type": "stream",
     "text": [
      "using alpha model\n"
     ]
    },
    {
     "name": "stderr",
     "output_type": "stream",
     "text": [
      "2018-01-03 16:24:48,497 - ALPHA_MIND - INFO - 2014-05-05 00:00:00 is finished\n",
      "2018-01-03 16:24:48,502 - ALPHA_MIND - INFO - 2014-05-12 00:00:00: 800\n"
     ]
    },
    {
     "name": "stdout",
     "output_type": "stream",
     "text": [
      "using alpha model\n"
     ]
    },
    {
     "name": "stderr",
     "output_type": "stream",
     "text": [
      "2018-01-03 16:24:48,734 - ALPHA_MIND - INFO - 2014-05-12 00:00:00 is finished\n",
      "2018-01-03 16:24:48,739 - ALPHA_MIND - INFO - 2014-05-19 00:00:00: 800\n"
     ]
    },
    {
     "name": "stdout",
     "output_type": "stream",
     "text": [
      "using alpha model\n"
     ]
    },
    {
     "name": "stderr",
     "output_type": "stream",
     "text": [
      "2018-01-03 16:24:48,974 - ALPHA_MIND - INFO - 2014-05-19 00:00:00 is finished\n",
      "2018-01-03 16:24:48,980 - ALPHA_MIND - INFO - 2014-05-26 00:00:00: 800\n"
     ]
    },
    {
     "name": "stdout",
     "output_type": "stream",
     "text": [
      "using alpha model\n"
     ]
    },
    {
     "name": "stderr",
     "output_type": "stream",
     "text": [
      "2018-01-03 16:24:49,214 - ALPHA_MIND - INFO - 2014-05-26 00:00:00 is finished\n",
      "2018-01-03 16:24:49,218 - ALPHA_MIND - INFO - 2014-06-03 00:00:00: 800\n"
     ]
    },
    {
     "name": "stdout",
     "output_type": "stream",
     "text": [
      "using alpha model\n"
     ]
    },
    {
     "name": "stderr",
     "output_type": "stream",
     "text": [
      "2018-01-03 16:24:49,444 - ALPHA_MIND - INFO - 2014-06-03 00:00:00 is finished\n",
      "2018-01-03 16:24:49,449 - ALPHA_MIND - INFO - 2014-06-10 00:00:00: 800\n"
     ]
    },
    {
     "name": "stdout",
     "output_type": "stream",
     "text": [
      "using alpha model\n"
     ]
    },
    {
     "name": "stderr",
     "output_type": "stream",
     "text": [
      "2018-01-03 16:24:49,750 - ALPHA_MIND - INFO - 2014-06-10 00:00:00 is finished\n",
      "2018-01-03 16:24:49,755 - ALPHA_MIND - INFO - 2014-06-17 00:00:00: 800\n"
     ]
    },
    {
     "name": "stdout",
     "output_type": "stream",
     "text": [
      "using alpha model\n"
     ]
    },
    {
     "name": "stderr",
     "output_type": "stream",
     "text": [
      "2018-01-03 16:24:49,991 - ALPHA_MIND - INFO - 2014-06-17 00:00:00 is finished\n",
      "2018-01-03 16:24:49,996 - ALPHA_MIND - INFO - 2014-06-24 00:00:00: 800\n"
     ]
    },
    {
     "name": "stdout",
     "output_type": "stream",
     "text": [
      "using alpha model\n"
     ]
    },
    {
     "name": "stderr",
     "output_type": "stream",
     "text": [
      "2018-01-03 16:24:50,211 - ALPHA_MIND - INFO - 2014-06-24 00:00:00 is finished\n",
      "2018-01-03 16:24:50,218 - ALPHA_MIND - INFO - 2014-07-01 00:00:00: 800\n"
     ]
    },
    {
     "name": "stdout",
     "output_type": "stream",
     "text": [
      "using alpha model\n"
     ]
    },
    {
     "name": "stderr",
     "output_type": "stream",
     "text": [
      "2018-01-03 16:24:50,445 - ALPHA_MIND - INFO - 2014-07-01 00:00:00 is finished\n",
      "2018-01-03 16:24:50,450 - ALPHA_MIND - INFO - 2014-07-08 00:00:00: 800\n"
     ]
    },
    {
     "name": "stdout",
     "output_type": "stream",
     "text": [
      "using alpha model\n"
     ]
    },
    {
     "name": "stderr",
     "output_type": "stream",
     "text": [
      "2018-01-03 16:24:50,670 - ALPHA_MIND - INFO - 2014-07-08 00:00:00 is finished\n",
      "2018-01-03 16:24:50,675 - ALPHA_MIND - INFO - 2014-07-15 00:00:00: 800\n"
     ]
    },
    {
     "name": "stdout",
     "output_type": "stream",
     "text": [
      "using alpha model\n"
     ]
    },
    {
     "name": "stderr",
     "output_type": "stream",
     "text": [
      "2018-01-03 16:24:50,909 - ALPHA_MIND - INFO - 2014-07-15 00:00:00 is finished\n",
      "2018-01-03 16:24:50,916 - ALPHA_MIND - INFO - 2014-07-22 00:00:00: 800\n"
     ]
    },
    {
     "name": "stdout",
     "output_type": "stream",
     "text": [
      "using alpha model\n"
     ]
    },
    {
     "name": "stderr",
     "output_type": "stream",
     "text": [
      "2018-01-03 16:24:51,157 - ALPHA_MIND - INFO - 2014-07-22 00:00:00 is finished\n",
      "2018-01-03 16:24:51,162 - ALPHA_MIND - INFO - 2014-07-29 00:00:00: 800\n"
     ]
    },
    {
     "name": "stdout",
     "output_type": "stream",
     "text": [
      "using alpha model\n"
     ]
    },
    {
     "name": "stderr",
     "output_type": "stream",
     "text": [
      "2018-01-03 16:24:51,389 - ALPHA_MIND - INFO - 2014-07-29 00:00:00 is finished\n",
      "2018-01-03 16:24:51,395 - ALPHA_MIND - INFO - 2014-08-05 00:00:00: 800\n"
     ]
    },
    {
     "name": "stdout",
     "output_type": "stream",
     "text": [
      "using alpha model\n"
     ]
    },
    {
     "name": "stderr",
     "output_type": "stream",
     "text": [
      "2018-01-03 16:24:51,623 - ALPHA_MIND - INFO - 2014-08-05 00:00:00 is finished\n",
      "2018-01-03 16:24:51,629 - ALPHA_MIND - INFO - 2014-08-12 00:00:00: 800\n"
     ]
    },
    {
     "name": "stdout",
     "output_type": "stream",
     "text": [
      "using alpha model\n"
     ]
    },
    {
     "name": "stderr",
     "output_type": "stream",
     "text": [
      "2018-01-03 16:24:51,845 - ALPHA_MIND - INFO - 2014-08-12 00:00:00 is finished\n",
      "2018-01-03 16:24:51,851 - ALPHA_MIND - INFO - 2014-08-19 00:00:00: 800\n"
     ]
    },
    {
     "name": "stdout",
     "output_type": "stream",
     "text": [
      "using alpha model\n"
     ]
    },
    {
     "name": "stderr",
     "output_type": "stream",
     "text": [
      "2018-01-03 16:24:52,080 - ALPHA_MIND - INFO - 2014-08-19 00:00:00 is finished\n",
      "2018-01-03 16:24:52,086 - ALPHA_MIND - INFO - 2014-08-26 00:00:00: 800\n"
     ]
    },
    {
     "name": "stdout",
     "output_type": "stream",
     "text": [
      "using alpha model\n"
     ]
    },
    {
     "name": "stderr",
     "output_type": "stream",
     "text": [
      "2018-01-03 16:24:52,315 - ALPHA_MIND - INFO - 2014-08-26 00:00:00 is finished\n",
      "2018-01-03 16:24:52,320 - ALPHA_MIND - INFO - 2014-09-02 00:00:00: 800\n"
     ]
    },
    {
     "name": "stdout",
     "output_type": "stream",
     "text": [
      "using alpha model\n"
     ]
    },
    {
     "name": "stderr",
     "output_type": "stream",
     "text": [
      "2018-01-03 16:24:52,560 - ALPHA_MIND - INFO - 2014-09-02 00:00:00 is finished\n",
      "2018-01-03 16:24:52,564 - ALPHA_MIND - INFO - 2014-09-10 00:00:00: 800\n"
     ]
    },
    {
     "name": "stdout",
     "output_type": "stream",
     "text": [
      "using alpha model\n"
     ]
    },
    {
     "name": "stderr",
     "output_type": "stream",
     "text": [
      "2018-01-03 16:24:52,797 - ALPHA_MIND - INFO - 2014-09-10 00:00:00 is finished\n",
      "2018-01-03 16:24:52,802 - ALPHA_MIND - INFO - 2014-09-17 00:00:00: 800\n"
     ]
    },
    {
     "name": "stdout",
     "output_type": "stream",
     "text": [
      "using alpha model\n"
     ]
    },
    {
     "name": "stderr",
     "output_type": "stream",
     "text": [
      "2018-01-03 16:24:53,036 - ALPHA_MIND - INFO - 2014-09-17 00:00:00 is finished\n",
      "2018-01-03 16:24:53,041 - ALPHA_MIND - INFO - 2014-09-24 00:00:00: 800\n"
     ]
    },
    {
     "name": "stdout",
     "output_type": "stream",
     "text": [
      "using alpha model\n"
     ]
    },
    {
     "name": "stderr",
     "output_type": "stream",
     "text": [
      "2018-01-03 16:24:53,272 - ALPHA_MIND - INFO - 2014-09-24 00:00:00 is finished\n",
      "2018-01-03 16:24:53,277 - ALPHA_MIND - INFO - 2014-10-08 00:00:00: 800\n"
     ]
    },
    {
     "name": "stdout",
     "output_type": "stream",
     "text": [
      "using alpha model\n"
     ]
    },
    {
     "name": "stderr",
     "output_type": "stream",
     "text": [
      "2018-01-03 16:24:53,596 - ALPHA_MIND - INFO - 2014-10-08 00:00:00 is finished\n",
      "2018-01-03 16:24:53,600 - ALPHA_MIND - INFO - 2014-10-15 00:00:00: 800\n"
     ]
    },
    {
     "name": "stdout",
     "output_type": "stream",
     "text": [
      "using alpha model\n"
     ]
    },
    {
     "name": "stderr",
     "output_type": "stream",
     "text": [
      "2018-01-03 16:24:53,817 - ALPHA_MIND - INFO - 2014-10-15 00:00:00 is finished\n",
      "2018-01-03 16:24:53,823 - ALPHA_MIND - INFO - 2014-10-22 00:00:00: 800\n"
     ]
    },
    {
     "name": "stdout",
     "output_type": "stream",
     "text": [
      "using alpha model\n"
     ]
    },
    {
     "name": "stderr",
     "output_type": "stream",
     "text": [
      "2018-01-03 16:24:54,055 - ALPHA_MIND - INFO - 2014-10-22 00:00:00 is finished\n",
      "2018-01-03 16:24:54,059 - ALPHA_MIND - INFO - 2014-10-29 00:00:00: 800\n"
     ]
    },
    {
     "name": "stdout",
     "output_type": "stream",
     "text": [
      "using alpha model\n"
     ]
    },
    {
     "name": "stderr",
     "output_type": "stream",
     "text": [
      "2018-01-03 16:24:54,294 - ALPHA_MIND - INFO - 2014-10-29 00:00:00 is finished\n",
      "2018-01-03 16:24:54,298 - ALPHA_MIND - INFO - 2014-11-05 00:00:00: 800\n"
     ]
    },
    {
     "name": "stdout",
     "output_type": "stream",
     "text": [
      "using alpha model\n"
     ]
    },
    {
     "name": "stderr",
     "output_type": "stream",
     "text": [
      "2018-01-03 16:24:54,536 - ALPHA_MIND - INFO - 2014-11-05 00:00:00 is finished\n",
      "2018-01-03 16:24:54,541 - ALPHA_MIND - INFO - 2014-11-12 00:00:00: 800\n"
     ]
    },
    {
     "name": "stdout",
     "output_type": "stream",
     "text": [
      "using alpha model\n"
     ]
    },
    {
     "name": "stderr",
     "output_type": "stream",
     "text": [
      "2018-01-03 16:24:54,766 - ALPHA_MIND - INFO - 2014-11-12 00:00:00 is finished\n",
      "2018-01-03 16:24:54,772 - ALPHA_MIND - INFO - 2014-11-19 00:00:00: 800\n"
     ]
    },
    {
     "name": "stdout",
     "output_type": "stream",
     "text": [
      "using alpha model\n"
     ]
    },
    {
     "name": "stderr",
     "output_type": "stream",
     "text": [
      "2018-01-03 16:24:54,996 - ALPHA_MIND - INFO - 2014-11-19 00:00:00 is finished\n",
      "2018-01-03 16:24:55,002 - ALPHA_MIND - INFO - 2014-11-26 00:00:00: 800\n"
     ]
    },
    {
     "name": "stdout",
     "output_type": "stream",
     "text": [
      "using alpha model\n"
     ]
    },
    {
     "name": "stderr",
     "output_type": "stream",
     "text": [
      "2018-01-03 16:24:55,250 - ALPHA_MIND - INFO - 2014-11-26 00:00:00 is finished\n",
      "2018-01-03 16:24:55,255 - ALPHA_MIND - INFO - 2014-12-03 00:00:00: 800\n"
     ]
    },
    {
     "name": "stdout",
     "output_type": "stream",
     "text": [
      "using alpha model\n"
     ]
    },
    {
     "name": "stderr",
     "output_type": "stream",
     "text": [
      "2018-01-03 16:24:55,503 - ALPHA_MIND - INFO - 2014-12-03 00:00:00 is finished\n",
      "2018-01-03 16:24:55,508 - ALPHA_MIND - INFO - 2014-12-10 00:00:00: 800\n"
     ]
    },
    {
     "name": "stdout",
     "output_type": "stream",
     "text": [
      "using alpha model\n"
     ]
    },
    {
     "name": "stderr",
     "output_type": "stream",
     "text": [
      "2018-01-03 16:24:55,753 - ALPHA_MIND - INFO - 2014-12-10 00:00:00 is finished\n",
      "2018-01-03 16:24:55,758 - ALPHA_MIND - INFO - 2014-12-17 00:00:00: 800\n"
     ]
    },
    {
     "name": "stdout",
     "output_type": "stream",
     "text": [
      "using alpha model\n"
     ]
    },
    {
     "name": "stderr",
     "output_type": "stream",
     "text": [
      "2018-01-03 16:24:55,999 - ALPHA_MIND - INFO - 2014-12-17 00:00:00 is finished\n",
      "2018-01-03 16:24:56,004 - ALPHA_MIND - INFO - 2014-12-24 00:00:00: 800\n"
     ]
    },
    {
     "name": "stdout",
     "output_type": "stream",
     "text": [
      "using alpha model\n"
     ]
    },
    {
     "name": "stderr",
     "output_type": "stream",
     "text": [
      "2018-01-03 16:24:56,234 - ALPHA_MIND - INFO - 2014-12-24 00:00:00 is finished\n",
      "2018-01-03 16:24:56,239 - ALPHA_MIND - INFO - 2014-12-31 00:00:00: 800\n"
     ]
    },
    {
     "name": "stdout",
     "output_type": "stream",
     "text": [
      "using alpha model\n"
     ]
    },
    {
     "name": "stderr",
     "output_type": "stream",
     "text": [
      "2018-01-03 16:24:56,486 - ALPHA_MIND - INFO - 2014-12-31 00:00:00 is finished\n",
      "2018-01-03 16:24:56,491 - ALPHA_MIND - INFO - 2015-01-09 00:00:00: 800\n"
     ]
    },
    {
     "name": "stdout",
     "output_type": "stream",
     "text": [
      "using alpha model\n"
     ]
    },
    {
     "name": "stderr",
     "output_type": "stream",
     "text": [
      "2018-01-03 16:24:56,711 - ALPHA_MIND - INFO - 2015-01-09 00:00:00 is finished\n",
      "2018-01-03 16:24:56,716 - ALPHA_MIND - INFO - 2015-01-16 00:00:00: 800\n"
     ]
    },
    {
     "name": "stdout",
     "output_type": "stream",
     "text": [
      "using alpha model\n"
     ]
    },
    {
     "name": "stderr",
     "output_type": "stream",
     "text": [
      "2018-01-03 16:24:56,959 - ALPHA_MIND - INFO - 2015-01-16 00:00:00 is finished\n",
      "2018-01-03 16:24:56,964 - ALPHA_MIND - INFO - 2015-01-23 00:00:00: 800\n"
     ]
    },
    {
     "name": "stdout",
     "output_type": "stream",
     "text": [
      "using alpha model\n"
     ]
    },
    {
     "name": "stderr",
     "output_type": "stream",
     "text": [
      "2018-01-03 16:24:57,183 - ALPHA_MIND - INFO - 2015-01-23 00:00:00 is finished\n",
      "2018-01-03 16:24:57,189 - ALPHA_MIND - INFO - 2015-01-30 00:00:00: 800\n"
     ]
    },
    {
     "name": "stdout",
     "output_type": "stream",
     "text": [
      "using alpha model\n"
     ]
    },
    {
     "name": "stderr",
     "output_type": "stream",
     "text": [
      "2018-01-03 16:24:57,509 - ALPHA_MIND - INFO - 2015-01-30 00:00:00 is finished\n",
      "2018-01-03 16:24:57,515 - ALPHA_MIND - INFO - 2015-02-06 00:00:00: 800\n"
     ]
    },
    {
     "name": "stdout",
     "output_type": "stream",
     "text": [
      "using alpha model\n"
     ]
    },
    {
     "name": "stderr",
     "output_type": "stream",
     "text": [
      "2018-01-03 16:24:57,757 - ALPHA_MIND - INFO - 2015-02-06 00:00:00 is finished\n",
      "2018-01-03 16:24:57,761 - ALPHA_MIND - INFO - 2015-02-13 00:00:00: 800\n"
     ]
    },
    {
     "name": "stdout",
     "output_type": "stream",
     "text": [
      "using alpha model\n"
     ]
    },
    {
     "name": "stderr",
     "output_type": "stream",
     "text": [
      "2018-01-03 16:24:57,997 - ALPHA_MIND - INFO - 2015-02-13 00:00:00 is finished\n",
      "2018-01-03 16:24:58,002 - ALPHA_MIND - INFO - 2015-02-27 00:00:00: 800\n"
     ]
    },
    {
     "name": "stdout",
     "output_type": "stream",
     "text": [
      "using alpha model\n"
     ]
    },
    {
     "name": "stderr",
     "output_type": "stream",
     "text": [
      "2018-01-03 16:24:58,245 - ALPHA_MIND - INFO - 2015-02-27 00:00:00 is finished\n",
      "2018-01-03 16:24:58,251 - ALPHA_MIND - INFO - 2015-03-06 00:00:00: 800\n"
     ]
    },
    {
     "name": "stdout",
     "output_type": "stream",
     "text": [
      "using alpha model\n"
     ]
    },
    {
     "name": "stderr",
     "output_type": "stream",
     "text": [
      "2018-01-03 16:24:58,498 - ALPHA_MIND - INFO - 2015-03-06 00:00:00 is finished\n",
      "2018-01-03 16:24:58,506 - ALPHA_MIND - INFO - 2015-03-13 00:00:00: 800\n"
     ]
    },
    {
     "name": "stdout",
     "output_type": "stream",
     "text": [
      "using alpha model\n"
     ]
    },
    {
     "name": "stderr",
     "output_type": "stream",
     "text": [
      "2018-01-03 16:24:58,765 - ALPHA_MIND - INFO - 2015-03-13 00:00:00 is finished\n",
      "2018-01-03 16:24:58,772 - ALPHA_MIND - INFO - 2015-03-20 00:00:00: 800\n"
     ]
    },
    {
     "name": "stdout",
     "output_type": "stream",
     "text": [
      "using alpha model\n"
     ]
    },
    {
     "name": "stderr",
     "output_type": "stream",
     "text": [
      "2018-01-03 16:24:58,996 - ALPHA_MIND - INFO - 2015-03-20 00:00:00 is finished\n",
      "2018-01-03 16:24:59,003 - ALPHA_MIND - INFO - 2015-03-27 00:00:00: 800\n"
     ]
    },
    {
     "name": "stdout",
     "output_type": "stream",
     "text": [
      "using alpha model\n"
     ]
    },
    {
     "name": "stderr",
     "output_type": "stream",
     "text": [
      "2018-01-03 16:24:59,238 - ALPHA_MIND - INFO - 2015-03-27 00:00:00 is finished\n",
      "2018-01-03 16:24:59,246 - ALPHA_MIND - INFO - 2015-04-03 00:00:00: 800\n"
     ]
    },
    {
     "name": "stdout",
     "output_type": "stream",
     "text": [
      "using alpha model\n"
     ]
    },
    {
     "name": "stderr",
     "output_type": "stream",
     "text": [
      "2018-01-03 16:24:59,490 - ALPHA_MIND - INFO - 2015-04-03 00:00:00 is finished\n",
      "2018-01-03 16:24:59,495 - ALPHA_MIND - INFO - 2015-04-13 00:00:00: 800\n"
     ]
    },
    {
     "name": "stdout",
     "output_type": "stream",
     "text": [
      "using alpha model\n"
     ]
    },
    {
     "name": "stderr",
     "output_type": "stream",
     "text": [
      "2018-01-03 16:24:59,742 - ALPHA_MIND - INFO - 2015-04-13 00:00:00 is finished\n",
      "2018-01-03 16:24:59,746 - ALPHA_MIND - INFO - 2015-04-20 00:00:00: 800\n"
     ]
    },
    {
     "name": "stdout",
     "output_type": "stream",
     "text": [
      "using alpha model\n"
     ]
    },
    {
     "name": "stderr",
     "output_type": "stream",
     "text": [
      "2018-01-03 16:24:59,971 - ALPHA_MIND - INFO - 2015-04-20 00:00:00 is finished\n",
      "2018-01-03 16:24:59,978 - ALPHA_MIND - INFO - 2015-04-27 00:00:00: 800\n"
     ]
    },
    {
     "name": "stdout",
     "output_type": "stream",
     "text": [
      "using alpha model\n"
     ]
    },
    {
     "name": "stderr",
     "output_type": "stream",
     "text": [
      "2018-01-03 16:25:00,211 - ALPHA_MIND - INFO - 2015-04-27 00:00:00 is finished\n",
      "2018-01-03 16:25:00,215 - ALPHA_MIND - INFO - 2015-05-05 00:00:00: 800\n"
     ]
    },
    {
     "name": "stdout",
     "output_type": "stream",
     "text": [
      "using alpha model\n"
     ]
    },
    {
     "name": "stderr",
     "output_type": "stream",
     "text": [
      "2018-01-03 16:25:00,464 - ALPHA_MIND - INFO - 2015-05-05 00:00:00 is finished\n",
      "2018-01-03 16:25:00,469 - ALPHA_MIND - INFO - 2015-05-12 00:00:00: 800\n"
     ]
    },
    {
     "name": "stdout",
     "output_type": "stream",
     "text": [
      "using alpha model\n"
     ]
    },
    {
     "name": "stderr",
     "output_type": "stream",
     "text": [
      "2018-01-03 16:25:00,709 - ALPHA_MIND - INFO - 2015-05-12 00:00:00 is finished\n",
      "2018-01-03 16:25:00,716 - ALPHA_MIND - INFO - 2015-05-19 00:00:00: 800\n"
     ]
    },
    {
     "name": "stdout",
     "output_type": "stream",
     "text": [
      "using alpha model\n"
     ]
    },
    {
     "name": "stderr",
     "output_type": "stream",
     "text": [
      "2018-01-03 16:25:00,963 - ALPHA_MIND - INFO - 2015-05-19 00:00:00 is finished\n",
      "2018-01-03 16:25:00,969 - ALPHA_MIND - INFO - 2015-05-26 00:00:00: 798\n"
     ]
    },
    {
     "name": "stdout",
     "output_type": "stream",
     "text": [
      "using alpha model\n"
     ]
    },
    {
     "name": "stderr",
     "output_type": "stream",
     "text": [
      "2018-01-03 16:25:01,219 - ALPHA_MIND - INFO - 2015-05-26 00:00:00 is finished\n",
      "2018-01-03 16:25:01,225 - ALPHA_MIND - INFO - 2015-06-02 00:00:00: 800\n"
     ]
    },
    {
     "name": "stdout",
     "output_type": "stream",
     "text": [
      "using alpha model\n"
     ]
    },
    {
     "name": "stderr",
     "output_type": "stream",
     "text": [
      "2018-01-03 16:25:01,563 - ALPHA_MIND - INFO - 2015-06-02 00:00:00 is finished\n",
      "2018-01-03 16:25:01,568 - ALPHA_MIND - INFO - 2015-06-09 00:00:00: 800\n"
     ]
    },
    {
     "name": "stdout",
     "output_type": "stream",
     "text": [
      "using alpha model\n"
     ]
    },
    {
     "name": "stderr",
     "output_type": "stream",
     "text": [
      "2018-01-03 16:25:01,806 - ALPHA_MIND - INFO - 2015-06-09 00:00:00 is finished\n",
      "2018-01-03 16:25:01,812 - ALPHA_MIND - INFO - 2015-06-16 00:00:00: 800\n"
     ]
    },
    {
     "name": "stdout",
     "output_type": "stream",
     "text": [
      "using alpha model\n"
     ]
    },
    {
     "name": "stderr",
     "output_type": "stream",
     "text": [
      "2018-01-03 16:25:02,062 - ALPHA_MIND - INFO - 2015-06-16 00:00:00 is finished\n",
      "2018-01-03 16:25:02,067 - ALPHA_MIND - INFO - 2015-06-24 00:00:00: 800\n"
     ]
    },
    {
     "name": "stdout",
     "output_type": "stream",
     "text": [
      "using alpha model\n"
     ]
    },
    {
     "name": "stderr",
     "output_type": "stream",
     "text": [
      "2018-01-03 16:25:02,294 - ALPHA_MIND - INFO - 2015-06-24 00:00:00 is finished\n",
      "2018-01-03 16:25:02,301 - ALPHA_MIND - INFO - 2015-07-01 00:00:00: 800\n"
     ]
    },
    {
     "name": "stdout",
     "output_type": "stream",
     "text": [
      "using alpha model\n"
     ]
    },
    {
     "name": "stderr",
     "output_type": "stream",
     "text": [
      "2018-01-03 16:25:02,544 - ALPHA_MIND - INFO - 2015-07-01 00:00:00 is finished\n",
      "2018-01-03 16:25:02,549 - ALPHA_MIND - INFO - 2015-07-08 00:00:00: 800\n"
     ]
    },
    {
     "name": "stdout",
     "output_type": "stream",
     "text": [
      "using alpha model\n"
     ]
    },
    {
     "name": "stderr",
     "output_type": "stream",
     "text": [
      "2018-01-03 16:25:02,783 - ALPHA_MIND - INFO - 2015-07-08 00:00:00 is finished\n",
      "2018-01-03 16:25:02,789 - ALPHA_MIND - INFO - 2015-07-15 00:00:00: 800\n"
     ]
    },
    {
     "name": "stdout",
     "output_type": "stream",
     "text": [
      "using alpha model\n"
     ]
    },
    {
     "name": "stderr",
     "output_type": "stream",
     "text": [
      "2018-01-03 16:25:03,037 - ALPHA_MIND - INFO - 2015-07-15 00:00:00 is finished\n",
      "2018-01-03 16:25:03,042 - ALPHA_MIND - INFO - 2015-07-22 00:00:00: 800\n"
     ]
    },
    {
     "name": "stdout",
     "output_type": "stream",
     "text": [
      "using alpha model\n"
     ]
    },
    {
     "name": "stderr",
     "output_type": "stream",
     "text": [
      "2018-01-03 16:25:03,274 - ALPHA_MIND - INFO - 2015-07-22 00:00:00 is finished\n",
      "2018-01-03 16:25:03,279 - ALPHA_MIND - INFO - 2015-07-29 00:00:00: 800\n"
     ]
    },
    {
     "name": "stdout",
     "output_type": "stream",
     "text": [
      "using alpha model\n"
     ]
    },
    {
     "name": "stderr",
     "output_type": "stream",
     "text": [
      "2018-01-03 16:25:03,522 - ALPHA_MIND - INFO - 2015-07-29 00:00:00 is finished\n",
      "2018-01-03 16:25:03,528 - ALPHA_MIND - INFO - 2015-08-05 00:00:00: 800\n"
     ]
    },
    {
     "name": "stdout",
     "output_type": "stream",
     "text": [
      "using alpha model\n"
     ]
    },
    {
     "name": "stderr",
     "output_type": "stream",
     "text": [
      "2018-01-03 16:25:03,746 - ALPHA_MIND - INFO - 2015-08-05 00:00:00 is finished\n",
      "2018-01-03 16:25:03,752 - ALPHA_MIND - INFO - 2015-08-12 00:00:00: 800\n"
     ]
    },
    {
     "name": "stdout",
     "output_type": "stream",
     "text": [
      "using alpha model\n"
     ]
    },
    {
     "name": "stderr",
     "output_type": "stream",
     "text": [
      "2018-01-03 16:25:03,982 - ALPHA_MIND - INFO - 2015-08-12 00:00:00 is finished\n",
      "2018-01-03 16:25:03,988 - ALPHA_MIND - INFO - 2015-08-19 00:00:00: 800\n"
     ]
    },
    {
     "name": "stdout",
     "output_type": "stream",
     "text": [
      "using alpha model\n"
     ]
    },
    {
     "name": "stderr",
     "output_type": "stream",
     "text": [
      "2018-01-03 16:25:04,225 - ALPHA_MIND - INFO - 2015-08-19 00:00:00 is finished\n",
      "2018-01-03 16:25:04,230 - ALPHA_MIND - INFO - 2015-08-26 00:00:00: 800\n"
     ]
    },
    {
     "name": "stdout",
     "output_type": "stream",
     "text": [
      "using alpha model\n"
     ]
    },
    {
     "name": "stderr",
     "output_type": "stream",
     "text": [
      "2018-01-03 16:25:04,464 - ALPHA_MIND - INFO - 2015-08-26 00:00:00 is finished\n",
      "2018-01-03 16:25:04,470 - ALPHA_MIND - INFO - 2015-09-02 00:00:00: 800\n"
     ]
    },
    {
     "name": "stdout",
     "output_type": "stream",
     "text": [
      "using alpha model\n"
     ]
    },
    {
     "name": "stderr",
     "output_type": "stream",
     "text": [
      "2018-01-03 16:25:04,722 - ALPHA_MIND - INFO - 2015-09-02 00:00:00 is finished\n",
      "2018-01-03 16:25:04,727 - ALPHA_MIND - INFO - 2015-09-11 00:00:00: 800\n"
     ]
    },
    {
     "name": "stdout",
     "output_type": "stream",
     "text": [
      "using alpha model\n"
     ]
    },
    {
     "name": "stderr",
     "output_type": "stream",
     "text": [
      "2018-01-03 16:25:04,956 - ALPHA_MIND - INFO - 2015-09-11 00:00:00 is finished\n",
      "2018-01-03 16:25:04,962 - ALPHA_MIND - INFO - 2015-09-18 00:00:00: 800\n"
     ]
    },
    {
     "name": "stdout",
     "output_type": "stream",
     "text": [
      "using alpha model\n"
     ]
    },
    {
     "name": "stderr",
     "output_type": "stream",
     "text": [
      "2018-01-03 16:25:05,200 - ALPHA_MIND - INFO - 2015-09-18 00:00:00 is finished\n",
      "2018-01-03 16:25:05,205 - ALPHA_MIND - INFO - 2015-09-25 00:00:00: 800\n"
     ]
    },
    {
     "name": "stdout",
     "output_type": "stream",
     "text": [
      "using alpha model\n"
     ]
    },
    {
     "name": "stderr",
     "output_type": "stream",
     "text": [
      "2018-01-03 16:25:05,519 - ALPHA_MIND - INFO - 2015-09-25 00:00:00 is finished\n",
      "2018-01-03 16:25:05,526 - ALPHA_MIND - INFO - 2015-10-09 00:00:00: 800\n"
     ]
    },
    {
     "name": "stdout",
     "output_type": "stream",
     "text": [
      "using alpha model\n"
     ]
    },
    {
     "name": "stderr",
     "output_type": "stream",
     "text": [
      "2018-01-03 16:25:05,751 - ALPHA_MIND - INFO - 2015-10-09 00:00:00 is finished\n",
      "2018-01-03 16:25:05,757 - ALPHA_MIND - INFO - 2015-10-16 00:00:00: 800\n"
     ]
    },
    {
     "name": "stdout",
     "output_type": "stream",
     "text": [
      "using alpha model\n"
     ]
    },
    {
     "name": "stderr",
     "output_type": "stream",
     "text": [
      "2018-01-03 16:25:05,975 - ALPHA_MIND - INFO - 2015-10-16 00:00:00 is finished\n",
      "2018-01-03 16:25:05,980 - ALPHA_MIND - INFO - 2015-10-23 00:00:00: 800\n"
     ]
    },
    {
     "name": "stdout",
     "output_type": "stream",
     "text": [
      "using alpha model\n"
     ]
    },
    {
     "name": "stderr",
     "output_type": "stream",
     "text": [
      "2018-01-03 16:25:06,213 - ALPHA_MIND - INFO - 2015-10-23 00:00:00 is finished\n",
      "2018-01-03 16:25:06,218 - ALPHA_MIND - INFO - 2015-10-30 00:00:00: 800\n"
     ]
    },
    {
     "name": "stdout",
     "output_type": "stream",
     "text": [
      "using alpha model\n"
     ]
    },
    {
     "name": "stderr",
     "output_type": "stream",
     "text": [
      "2018-01-03 16:25:06,444 - ALPHA_MIND - INFO - 2015-10-30 00:00:00 is finished\n",
      "2018-01-03 16:25:06,450 - ALPHA_MIND - INFO - 2015-11-06 00:00:00: 800\n"
     ]
    },
    {
     "name": "stdout",
     "output_type": "stream",
     "text": [
      "using alpha model\n"
     ]
    },
    {
     "name": "stderr",
     "output_type": "stream",
     "text": [
      "2018-01-03 16:25:06,692 - ALPHA_MIND - INFO - 2015-11-06 00:00:00 is finished\n",
      "2018-01-03 16:25:06,697 - ALPHA_MIND - INFO - 2015-11-13 00:00:00: 800\n"
     ]
    },
    {
     "name": "stdout",
     "output_type": "stream",
     "text": [
      "using alpha model\n"
     ]
    },
    {
     "name": "stderr",
     "output_type": "stream",
     "text": [
      "2018-01-03 16:25:06,945 - ALPHA_MIND - INFO - 2015-11-13 00:00:00 is finished\n",
      "2018-01-03 16:25:06,950 - ALPHA_MIND - INFO - 2015-11-20 00:00:00: 800\n"
     ]
    },
    {
     "name": "stdout",
     "output_type": "stream",
     "text": [
      "using alpha model\n"
     ]
    },
    {
     "name": "stderr",
     "output_type": "stream",
     "text": [
      "2018-01-03 16:25:07,185 - ALPHA_MIND - INFO - 2015-11-20 00:00:00 is finished\n",
      "2018-01-03 16:25:07,191 - ALPHA_MIND - INFO - 2015-11-27 00:00:00: 800\n"
     ]
    },
    {
     "name": "stdout",
     "output_type": "stream",
     "text": [
      "using alpha model\n"
     ]
    },
    {
     "name": "stderr",
     "output_type": "stream",
     "text": [
      "2018-01-03 16:25:07,436 - ALPHA_MIND - INFO - 2015-11-27 00:00:00 is finished\n",
      "2018-01-03 16:25:07,441 - ALPHA_MIND - INFO - 2015-12-04 00:00:00: 800\n"
     ]
    },
    {
     "name": "stdout",
     "output_type": "stream",
     "text": [
      "using alpha model\n"
     ]
    },
    {
     "name": "stderr",
     "output_type": "stream",
     "text": [
      "2018-01-03 16:25:07,680 - ALPHA_MIND - INFO - 2015-12-04 00:00:00 is finished\n",
      "2018-01-03 16:25:07,685 - ALPHA_MIND - INFO - 2015-12-11 00:00:00: 800\n"
     ]
    },
    {
     "name": "stdout",
     "output_type": "stream",
     "text": [
      "using alpha model\n"
     ]
    },
    {
     "name": "stderr",
     "output_type": "stream",
     "text": [
      "2018-01-03 16:25:07,922 - ALPHA_MIND - INFO - 2015-12-11 00:00:00 is finished\n",
      "2018-01-03 16:25:07,929 - ALPHA_MIND - INFO - 2015-12-18 00:00:00: 800\n"
     ]
    },
    {
     "name": "stdout",
     "output_type": "stream",
     "text": [
      "using alpha model\n"
     ]
    },
    {
     "name": "stderr",
     "output_type": "stream",
     "text": [
      "2018-01-03 16:25:08,175 - ALPHA_MIND - INFO - 2015-12-18 00:00:00 is finished\n",
      "2018-01-03 16:25:08,179 - ALPHA_MIND - INFO - 2015-12-25 00:00:00: 800\n"
     ]
    },
    {
     "name": "stdout",
     "output_type": "stream",
     "text": [
      "using alpha model\n"
     ]
    },
    {
     "name": "stderr",
     "output_type": "stream",
     "text": [
      "2018-01-03 16:25:08,418 - ALPHA_MIND - INFO - 2015-12-25 00:00:00 is finished\n",
      "2018-01-03 16:25:08,424 - ALPHA_MIND - INFO - 2016-01-04 00:00:00: 799\n"
     ]
    },
    {
     "name": "stdout",
     "output_type": "stream",
     "text": [
      "using alpha model\n"
     ]
    },
    {
     "name": "stderr",
     "output_type": "stream",
     "text": [
      "2018-01-03 16:25:08,642 - ALPHA_MIND - INFO - 2016-01-04 00:00:00 is finished\n",
      "2018-01-03 16:25:08,648 - ALPHA_MIND - INFO - 2016-01-11 00:00:00: 800\n"
     ]
    },
    {
     "name": "stdout",
     "output_type": "stream",
     "text": [
      "using alpha model\n"
     ]
    },
    {
     "name": "stderr",
     "output_type": "stream",
     "text": [
      "2018-01-03 16:25:08,877 - ALPHA_MIND - INFO - 2016-01-11 00:00:00 is finished\n",
      "2018-01-03 16:25:08,882 - ALPHA_MIND - INFO - 2016-01-18 00:00:00: 800\n"
     ]
    },
    {
     "name": "stdout",
     "output_type": "stream",
     "text": [
      "using alpha model\n"
     ]
    },
    {
     "name": "stderr",
     "output_type": "stream",
     "text": [
      "2018-01-03 16:25:09,130 - ALPHA_MIND - INFO - 2016-01-18 00:00:00 is finished\n",
      "2018-01-03 16:25:09,135 - ALPHA_MIND - INFO - 2016-01-25 00:00:00: 800\n"
     ]
    },
    {
     "name": "stdout",
     "output_type": "stream",
     "text": [
      "using alpha model\n"
     ]
    },
    {
     "name": "stderr",
     "output_type": "stream",
     "text": [
      "2018-01-03 16:25:09,473 - ALPHA_MIND - INFO - 2016-01-25 00:00:00 is finished\n",
      "2018-01-03 16:25:09,479 - ALPHA_MIND - INFO - 2016-02-01 00:00:00: 800\n"
     ]
    },
    {
     "name": "stdout",
     "output_type": "stream",
     "text": [
      "using alpha model\n"
     ]
    },
    {
     "name": "stderr",
     "output_type": "stream",
     "text": [
      "2018-01-03 16:25:09,707 - ALPHA_MIND - INFO - 2016-02-01 00:00:00 is finished\n",
      "2018-01-03 16:25:09,713 - ALPHA_MIND - INFO - 2016-02-15 00:00:00: 800\n"
     ]
    },
    {
     "name": "stdout",
     "output_type": "stream",
     "text": [
      "using alpha model\n"
     ]
    },
    {
     "name": "stderr",
     "output_type": "stream",
     "text": [
      "2018-01-03 16:25:09,957 - ALPHA_MIND - INFO - 2016-02-15 00:00:00 is finished\n",
      "2018-01-03 16:25:09,963 - ALPHA_MIND - INFO - 2016-02-22 00:00:00: 800\n"
     ]
    },
    {
     "name": "stdout",
     "output_type": "stream",
     "text": [
      "using alpha model\n"
     ]
    },
    {
     "name": "stderr",
     "output_type": "stream",
     "text": [
      "2018-01-03 16:25:10,201 - ALPHA_MIND - INFO - 2016-02-22 00:00:00 is finished\n",
      "2018-01-03 16:25:10,205 - ALPHA_MIND - INFO - 2016-02-29 00:00:00: 800\n"
     ]
    },
    {
     "name": "stdout",
     "output_type": "stream",
     "text": [
      "using alpha model\n"
     ]
    },
    {
     "name": "stderr",
     "output_type": "stream",
     "text": [
      "2018-01-03 16:25:10,443 - ALPHA_MIND - INFO - 2016-02-29 00:00:00 is finished\n",
      "2018-01-03 16:25:10,450 - ALPHA_MIND - INFO - 2016-03-07 00:00:00: 800\n"
     ]
    },
    {
     "name": "stdout",
     "output_type": "stream",
     "text": [
      "using alpha model\n"
     ]
    },
    {
     "name": "stderr",
     "output_type": "stream",
     "text": [
      "2018-01-03 16:25:10,705 - ALPHA_MIND - INFO - 2016-03-07 00:00:00 is finished\n",
      "2018-01-03 16:25:10,710 - ALPHA_MIND - INFO - 2016-03-14 00:00:00: 800\n"
     ]
    },
    {
     "name": "stdout",
     "output_type": "stream",
     "text": [
      "using alpha model\n"
     ]
    },
    {
     "name": "stderr",
     "output_type": "stream",
     "text": [
      "2018-01-03 16:25:10,960 - ALPHA_MIND - INFO - 2016-03-14 00:00:00 is finished\n",
      "2018-01-03 16:25:10,965 - ALPHA_MIND - INFO - 2016-03-21 00:00:00: 800\n"
     ]
    },
    {
     "name": "stdout",
     "output_type": "stream",
     "text": [
      "using alpha model\n"
     ]
    },
    {
     "name": "stderr",
     "output_type": "stream",
     "text": [
      "2018-01-03 16:25:11,202 - ALPHA_MIND - INFO - 2016-03-21 00:00:00 is finished\n",
      "2018-01-03 16:25:11,207 - ALPHA_MIND - INFO - 2016-03-28 00:00:00: 800\n"
     ]
    },
    {
     "name": "stdout",
     "output_type": "stream",
     "text": [
      "using alpha model\n"
     ]
    },
    {
     "name": "stderr",
     "output_type": "stream",
     "text": [
      "2018-01-03 16:25:11,454 - ALPHA_MIND - INFO - 2016-03-28 00:00:00 is finished\n",
      "2018-01-03 16:25:11,460 - ALPHA_MIND - INFO - 2016-04-05 00:00:00: 800\n"
     ]
    },
    {
     "name": "stdout",
     "output_type": "stream",
     "text": [
      "using alpha model\n"
     ]
    },
    {
     "name": "stderr",
     "output_type": "stream",
     "text": [
      "2018-01-03 16:25:11,718 - ALPHA_MIND - INFO - 2016-04-05 00:00:00 is finished\n",
      "2018-01-03 16:25:11,724 - ALPHA_MIND - INFO - 2016-04-12 00:00:00: 800\n"
     ]
    },
    {
     "name": "stdout",
     "output_type": "stream",
     "text": [
      "using alpha model\n"
     ]
    },
    {
     "name": "stderr",
     "output_type": "stream",
     "text": [
      "2018-01-03 16:25:11,952 - ALPHA_MIND - INFO - 2016-04-12 00:00:00 is finished\n",
      "2018-01-03 16:25:11,957 - ALPHA_MIND - INFO - 2016-04-19 00:00:00: 800\n"
     ]
    },
    {
     "name": "stdout",
     "output_type": "stream",
     "text": [
      "using alpha model\n"
     ]
    },
    {
     "name": "stderr",
     "output_type": "stream",
     "text": [
      "2018-01-03 16:25:12,184 - ALPHA_MIND - INFO - 2016-04-19 00:00:00 is finished\n",
      "2018-01-03 16:25:12,189 - ALPHA_MIND - INFO - 2016-04-26 00:00:00: 800\n"
     ]
    },
    {
     "name": "stdout",
     "output_type": "stream",
     "text": [
      "using alpha model\n"
     ]
    },
    {
     "name": "stderr",
     "output_type": "stream",
     "text": [
      "2018-01-03 16:25:12,418 - ALPHA_MIND - INFO - 2016-04-26 00:00:00 is finished\n",
      "2018-01-03 16:25:12,423 - ALPHA_MIND - INFO - 2016-05-04 00:00:00: 800\n"
     ]
    },
    {
     "name": "stdout",
     "output_type": "stream",
     "text": [
      "using alpha model\n"
     ]
    },
    {
     "name": "stderr",
     "output_type": "stream",
     "text": [
      "2018-01-03 16:25:12,655 - ALPHA_MIND - INFO - 2016-05-04 00:00:00 is finished\n",
      "2018-01-03 16:25:12,660 - ALPHA_MIND - INFO - 2016-05-11 00:00:00: 800\n"
     ]
    },
    {
     "name": "stdout",
     "output_type": "stream",
     "text": [
      "using alpha model\n"
     ]
    },
    {
     "name": "stderr",
     "output_type": "stream",
     "text": [
      "2018-01-03 16:25:12,893 - ALPHA_MIND - INFO - 2016-05-11 00:00:00 is finished\n",
      "2018-01-03 16:25:12,900 - ALPHA_MIND - INFO - 2016-05-18 00:00:00: 800\n"
     ]
    },
    {
     "name": "stdout",
     "output_type": "stream",
     "text": [
      "using alpha model\n"
     ]
    },
    {
     "name": "stderr",
     "output_type": "stream",
     "text": [
      "2018-01-03 16:25:13,136 - ALPHA_MIND - INFO - 2016-05-18 00:00:00 is finished\n",
      "2018-01-03 16:25:13,141 - ALPHA_MIND - INFO - 2016-05-25 00:00:00: 800\n"
     ]
    },
    {
     "name": "stdout",
     "output_type": "stream",
     "text": [
      "using alpha model\n"
     ]
    },
    {
     "name": "stderr",
     "output_type": "stream",
     "text": [
      "2018-01-03 16:25:13,441 - ALPHA_MIND - INFO - 2016-05-25 00:00:00 is finished\n",
      "2018-01-03 16:25:13,445 - ALPHA_MIND - INFO - 2016-06-01 00:00:00: 800\n"
     ]
    },
    {
     "name": "stdout",
     "output_type": "stream",
     "text": [
      "using alpha model\n"
     ]
    },
    {
     "name": "stderr",
     "output_type": "stream",
     "text": [
      "2018-01-03 16:25:13,683 - ALPHA_MIND - INFO - 2016-06-01 00:00:00 is finished\n",
      "2018-01-03 16:25:13,689 - ALPHA_MIND - INFO - 2016-06-08 00:00:00: 800\n"
     ]
    },
    {
     "name": "stdout",
     "output_type": "stream",
     "text": [
      "using alpha model\n"
     ]
    },
    {
     "name": "stderr",
     "output_type": "stream",
     "text": [
      "2018-01-03 16:25:13,928 - ALPHA_MIND - INFO - 2016-06-08 00:00:00 is finished\n",
      "2018-01-03 16:25:13,933 - ALPHA_MIND - INFO - 2016-06-17 00:00:00: 800\n"
     ]
    },
    {
     "name": "stdout",
     "output_type": "stream",
     "text": [
      "using alpha model\n"
     ]
    },
    {
     "name": "stderr",
     "output_type": "stream",
     "text": [
      "2018-01-03 16:25:14,165 - ALPHA_MIND - INFO - 2016-06-17 00:00:00 is finished\n",
      "2018-01-03 16:25:14,170 - ALPHA_MIND - INFO - 2016-06-24 00:00:00: 800\n"
     ]
    },
    {
     "name": "stdout",
     "output_type": "stream",
     "text": [
      "using alpha model\n"
     ]
    },
    {
     "name": "stderr",
     "output_type": "stream",
     "text": [
      "2018-01-03 16:25:14,394 - ALPHA_MIND - INFO - 2016-06-24 00:00:00 is finished\n",
      "2018-01-03 16:25:14,400 - ALPHA_MIND - INFO - 2016-07-01 00:00:00: 800\n"
     ]
    },
    {
     "name": "stdout",
     "output_type": "stream",
     "text": [
      "using alpha model\n"
     ]
    },
    {
     "name": "stderr",
     "output_type": "stream",
     "text": [
      "2018-01-03 16:25:14,628 - ALPHA_MIND - INFO - 2016-07-01 00:00:00 is finished\n",
      "2018-01-03 16:25:14,633 - ALPHA_MIND - INFO - 2016-07-08 00:00:00: 800\n"
     ]
    },
    {
     "name": "stdout",
     "output_type": "stream",
     "text": [
      "using alpha model\n"
     ]
    },
    {
     "name": "stderr",
     "output_type": "stream",
     "text": [
      "2018-01-03 16:25:14,861 - ALPHA_MIND - INFO - 2016-07-08 00:00:00 is finished\n",
      "2018-01-03 16:25:14,866 - ALPHA_MIND - INFO - 2016-07-15 00:00:00: 800\n"
     ]
    },
    {
     "name": "stdout",
     "output_type": "stream",
     "text": [
      "using alpha model\n"
     ]
    },
    {
     "name": "stderr",
     "output_type": "stream",
     "text": [
      "2018-01-03 16:25:15,106 - ALPHA_MIND - INFO - 2016-07-15 00:00:00 is finished\n",
      "2018-01-03 16:25:15,110 - ALPHA_MIND - INFO - 2016-07-22 00:00:00: 800\n"
     ]
    },
    {
     "name": "stdout",
     "output_type": "stream",
     "text": [
      "using alpha model\n"
     ]
    },
    {
     "name": "stderr",
     "output_type": "stream",
     "text": [
      "2018-01-03 16:25:15,340 - ALPHA_MIND - INFO - 2016-07-22 00:00:00 is finished\n",
      "2018-01-03 16:25:15,345 - ALPHA_MIND - INFO - 2016-07-29 00:00:00: 800\n"
     ]
    },
    {
     "name": "stdout",
     "output_type": "stream",
     "text": [
      "using alpha model\n"
     ]
    },
    {
     "name": "stderr",
     "output_type": "stream",
     "text": [
      "2018-01-03 16:25:15,599 - ALPHA_MIND - INFO - 2016-07-29 00:00:00 is finished\n",
      "2018-01-03 16:25:15,605 - ALPHA_MIND - INFO - 2016-08-05 00:00:00: 800\n"
     ]
    },
    {
     "name": "stdout",
     "output_type": "stream",
     "text": [
      "using alpha model\n"
     ]
    },
    {
     "name": "stderr",
     "output_type": "stream",
     "text": [
      "2018-01-03 16:25:15,833 - ALPHA_MIND - INFO - 2016-08-05 00:00:00 is finished\n",
      "2018-01-03 16:25:15,839 - ALPHA_MIND - INFO - 2016-08-12 00:00:00: 800\n"
     ]
    },
    {
     "name": "stdout",
     "output_type": "stream",
     "text": [
      "using alpha model\n"
     ]
    },
    {
     "name": "stderr",
     "output_type": "stream",
     "text": [
      "2018-01-03 16:25:16,073 - ALPHA_MIND - INFO - 2016-08-12 00:00:00 is finished\n",
      "2018-01-03 16:25:16,077 - ALPHA_MIND - INFO - 2016-08-19 00:00:00: 800\n"
     ]
    },
    {
     "name": "stdout",
     "output_type": "stream",
     "text": [
      "using alpha model\n"
     ]
    },
    {
     "name": "stderr",
     "output_type": "stream",
     "text": [
      "2018-01-03 16:25:16,321 - ALPHA_MIND - INFO - 2016-08-19 00:00:00 is finished\n",
      "2018-01-03 16:25:16,325 - ALPHA_MIND - INFO - 2016-08-26 00:00:00: 800\n"
     ]
    },
    {
     "name": "stdout",
     "output_type": "stream",
     "text": [
      "using alpha model\n"
     ]
    },
    {
     "name": "stderr",
     "output_type": "stream",
     "text": [
      "2018-01-03 16:25:16,561 - ALPHA_MIND - INFO - 2016-08-26 00:00:00 is finished\n",
      "2018-01-03 16:25:16,565 - ALPHA_MIND - INFO - 2016-09-02 00:00:00: 800\n"
     ]
    },
    {
     "name": "stdout",
     "output_type": "stream",
     "text": [
      "using alpha model\n"
     ]
    },
    {
     "name": "stderr",
     "output_type": "stream",
     "text": [
      "2018-01-03 16:25:16,800 - ALPHA_MIND - INFO - 2016-09-02 00:00:00 is finished\n",
      "2018-01-03 16:25:16,805 - ALPHA_MIND - INFO - 2016-09-09 00:00:00: 800\n"
     ]
    },
    {
     "name": "stdout",
     "output_type": "stream",
     "text": [
      "using alpha model\n"
     ]
    },
    {
     "name": "stderr",
     "output_type": "stream",
     "text": [
      "2018-01-03 16:25:17,040 - ALPHA_MIND - INFO - 2016-09-09 00:00:00 is finished\n",
      "2018-01-03 16:25:17,045 - ALPHA_MIND - INFO - 2016-09-20 00:00:00: 800\n"
     ]
    },
    {
     "name": "stdout",
     "output_type": "stream",
     "text": [
      "using alpha model\n"
     ]
    },
    {
     "name": "stderr",
     "output_type": "stream",
     "text": [
      "2018-01-03 16:25:17,358 - ALPHA_MIND - INFO - 2016-09-20 00:00:00 is finished\n",
      "2018-01-03 16:25:17,363 - ALPHA_MIND - INFO - 2016-09-27 00:00:00: 800\n"
     ]
    },
    {
     "name": "stdout",
     "output_type": "stream",
     "text": [
      "using alpha model\n"
     ]
    },
    {
     "name": "stderr",
     "output_type": "stream",
     "text": [
      "2018-01-03 16:25:17,595 - ALPHA_MIND - INFO - 2016-09-27 00:00:00 is finished\n",
      "2018-01-03 16:25:17,599 - ALPHA_MIND - INFO - 2016-10-11 00:00:00: 800\n"
     ]
    },
    {
     "name": "stdout",
     "output_type": "stream",
     "text": [
      "using alpha model\n"
     ]
    },
    {
     "name": "stderr",
     "output_type": "stream",
     "text": [
      "2018-01-03 16:25:17,834 - ALPHA_MIND - INFO - 2016-10-11 00:00:00 is finished\n",
      "2018-01-03 16:25:17,839 - ALPHA_MIND - INFO - 2016-10-18 00:00:00: 800\n"
     ]
    },
    {
     "name": "stdout",
     "output_type": "stream",
     "text": [
      "using alpha model\n"
     ]
    },
    {
     "name": "stderr",
     "output_type": "stream",
     "text": [
      "2018-01-03 16:25:18,078 - ALPHA_MIND - INFO - 2016-10-18 00:00:00 is finished\n",
      "2018-01-03 16:25:18,083 - ALPHA_MIND - INFO - 2016-10-25 00:00:00: 800\n"
     ]
    },
    {
     "name": "stdout",
     "output_type": "stream",
     "text": [
      "using alpha model\n"
     ]
    },
    {
     "name": "stderr",
     "output_type": "stream",
     "text": [
      "2018-01-03 16:25:18,313 - ALPHA_MIND - INFO - 2016-10-25 00:00:00 is finished\n",
      "2018-01-03 16:25:18,318 - ALPHA_MIND - INFO - 2016-11-01 00:00:00: 800\n"
     ]
    },
    {
     "name": "stdout",
     "output_type": "stream",
     "text": [
      "using alpha model\n"
     ]
    },
    {
     "name": "stderr",
     "output_type": "stream",
     "text": [
      "2018-01-03 16:25:18,546 - ALPHA_MIND - INFO - 2016-11-01 00:00:00 is finished\n",
      "2018-01-03 16:25:18,551 - ALPHA_MIND - INFO - 2016-11-08 00:00:00: 800\n"
     ]
    },
    {
     "name": "stdout",
     "output_type": "stream",
     "text": [
      "using alpha model\n"
     ]
    },
    {
     "name": "stderr",
     "output_type": "stream",
     "text": [
      "2018-01-03 16:25:18,781 - ALPHA_MIND - INFO - 2016-11-08 00:00:00 is finished\n",
      "2018-01-03 16:25:18,786 - ALPHA_MIND - INFO - 2016-11-15 00:00:00: 800\n"
     ]
    },
    {
     "name": "stdout",
     "output_type": "stream",
     "text": [
      "using alpha model\n"
     ]
    },
    {
     "name": "stderr",
     "output_type": "stream",
     "text": [
      "2018-01-03 16:25:19,017 - ALPHA_MIND - INFO - 2016-11-15 00:00:00 is finished\n",
      "2018-01-03 16:25:19,022 - ALPHA_MIND - INFO - 2016-11-22 00:00:00: 800\n"
     ]
    },
    {
     "name": "stdout",
     "output_type": "stream",
     "text": [
      "using alpha model\n"
     ]
    },
    {
     "name": "stderr",
     "output_type": "stream",
     "text": [
      "2018-01-03 16:25:19,248 - ALPHA_MIND - INFO - 2016-11-22 00:00:00 is finished\n",
      "2018-01-03 16:25:19,253 - ALPHA_MIND - INFO - 2016-11-29 00:00:00: 800\n"
     ]
    },
    {
     "name": "stdout",
     "output_type": "stream",
     "text": [
      "using alpha model\n"
     ]
    },
    {
     "name": "stderr",
     "output_type": "stream",
     "text": [
      "2018-01-03 16:25:19,490 - ALPHA_MIND - INFO - 2016-11-29 00:00:00 is finished\n",
      "2018-01-03 16:25:19,495 - ALPHA_MIND - INFO - 2016-12-06 00:00:00: 800\n"
     ]
    },
    {
     "name": "stdout",
     "output_type": "stream",
     "text": [
      "using alpha model\n"
     ]
    },
    {
     "name": "stderr",
     "output_type": "stream",
     "text": [
      "2018-01-03 16:25:19,718 - ALPHA_MIND - INFO - 2016-12-06 00:00:00 is finished\n",
      "2018-01-03 16:25:19,724 - ALPHA_MIND - INFO - 2016-12-13 00:00:00: 800\n"
     ]
    },
    {
     "name": "stdout",
     "output_type": "stream",
     "text": [
      "using alpha model\n"
     ]
    },
    {
     "name": "stderr",
     "output_type": "stream",
     "text": [
      "2018-01-03 16:25:19,957 - ALPHA_MIND - INFO - 2016-12-13 00:00:00 is finished\n",
      "2018-01-03 16:25:19,962 - ALPHA_MIND - INFO - 2016-12-20 00:00:00: 800\n"
     ]
    },
    {
     "name": "stdout",
     "output_type": "stream",
     "text": [
      "using alpha model\n"
     ]
    },
    {
     "name": "stderr",
     "output_type": "stream",
     "text": [
      "2018-01-03 16:25:20,195 - ALPHA_MIND - INFO - 2016-12-20 00:00:00 is finished\n",
      "2018-01-03 16:25:20,201 - ALPHA_MIND - INFO - 2016-12-27 00:00:00: 800\n"
     ]
    },
    {
     "name": "stdout",
     "output_type": "stream",
     "text": [
      "using alpha model\n"
     ]
    },
    {
     "name": "stderr",
     "output_type": "stream",
     "text": [
      "2018-01-03 16:25:20,450 - ALPHA_MIND - INFO - 2016-12-27 00:00:00 is finished\n",
      "2018-01-03 16:25:20,455 - ALPHA_MIND - INFO - 2017-01-04 00:00:00: 800\n"
     ]
    },
    {
     "name": "stdout",
     "output_type": "stream",
     "text": [
      "using alpha model\n"
     ]
    },
    {
     "name": "stderr",
     "output_type": "stream",
     "text": [
      "2018-01-03 16:25:20,711 - ALPHA_MIND - INFO - 2017-01-04 00:00:00 is finished\n",
      "2018-01-03 16:25:20,717 - ALPHA_MIND - INFO - 2017-01-11 00:00:00: 800\n"
     ]
    },
    {
     "name": "stdout",
     "output_type": "stream",
     "text": [
      "using alpha model\n"
     ]
    },
    {
     "name": "stderr",
     "output_type": "stream",
     "text": [
      "2018-01-03 16:25:20,952 - ALPHA_MIND - INFO - 2017-01-11 00:00:00 is finished\n",
      "2018-01-03 16:25:20,957 - ALPHA_MIND - INFO - 2017-01-18 00:00:00: 799\n"
     ]
    },
    {
     "name": "stdout",
     "output_type": "stream",
     "text": [
      "using alpha model\n"
     ]
    },
    {
     "name": "stderr",
     "output_type": "stream",
     "text": [
      "2018-01-03 16:25:21,298 - ALPHA_MIND - INFO - 2017-01-18 00:00:00 is finished\n",
      "2018-01-03 16:25:21,304 - ALPHA_MIND - INFO - 2017-01-25 00:00:00: 799\n"
     ]
    },
    {
     "name": "stdout",
     "output_type": "stream",
     "text": [
      "using alpha model\n"
     ]
    },
    {
     "name": "stderr",
     "output_type": "stream",
     "text": [
      "2018-01-03 16:25:21,533 - ALPHA_MIND - INFO - 2017-01-25 00:00:00 is finished\n",
      "2018-01-03 16:25:21,538 - ALPHA_MIND - INFO - 2017-02-08 00:00:00: 800\n"
     ]
    },
    {
     "name": "stdout",
     "output_type": "stream",
     "text": [
      "using alpha model\n"
     ]
    },
    {
     "name": "stderr",
     "output_type": "stream",
     "text": [
      "2018-01-03 16:25:21,803 - ALPHA_MIND - INFO - 2017-02-08 00:00:00 is finished\n",
      "2018-01-03 16:25:21,807 - ALPHA_MIND - INFO - 2017-02-15 00:00:00: 799\n"
     ]
    },
    {
     "name": "stdout",
     "output_type": "stream",
     "text": [
      "using alpha model\n"
     ]
    },
    {
     "name": "stderr",
     "output_type": "stream",
     "text": [
      "2018-01-03 16:25:22,037 - ALPHA_MIND - INFO - 2017-02-15 00:00:00 is finished\n",
      "2018-01-03 16:25:22,043 - ALPHA_MIND - INFO - 2017-02-22 00:00:00: 799\n"
     ]
    },
    {
     "name": "stdout",
     "output_type": "stream",
     "text": [
      "using alpha model\n"
     ]
    },
    {
     "name": "stderr",
     "output_type": "stream",
     "text": [
      "2018-01-03 16:25:22,297 - ALPHA_MIND - INFO - 2017-02-22 00:00:00 is finished\n",
      "2018-01-03 16:25:22,303 - ALPHA_MIND - INFO - 2017-03-01 00:00:00: 800\n"
     ]
    },
    {
     "name": "stdout",
     "output_type": "stream",
     "text": [
      "using alpha model\n"
     ]
    },
    {
     "name": "stderr",
     "output_type": "stream",
     "text": [
      "2018-01-03 16:25:22,541 - ALPHA_MIND - INFO - 2017-03-01 00:00:00 is finished\n",
      "2018-01-03 16:25:22,546 - ALPHA_MIND - INFO - 2017-03-08 00:00:00: 800\n"
     ]
    },
    {
     "name": "stdout",
     "output_type": "stream",
     "text": [
      "using alpha model\n"
     ]
    },
    {
     "name": "stderr",
     "output_type": "stream",
     "text": [
      "2018-01-03 16:25:22,791 - ALPHA_MIND - INFO - 2017-03-08 00:00:00 is finished\n",
      "2018-01-03 16:25:22,796 - ALPHA_MIND - INFO - 2017-03-15 00:00:00: 800\n"
     ]
    },
    {
     "name": "stdout",
     "output_type": "stream",
     "text": [
      "using alpha model\n"
     ]
    },
    {
     "name": "stderr",
     "output_type": "stream",
     "text": [
      "2018-01-03 16:25:23,038 - ALPHA_MIND - INFO - 2017-03-15 00:00:00 is finished\n",
      "2018-01-03 16:25:23,043 - ALPHA_MIND - INFO - 2017-03-22 00:00:00: 800\n"
     ]
    },
    {
     "name": "stdout",
     "output_type": "stream",
     "text": [
      "using alpha model\n"
     ]
    },
    {
     "name": "stderr",
     "output_type": "stream",
     "text": [
      "2018-01-03 16:25:23,272 - ALPHA_MIND - INFO - 2017-03-22 00:00:00 is finished\n",
      "2018-01-03 16:25:23,277 - ALPHA_MIND - INFO - 2017-03-29 00:00:00: 800\n"
     ]
    },
    {
     "name": "stdout",
     "output_type": "stream",
     "text": [
      "using alpha model\n"
     ]
    },
    {
     "name": "stderr",
     "output_type": "stream",
     "text": [
      "2018-01-03 16:25:23,511 - ALPHA_MIND - INFO - 2017-03-29 00:00:00 is finished\n",
      "2018-01-03 16:25:23,516 - ALPHA_MIND - INFO - 2017-04-07 00:00:00: 800\n"
     ]
    },
    {
     "name": "stdout",
     "output_type": "stream",
     "text": [
      "using alpha model\n"
     ]
    },
    {
     "name": "stderr",
     "output_type": "stream",
     "text": [
      "2018-01-03 16:25:23,779 - ALPHA_MIND - INFO - 2017-04-07 00:00:00 is finished\n",
      "2018-01-03 16:25:23,783 - ALPHA_MIND - INFO - 2017-04-14 00:00:00: 800\n"
     ]
    },
    {
     "name": "stdout",
     "output_type": "stream",
     "text": [
      "using alpha model\n"
     ]
    },
    {
     "name": "stderr",
     "output_type": "stream",
     "text": [
      "2018-01-03 16:25:24,019 - ALPHA_MIND - INFO - 2017-04-14 00:00:00 is finished\n",
      "2018-01-03 16:25:24,025 - ALPHA_MIND - INFO - 2017-04-21 00:00:00: 800\n"
     ]
    },
    {
     "name": "stdout",
     "output_type": "stream",
     "text": [
      "using alpha model\n"
     ]
    },
    {
     "name": "stderr",
     "output_type": "stream",
     "text": [
      "2018-01-03 16:25:24,258 - ALPHA_MIND - INFO - 2017-04-21 00:00:00 is finished\n",
      "2018-01-03 16:25:24,263 - ALPHA_MIND - INFO - 2017-04-28 00:00:00: 800\n"
     ]
    },
    {
     "name": "stdout",
     "output_type": "stream",
     "text": [
      "using alpha model\n"
     ]
    },
    {
     "name": "stderr",
     "output_type": "stream",
     "text": [
      "2018-01-03 16:25:24,501 - ALPHA_MIND - INFO - 2017-04-28 00:00:00 is finished\n",
      "2018-01-03 16:25:24,507 - ALPHA_MIND - INFO - 2017-05-08 00:00:00: 800\n"
     ]
    },
    {
     "name": "stdout",
     "output_type": "stream",
     "text": [
      "using alpha model\n"
     ]
    },
    {
     "name": "stderr",
     "output_type": "stream",
     "text": [
      "2018-01-03 16:25:24,748 - ALPHA_MIND - INFO - 2017-05-08 00:00:00 is finished\n",
      "2018-01-03 16:25:24,754 - ALPHA_MIND - INFO - 2017-05-15 00:00:00: 800\n"
     ]
    },
    {
     "name": "stdout",
     "output_type": "stream",
     "text": [
      "using alpha model\n"
     ]
    },
    {
     "name": "stderr",
     "output_type": "stream",
     "text": [
      "2018-01-03 16:25:25,002 - ALPHA_MIND - INFO - 2017-05-15 00:00:00 is finished\n",
      "2018-01-03 16:25:25,008 - ALPHA_MIND - INFO - 2017-05-22 00:00:00: 800\n"
     ]
    },
    {
     "name": "stdout",
     "output_type": "stream",
     "text": [
      "using alpha model\n"
     ]
    },
    {
     "name": "stderr",
     "output_type": "stream",
     "text": [
      "2018-01-03 16:25:25,334 - ALPHA_MIND - INFO - 2017-05-22 00:00:00 is finished\n",
      "2018-01-03 16:25:25,339 - ALPHA_MIND - INFO - 2017-05-31 00:00:00: 800\n"
     ]
    },
    {
     "name": "stdout",
     "output_type": "stream",
     "text": [
      "using alpha model\n"
     ]
    },
    {
     "name": "stderr",
     "output_type": "stream",
     "text": [
      "2018-01-03 16:25:25,572 - ALPHA_MIND - INFO - 2017-05-31 00:00:00 is finished\n",
      "2018-01-03 16:25:25,577 - ALPHA_MIND - INFO - 2017-06-07 00:00:00: 800\n"
     ]
    },
    {
     "name": "stdout",
     "output_type": "stream",
     "text": [
      "using alpha model\n"
     ]
    },
    {
     "name": "stderr",
     "output_type": "stream",
     "text": [
      "2018-01-03 16:25:25,810 - ALPHA_MIND - INFO - 2017-06-07 00:00:00 is finished\n",
      "2018-01-03 16:25:25,815 - ALPHA_MIND - INFO - 2017-06-14 00:00:00: 800\n"
     ]
    },
    {
     "name": "stdout",
     "output_type": "stream",
     "text": [
      "using alpha model\n"
     ]
    },
    {
     "name": "stderr",
     "output_type": "stream",
     "text": [
      "2018-01-03 16:25:26,042 - ALPHA_MIND - INFO - 2017-06-14 00:00:00 is finished\n",
      "2018-01-03 16:25:26,048 - ALPHA_MIND - INFO - 2017-06-21 00:00:00: 800\n"
     ]
    },
    {
     "name": "stdout",
     "output_type": "stream",
     "text": [
      "using alpha model\n"
     ]
    },
    {
     "name": "stderr",
     "output_type": "stream",
     "text": [
      "2018-01-03 16:25:26,298 - ALPHA_MIND - INFO - 2017-06-21 00:00:00 is finished\n",
      "2018-01-03 16:25:26,302 - ALPHA_MIND - INFO - 2017-06-28 00:00:00: 800\n"
     ]
    },
    {
     "name": "stdout",
     "output_type": "stream",
     "text": [
      "using alpha model\n"
     ]
    },
    {
     "name": "stderr",
     "output_type": "stream",
     "text": [
      "2018-01-03 16:25:26,537 - ALPHA_MIND - INFO - 2017-06-28 00:00:00 is finished\n",
      "2018-01-03 16:25:26,543 - ALPHA_MIND - INFO - 2017-07-05 00:00:00: 800\n"
     ]
    },
    {
     "name": "stdout",
     "output_type": "stream",
     "text": [
      "using alpha model\n"
     ]
    },
    {
     "name": "stderr",
     "output_type": "stream",
     "text": [
      "2018-01-03 16:25:26,784 - ALPHA_MIND - INFO - 2017-07-05 00:00:00 is finished\n",
      "2018-01-03 16:25:26,789 - ALPHA_MIND - INFO - 2017-07-12 00:00:00: 800\n"
     ]
    },
    {
     "name": "stdout",
     "output_type": "stream",
     "text": [
      "using alpha model\n"
     ]
    },
    {
     "name": "stderr",
     "output_type": "stream",
     "text": [
      "2018-01-03 16:25:27,035 - ALPHA_MIND - INFO - 2017-07-12 00:00:00 is finished\n",
      "2018-01-03 16:25:27,041 - ALPHA_MIND - INFO - 2017-07-19 00:00:00: 800\n"
     ]
    },
    {
     "name": "stdout",
     "output_type": "stream",
     "text": [
      "using alpha model\n"
     ]
    },
    {
     "name": "stderr",
     "output_type": "stream",
     "text": [
      "2018-01-03 16:25:27,292 - ALPHA_MIND - INFO - 2017-07-19 00:00:00 is finished\n",
      "2018-01-03 16:25:27,297 - ALPHA_MIND - INFO - 2017-07-26 00:00:00: 800\n"
     ]
    },
    {
     "name": "stdout",
     "output_type": "stream",
     "text": [
      "using alpha model\n"
     ]
    },
    {
     "name": "stderr",
     "output_type": "stream",
     "text": [
      "2018-01-03 16:25:27,529 - ALPHA_MIND - INFO - 2017-07-26 00:00:00 is finished\n",
      "2018-01-03 16:25:27,533 - ALPHA_MIND - INFO - 2017-08-02 00:00:00: 800\n"
     ]
    },
    {
     "name": "stdout",
     "output_type": "stream",
     "text": [
      "using alpha model\n"
     ]
    },
    {
     "name": "stderr",
     "output_type": "stream",
     "text": [
      "2018-01-03 16:25:27,781 - ALPHA_MIND - INFO - 2017-08-02 00:00:00 is finished\n",
      "2018-01-03 16:25:27,787 - ALPHA_MIND - INFO - 2017-08-09 00:00:00: 800\n"
     ]
    },
    {
     "name": "stdout",
     "output_type": "stream",
     "text": [
      "using alpha model\n"
     ]
    },
    {
     "name": "stderr",
     "output_type": "stream",
     "text": [
      "2018-01-03 16:25:28,035 - ALPHA_MIND - INFO - 2017-08-09 00:00:00 is finished\n",
      "2018-01-03 16:25:28,039 - ALPHA_MIND - INFO - 2017-08-16 00:00:00: 800\n"
     ]
    },
    {
     "name": "stdout",
     "output_type": "stream",
     "text": [
      "using alpha model\n"
     ]
    },
    {
     "name": "stderr",
     "output_type": "stream",
     "text": [
      "2018-01-03 16:25:28,287 - ALPHA_MIND - INFO - 2017-08-16 00:00:00 is finished\n",
      "2018-01-03 16:25:28,292 - ALPHA_MIND - INFO - 2017-08-23 00:00:00: 800\n"
     ]
    },
    {
     "name": "stdout",
     "output_type": "stream",
     "text": [
      "using alpha model\n"
     ]
    },
    {
     "name": "stderr",
     "output_type": "stream",
     "text": [
      "2018-01-03 16:25:28,550 - ALPHA_MIND - INFO - 2017-08-23 00:00:00 is finished\n",
      "2018-01-03 16:25:28,556 - ALPHA_MIND - INFO - 2017-08-30 00:00:00: 800\n"
     ]
    },
    {
     "name": "stdout",
     "output_type": "stream",
     "text": [
      "using alpha model\n"
     ]
    },
    {
     "name": "stderr",
     "output_type": "stream",
     "text": [
      "2018-01-03 16:25:28,803 - ALPHA_MIND - INFO - 2017-08-30 00:00:00 is finished\n",
      "2018-01-03 16:25:28,808 - ALPHA_MIND - INFO - 2017-09-06 00:00:00: 800\n"
     ]
    },
    {
     "name": "stdout",
     "output_type": "stream",
     "text": [
      "using alpha model\n"
     ]
    },
    {
     "name": "stderr",
     "output_type": "stream",
     "text": [
      "2018-01-03 16:25:29,041 - ALPHA_MIND - INFO - 2017-09-06 00:00:00 is finished\n",
      "2018-01-03 16:25:29,046 - ALPHA_MIND - INFO - 2017-09-13 00:00:00: 800\n"
     ]
    },
    {
     "name": "stdout",
     "output_type": "stream",
     "text": [
      "using alpha model\n"
     ]
    },
    {
     "name": "stderr",
     "output_type": "stream",
     "text": [
      "2018-01-03 16:25:29,376 - ALPHA_MIND - INFO - 2017-09-13 00:00:00 is finished\n",
      "2018-01-03 16:25:29,381 - ALPHA_MIND - INFO - 2017-09-20 00:00:00: 800\n"
     ]
    },
    {
     "name": "stdout",
     "output_type": "stream",
     "text": [
      "using alpha model\n"
     ]
    },
    {
     "name": "stderr",
     "output_type": "stream",
     "text": [
      "2018-01-03 16:25:29,620 - ALPHA_MIND - INFO - 2017-09-20 00:00:00 is finished\n",
      "2018-01-03 16:25:29,626 - ALPHA_MIND - INFO - 2017-09-27 00:00:00: 800\n"
     ]
    },
    {
     "name": "stdout",
     "output_type": "stream",
     "text": [
      "using alpha model\n"
     ]
    },
    {
     "name": "stderr",
     "output_type": "stream",
     "text": [
      "2018-01-03 16:25:29,897 - ALPHA_MIND - INFO - 2017-09-27 00:00:00 is finished\n",
      "2018-01-03 16:25:29,903 - ALPHA_MIND - INFO - 2017-10-11 00:00:00: 800\n"
     ]
    },
    {
     "name": "stdout",
     "output_type": "stream",
     "text": [
      "using alpha model\n"
     ]
    },
    {
     "name": "stderr",
     "output_type": "stream",
     "text": [
      "2018-01-03 16:25:30,145 - ALPHA_MIND - INFO - 2017-10-11 00:00:00 is finished\n",
      "2018-01-03 16:25:30,151 - ALPHA_MIND - INFO - 2017-10-18 00:00:00: 800\n"
     ]
    },
    {
     "name": "stdout",
     "output_type": "stream",
     "text": [
      "using alpha model\n"
     ]
    },
    {
     "name": "stderr",
     "output_type": "stream",
     "text": [
      "2018-01-03 16:25:30,400 - ALPHA_MIND - INFO - 2017-10-18 00:00:00 is finished\n",
      "2018-01-03 16:25:30,405 - ALPHA_MIND - INFO - 2017-10-25 00:00:00: 800\n"
     ]
    },
    {
     "name": "stdout",
     "output_type": "stream",
     "text": [
      "using alpha model\n"
     ]
    },
    {
     "name": "stderr",
     "output_type": "stream",
     "text": [
      "2018-01-03 16:25:30,647 - ALPHA_MIND - INFO - 2017-10-25 00:00:00 is finished\n",
      "2018-01-03 16:25:30,651 - ALPHA_MIND - INFO - 2017-11-01 00:00:00: 800\n"
     ]
    },
    {
     "name": "stdout",
     "output_type": "stream",
     "text": [
      "using alpha model\n"
     ]
    },
    {
     "name": "stderr",
     "output_type": "stream",
     "text": [
      "2018-01-03 16:25:30,897 - ALPHA_MIND - INFO - 2017-11-01 00:00:00 is finished\n",
      "2018-01-03 16:25:30,903 - ALPHA_MIND - INFO - 2017-11-08 00:00:00: 800\n"
     ]
    },
    {
     "name": "stdout",
     "output_type": "stream",
     "text": [
      "using alpha model\n"
     ]
    },
    {
     "name": "stderr",
     "output_type": "stream",
     "text": [
      "2018-01-03 16:25:31,151 - ALPHA_MIND - INFO - 2017-11-08 00:00:00 is finished\n",
      "2018-01-03 16:25:31,156 - ALPHA_MIND - INFO - 2017-11-15 00:00:00: 800\n"
     ]
    },
    {
     "name": "stdout",
     "output_type": "stream",
     "text": [
      "using alpha model\n"
     ]
    },
    {
     "name": "stderr",
     "output_type": "stream",
     "text": [
      "2018-01-03 16:25:31,406 - ALPHA_MIND - INFO - 2017-11-15 00:00:00 is finished\n",
      "2018-01-03 16:25:31,412 - ALPHA_MIND - INFO - 2017-11-22 00:00:00: 800\n"
     ]
    },
    {
     "name": "stdout",
     "output_type": "stream",
     "text": [
      "using alpha model\n"
     ]
    },
    {
     "name": "stderr",
     "output_type": "stream",
     "text": [
      "2018-01-03 16:25:31,651 - ALPHA_MIND - INFO - 2017-11-22 00:00:00 is finished\n",
      "2018-01-03 16:25:31,656 - ALPHA_MIND - INFO - 2017-11-29 00:00:00: 800\n"
     ]
    },
    {
     "name": "stdout",
     "output_type": "stream",
     "text": [
      "using alpha model\n"
     ]
    },
    {
     "name": "stderr",
     "output_type": "stream",
     "text": [
      "2018-01-03 16:25:31,889 - ALPHA_MIND - INFO - 2017-11-29 00:00:00 is finished\n",
      "2018-01-03 16:25:31,893 - ALPHA_MIND - INFO - 2017-12-06 00:00:00: 800\n"
     ]
    },
    {
     "name": "stdout",
     "output_type": "stream",
     "text": [
      "using alpha model\n"
     ]
    },
    {
     "name": "stderr",
     "output_type": "stream",
     "text": [
      "2018-01-03 16:25:32,142 - ALPHA_MIND - INFO - 2017-12-06 00:00:00 is finished\n",
      "2018-01-03 16:25:32,147 - ALPHA_MIND - INFO - 2017-12-13 00:00:00: 800\n"
     ]
    },
    {
     "name": "stdout",
     "output_type": "stream",
     "text": [
      "using alpha model\n"
     ]
    },
    {
     "name": "stderr",
     "output_type": "stream",
     "text": [
      "2018-01-03 16:25:32,395 - ALPHA_MIND - INFO - 2017-12-13 00:00:00 is finished\n",
      "2018-01-03 16:25:32,401 - ALPHA_MIND - INFO - 2017-12-20 00:00:00: 800\n"
     ]
    },
    {
     "name": "stdout",
     "output_type": "stream",
     "text": [
      "using alpha model\n"
     ]
    },
    {
     "name": "stderr",
     "output_type": "stream",
     "text": [
      "2018-01-03 16:25:32,640 - ALPHA_MIND - INFO - 2017-12-20 00:00:00 is finished\n",
      "2018-01-03 16:25:32,645 - ALPHA_MIND - INFO - 2017-12-27 00:00:00: 800\n",
      "2018-01-03 16:25:32,843 - ALPHA_MIND - INFO - 2017-12-27 00:00:00 is finished\n"
     ]
    },
    {
     "name": "stdout",
     "output_type": "stream",
     "text": [
      "using alpha model\n"
     ]
    },
    {
     "data": {
      "image/png": "[encoded data removed]",
      "text/plain": [
       "<matplotlib.figure.Figure at 0x1a1029f54a8>"
      ]
     },
     "metadata": {},
     "output_type": "display_data"
    }
   ],
   "source": [
    "\"\"\"\n",
    "Predicting and re-balance phase\n",
    "\"\"\"\n",
    "\n",
    "factor_groups = const_model_factor_data.groupby('trade_date')\n",
    "\n",
    "for weight_gap in weight_gaps:\n",
    "    print(\"start {0} weight gap simulation ...\".format(weight_gap))\n",
    "\n",
    "    rets = []\n",
    "    turn_overs = []\n",
    "    leverags = []\n",
    "    previous_pos = pd.DataFrame()\n",
    "\n",
    "    index_dates = []\n",
    "\n",
    "    for i, value in enumerate(factor_groups):\n",
    "        date = value[0]\n",
    "        data = value[1]\n",
    "        ref_date = date.strftime('%Y-%m-%d')\n",
    "\n",
    "        total_data = data.fillna(data[total_features_keys].median())\n",
    "        alpha_logger.info('{0}: {1}'.format(date, len(total_data)))\n",
    "        risk_exp = total_data[neutralize_risk].values.astype(float)\n",
    "        industry = total_data.industry_code.values\n",
    "        benchmark_w = total_data.weight.values\n",
    "\n",
    "        constraint_exp = total_data[constraint_risk].values\n",
    "        risk_exp_expand = np.concatenate((constraint_exp, np.ones((len(risk_exp), 1))), axis=1).astype(float)\n",
    "\n",
    "        risk_names = constraint_risk + ['total']\n",
    "        risk_target = risk_exp_expand.T @ benchmark_w\n",
    "\n",
    "        lbound = np.maximum(0., benchmark_w - weight_gap)  # np.zeros(len(total_data))\n",
    "        ubound = weight_gap + benchmark_w\n",
    "\n",
    "        is_in_benchmark = (benchmark_w > 0.).astype(float)\n",
    "\n",
    "        risk_exp_expand = np.concatenate((risk_exp_expand, is_in_benchmark.reshape((-1, 1))), axis=1).astype(float)\n",
    "        risk_names.append('benchmark_total')\n",
    "\n",
    "        constraint = Constraints(risk_exp_expand, risk_names)\n",
    "\n",
    "        for i, name in enumerate(risk_names):\n",
    "            if name == 'total':\n",
    "                constraint.set_constraints(name,\n",
    "                                           lower_bound=risk_target[i],\n",
    "                                           upper_bound=risk_target[i])\n",
    "            elif name == 'SIZE':\n",
    "                base_target = abs(risk_target[i])\n",
    "                constraint.set_constraints(name,\n",
    "                                           lower_bound=risk_target[i] + base_target * size_risk_lower,\n",
    "                                           upper_bound=risk_target[i] + base_target * size_risk_upper)\n",
    "            elif name == 'benchmark_total':\n",
    "                base_target = benchmark_w.sum()\n",
    "                constraint.set_constraints(name,\n",
    "                                           lower_bound=benchmark_total_lower * base_target,\n",
    "                                           upper_bound=benchmark_total_upper * base_target)\n",
    "            else:\n",
    "                constraint.set_constraints(name,\n",
    "                                           lower_bound=risk_target[i] * industry_lower,\n",
    "                                           upper_bound=risk_target[i] * industry_upper)\n",
    "\n",
    "        factor_values = factor_processing(total_data[const_features_keys].values,\n",
    "                                          pre_process=[winsorize_normal, standardize],\n",
    "                                          risk_factors=risk_exp,\n",
    "                                          post_process=[winsorize_normal, standardize])\n",
    "\n",
    "        # const linear model\n",
    "        er1 = const_model.predict(factor_values)\n",
    "\n",
    "        # linear regression model\n",
    "        models = models_series[models_series.index <= date]\n",
    "        if models.empty:\n",
    "            continue\n",
    "\n",
    "        index_dates.append(date)\n",
    "        model = models[-1]\n",
    "\n",
    "        # x = predict_x[date]\n",
    "        x = factor_processing(total_data[linear_model_features_keys].values,\n",
    "                              pre_process=[winsorize_normal, standardize],\n",
    "                              risk_factors=risk_exp,\n",
    "                              post_process=[winsorize_normal, standardize])\n",
    "        er2 = model.predict(x)\n",
    "\n",
    "        # combine model\n",
    "        er1_table = pd.DataFrame({'er1': er1, 'code': total_data.code.values})\n",
    "        er2_table = pd.DataFrame({'er2': er2, 'code': total_data.code.values})\n",
    "        er_table = pd.merge(er1_table, er2_table, on=['code'], how='left').fillna(0)\n",
    "\n",
    "        er1 = er_table.er1.values\n",
    "        er2 = er_table.er2.values\n",
    "\n",
    "        if er2.std() > 0.:\n",
    "            print(\"using alpha model\")\n",
    "\n",
    "        er = er1 + er2\n",
    "\n",
    "        codes = total_data['code'].values\n",
    "\n",
    "        if previous_pos.empty:\n",
    "            current_position = None\n",
    "            turn_over_target = None\n",
    "        else:\n",
    "            previous_pos.set_index('code', inplace=True)\n",
    "            remained_pos = previous_pos.loc[codes]\n",
    "\n",
    "            remained_pos.fillna(0., inplace=True)\n",
    "            turn_over_target = turn_over_target_base\n",
    "            current_position = remained_pos.weight.values\n",
    "\n",
    "        try:\n",
    "            target_pos, _ = er_portfolio_analysis(er,\n",
    "                                                  industry,\n",
    "                                                  None,\n",
    "                                                  constraint,\n",
    "                                                  False,\n",
    "                                                  benchmark_w,\n",
    "                                                  method=method,\n",
    "                                                  use_rank=use_rank,\n",
    "                                                  turn_over_target=turn_over_target,\n",
    "                                                  current_position=current_position,\n",
    "                                                  lbound=lbound,\n",
    "                                                  ubound=ubound)\n",
    "        except ValueError:\n",
    "            alpha_logger.info('{0} full re-balance'.format(date))\n",
    "            target_pos, _ = er_portfolio_analysis(er,\n",
    "                                                  industry,\n",
    "                                                  None,\n",
    "                                                  constraint,\n",
    "                                                  False,\n",
    "                                                  benchmark_w,\n",
    "                                                  method=method,\n",
    "                                                  use_rank=use_rank,\n",
    "                                                  lbound=lbound,\n",
    "                                                  ubound=ubound)\n",
    "\n",
    "        target_pos['code'] = total_data['code'].values\n",
    "\n",
    "        turn_over, executed_pos = executor.execute(target_pos=target_pos)\n",
    "\n",
    "        executed_codes = executed_pos.code.tolist()\n",
    "        dx_returns = engine.fetch_dx_return(date, executed_codes, horizon=horizon, offset=1)\n",
    "\n",
    "        result = pd.merge(executed_pos, total_data[['code', 'weight']], on=['code'], how='inner')\n",
    "        result = pd.merge(result, dx_returns, on=['code'])\n",
    "\n",
    "        leverage = result.weight_x.abs().sum()\n",
    "\n",
    "        ret = result.weight_x.values @ (np.exp(result.dx.values) - 1.)\n",
    "        rets.append(np.log(1. + ret))\n",
    "        executor.set_current(executed_pos)\n",
    "        turn_overs.append(turn_over)\n",
    "        leverags.append(leverage)\n",
    "\n",
    "        previous_pos = executed_pos\n",
    "        alpha_logger.info('{0} is finished'.format(date))\n",
    "\n",
    "    ret_df = pd.DataFrame({'returns': rets, 'turn_over': turn_overs, 'leverage': leverage}, index=index_dates)\n",
    "\n",
    "    # index return\n",
    "    index_return = engine.fetch_dx_return_index_range(benchmark_code, start_date, end_date, horizon=horizon,\n",
    "                                                      offset=1).set_index('trade_date')\n",
    "    ret_df['index'] = index_return['dx']\n",
    "\n",
    "    ret_df.loc[advanceDateByCalendar('china.sse', ref_dates[-1], frequency)] = 0.\n",
    "    ret_df = ret_df.shift(1)\n",
    "    ret_df.iloc[0] = 0.\n",
    "    ret_df['tc_cost'] = ret_df.turn_over * 0.002\n",
    "    ret_df['returns'] = ret_df['leverage'] * (ret_df['returns'] - ret_df['index'])\n",
    "\n",
    "    ret_df[['returns', 'tc_cost']].cumsum().plot(figsize=(12, 6),\n",
    "                                                 title='Fixed frequency rebalanced: {0}'.format(frequency),\n",
    "                                                 secondary_y='tc_cost')\n",
    "\n",
    "    ret_df['ret_after_tc'] = ret_df['returns'] - ret_df['tc_cost']\n",
    "    ret_df.to_csv('d:/zz500.csv')\n",
    "\n",
    "#     sharp_calc = MovingSharp(49)\n",
    "#     drawdown_calc = MovingMaxDrawdown(49)\n",
    "#     max_drawdown_calc = MovingMaxDrawdown(len(ret_df))\n",
    "\n",
    "#     res_df = pd.DataFrame(columns=['daily_return', 'cum_ret', 'sharp', 'drawdown', 'max_drawn', 'leverage'])\n",
    "\n",
    "#     total_returns = 0.\n",
    "\n",
    "#     for i, ret in enumerate(ret_df['ret_after_tc']):\n",
    "#         date = ret_df.index[i]\n",
    "#         total_returns += ret\n",
    "#         sharp_calc.push({'ret': ret, 'riskFree': 0.})\n",
    "#         drawdown_calc.push({'ret': ret})\n",
    "#         max_drawdown_calc.push({'ret': ret})\n",
    "\n",
    "#         res_df.loc[date, 'daily_return'] = ret\n",
    "#         res_df.loc[date, 'cum_ret'] = total_returns\n",
    "#         res_df.loc[date, 'drawdown'] = drawdown_calc.result()[0]\n",
    "#         res_df.loc[date, 'max_drawn'] = max_drawdown_calc.result()[0]\n",
    "#         res_df.loc[date, 'leverage'] = ret_df.loc[date, 'leverage']\n",
    "\n",
    "#         if i < 10:\n",
    "#             res_df.loc[date, 'sharp'] = 0.\n",
    "#         else:\n",
    "#             res_df.loc[date, 'sharp'] = sharp_calc.result() * np.sqrt(49)\n",
    "\n",
    "#     res_df.to_csv('hs300_{0}.csv'.format(int(weight_gap * 100)))"
   ]
  },
  {
   "cell_type": "code",
   "execution_count": null,
   "metadata": {
    "collapsed": true
   },
   "outputs": [],
   "source": []
  },
  {
   "cell_type": "code",
   "execution_count": null,
   "metadata": {
    "collapsed": true
   },
   "outputs": [],
   "source": []
  },
  {
   "cell_type": "code",
   "execution_count": null,
   "metadata": {
    "collapsed": true
   },
   "outputs": [],
   "source": []
  },
  {
   "cell_type": "code",
   "execution_count": null,
   "metadata": {
    "collapsed": true
   },
   "outputs": [],
   "source": []
  },
  {
   "cell_type": "code",
   "execution_count": null,
   "metadata": {
    "collapsed": true
   },
   "outputs": [],
   "source": []
  }
 ],
 "metadata": {
  "kernelspec": {
   "display_name": "Python 3",
   "language": "python",
   "name": "python3"
  },
  "language_info": {
   "codemirror_mode": {
    "name": "ipython",
    "version": 3
   },
   "file_extension": ".py",
   "mimetype": "text/x-python",
   "name": "python",
   "nbconvert_exporter": "python",
   "pygments_lexer": "ipython3",
   "version": "3.6.3"
  }
 },
 "nbformat": 4,
 "nbformat_minor": 2
}
