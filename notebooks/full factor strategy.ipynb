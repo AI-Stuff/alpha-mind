{
 "cells": [
  {
   "cell_type": "code",
   "execution_count": 1,
   "metadata": {
    "collapsed": true
   },
   "outputs": [],
   "source": [
    "%matplotlib inline\n",
    "import copy\n",
    "import numpy as np\n",
    "import pandas as pd\n",
    "from matplotlib import pyplot as plt\n",
    "from alphamind.api import *\n",
    "from PyFin.api import *\n",
    "from PyFin.Math.Accumulators.StatefulAccumulators import MovingAverage\n",
    "from PyFin.Math.Accumulators.StatefulAccumulators import MovingSharp\n",
    "from PyFin.Math.Accumulators.StatefulAccumulators import MovingMaxDrawdown\n",
    "\n",
    "plt.style.use('ggplot')"
   ]
  },
  {
   "cell_type": "code",
   "execution_count": 26,
   "metadata": {
    "collapsed": true
   },
   "outputs": [],
   "source": [
    "start_date = '2017-01-01'\n",
    "end_date = '2018-01-22'\n",
    "benchmark_code = 300\n",
    "universe_name = ['zz800']\n",
    "universe = Universe(universe_name, universe_name)\n",
    "frequency = '10b'\n",
    "batch = 16\n",
    "method = 'risk_neutral'\n",
    "neutralize_risk = ['SIZE', 'LEVERAGE'] + industry_styles\n",
    "\n",
    "horizon = map_freq(frequency)\n",
    "hedging_ratio = 0.\n",
    "\n",
    "executor = NaiveExecutor()"
   ]
  },
  {
   "cell_type": "code",
   "execution_count": 27,
   "metadata": {
    "collapsed": true
   },
   "outputs": [],
   "source": [
    "engine = SqlEngine()\n",
    "#factor_coverage = engine.fetch_factor_coverage()"
   ]
  },
  {
   "cell_type": "code",
   "execution_count": 28,
   "metadata": {
    "collapsed": true
   },
   "outputs": [],
   "source": [
    "#res = factor_coverage[(factor_coverage.universe == 'ashare_ex') & (factor_coverage.source != 'risk_exposure')].groupby('factor').mean().sort_values('coverage', ascending=False)\n",
    "#model_features = sorted(res[res.coverage >= 0.99].index.unique().tolist())\n",
    "\n",
    "base1 = LAST('roe_q')\n",
    "base2 = CSRes(LAST('ep_q'), 'roe_q')\n",
    "\n",
    "const_features_keys = {\n",
    "                       'f01': base1,\n",
    "                       'f02': base2,\n",
    "                       'f03': CSRes(CSRes('EPIBS', base1), base2),\n",
    "                       'f04': CSRes(CSRes('GREV', base1), base2),\n",
    "                       'f05': CSRes(CSRes('ILLIQUIDITY', base1), base2),\n",
    "                       'f06': CSRes(CSRes('EARNYILD', base1), base2),\n",
    "                       'f07': CSRes(CSRes('RevenueGrowth', base1), base2),\n",
    "                       'f08': CSRes(CSRes('NIAP', base1), base2),\n",
    "                       'f09': CSRes(CSRes('IVR', base1), base2),\n",
    "                      }\n",
    "\n",
    "\n",
    "model_features = copy.deepcopy(const_features_keys)\n",
    "\n",
    "const_weights = [\n",
    "                 1.0,\n",
    "                 1.0,\n",
    "                 0.25,\n",
    "                 0.25,\n",
    "                 0.25,\n",
    "                 0.25,\n",
    "                 0.25,\n",
    "                 0.25,\n",
    "                 0.25\n",
    "                ]"
   ]
  },
  {
   "cell_type": "code",
   "execution_count": 29,
   "metadata": {},
   "outputs": [
    {
     "name": "stderr",
     "output_type": "stream",
     "text": [
      "2018-01-24 18:52:18,979 - ALPHA_MIND - INFO - Starting data package fetching ...\n",
      "2018-01-24 18:52:21,177 - ALPHA_MIND - INFO - factor data loading finished\n",
      "2018-01-24 18:52:25,179 - ALPHA_MIND - INFO - return data loading finished\n",
      "2018-01-24 18:52:25,474 - ALPHA_MIND - INFO - industry data loading finished\n",
      "2018-01-24 18:52:25,594 - ALPHA_MIND - INFO - benchmark data loading finished\n",
      "2018-01-24 18:52:27,332 - ALPHA_MIND - INFO - risk data loading finished\n",
      "2018-01-24 18:52:27,578 - ALPHA_MIND - INFO - data merging finished\n",
      "2018-01-24 18:52:27,828 - ALPHA_MIND - INFO - Loading data is finished\n",
      "2018-01-24 18:52:28,527 - ALPHA_MIND - INFO - Data processing is finished\n"
     ]
    }
   ],
   "source": [
    "\"\"\"\n",
    "Data phase\n",
    "\"\"\"\n",
    "\n",
    "model_factor_data = fetch_data_package(engine,\n",
    "                                       alpha_factors=model_features,\n",
    "                                       start_date=start_date,\n",
    "                                       end_date=end_date,\n",
    "                                       frequency=frequency,\n",
    "                                       universe=universe,\n",
    "                                       benchmark=benchmark_code,\n",
    "                                       batch=batch,\n",
    "                                       neutralized_risk=neutralize_risk,\n",
    "                                       pre_process=[winsorize_normal, standardize],\n",
    "                                       post_process=[winsorize_normal, standardize],\n",
    "                                       warm_start=batch)\n",
    "\n",
    "model_features_keys = model_factor_data['x_names']\n",
    "\n",
    "train_x = model_factor_data['train']['x']\n",
    "train_y = model_factor_data['train']['y']\n",
    "train_risk = model_factor_data['train']['risk']\n",
    "ref_dates = sorted(train_x.keys())\n",
    "\n",
    "predict_x = model_factor_data['predict']['x']\n",
    "predict_y = model_factor_data['predict']['y']\n",
    "predict_risk = model_factor_data['predict']['risk']\n",
    "predict_code = model_factor_data['predict']['code']\n",
    "settlement = model_factor_data['settlement']"
   ]
  },
  {
   "cell_type": "code",
   "execution_count": 30,
   "metadata": {},
   "outputs": [
    {
     "data": {
      "text/plain": [
       "['f01', 'f02', 'f03', 'f04', 'f05', 'f06', 'f07', 'f08', 'f09']"
      ]
     },
     "execution_count": 30,
     "metadata": {},
     "output_type": "execute_result"
    }
   ],
   "source": [
    "model_features_keys"
   ]
  },
  {
   "cell_type": "code",
   "execution_count": 31,
   "metadata": {
    "collapsed": true
   },
   "outputs": [],
   "source": [
    "# for key, val in train_y.items():\n",
    "#     train_y[key] = np.where(val > 0., 1, 0)\n",
    "    \n",
    "# for key, val in predict_y.items():\n",
    "#     predict_y[key] = np.where(val > 0., 1, 0)"
   ]
  },
  {
   "cell_type": "code",
   "execution_count": 32,
   "metadata": {
    "collapsed": true
   },
   "outputs": [],
   "source": [
    "def cross_product(x, y):\n",
    "    n, m = x.shape\n",
    "    res = []\n",
    "    \n",
    "    for j in range(m):\n",
    "        res.append(x[:, [j]] * y)\n",
    "        \n",
    "    return np.concatenate(res, axis=1)"
   ]
  },
  {
   "cell_type": "code",
   "execution_count": 33,
   "metadata": {},
   "outputs": [
    {
     "name": "stderr",
     "output_type": "stream",
     "text": [
      "2018-01-24 18:52:33,121 - ALPHA_MIND - INFO - trade_date: 2017-01-03 00:00:00 with 11339 obs training finished\n",
      "2018-01-24 18:52:37,819 - ALPHA_MIND - INFO - trade_date: 2017-01-17 00:00:00 with 11347 obs training finished\n",
      "2018-01-24 18:52:42,288 - ALPHA_MIND - INFO - trade_date: 2017-02-07 00:00:00 with 11352 obs training finished\n",
      "2018-01-24 18:52:47,278 - ALPHA_MIND - INFO - trade_date: 2017-02-21 00:00:00 with 11353 obs training finished\n",
      "2018-01-24 18:52:51,341 - ALPHA_MIND - INFO - trade_date: 2017-03-07 00:00:00 with 11345 obs training finished\n",
      "2018-01-24 18:52:55,947 - ALPHA_MIND - INFO - trade_date: 2017-03-21 00:00:00 with 11326 obs training finished\n",
      "2018-01-24 18:52:59,693 - ALPHA_MIND - INFO - trade_date: 2017-04-06 00:00:00 with 11297 obs training finished\n",
      "2018-01-24 18:53:03,479 - ALPHA_MIND - INFO - trade_date: 2017-04-20 00:00:00 with 11283 obs training finished\n",
      "2018-01-24 18:53:07,251 - ALPHA_MIND - INFO - trade_date: 2017-05-05 00:00:00 with 11277 obs training finished\n",
      "2018-01-24 18:53:11,390 - ALPHA_MIND - INFO - trade_date: 2017-05-19 00:00:00 with 11268 obs training finished\n",
      "2018-01-24 18:53:15,271 - ALPHA_MIND - INFO - trade_date: 2017-06-06 00:00:00 with 11254 obs training finished\n",
      "2018-01-24 18:53:19,391 - ALPHA_MIND - INFO - trade_date: 2017-06-20 00:00:00 with 11236 obs training finished\n",
      "2018-01-24 18:53:23,087 - ALPHA_MIND - INFO - trade_date: 2017-07-04 00:00:00 with 11214 obs training finished\n",
      "2018-01-24 18:53:27,230 - ALPHA_MIND - INFO - trade_date: 2017-07-18 00:00:00 with 11217 obs training finished\n",
      "2018-01-24 18:53:31,517 - ALPHA_MIND - INFO - trade_date: 2017-08-01 00:00:00 with 11228 obs training finished\n",
      "2018-01-24 18:53:36,867 - ALPHA_MIND - INFO - trade_date: 2017-08-15 00:00:00 with 11242 obs training finished\n",
      "2018-01-24 18:53:40,789 - ALPHA_MIND - INFO - trade_date: 2017-08-29 00:00:00 with 11259 obs training finished\n",
      "2018-01-24 18:53:44,646 - ALPHA_MIND - INFO - trade_date: 2017-09-12 00:00:00 with 11273 obs training finished\n",
      "2018-01-24 18:53:48,897 - ALPHA_MIND - INFO - trade_date: 2017-09-26 00:00:00 with 11294 obs training finished\n",
      "2018-01-24 18:53:52,643 - ALPHA_MIND - INFO - trade_date: 2017-10-17 00:00:00 with 11309 obs training finished\n",
      "2018-01-24 18:53:56,410 - ALPHA_MIND - INFO - trade_date: 2017-10-31 00:00:00 with 11319 obs training finished\n",
      "2018-01-24 18:54:01,057 - ALPHA_MIND - INFO - trade_date: 2017-11-14 00:00:00 with 11329 obs training finished\n",
      "2018-01-24 18:54:08,306 - ALPHA_MIND - INFO - trade_date: 2017-11-28 00:00:00 with 11339 obs training finished\n",
      "2018-01-24 18:54:14,686 - ALPHA_MIND - INFO - trade_date: 2017-12-12 00:00:00 with 11341 obs training finished\n",
      "2018-01-24 18:54:20,271 - ALPHA_MIND - INFO - trade_date: 2017-12-26 00:00:00 with 11349 obs training finished\n",
      "2018-01-24 18:54:24,812 - ALPHA_MIND - INFO - trade_date: 2018-01-10 00:00:00 with 11355 obs training finished\n"
     ]
    },
    {
     "name": "stdout",
     "output_type": "stream",
     "text": [
      "Wall time: 1min 55s\n"
     ]
    }
   ],
   "source": [
    "%%time\n",
    "\n",
    "\"\"\"\n",
    "Training phase\n",
    "\"\"\"\n",
    "\n",
    "xgb_models_series = pd.Series()\n",
    "previous_model = None\n",
    "\n",
    "for ref_date in ref_dates:\n",
    "    x = train_x[ref_date]\n",
    "    y = train_y[ref_date]\n",
    "    if len(x) > 5 * len(model_features_keys):\n",
    "#         model = RandomForestClassifier(n_estimators=2000, max_features='sqrt', max_depth=3, n_jobs=-1, features=model_features_keys)\n",
    "        model = XGBTrainer(features=model_features_keys,\n",
    "                           objective='reg:linear',\n",
    "                           booster='gbtree',\n",
    "                           tree_method='hist',\n",
    "                           n_estimators=2000,\n",
    "                           learning_rate=0.01,\n",
    "                           early_stopping_rounds=30,\n",
    "                           subsample=0.25,\n",
    "                           colsample_bytree=1.,\n",
    "                           eval_sample=0.3)\n",
    "        model.fit(x, y)\n",
    "        xgb_models_series.loc[ref_date] = model\n",
    "        previous_model = copy.deepcopy(model)\n",
    "    else:\n",
    "        models_series.loc[ref_date] = previous_model\n",
    "    \n",
    "    alpha_logger.info('trade_date: {0} with {1} obs training finished'.format(ref_date, len(x)))"
   ]
  },
  {
   "cell_type": "code",
   "execution_count": 50,
   "metadata": {
    "collapsed": true
   },
   "outputs": [],
   "source": [
    "const_model = ConstLinearModel(features=const_features_keys,\n",
    "                               weights=const_weights)\n",
    "\n",
    "const_model_factor_data = engine.fetch_data_range(universe,\n",
    "                                                  const_features_keys,\n",
    "                                                  dates=ref_dates,\n",
    "                                                  benchmark=benchmark_code)['factor']\n",
    "\n",
    "industry_data = engine.fetch_industry_matrix_range(universe,\n",
    "                                                   dates=ref_dates,\n",
    "                                                   category='zz',\n",
    "                                                   level=2)\n",
    "industries_list = industry_list(category='zz', level=2)\n",
    "\n",
    "horizon = map_freq(frequency)"
   ]
  },
  {
   "cell_type": "code",
   "execution_count": 51,
   "metadata": {},
   "outputs": [
    {
     "name": "stderr",
     "output_type": "stream",
     "text": [
      "2018-01-24 19:09:24,427 - ALPHA_MIND - INFO - 2017-01-03 00:00:00: 800\n"
     ]
    },
    {
     "name": "stdout",
     "output_type": "stream",
     "text": [
      "start 0.005 weight gap simulation ...\n",
      "using backbone model and alpha model\n"
     ]
    },
    {
     "name": "stderr",
     "output_type": "stream",
     "text": [
      "2018-01-24 19:09:24,677 - ALPHA_MIND - INFO - 2017-01-03 00:00:00 is finished\n",
      "2018-01-24 19:09:24,683 - ALPHA_MIND - INFO - 2017-01-17 00:00:00: 800\n"
     ]
    },
    {
     "name": "stdout",
     "output_type": "stream",
     "text": [
      "using backbone model and alpha model\n"
     ]
    },
    {
     "name": "stderr",
     "output_type": "stream",
     "text": [
      "2018-01-24 19:09:25,015 - ALPHA_MIND - INFO - 2017-01-17 00:00:00 is finished\n",
      "2018-01-24 19:09:25,020 - ALPHA_MIND - INFO - 2017-02-07 00:00:00: 800\n"
     ]
    },
    {
     "name": "stdout",
     "output_type": "stream",
     "text": [
      "using backbone model and alpha model\n"
     ]
    },
    {
     "name": "stderr",
     "output_type": "stream",
     "text": [
      "2018-01-24 19:09:25,372 - ALPHA_MIND - INFO - 2017-02-07 00:00:00 is finished\n",
      "2018-01-24 19:09:25,377 - ALPHA_MIND - INFO - 2017-02-21 00:00:00: 799\n"
     ]
    },
    {
     "name": "stdout",
     "output_type": "stream",
     "text": [
      "using backbone model and alpha model\n"
     ]
    },
    {
     "name": "stderr",
     "output_type": "stream",
     "text": [
      "2018-01-24 19:09:25,714 - ALPHA_MIND - INFO - 2017-02-21 00:00:00 is finished\n",
      "2018-01-24 19:09:25,719 - ALPHA_MIND - INFO - 2017-03-07 00:00:00: 800\n"
     ]
    },
    {
     "name": "stdout",
     "output_type": "stream",
     "text": [
      "using backbone model and alpha model\n"
     ]
    },
    {
     "name": "stderr",
     "output_type": "stream",
     "text": [
      "2018-01-24 19:09:26,065 - ALPHA_MIND - INFO - 2017-03-07 00:00:00 is finished\n",
      "2018-01-24 19:09:26,070 - ALPHA_MIND - INFO - 2017-03-21 00:00:00: 800\n"
     ]
    },
    {
     "name": "stdout",
     "output_type": "stream",
     "text": [
      "using backbone model and alpha model\n"
     ]
    },
    {
     "name": "stderr",
     "output_type": "stream",
     "text": [
      "2018-01-24 19:09:26,405 - ALPHA_MIND - INFO - 2017-03-21 00:00:00 is finished\n",
      "2018-01-24 19:09:26,410 - ALPHA_MIND - INFO - 2017-04-06 00:00:00: 800\n"
     ]
    },
    {
     "name": "stdout",
     "output_type": "stream",
     "text": [
      "using backbone model and alpha model\n"
     ]
    },
    {
     "name": "stderr",
     "output_type": "stream",
     "text": [
      "2018-01-24 19:09:26,756 - ALPHA_MIND - INFO - 2017-04-06 00:00:00 is finished\n",
      "2018-01-24 19:09:26,762 - ALPHA_MIND - INFO - 2017-04-20 00:00:00: 800\n"
     ]
    },
    {
     "name": "stdout",
     "output_type": "stream",
     "text": [
      "using backbone model and alpha model\n"
     ]
    },
    {
     "name": "stderr",
     "output_type": "stream",
     "text": [
      "2018-01-24 19:09:27,108 - ALPHA_MIND - INFO - 2017-04-20 00:00:00 is finished\n",
      "2018-01-24 19:09:27,114 - ALPHA_MIND - INFO - 2017-05-05 00:00:00: 800\n"
     ]
    },
    {
     "name": "stdout",
     "output_type": "stream",
     "text": [
      "using backbone model and alpha model\n"
     ]
    },
    {
     "name": "stderr",
     "output_type": "stream",
     "text": [
      "2018-01-24 19:09:27,469 - ALPHA_MIND - INFO - 2017-05-05 00:00:00 is finished\n",
      "2018-01-24 19:09:27,473 - ALPHA_MIND - INFO - 2017-05-19 00:00:00: 800\n"
     ]
    },
    {
     "name": "stdout",
     "output_type": "stream",
     "text": [
      "using backbone model and alpha model\n"
     ]
    },
    {
     "name": "stderr",
     "output_type": "stream",
     "text": [
      "2018-01-24 19:09:27,810 - ALPHA_MIND - INFO - 2017-05-19 00:00:00 is finished\n",
      "2018-01-24 19:09:27,815 - ALPHA_MIND - INFO - 2017-06-06 00:00:00: 800\n"
     ]
    },
    {
     "name": "stdout",
     "output_type": "stream",
     "text": [
      "using backbone model and alpha model\n"
     ]
    },
    {
     "name": "stderr",
     "output_type": "stream",
     "text": [
      "2018-01-24 19:09:28,152 - ALPHA_MIND - INFO - 2017-06-06 00:00:00 is finished\n",
      "2018-01-24 19:09:28,158 - ALPHA_MIND - INFO - 2017-06-20 00:00:00: 800\n"
     ]
    },
    {
     "name": "stdout",
     "output_type": "stream",
     "text": [
      "using backbone model and alpha model\n"
     ]
    },
    {
     "name": "stderr",
     "output_type": "stream",
     "text": [
      "2018-01-24 19:09:28,584 - ALPHA_MIND - INFO - 2017-06-20 00:00:00 is finished\n",
      "2018-01-24 19:09:28,589 - ALPHA_MIND - INFO - 2017-07-04 00:00:00: 800\n"
     ]
    },
    {
     "name": "stdout",
     "output_type": "stream",
     "text": [
      "using backbone model and alpha model\n"
     ]
    },
    {
     "name": "stderr",
     "output_type": "stream",
     "text": [
      "2018-01-24 19:09:28,943 - ALPHA_MIND - INFO - 2017-07-04 00:00:00 is finished\n",
      "2018-01-24 19:09:28,948 - ALPHA_MIND - INFO - 2017-07-18 00:00:00: 800\n"
     ]
    },
    {
     "name": "stdout",
     "output_type": "stream",
     "text": [
      "using backbone model and alpha model\n"
     ]
    },
    {
     "name": "stderr",
     "output_type": "stream",
     "text": [
      "2018-01-24 19:09:29,290 - ALPHA_MIND - INFO - 2017-07-18 00:00:00 is finished\n",
      "2018-01-24 19:09:29,295 - ALPHA_MIND - INFO - 2017-08-01 00:00:00: 800\n"
     ]
    },
    {
     "name": "stdout",
     "output_type": "stream",
     "text": [
      "using backbone model and alpha model\n"
     ]
    },
    {
     "name": "stderr",
     "output_type": "stream",
     "text": [
      "2018-01-24 19:09:29,640 - ALPHA_MIND - INFO - 2017-08-01 00:00:00 is finished\n",
      "2018-01-24 19:09:29,644 - ALPHA_MIND - INFO - 2017-08-15 00:00:00: 800\n"
     ]
    },
    {
     "name": "stdout",
     "output_type": "stream",
     "text": [
      "using backbone model and alpha model\n"
     ]
    },
    {
     "name": "stderr",
     "output_type": "stream",
     "text": [
      "2018-01-24 19:09:29,992 - ALPHA_MIND - INFO - 2017-08-15 00:00:00 is finished\n",
      "2018-01-24 19:09:29,998 - ALPHA_MIND - INFO - 2017-08-29 00:00:00: 800\n"
     ]
    },
    {
     "name": "stdout",
     "output_type": "stream",
     "text": [
      "using backbone model and alpha model\n"
     ]
    },
    {
     "name": "stderr",
     "output_type": "stream",
     "text": [
      "2018-01-24 19:09:30,337 - ALPHA_MIND - INFO - 2017-08-29 00:00:00 is finished\n",
      "2018-01-24 19:09:30,343 - ALPHA_MIND - INFO - 2017-09-12 00:00:00: 800\n"
     ]
    },
    {
     "name": "stdout",
     "output_type": "stream",
     "text": [
      "using backbone model and alpha model\n"
     ]
    },
    {
     "name": "stderr",
     "output_type": "stream",
     "text": [
      "2018-01-24 19:09:30,693 - ALPHA_MIND - INFO - 2017-09-12 00:00:00 is finished\n",
      "2018-01-24 19:09:30,699 - ALPHA_MIND - INFO - 2017-09-26 00:00:00: 800\n"
     ]
    },
    {
     "name": "stdout",
     "output_type": "stream",
     "text": [
      "using backbone model and alpha model\n"
     ]
    },
    {
     "name": "stderr",
     "output_type": "stream",
     "text": [
      "2018-01-24 19:09:31,044 - ALPHA_MIND - INFO - 2017-09-26 00:00:00 is finished\n",
      "2018-01-24 19:09:31,048 - ALPHA_MIND - INFO - 2017-10-17 00:00:00: 800\n"
     ]
    },
    {
     "name": "stdout",
     "output_type": "stream",
     "text": [
      "using backbone model and alpha model\n"
     ]
    },
    {
     "name": "stderr",
     "output_type": "stream",
     "text": [
      "2018-01-24 19:09:31,395 - ALPHA_MIND - INFO - 2017-10-17 00:00:00 is finished\n",
      "2018-01-24 19:09:31,400 - ALPHA_MIND - INFO - 2017-10-31 00:00:00: 800\n"
     ]
    },
    {
     "name": "stdout",
     "output_type": "stream",
     "text": [
      "using backbone model and alpha model\n"
     ]
    },
    {
     "name": "stderr",
     "output_type": "stream",
     "text": [
      "2018-01-24 19:09:31,745 - ALPHA_MIND - INFO - 2017-10-31 00:00:00 is finished\n",
      "2018-01-24 19:09:31,749 - ALPHA_MIND - INFO - 2017-11-14 00:00:00: 800\n"
     ]
    },
    {
     "name": "stdout",
     "output_type": "stream",
     "text": [
      "using backbone model and alpha model\n"
     ]
    },
    {
     "name": "stderr",
     "output_type": "stream",
     "text": [
      "2018-01-24 19:09:32,089 - ALPHA_MIND - INFO - 2017-11-14 00:00:00 is finished\n",
      "2018-01-24 19:09:32,094 - ALPHA_MIND - INFO - 2017-11-28 00:00:00: 800\n"
     ]
    },
    {
     "name": "stdout",
     "output_type": "stream",
     "text": [
      "using backbone model and alpha model\n"
     ]
    },
    {
     "name": "stderr",
     "output_type": "stream",
     "text": [
      "2018-01-24 19:09:32,436 - ALPHA_MIND - INFO - 2017-11-28 00:00:00 is finished\n",
      "2018-01-24 19:09:32,440 - ALPHA_MIND - INFO - 2017-12-12 00:00:00: 800\n"
     ]
    },
    {
     "name": "stdout",
     "output_type": "stream",
     "text": [
      "using backbone model and alpha model\n"
     ]
    },
    {
     "name": "stderr",
     "output_type": "stream",
     "text": [
      "2018-01-24 19:09:32,789 - ALPHA_MIND - INFO - 2017-12-12 00:00:00 is finished\n",
      "2018-01-24 19:09:32,794 - ALPHA_MIND - INFO - 2017-12-26 00:00:00: 800\n"
     ]
    },
    {
     "name": "stdout",
     "output_type": "stream",
     "text": [
      "using backbone model and alpha model\n"
     ]
    },
    {
     "name": "stderr",
     "output_type": "stream",
     "text": [
      "2018-01-24 19:09:33,145 - ALPHA_MIND - INFO - 2017-12-26 00:00:00 is finished\n",
      "2018-01-24 19:09:33,151 - ALPHA_MIND - INFO - 2018-01-10 00:00:00: 800\n"
     ]
    },
    {
     "name": "stdout",
     "output_type": "stream",
     "text": [
      "using backbone model and alpha model\n"
     ]
    },
    {
     "name": "stderr",
     "output_type": "stream",
     "text": [
      "2018-01-24 19:09:33,544 - ALPHA_MIND - INFO - 2018-01-10 00:00:00 is finished\n",
      "2018-01-24 19:09:33,715 - ALPHA_MIND - INFO - 2017-01-03 00:00:00: 800\n"
     ]
    },
    {
     "name": "stdout",
     "output_type": "stream",
     "text": [
      "start 0.01 weight gap simulation ...\n",
      "using backbone model and alpha model\n"
     ]
    },
    {
     "name": "stderr",
     "output_type": "stream",
     "text": [
      "2018-01-24 19:09:33,963 - ALPHA_MIND - INFO - 2017-01-03 00:00:00 is finished\n",
      "2018-01-24 19:09:33,969 - ALPHA_MIND - INFO - 2017-01-17 00:00:00: 800\n"
     ]
    },
    {
     "name": "stdout",
     "output_type": "stream",
     "text": [
      "using backbone model and alpha model\n"
     ]
    },
    {
     "name": "stderr",
     "output_type": "stream",
     "text": [
      "2018-01-24 19:09:34,302 - ALPHA_MIND - INFO - 2017-01-17 00:00:00 is finished\n",
      "2018-01-24 19:09:34,307 - ALPHA_MIND - INFO - 2017-02-07 00:00:00: 800\n"
     ]
    },
    {
     "name": "stdout",
     "output_type": "stream",
     "text": [
      "using backbone model and alpha model\n"
     ]
    },
    {
     "name": "stderr",
     "output_type": "stream",
     "text": [
      "2018-01-24 19:09:34,655 - ALPHA_MIND - INFO - 2017-02-07 00:00:00 is finished\n",
      "2018-01-24 19:09:34,660 - ALPHA_MIND - INFO - 2017-02-21 00:00:00: 799\n"
     ]
    },
    {
     "name": "stdout",
     "output_type": "stream",
     "text": [
      "using backbone model and alpha model\n"
     ]
    },
    {
     "name": "stderr",
     "output_type": "stream",
     "text": [
      "2018-01-24 19:09:34,988 - ALPHA_MIND - INFO - 2017-02-21 00:00:00 is finished\n",
      "2018-01-24 19:09:34,994 - ALPHA_MIND - INFO - 2017-03-07 00:00:00: 800\n"
     ]
    },
    {
     "name": "stdout",
     "output_type": "stream",
     "text": [
      "using backbone model and alpha model\n"
     ]
    },
    {
     "name": "stderr",
     "output_type": "stream",
     "text": [
      "2018-01-24 19:09:35,333 - ALPHA_MIND - INFO - 2017-03-07 00:00:00 is finished\n",
      "2018-01-24 19:09:35,338 - ALPHA_MIND - INFO - 2017-03-21 00:00:00: 800\n"
     ]
    },
    {
     "name": "stdout",
     "output_type": "stream",
     "text": [
      "using backbone model and alpha model\n"
     ]
    },
    {
     "name": "stderr",
     "output_type": "stream",
     "text": [
      "2018-01-24 19:09:35,652 - ALPHA_MIND - INFO - 2017-03-21 00:00:00 is finished\n",
      "2018-01-24 19:09:35,657 - ALPHA_MIND - INFO - 2017-04-06 00:00:00: 800\n"
     ]
    },
    {
     "name": "stdout",
     "output_type": "stream",
     "text": [
      "using backbone model and alpha model\n"
     ]
    },
    {
     "name": "stderr",
     "output_type": "stream",
     "text": [
      "2018-01-24 19:09:36,002 - ALPHA_MIND - INFO - 2017-04-06 00:00:00 is finished\n",
      "2018-01-24 19:09:36,007 - ALPHA_MIND - INFO - 2017-04-20 00:00:00: 800\n"
     ]
    },
    {
     "name": "stdout",
     "output_type": "stream",
     "text": [
      "using backbone model and alpha model\n"
     ]
    },
    {
     "name": "stderr",
     "output_type": "stream",
     "text": [
      "2018-01-24 19:09:36,353 - ALPHA_MIND - INFO - 2017-04-20 00:00:00 is finished\n",
      "2018-01-24 19:09:36,358 - ALPHA_MIND - INFO - 2017-05-05 00:00:00: 800\n"
     ]
    },
    {
     "name": "stdout",
     "output_type": "stream",
     "text": [
      "using backbone model and alpha model\n"
     ]
    },
    {
     "name": "stderr",
     "output_type": "stream",
     "text": [
      "2018-01-24 19:09:36,699 - ALPHA_MIND - INFO - 2017-05-05 00:00:00 is finished\n",
      "2018-01-24 19:09:36,703 - ALPHA_MIND - INFO - 2017-05-19 00:00:00: 800\n"
     ]
    },
    {
     "name": "stdout",
     "output_type": "stream",
     "text": [
      "using backbone model and alpha model\n"
     ]
    },
    {
     "name": "stderr",
     "output_type": "stream",
     "text": [
      "2018-01-24 19:09:37,048 - ALPHA_MIND - INFO - 2017-05-19 00:00:00 is finished\n",
      "2018-01-24 19:09:37,054 - ALPHA_MIND - INFO - 2017-06-06 00:00:00: 800\n"
     ]
    },
    {
     "name": "stdout",
     "output_type": "stream",
     "text": [
      "using backbone model and alpha model\n"
     ]
    },
    {
     "name": "stderr",
     "output_type": "stream",
     "text": [
      "2018-01-24 19:09:37,397 - ALPHA_MIND - INFO - 2017-06-06 00:00:00 is finished\n",
      "2018-01-24 19:09:37,403 - ALPHA_MIND - INFO - 2017-06-20 00:00:00: 800\n"
     ]
    },
    {
     "name": "stdout",
     "output_type": "stream",
     "text": [
      "using backbone model and alpha model\n"
     ]
    },
    {
     "name": "stderr",
     "output_type": "stream",
     "text": [
      "2018-01-24 19:09:37,843 - ALPHA_MIND - INFO - 2017-06-20 00:00:00 is finished\n",
      "2018-01-24 19:09:37,847 - ALPHA_MIND - INFO - 2017-07-04 00:00:00: 800\n"
     ]
    },
    {
     "name": "stdout",
     "output_type": "stream",
     "text": [
      "using backbone model and alpha model\n"
     ]
    },
    {
     "name": "stderr",
     "output_type": "stream",
     "text": [
      "2018-01-24 19:09:38,193 - ALPHA_MIND - INFO - 2017-07-04 00:00:00 is finished\n",
      "2018-01-24 19:09:38,198 - ALPHA_MIND - INFO - 2017-07-18 00:00:00: 800\n"
     ]
    },
    {
     "name": "stdout",
     "output_type": "stream",
     "text": [
      "using backbone model and alpha model\n"
     ]
    },
    {
     "name": "stderr",
     "output_type": "stream",
     "text": [
      "2018-01-24 19:09:38,552 - ALPHA_MIND - INFO - 2017-07-18 00:00:00 is finished\n",
      "2018-01-24 19:09:38,557 - ALPHA_MIND - INFO - 2017-08-01 00:00:00: 800\n"
     ]
    },
    {
     "name": "stdout",
     "output_type": "stream",
     "text": [
      "using backbone model and alpha model\n"
     ]
    },
    {
     "name": "stderr",
     "output_type": "stream",
     "text": [
      "2018-01-24 19:09:38,905 - ALPHA_MIND - INFO - 2017-08-01 00:00:00 is finished\n",
      "2018-01-24 19:09:38,910 - ALPHA_MIND - INFO - 2017-08-15 00:00:00: 800\n"
     ]
    },
    {
     "name": "stdout",
     "output_type": "stream",
     "text": [
      "using backbone model and alpha model\n"
     ]
    },
    {
     "name": "stderr",
     "output_type": "stream",
     "text": [
      "2018-01-24 19:09:39,258 - ALPHA_MIND - INFO - 2017-08-15 00:00:00 is finished\n",
      "2018-01-24 19:09:39,264 - ALPHA_MIND - INFO - 2017-08-29 00:00:00: 800\n"
     ]
    },
    {
     "name": "stdout",
     "output_type": "stream",
     "text": [
      "using backbone model and alpha model\n"
     ]
    },
    {
     "name": "stderr",
     "output_type": "stream",
     "text": [
      "2018-01-24 19:09:39,595 - ALPHA_MIND - INFO - 2017-08-29 00:00:00 is finished\n",
      "2018-01-24 19:09:39,601 - ALPHA_MIND - INFO - 2017-09-12 00:00:00: 800\n"
     ]
    },
    {
     "name": "stdout",
     "output_type": "stream",
     "text": [
      "using backbone model and alpha model\n"
     ]
    },
    {
     "name": "stderr",
     "output_type": "stream",
     "text": [
      "2018-01-24 19:09:39,961 - ALPHA_MIND - INFO - 2017-09-12 00:00:00 is finished\n",
      "2018-01-24 19:09:39,966 - ALPHA_MIND - INFO - 2017-09-26 00:00:00: 800\n"
     ]
    },
    {
     "name": "stdout",
     "output_type": "stream",
     "text": [
      "using backbone model and alpha model\n"
     ]
    },
    {
     "name": "stderr",
     "output_type": "stream",
     "text": [
      "2018-01-24 19:09:40,303 - ALPHA_MIND - INFO - 2017-09-26 00:00:00 is finished\n",
      "2018-01-24 19:09:40,309 - ALPHA_MIND - INFO - 2017-10-17 00:00:00: 800\n"
     ]
    },
    {
     "name": "stdout",
     "output_type": "stream",
     "text": [
      "using backbone model and alpha model\n"
     ]
    },
    {
     "name": "stderr",
     "output_type": "stream",
     "text": [
      "2018-01-24 19:09:40,664 - ALPHA_MIND - INFO - 2017-10-17 00:00:00 is finished\n",
      "2018-01-24 19:09:40,669 - ALPHA_MIND - INFO - 2017-10-31 00:00:00: 800\n"
     ]
    },
    {
     "name": "stdout",
     "output_type": "stream",
     "text": [
      "using backbone model and alpha model\n"
     ]
    },
    {
     "name": "stderr",
     "output_type": "stream",
     "text": [
      "2018-01-24 19:09:41,028 - ALPHA_MIND - INFO - 2017-10-31 00:00:00 is finished\n",
      "2018-01-24 19:09:41,033 - ALPHA_MIND - INFO - 2017-11-14 00:00:00: 800\n"
     ]
    },
    {
     "name": "stdout",
     "output_type": "stream",
     "text": [
      "using backbone model and alpha model\n"
     ]
    },
    {
     "name": "stderr",
     "output_type": "stream",
     "text": [
      "2018-01-24 19:09:41,390 - ALPHA_MIND - INFO - 2017-11-14 00:00:00 is finished\n",
      "2018-01-24 19:09:41,395 - ALPHA_MIND - INFO - 2017-11-28 00:00:00: 800\n"
     ]
    },
    {
     "name": "stdout",
     "output_type": "stream",
     "text": [
      "using backbone model and alpha model\n"
     ]
    },
    {
     "name": "stderr",
     "output_type": "stream",
     "text": [
      "2018-01-24 19:09:41,718 - ALPHA_MIND - INFO - 2017-11-28 00:00:00 is finished\n",
      "2018-01-24 19:09:41,723 - ALPHA_MIND - INFO - 2017-12-12 00:00:00: 800\n"
     ]
    },
    {
     "name": "stdout",
     "output_type": "stream",
     "text": [
      "using backbone model and alpha model\n"
     ]
    },
    {
     "name": "stderr",
     "output_type": "stream",
     "text": [
      "2018-01-24 19:09:42,070 - ALPHA_MIND - INFO - 2017-12-12 00:00:00 is finished\n",
      "2018-01-24 19:09:42,076 - ALPHA_MIND - INFO - 2017-12-26 00:00:00: 800\n"
     ]
    },
    {
     "name": "stdout",
     "output_type": "stream",
     "text": [
      "using backbone model and alpha model\n"
     ]
    },
    {
     "name": "stderr",
     "output_type": "stream",
     "text": [
      "2018-01-24 19:09:42,420 - ALPHA_MIND - INFO - 2017-12-26 00:00:00 is finished\n",
      "2018-01-24 19:09:42,424 - ALPHA_MIND - INFO - 2018-01-10 00:00:00: 800\n"
     ]
    },
    {
     "name": "stdout",
     "output_type": "stream",
     "text": [
      "using backbone model and alpha model\n"
     ]
    },
    {
     "name": "stderr",
     "output_type": "stream",
     "text": [
      "2018-01-24 19:09:42,742 - ALPHA_MIND - INFO - 2018-01-10 00:00:00 is finished\n",
      "2018-01-24 19:09:42,995 - ALPHA_MIND - INFO - 2017-01-03 00:00:00: 800\n"
     ]
    },
    {
     "name": "stdout",
     "output_type": "stream",
     "text": [
      "start 0.015 weight gap simulation ...\n",
      "using backbone model and alpha model\n"
     ]
    },
    {
     "name": "stderr",
     "output_type": "stream",
     "text": [
      "2018-01-24 19:09:43,246 - ALPHA_MIND - INFO - 2017-01-03 00:00:00 is finished\n",
      "2018-01-24 19:09:43,250 - ALPHA_MIND - INFO - 2017-01-17 00:00:00: 800\n"
     ]
    },
    {
     "name": "stdout",
     "output_type": "stream",
     "text": [
      "using backbone model and alpha model\n"
     ]
    },
    {
     "name": "stderr",
     "output_type": "stream",
     "text": [
      "2018-01-24 19:09:43,569 - ALPHA_MIND - INFO - 2017-01-17 00:00:00 is finished\n",
      "2018-01-24 19:09:43,574 - ALPHA_MIND - INFO - 2017-02-07 00:00:00: 800\n"
     ]
    },
    {
     "name": "stdout",
     "output_type": "stream",
     "text": [
      "using backbone model and alpha model\n"
     ]
    },
    {
     "name": "stderr",
     "output_type": "stream",
     "text": [
      "2018-01-24 19:09:43,922 - ALPHA_MIND - INFO - 2017-02-07 00:00:00 is finished\n",
      "2018-01-24 19:09:43,926 - ALPHA_MIND - INFO - 2017-02-21 00:00:00: 799\n"
     ]
    },
    {
     "name": "stdout",
     "output_type": "stream",
     "text": [
      "using backbone model and alpha model\n"
     ]
    },
    {
     "name": "stderr",
     "output_type": "stream",
     "text": [
      "2018-01-24 19:09:44,268 - ALPHA_MIND - INFO - 2017-02-21 00:00:00 is finished\n",
      "2018-01-24 19:09:44,273 - ALPHA_MIND - INFO - 2017-03-07 00:00:00: 800\n"
     ]
    },
    {
     "name": "stdout",
     "output_type": "stream",
     "text": [
      "using backbone model and alpha model\n"
     ]
    },
    {
     "name": "stderr",
     "output_type": "stream",
     "text": [
      "2018-01-24 19:09:44,620 - ALPHA_MIND - INFO - 2017-03-07 00:00:00 is finished\n",
      "2018-01-24 19:09:44,625 - ALPHA_MIND - INFO - 2017-03-21 00:00:00: 800\n"
     ]
    },
    {
     "name": "stdout",
     "output_type": "stream",
     "text": [
      "using backbone model and alpha model\n"
     ]
    },
    {
     "name": "stderr",
     "output_type": "stream",
     "text": [
      "2018-01-24 19:09:44,948 - ALPHA_MIND - INFO - 2017-03-21 00:00:00 is finished\n",
      "2018-01-24 19:09:44,954 - ALPHA_MIND - INFO - 2017-04-06 00:00:00: 800\n"
     ]
    },
    {
     "name": "stdout",
     "output_type": "stream",
     "text": [
      "using backbone model and alpha model\n"
     ]
    },
    {
     "name": "stderr",
     "output_type": "stream",
     "text": [
      "2018-01-24 19:09:45,295 - ALPHA_MIND - INFO - 2017-04-06 00:00:00 is finished\n",
      "2018-01-24 19:09:45,300 - ALPHA_MIND - INFO - 2017-04-20 00:00:00: 800\n"
     ]
    },
    {
     "name": "stdout",
     "output_type": "stream",
     "text": [
      "using backbone model and alpha model\n"
     ]
    },
    {
     "name": "stderr",
     "output_type": "stream",
     "text": [
      "2018-01-24 19:09:45,642 - ALPHA_MIND - INFO - 2017-04-20 00:00:00 is finished\n",
      "2018-01-24 19:09:45,647 - ALPHA_MIND - INFO - 2017-05-05 00:00:00: 800\n"
     ]
    },
    {
     "name": "stdout",
     "output_type": "stream",
     "text": [
      "using backbone model and alpha model\n"
     ]
    },
    {
     "name": "stderr",
     "output_type": "stream",
     "text": [
      "2018-01-24 19:09:45,992 - ALPHA_MIND - INFO - 2017-05-05 00:00:00 is finished\n",
      "2018-01-24 19:09:45,996 - ALPHA_MIND - INFO - 2017-05-19 00:00:00: 800\n"
     ]
    },
    {
     "name": "stdout",
     "output_type": "stream",
     "text": [
      "using backbone model and alpha model\n"
     ]
    },
    {
     "name": "stderr",
     "output_type": "stream",
     "text": [
      "2018-01-24 19:09:46,339 - ALPHA_MIND - INFO - 2017-05-19 00:00:00 is finished\n",
      "2018-01-24 19:09:46,344 - ALPHA_MIND - INFO - 2017-06-06 00:00:00: 800\n"
     ]
    },
    {
     "name": "stdout",
     "output_type": "stream",
     "text": [
      "using backbone model and alpha model\n"
     ]
    },
    {
     "name": "stderr",
     "output_type": "stream",
     "text": [
      "2018-01-24 19:09:46,661 - ALPHA_MIND - INFO - 2017-06-06 00:00:00 is finished\n",
      "2018-01-24 19:09:46,666 - ALPHA_MIND - INFO - 2017-06-20 00:00:00: 800\n"
     ]
    },
    {
     "name": "stdout",
     "output_type": "stream",
     "text": [
      "using backbone model and alpha model\n"
     ]
    },
    {
     "name": "stderr",
     "output_type": "stream",
     "text": [
      "2018-01-24 19:09:47,000 - ALPHA_MIND - INFO - 2017-06-20 00:00:00 is finished\n",
      "2018-01-24 19:09:47,004 - ALPHA_MIND - INFO - 2017-07-04 00:00:00: 800\n"
     ]
    },
    {
     "name": "stdout",
     "output_type": "stream",
     "text": [
      "using backbone model and alpha model\n"
     ]
    },
    {
     "name": "stderr",
     "output_type": "stream",
     "text": [
      "2018-01-24 19:09:47,342 - ALPHA_MIND - INFO - 2017-07-04 00:00:00 is finished\n",
      "2018-01-24 19:09:47,346 - ALPHA_MIND - INFO - 2017-07-18 00:00:00: 800\n"
     ]
    },
    {
     "name": "stdout",
     "output_type": "stream",
     "text": [
      "using backbone model and alpha model\n"
     ]
    },
    {
     "name": "stderr",
     "output_type": "stream",
     "text": [
      "2018-01-24 19:09:47,784 - ALPHA_MIND - INFO - 2017-07-18 00:00:00 is finished\n",
      "2018-01-24 19:09:47,789 - ALPHA_MIND - INFO - 2017-08-01 00:00:00: 800\n"
     ]
    },
    {
     "name": "stdout",
     "output_type": "stream",
     "text": [
      "using backbone model and alpha model\n"
     ]
    },
    {
     "name": "stderr",
     "output_type": "stream",
     "text": [
      "2018-01-24 19:09:48,147 - ALPHA_MIND - INFO - 2017-08-01 00:00:00 is finished\n",
      "2018-01-24 19:09:48,153 - ALPHA_MIND - INFO - 2017-08-15 00:00:00: 800\n"
     ]
    },
    {
     "name": "stdout",
     "output_type": "stream",
     "text": [
      "using backbone model and alpha model\n"
     ]
    },
    {
     "name": "stderr",
     "output_type": "stream",
     "text": [
      "2018-01-24 19:09:48,498 - ALPHA_MIND - INFO - 2017-08-15 00:00:00 is finished\n",
      "2018-01-24 19:09:48,503 - ALPHA_MIND - INFO - 2017-08-29 00:00:00: 800\n"
     ]
    },
    {
     "name": "stdout",
     "output_type": "stream",
     "text": [
      "using backbone model and alpha model\n"
     ]
    },
    {
     "name": "stderr",
     "output_type": "stream",
     "text": [
      "2018-01-24 19:09:48,858 - ALPHA_MIND - INFO - 2017-08-29 00:00:00 is finished\n",
      "2018-01-24 19:09:48,863 - ALPHA_MIND - INFO - 2017-09-12 00:00:00: 800\n"
     ]
    },
    {
     "name": "stdout",
     "output_type": "stream",
     "text": [
      "using backbone model and alpha model\n"
     ]
    },
    {
     "name": "stderr",
     "output_type": "stream",
     "text": [
      "2018-01-24 19:09:49,222 - ALPHA_MIND - INFO - 2017-09-12 00:00:00 is finished\n",
      "2018-01-24 19:09:49,227 - ALPHA_MIND - INFO - 2017-09-26 00:00:00: 800\n"
     ]
    },
    {
     "name": "stdout",
     "output_type": "stream",
     "text": [
      "using backbone model and alpha model\n"
     ]
    },
    {
     "name": "stderr",
     "output_type": "stream",
     "text": [
      "2018-01-24 19:09:49,561 - ALPHA_MIND - INFO - 2017-09-26 00:00:00 is finished\n",
      "2018-01-24 19:09:49,565 - ALPHA_MIND - INFO - 2017-10-17 00:00:00: 800\n"
     ]
    },
    {
     "name": "stdout",
     "output_type": "stream",
     "text": [
      "using backbone model and alpha model\n"
     ]
    },
    {
     "name": "stderr",
     "output_type": "stream",
     "text": [
      "2018-01-24 19:09:49,931 - ALPHA_MIND - INFO - 2017-10-17 00:00:00 is finished\n",
      "2018-01-24 19:09:49,936 - ALPHA_MIND - INFO - 2017-10-31 00:00:00: 800\n"
     ]
    },
    {
     "name": "stdout",
     "output_type": "stream",
     "text": [
      "using backbone model and alpha model\n"
     ]
    },
    {
     "name": "stderr",
     "output_type": "stream",
     "text": [
      "2018-01-24 19:09:50,301 - ALPHA_MIND - INFO - 2017-10-31 00:00:00 is finished\n",
      "2018-01-24 19:09:50,306 - ALPHA_MIND - INFO - 2017-11-14 00:00:00: 800\n"
     ]
    },
    {
     "name": "stdout",
     "output_type": "stream",
     "text": [
      "using backbone model and alpha model\n"
     ]
    },
    {
     "name": "stderr",
     "output_type": "stream",
     "text": [
      "2018-01-24 19:09:50,660 - ALPHA_MIND - INFO - 2017-11-14 00:00:00 is finished\n",
      "2018-01-24 19:09:50,665 - ALPHA_MIND - INFO - 2017-11-28 00:00:00: 800\n"
     ]
    },
    {
     "name": "stdout",
     "output_type": "stream",
     "text": [
      "using backbone model and alpha model\n"
     ]
    },
    {
     "name": "stderr",
     "output_type": "stream",
     "text": [
      "2018-01-24 19:09:51,009 - ALPHA_MIND - INFO - 2017-11-28 00:00:00 is finished\n",
      "2018-01-24 19:09:51,014 - ALPHA_MIND - INFO - 2017-12-12 00:00:00: 800\n"
     ]
    },
    {
     "name": "stdout",
     "output_type": "stream",
     "text": [
      "using backbone model and alpha model\n"
     ]
    },
    {
     "name": "stderr",
     "output_type": "stream",
     "text": [
      "2018-01-24 19:09:51,365 - ALPHA_MIND - INFO - 2017-12-12 00:00:00 is finished\n",
      "2018-01-24 19:09:51,371 - ALPHA_MIND - INFO - 2017-12-26 00:00:00: 800\n"
     ]
    },
    {
     "name": "stdout",
     "output_type": "stream",
     "text": [
      "using backbone model and alpha model\n"
     ]
    },
    {
     "name": "stderr",
     "output_type": "stream",
     "text": [
      "2018-01-24 19:09:51,717 - ALPHA_MIND - INFO - 2017-12-26 00:00:00 is finished\n",
      "2018-01-24 19:09:51,722 - ALPHA_MIND - INFO - 2018-01-10 00:00:00: 800\n"
     ]
    },
    {
     "name": "stdout",
     "output_type": "stream",
     "text": [
      "using backbone model and alpha model\n"
     ]
    },
    {
     "name": "stderr",
     "output_type": "stream",
     "text": [
      "2018-01-24 19:09:52,043 - ALPHA_MIND - INFO - 2018-01-10 00:00:00 is finished\n",
      "2018-01-24 19:09:52,219 - ALPHA_MIND - INFO - 2017-01-03 00:00:00: 800\n"
     ]
    },
    {
     "name": "stdout",
     "output_type": "stream",
     "text": [
      "start 0.02 weight gap simulation ...\n",
      "using backbone model and alpha model\n"
     ]
    },
    {
     "name": "stderr",
     "output_type": "stream",
     "text": [
      "2018-01-24 19:09:52,548 - ALPHA_MIND - INFO - 2017-01-03 00:00:00 is finished\n",
      "2018-01-24 19:09:52,552 - ALPHA_MIND - INFO - 2017-01-17 00:00:00: 800\n"
     ]
    },
    {
     "name": "stdout",
     "output_type": "stream",
     "text": [
      "using backbone model and alpha model\n"
     ]
    },
    {
     "name": "stderr",
     "output_type": "stream",
     "text": [
      "2018-01-24 19:09:52,878 - ALPHA_MIND - INFO - 2017-01-17 00:00:00 is finished\n",
      "2018-01-24 19:09:52,883 - ALPHA_MIND - INFO - 2017-02-07 00:00:00: 800\n"
     ]
    },
    {
     "name": "stdout",
     "output_type": "stream",
     "text": [
      "using backbone model and alpha model\n"
     ]
    },
    {
     "name": "stderr",
     "output_type": "stream",
     "text": [
      "2018-01-24 19:09:53,220 - ALPHA_MIND - INFO - 2017-02-07 00:00:00 is finished\n",
      "2018-01-24 19:09:53,226 - ALPHA_MIND - INFO - 2017-02-21 00:00:00: 799\n"
     ]
    },
    {
     "name": "stdout",
     "output_type": "stream",
     "text": [
      "using backbone model and alpha model\n"
     ]
    },
    {
     "name": "stderr",
     "output_type": "stream",
     "text": [
      "2018-01-24 19:09:53,568 - ALPHA_MIND - INFO - 2017-02-21 00:00:00 is finished\n",
      "2018-01-24 19:09:53,574 - ALPHA_MIND - INFO - 2017-03-07 00:00:00: 800\n"
     ]
    },
    {
     "name": "stdout",
     "output_type": "stream",
     "text": [
      "using backbone model and alpha model\n"
     ]
    },
    {
     "name": "stderr",
     "output_type": "stream",
     "text": [
      "2018-01-24 19:09:53,927 - ALPHA_MIND - INFO - 2017-03-07 00:00:00 is finished\n",
      "2018-01-24 19:09:53,933 - ALPHA_MIND - INFO - 2017-03-21 00:00:00: 800\n"
     ]
    },
    {
     "name": "stdout",
     "output_type": "stream",
     "text": [
      "using backbone model and alpha model\n"
     ]
    },
    {
     "name": "stderr",
     "output_type": "stream",
     "text": [
      "2018-01-24 19:09:54,272 - ALPHA_MIND - INFO - 2017-03-21 00:00:00 is finished\n",
      "2018-01-24 19:09:54,278 - ALPHA_MIND - INFO - 2017-04-06 00:00:00: 800\n"
     ]
    },
    {
     "name": "stdout",
     "output_type": "stream",
     "text": [
      "using backbone model and alpha model\n"
     ]
    },
    {
     "name": "stderr",
     "output_type": "stream",
     "text": [
      "2018-01-24 19:09:54,616 - ALPHA_MIND - INFO - 2017-04-06 00:00:00 is finished\n",
      "2018-01-24 19:09:54,622 - ALPHA_MIND - INFO - 2017-04-20 00:00:00: 800\n"
     ]
    },
    {
     "name": "stdout",
     "output_type": "stream",
     "text": [
      "using backbone model and alpha model\n"
     ]
    },
    {
     "name": "stderr",
     "output_type": "stream",
     "text": [
      "2018-01-24 19:09:54,974 - ALPHA_MIND - INFO - 2017-04-20 00:00:00 is finished\n",
      "2018-01-24 19:09:54,979 - ALPHA_MIND - INFO - 2017-05-05 00:00:00: 800\n"
     ]
    },
    {
     "name": "stdout",
     "output_type": "stream",
     "text": [
      "using backbone model and alpha model\n"
     ]
    },
    {
     "name": "stderr",
     "output_type": "stream",
     "text": [
      "2018-01-24 19:09:55,334 - ALPHA_MIND - INFO - 2017-05-05 00:00:00 is finished\n",
      "2018-01-24 19:09:55,339 - ALPHA_MIND - INFO - 2017-05-19 00:00:00: 800\n"
     ]
    },
    {
     "name": "stdout",
     "output_type": "stream",
     "text": [
      "using backbone model and alpha model\n"
     ]
    },
    {
     "name": "stderr",
     "output_type": "stream",
     "text": [
      "2018-01-24 19:09:55,685 - ALPHA_MIND - INFO - 2017-05-19 00:00:00 is finished\n",
      "2018-01-24 19:09:55,690 - ALPHA_MIND - INFO - 2017-06-06 00:00:00: 800\n"
     ]
    },
    {
     "name": "stdout",
     "output_type": "stream",
     "text": [
      "using backbone model and alpha model\n"
     ]
    },
    {
     "name": "stderr",
     "output_type": "stream",
     "text": [
      "2018-01-24 19:09:56,035 - ALPHA_MIND - INFO - 2017-06-06 00:00:00 is finished\n",
      "2018-01-24 19:09:56,041 - ALPHA_MIND - INFO - 2017-06-20 00:00:00: 800\n"
     ]
    },
    {
     "name": "stdout",
     "output_type": "stream",
     "text": [
      "using backbone model and alpha model\n"
     ]
    },
    {
     "name": "stderr",
     "output_type": "stream",
     "text": [
      "2018-01-24 19:09:56,383 - ALPHA_MIND - INFO - 2017-06-20 00:00:00 is finished\n",
      "2018-01-24 19:09:56,390 - ALPHA_MIND - INFO - 2017-07-04 00:00:00: 800\n"
     ]
    },
    {
     "name": "stdout",
     "output_type": "stream",
     "text": [
      "using backbone model and alpha model\n"
     ]
    },
    {
     "name": "stderr",
     "output_type": "stream",
     "text": [
      "2018-01-24 19:09:56,736 - ALPHA_MIND - INFO - 2017-07-04 00:00:00 is finished\n",
      "2018-01-24 19:09:56,741 - ALPHA_MIND - INFO - 2017-07-18 00:00:00: 800\n"
     ]
    },
    {
     "name": "stdout",
     "output_type": "stream",
     "text": [
      "using backbone model and alpha model\n"
     ]
    },
    {
     "name": "stderr",
     "output_type": "stream",
     "text": [
      "2018-01-24 19:09:57,081 - ALPHA_MIND - INFO - 2017-07-18 00:00:00 is finished\n",
      "2018-01-24 19:09:57,086 - ALPHA_MIND - INFO - 2017-08-01 00:00:00: 800\n"
     ]
    },
    {
     "name": "stdout",
     "output_type": "stream",
     "text": [
      "using backbone model and alpha model\n"
     ]
    },
    {
     "name": "stderr",
     "output_type": "stream",
     "text": [
      "2018-01-24 19:09:57,426 - ALPHA_MIND - INFO - 2017-08-01 00:00:00 is finished\n",
      "2018-01-24 19:09:57,432 - ALPHA_MIND - INFO - 2017-08-15 00:00:00: 800\n"
     ]
    },
    {
     "name": "stdout",
     "output_type": "stream",
     "text": [
      "using backbone model and alpha model\n"
     ]
    },
    {
     "name": "stderr",
     "output_type": "stream",
     "text": [
      "2018-01-24 19:09:57,796 - ALPHA_MIND - INFO - 2017-08-15 00:00:00 is finished\n",
      "2018-01-24 19:09:57,800 - ALPHA_MIND - INFO - 2017-08-29 00:00:00: 800\n"
     ]
    },
    {
     "name": "stdout",
     "output_type": "stream",
     "text": [
      "using backbone model and alpha model\n"
     ]
    },
    {
     "name": "stderr",
     "output_type": "stream",
     "text": [
      "2018-01-24 19:09:58,252 - ALPHA_MIND - INFO - 2017-08-29 00:00:00 is finished\n",
      "2018-01-24 19:09:58,258 - ALPHA_MIND - INFO - 2017-09-12 00:00:00: 800\n"
     ]
    },
    {
     "name": "stdout",
     "output_type": "stream",
     "text": [
      "using backbone model and alpha model\n"
     ]
    },
    {
     "name": "stderr",
     "output_type": "stream",
     "text": [
      "2018-01-24 19:09:58,622 - ALPHA_MIND - INFO - 2017-09-12 00:00:00 is finished\n",
      "2018-01-24 19:09:58,626 - ALPHA_MIND - INFO - 2017-09-26 00:00:00: 800\n"
     ]
    },
    {
     "name": "stdout",
     "output_type": "stream",
     "text": [
      "using backbone model and alpha model\n"
     ]
    },
    {
     "name": "stderr",
     "output_type": "stream",
     "text": [
      "2018-01-24 19:09:58,946 - ALPHA_MIND - INFO - 2017-09-26 00:00:00 is finished\n",
      "2018-01-24 19:09:58,952 - ALPHA_MIND - INFO - 2017-10-17 00:00:00: 800\n"
     ]
    },
    {
     "name": "stdout",
     "output_type": "stream",
     "text": [
      "using backbone model and alpha model\n"
     ]
    },
    {
     "name": "stderr",
     "output_type": "stream",
     "text": [
      "2018-01-24 19:09:59,295 - ALPHA_MIND - INFO - 2017-10-17 00:00:00 is finished\n",
      "2018-01-24 19:09:59,300 - ALPHA_MIND - INFO - 2017-10-31 00:00:00: 800\n"
     ]
    },
    {
     "name": "stdout",
     "output_type": "stream",
     "text": [
      "using backbone model and alpha model\n"
     ]
    },
    {
     "name": "stderr",
     "output_type": "stream",
     "text": [
      "2018-01-24 19:09:59,666 - ALPHA_MIND - INFO - 2017-10-31 00:00:00 is finished\n",
      "2018-01-24 19:09:59,671 - ALPHA_MIND - INFO - 2017-11-14 00:00:00: 800\n"
     ]
    },
    {
     "name": "stdout",
     "output_type": "stream",
     "text": [
      "using backbone model and alpha model\n"
     ]
    },
    {
     "name": "stderr",
     "output_type": "stream",
     "text": [
      "2018-01-24 19:10:00,022 - ALPHA_MIND - INFO - 2017-11-14 00:00:00 is finished\n",
      "2018-01-24 19:10:00,027 - ALPHA_MIND - INFO - 2017-11-28 00:00:00: 800\n"
     ]
    },
    {
     "name": "stdout",
     "output_type": "stream",
     "text": [
      "using backbone model and alpha model\n"
     ]
    },
    {
     "name": "stderr",
     "output_type": "stream",
     "text": [
      "2018-01-24 19:10:00,374 - ALPHA_MIND - INFO - 2017-11-28 00:00:00 is finished\n",
      "2018-01-24 19:10:00,379 - ALPHA_MIND - INFO - 2017-12-12 00:00:00: 800\n"
     ]
    },
    {
     "name": "stdout",
     "output_type": "stream",
     "text": [
      "using backbone model and alpha model\n"
     ]
    },
    {
     "name": "stderr",
     "output_type": "stream",
     "text": [
      "2018-01-24 19:10:00,735 - ALPHA_MIND - INFO - 2017-12-12 00:00:00 is finished\n",
      "2018-01-24 19:10:00,740 - ALPHA_MIND - INFO - 2017-12-26 00:00:00: 800\n"
     ]
    },
    {
     "name": "stdout",
     "output_type": "stream",
     "text": [
      "using backbone model and alpha model\n"
     ]
    },
    {
     "name": "stderr",
     "output_type": "stream",
     "text": [
      "2018-01-24 19:10:01,093 - ALPHA_MIND - INFO - 2017-12-26 00:00:00 is finished\n",
      "2018-01-24 19:10:01,098 - ALPHA_MIND - INFO - 2018-01-10 00:00:00: 800\n"
     ]
    },
    {
     "name": "stdout",
     "output_type": "stream",
     "text": [
      "using backbone model and alpha model\n"
     ]
    },
    {
     "name": "stderr",
     "output_type": "stream",
     "text": [
      "2018-01-24 19:10:01,421 - ALPHA_MIND - INFO - 2018-01-10 00:00:00 is finished\n"
     ]
    },
    {
     "data": {
      "image/png": "[encoded data removed]",
      "text/plain": [
       "<matplotlib.figure.Figure at 0x1ea014d4c18>"
      ]
     },
     "metadata": {},
     "output_type": "display_data"
    },
    {
     "data": {
      "image/png": "[encoded data removed]",
      "text/plain": [
       "<matplotlib.figure.Figure at 0x1ea02119c88>"
      ]
     },
     "metadata": {},
     "output_type": "display_data"
    },
    {
     "data": {
      "image/png": "[encoded data removed]",
      "text/plain": [
       "<matplotlib.figure.Figure at 0x1ea04490518>"
      ]
     },
     "metadata": {},
     "output_type": "display_data"
    },
    {
     "data": {
      "image/png": "[encoded data removed]",
      "text/plain": [
       "<matplotlib.figure.Figure at 0x1ea0219d588>"
      ]
     },
     "metadata": {},
     "output_type": "display_data"
    }
   ],
   "source": [
    "# Predicting and re-balance phase\n",
    "\n",
    "weight_gaps = [0.005, 0.010, 0.015, 0.020]\n",
    "\n",
    "model1_weight = 1.0\n",
    "model2_weight = 0.5\n",
    "\n",
    "factor_groups = const_model_factor_data.groupby('trade_date')\n",
    "industry_group = industry_data.groupby('trade_date')\n",
    "constraint_risk = ['SIZE', 'LEVERAGE'] + industries_list\n",
    "turn_over_target_base = 0.30\n",
    "size_risk_lower = 0\n",
    "size_risk_upper = 0\n",
    "benchmark_total_lower = 0.8\n",
    "benchmark_total_upper = 1.\n",
    "industry_lower = 1.\n",
    "industry_upper = 1.\n",
    "\n",
    "for s_i, weight_gap in enumerate(weight_gaps):\n",
    "    print(\"start {0} weight gap simulation ...\".format(weight_gap))\n",
    "\n",
    "    rets = []\n",
    "    turn_overs = []\n",
    "    leverags = []\n",
    "    previous_pos = pd.DataFrame()\n",
    "\n",
    "    index_dates = []\n",
    "\n",
    "    for i, value in enumerate(factor_groups):\n",
    "        date = value[0]\n",
    "        data = value[1]\n",
    "        ref_date = date.strftime('%Y-%m-%d')\n",
    "\n",
    "        total_data = data.fillna(data[model_features_keys].median())\n",
    "        alpha_logger.info('{0}: {1}'.format(date, len(total_data)))\n",
    "        risk_exp = total_data[neutralize_risk].values.astype(float)\n",
    "        benchmark_w = total_data.weight.values\n",
    "        \n",
    "        this_industry_data = industry_group.get_group(date)\n",
    "        \n",
    "        total_data = pd.merge(total_data, this_industry_data, on=['trade_date', 'code'])\n",
    "        constraint_exp = total_data[constraint_risk].values\n",
    "        industry = total_data.industry_name.values\n",
    "        risk_exp_expand = np.concatenate((constraint_exp, np.ones((len(risk_exp), 1))), axis=1).astype(float)\n",
    "\n",
    "        risk_names = constraint_risk + ['total']\n",
    "        risk_target = risk_exp_expand.T @ benchmark_w\n",
    "\n",
    "        lbound = np.maximum(0., benchmark_w - weight_gap)  # np.zeros(len(total_data))\n",
    "        ubound = weight_gap + benchmark_w\n",
    "\n",
    "        is_in_benchmark = (benchmark_w > 0.).astype(float)\n",
    "\n",
    "        risk_exp_expand = np.concatenate((risk_exp_expand, is_in_benchmark.reshape((-1, 1))), axis=1).astype(float)\n",
    "        risk_names.append('benchmark_total')\n",
    "\n",
    "        constraint = Constraints(risk_exp_expand, risk_names)\n",
    "\n",
    "        for j, name in enumerate(risk_names):\n",
    "            if name == 'total':\n",
    "                constraint.set_constraints(name,\n",
    "                                           lower_bound=risk_target[j],\n",
    "                                           upper_bound=risk_target[j])\n",
    "            elif name == 'SIZE':\n",
    "                base_target = abs(risk_target[j])\n",
    "                constraint.set_constraints(name,\n",
    "                                           lower_bound=risk_target[j] + base_target * size_risk_lower,\n",
    "                                           upper_bound=risk_target[j] + base_target * size_risk_upper)\n",
    "            elif name == 'benchmark_total':\n",
    "                base_target = benchmark_w.sum()\n",
    "                constraint.set_constraints(name,\n",
    "                                           lower_bound=benchmark_total_lower * base_target,\n",
    "                                           upper_bound=benchmark_total_upper * base_target)\n",
    "            else:\n",
    "                constraint.set_constraints(name,\n",
    "                                           lower_bound=risk_target[j] * industry_lower,\n",
    "                                           upper_bound=risk_target[j] * industry_upper)\n",
    "                \n",
    "        values = total_data[model_features_keys].dropna()\n",
    "        if values.empty:\n",
    "            continue\n",
    "        \n",
    "        factor_values = factor_processing(total_data[model_features_keys].values,\n",
    "                                          pre_process=[winsorize_normal, standardize],\n",
    "                                          risk_factors=risk_exp,\n",
    "                                          post_process=[winsorize_normal, standardize])\n",
    "\n",
    "        # const linear model\n",
    "        er1 = const_model.predict(factor_values)\n",
    "        \n",
    "        try:\n",
    "            model = xgb_models_series.ix[date]\n",
    "        except KeyError:\n",
    "            alpha_logger.info(\"model is not available. Omit this date\")\n",
    "            continue\n",
    "            \n",
    "        index_dates.append(date)\n",
    "\n",
    "        x = predict_x[date]\n",
    "        this_predict_code = predict_code[date]\n",
    "        er2 = model.predict(x)\n",
    "\n",
    "        # combine model\n",
    "        er1_table = pd.DataFrame({'er1': er1, 'code': total_data.code.values})\n",
    "        er2_table = pd.DataFrame({'er2': er2, 'code': this_predict_code})\n",
    "        er_table = pd.merge(er1_table, er2_table, on=['code'], how='left').fillna(0)\n",
    "\n",
    "        er1 = er_table.er1.values\n",
    "        er2 = er_table.er2.values\n",
    "        \n",
    "        if er2.std() > 0:\n",
    "            print('using backbone model and alpha model')\n",
    "            er = model1_weight * er1 / er1.std() +  model2_weight * er2 / er2.std()\n",
    "        else:\n",
    "            print('using only backbone modedl')\n",
    "            er = model1_weight * er1\n",
    "            \n",
    "        codes = total_data['code'].values\n",
    "\n",
    "        if previous_pos.empty:\n",
    "            current_position = None\n",
    "            turn_over_target = None\n",
    "        else:\n",
    "            previous_pos.set_index('code', inplace=True)\n",
    "            remained_pos = previous_pos.loc[codes]\n",
    "\n",
    "            remained_pos.fillna(0., inplace=True)\n",
    "            turn_over_target = turn_over_target_base\n",
    "            current_position = remained_pos.weight.values\n",
    "\n",
    "        try:\n",
    "            target_pos, _ = er_portfolio_analysis(er,\n",
    "                                                  industry,\n",
    "                                                  None,\n",
    "                                                  constraint,\n",
    "                                                  False,\n",
    "                                                  benchmark_w,\n",
    "                                                  method=method,\n",
    "                                                  turn_over_target=turn_over_target,\n",
    "                                                  current_position=current_position,\n",
    "                                                  lbound=lbound,\n",
    "                                                  ubound=ubound)\n",
    "        except ValueError:\n",
    "            alpha_logger.info('{0} full re-balance'.format(date))\n",
    "            target_pos, _ = er_portfolio_analysis(er,\n",
    "                                                  industry,\n",
    "                                                  None,\n",
    "                                                  constraint,\n",
    "                                                  False,\n",
    "                                                  benchmark_w,\n",
    "                                                  method=method,\n",
    "                                                  lbound=lbound,\n",
    "                                                  ubound=ubound)\n",
    "\n",
    "        target_pos['code'] = total_data['code'].values\n",
    "\n",
    "        turn_over, executed_pos = executor.execute(target_pos=target_pos)\n",
    "\n",
    "        executed_codes = executed_pos.code.tolist()\n",
    "        dx_returns = engine.fetch_dx_return(date, executed_codes, horizon=horizon, offset=1)\n",
    "\n",
    "        result = pd.merge(executed_pos, total_data[['code', 'weight']], on=['code'], how='inner')\n",
    "        result = pd.merge(result, dx_returns, on=['code'])\n",
    "\n",
    "        leverage = result.weight_x.abs().sum()\n",
    "\n",
    "        ret = result.weight_x.values @ (np.exp(result.dx.values) - 1.)\n",
    "        rets.append(np.log(1. + ret))\n",
    "        executor.set_current(executed_pos)\n",
    "        turn_overs.append(turn_over)\n",
    "        leverags.append(leverage)\n",
    "\n",
    "        previous_pos = executed_pos\n",
    "        alpha_logger.info('{0} is finished'.format(date))\n",
    "\n",
    "    ret_df = pd.DataFrame({'returns': rets, 'turn_over': turn_overs, 'leverage': leverags}, index=index_dates)\n",
    "\n",
    "    # index return\n",
    "    index_return = engine.fetch_dx_return_index_range(benchmark_code, dates=ref_dates, horizon=horizon,\n",
    "                                                      offset=1).set_index('trade_date')\n",
    "    ret_df['index'] = index_return['dx']\n",
    "\n",
    "    ret_df.loc[advanceDateByCalendar('china.sse', ref_dates[-1], frequency)] = 0.\n",
    "    ret_df = ret_df.shift(1)\n",
    "    ret_df.iloc[0] = 0.\n",
    "    ret_df['tc_cost'] = ret_df.turn_over * 0.002\n",
    "    ret_df['returns'] = ret_df['leverage'] * (ret_df['returns'] - ret_df['index'])\n",
    "\n",
    "    ret_df[['returns', 'tc_cost']].cumsum().plot(figsize=(12, 6),\n",
    "                                                 title='Fixed frequency rebalanced: {0}'.format(frequency),\n",
    "                                                 secondary_y='tc_cost')\n",
    "\n",
    "    ret_df['ret_after_tc'] = ret_df['returns'] - ret_df['tc_cost']\n",
    "    \n",
    "\n",
    "    sharp_calc = MovingSharp(49)\n",
    "    drawdown_calc = MovingMaxDrawdown(49)\n",
    "    max_drawdown_calc = MovingMaxDrawdown(len(ret_df))\n",
    "\n",
    "    res_df = pd.DataFrame(columns=['daily_return', 'cum_ret', 'sharp', 'drawdown', 'max_drawn', 'leverage'])\n",
    "\n",
    "    total_returns = 0.\n",
    "\n",
    "    for i, ret in enumerate(ret_df['ret_after_tc']):\n",
    "        date = ret_df.index[i]\n",
    "        total_returns += ret\n",
    "        sharp_calc.push({'ret': ret, 'riskFree': 0.})\n",
    "        drawdown_calc.push({'ret': ret})\n",
    "        max_drawdown_calc.push({'ret': ret})\n",
    "\n",
    "        res_df.loc[date, 'daily_return'] = ret\n",
    "        res_df.loc[date, 'cum_ret'] = total_returns\n",
    "        res_df.loc[date, 'drawdown'] = drawdown_calc.result()[0]\n",
    "        res_df.loc[date, 'max_drawn'] = max_drawdown_calc.result()[0]\n",
    "        res_df.loc[date, 'leverage'] = ret_df.loc[date, 'leverage']\n",
    "\n",
    "        if i < 10:\n",
    "            res_df.loc[date, 'sharp'] = 0.\n",
    "        else:\n",
    "            res_df.loc[date, 'sharp'] = sharp_calc.result() * np.sqrt(49)\n",
    "\n",
    "    res_df.to_csv('hs300_rf2_{0}.csv'.format(int(s_i)))"
   ]
  },
  {
   "cell_type": "code",
   "execution_count": 52,
   "metadata": {},
   "outputs": [
    {
     "data": {
      "text/html": [
       "<div>\n",
       "<style>\n",
       "    .dataframe thead tr:only-child th {\n",
       "        text-align: right;\n",
       "    }\n",
       "\n",
       "    .dataframe thead th {\n",
       "        text-align: left;\n",
       "    }\n",
       "\n",
       "    .dataframe tbody tr th {\n",
       "        vertical-align: top;\n",
       "    }\n",
       "</style>\n",
       "<table border=\"1\" class=\"dataframe\">\n",
       "  <thead>\n",
       "    <tr style=\"text-align: right;\">\n",
       "      <th></th>\n",
       "      <th>code</th>\n",
       "      <th>dx</th>\n",
       "    </tr>\n",
       "    <tr>\n",
       "      <th>trade_date</th>\n",
       "      <th></th>\n",
       "      <th></th>\n",
       "    </tr>\n",
       "  </thead>\n",
       "  <tbody>\n",
       "    <tr>\n",
       "      <th>2017-01-03</th>\n",
       "      <td>300</td>\n",
       "      <td>-0.008629</td>\n",
       "    </tr>\n",
       "    <tr>\n",
       "      <th>2017-01-17</th>\n",
       "      <td>300</td>\n",
       "      <td>0.013057</td>\n",
       "    </tr>\n",
       "    <tr>\n",
       "      <th>2017-02-07</th>\n",
       "      <td>300</td>\n",
       "      <td>0.030984</td>\n",
       "    </tr>\n",
       "    <tr>\n",
       "      <th>2017-02-21</th>\n",
       "      <td>300</td>\n",
       "      <td>-0.011829</td>\n",
       "    </tr>\n",
       "    <tr>\n",
       "      <th>2017-03-07</th>\n",
       "      <td>300</td>\n",
       "      <td>0.000390</td>\n",
       "    </tr>\n",
       "    <tr>\n",
       "      <th>2017-03-21</th>\n",
       "      <td>300</td>\n",
       "      <td>0.019344</td>\n",
       "    </tr>\n",
       "    <tr>\n",
       "      <th>2017-04-06</th>\n",
       "      <td>300</td>\n",
       "      <td>-0.014495</td>\n",
       "    </tr>\n",
       "    <tr>\n",
       "      <th>2017-04-20</th>\n",
       "      <td>300</td>\n",
       "      <td>-0.031634</td>\n",
       "    </tr>\n",
       "    <tr>\n",
       "      <th>2017-05-05</th>\n",
       "      <td>300</td>\n",
       "      <td>0.015496</td>\n",
       "    </tr>\n",
       "    <tr>\n",
       "      <th>2017-05-19</th>\n",
       "      <td>300</td>\n",
       "      <td>0.035334</td>\n",
       "    </tr>\n",
       "    <tr>\n",
       "      <th>2017-06-06</th>\n",
       "      <td>300</td>\n",
       "      <td>0.015188</td>\n",
       "    </tr>\n",
       "    <tr>\n",
       "      <th>2017-06-20</th>\n",
       "      <td>300</td>\n",
       "      <td>0.019815</td>\n",
       "    </tr>\n",
       "    <tr>\n",
       "      <th>2017-07-04</th>\n",
       "      <td>300</td>\n",
       "      <td>0.018972</td>\n",
       "    </tr>\n",
       "    <tr>\n",
       "      <th>2017-07-18</th>\n",
       "      <td>300</td>\n",
       "      <td>0.008294</td>\n",
       "    </tr>\n",
       "    <tr>\n",
       "      <th>2017-08-01</th>\n",
       "      <td>300</td>\n",
       "      <td>-0.015918</td>\n",
       "    </tr>\n",
       "    <tr>\n",
       "      <th>2017-08-15</th>\n",
       "      <td>300</td>\n",
       "      <td>0.035254</td>\n",
       "    </tr>\n",
       "    <tr>\n",
       "      <th>2017-08-29</th>\n",
       "      <td>300</td>\n",
       "      <td>0.002169</td>\n",
       "    </tr>\n",
       "    <tr>\n",
       "      <th>2017-09-12</th>\n",
       "      <td>300</td>\n",
       "      <td>-0.005593</td>\n",
       "    </tr>\n",
       "    <tr>\n",
       "      <th>2017-09-26</th>\n",
       "      <td>300</td>\n",
       "      <td>0.031667</td>\n",
       "    </tr>\n",
       "    <tr>\n",
       "      <th>2017-10-17</th>\n",
       "      <td>300</td>\n",
       "      <td>0.013215</td>\n",
       "    </tr>\n",
       "    <tr>\n",
       "      <th>2017-10-31</th>\n",
       "      <td>300</td>\n",
       "      <td>0.019105</td>\n",
       "    </tr>\n",
       "    <tr>\n",
       "      <th>2017-11-14</th>\n",
       "      <td>300</td>\n",
       "      <td>-0.004899</td>\n",
       "    </tr>\n",
       "    <tr>\n",
       "      <th>2017-11-28</th>\n",
       "      <td>300</td>\n",
       "      <td>-0.000911</td>\n",
       "    </tr>\n",
       "    <tr>\n",
       "      <th>2017-12-12</th>\n",
       "      <td>300</td>\n",
       "      <td>-0.014643</td>\n",
       "    </tr>\n",
       "    <tr>\n",
       "      <th>2017-12-26</th>\n",
       "      <td>300</td>\n",
       "      <td>0.052321</td>\n",
       "    </tr>\n",
       "    <tr>\n",
       "      <th>2018-01-10</th>\n",
       "      <td>300</td>\n",
       "      <td>0.041231</td>\n",
       "    </tr>\n",
       "  </tbody>\n",
       "</table>\n",
       "</div>"
      ],
      "text/plain": [
       "            code        dx\n",
       "trade_date                \n",
       "2017-01-03   300 -0.008629\n",
       "2017-01-17   300  0.013057\n",
       "2017-02-07   300  0.030984\n",
       "2017-02-21   300 -0.011829\n",
       "2017-03-07   300  0.000390\n",
       "2017-03-21   300  0.019344\n",
       "2017-04-06   300 -0.014495\n",
       "2017-04-20   300 -0.031634\n",
       "2017-05-05   300  0.015496\n",
       "2017-05-19   300  0.035334\n",
       "2017-06-06   300  0.015188\n",
       "2017-06-20   300  0.019815\n",
       "2017-07-04   300  0.018972\n",
       "2017-07-18   300  0.008294\n",
       "2017-08-01   300 -0.015918\n",
       "2017-08-15   300  0.035254\n",
       "2017-08-29   300  0.002169\n",
       "2017-09-12   300 -0.005593\n",
       "2017-09-26   300  0.031667\n",
       "2017-10-17   300  0.013215\n",
       "2017-10-31   300  0.019105\n",
       "2017-11-14   300 -0.004899\n",
       "2017-11-28   300 -0.000911\n",
       "2017-12-12   300 -0.014643\n",
       "2017-12-26   300  0.052321\n",
       "2018-01-10   300  0.041231"
      ]
     },
     "execution_count": 52,
     "metadata": {},
     "output_type": "execute_result"
    }
   ],
   "source": [
    "index_return"
   ]
  },
  {
   "cell_type": "markdown",
   "metadata": {},
   "source": [
    "## Lasso Regression\n",
    "----------"
   ]
  },
  {
   "cell_type": "code",
   "execution_count": 53,
   "metadata": {},
   "outputs": [
    {
     "name": "stderr",
     "output_type": "stream",
     "text": [
      "2018-01-24 19:10:02,206 - ALPHA_MIND - INFO - trade_date: 2017-01-03 00:00:00 with 11339 obs training finished\n",
      "2018-01-24 19:10:02,211 - ALPHA_MIND - INFO - trade_date: 2017-01-17 00:00:00 with 11347 obs training finished\n",
      "2018-01-24 19:10:02,216 - ALPHA_MIND - INFO - trade_date: 2017-02-07 00:00:00 with 11352 obs training finished\n",
      "2018-01-24 19:10:02,222 - ALPHA_MIND - INFO - trade_date: 2017-02-21 00:00:00 with 11353 obs training finished\n",
      "2018-01-24 19:10:02,228 - ALPHA_MIND - INFO - trade_date: 2017-03-07 00:00:00 with 11345 obs training finished\n",
      "2018-01-24 19:10:02,233 - ALPHA_MIND - INFO - trade_date: 2017-03-21 00:00:00 with 11326 obs training finished\n",
      "2018-01-24 19:10:02,238 - ALPHA_MIND - INFO - trade_date: 2017-04-06 00:00:00 with 11297 obs training finished\n",
      "2018-01-24 19:10:02,245 - ALPHA_MIND - INFO - trade_date: 2017-04-20 00:00:00 with 11283 obs training finished\n",
      "2018-01-24 19:10:02,250 - ALPHA_MIND - INFO - trade_date: 2017-05-05 00:00:00 with 11277 obs training finished\n",
      "2018-01-24 19:10:02,257 - ALPHA_MIND - INFO - trade_date: 2017-05-19 00:00:00 with 11268 obs training finished\n",
      "2018-01-24 19:10:02,264 - ALPHA_MIND - INFO - trade_date: 2017-06-06 00:00:00 with 11254 obs training finished\n",
      "2018-01-24 19:10:02,271 - ALPHA_MIND - INFO - trade_date: 2017-06-20 00:00:00 with 11236 obs training finished\n",
      "2018-01-24 19:10:02,279 - ALPHA_MIND - INFO - trade_date: 2017-07-04 00:00:00 with 11214 obs training finished\n",
      "2018-01-24 19:10:02,285 - ALPHA_MIND - INFO - trade_date: 2017-07-18 00:00:00 with 11217 obs training finished\n",
      "2018-01-24 19:10:02,291 - ALPHA_MIND - INFO - trade_date: 2017-08-01 00:00:00 with 11228 obs training finished\n",
      "2018-01-24 19:10:02,298 - ALPHA_MIND - INFO - trade_date: 2017-08-15 00:00:00 with 11242 obs training finished\n",
      "2018-01-24 19:10:02,304 - ALPHA_MIND - INFO - trade_date: 2017-08-29 00:00:00 with 11259 obs training finished\n",
      "2018-01-24 19:10:02,312 - ALPHA_MIND - INFO - trade_date: 2017-09-12 00:00:00 with 11273 obs training finished\n",
      "2018-01-24 19:10:02,318 - ALPHA_MIND - INFO - trade_date: 2017-09-26 00:00:00 with 11294 obs training finished\n",
      "2018-01-24 19:10:02,323 - ALPHA_MIND - INFO - trade_date: 2017-10-17 00:00:00 with 11309 obs training finished\n",
      "2018-01-24 19:10:02,330 - ALPHA_MIND - INFO - trade_date: 2017-10-31 00:00:00 with 11319 obs training finished\n",
      "2018-01-24 19:10:02,334 - ALPHA_MIND - INFO - trade_date: 2017-11-14 00:00:00 with 11329 obs training finished\n",
      "2018-01-24 19:10:02,341 - ALPHA_MIND - INFO - trade_date: 2017-11-28 00:00:00 with 11339 obs training finished\n",
      "2018-01-24 19:10:02,346 - ALPHA_MIND - INFO - trade_date: 2017-12-12 00:00:00 with 11341 obs training finished\n",
      "2018-01-24 19:10:02,351 - ALPHA_MIND - INFO - trade_date: 2017-12-26 00:00:00 with 11349 obs training finished\n",
      "2018-01-24 19:10:02,357 - ALPHA_MIND - INFO - trade_date: 2018-01-10 00:00:00 with 11355 obs training finished\n"
     ]
    }
   ],
   "source": [
    "\"\"\"\n",
    "Training phase\n",
    "\"\"\"\n",
    "\n",
    "lasso_models_series = pd.Series()\n",
    "previous_model = None\n",
    "\n",
    "for ref_date in ref_dates:\n",
    "    x = train_x[ref_date]\n",
    "    y = train_y[ref_date]\n",
    "    if len(x) > 5 * len(model_features_keys):\n",
    "        model = LassoRegression(alpha=0.01, features=model_features_keys, fit_intercept=True) \n",
    "        model.fit(x, y)\n",
    "        lasso_models_series.loc[ref_date] = model\n",
    "        previous_model = copy.deepcopy(model)\n",
    "    else:\n",
    "        models_series.loc[ref_date] = previous_model\n",
    "    \n",
    "    alpha_logger.info('trade_date: {0} with {1} obs training finished'.format(ref_date, len(x)))"
   ]
  },
  {
   "cell_type": "code",
   "execution_count": 54,
   "metadata": {},
   "outputs": [
    {
     "name": "stderr",
     "output_type": "stream",
     "text": [
      "2018-01-24 19:10:03,337 - ALPHA_MIND - INFO - 2017-01-03 00:00:00: 800\n"
     ]
    },
    {
     "name": "stdout",
     "output_type": "stream",
     "text": [
      "start 0.005 weight gap simulation ...\n",
      "using backbone model and alpha model\n"
     ]
    },
    {
     "name": "stderr",
     "output_type": "stream",
     "text": [
      "D:\\ProgramData\\IntelPython3_2018\\lib\\site-packages\\ipykernel_launcher.py:81: DeprecationWarning: \n",
      ".ix is deprecated. Please use\n",
      ".loc for label based indexing or\n",
      ".iloc for positional indexing\n",
      "\n",
      "See the documentation here:\n",
      "http://pandas.pydata.org/pandas-docs/stable/indexing.html#ix-indexer-is-deprecated\n",
      "2018-01-24 19:10:03,567 - ALPHA_MIND - INFO - 2017-01-03 00:00:00 is finished\n",
      "2018-01-24 19:10:03,573 - ALPHA_MIND - INFO - 2017-01-17 00:00:00: 800\n"
     ]
    },
    {
     "name": "stdout",
     "output_type": "stream",
     "text": [
      "using backbone model and alpha model\n"
     ]
    },
    {
     "name": "stderr",
     "output_type": "stream",
     "text": [
      "2018-01-24 19:10:03,864 - ALPHA_MIND - INFO - 2017-01-17 00:00:00 is finished\n",
      "2018-01-24 19:10:03,869 - ALPHA_MIND - INFO - 2017-02-07 00:00:00: 800\n"
     ]
    },
    {
     "name": "stdout",
     "output_type": "stream",
     "text": [
      "using backbone model and alpha model\n"
     ]
    },
    {
     "name": "stderr",
     "output_type": "stream",
     "text": [
      "2018-01-24 19:10:04,181 - ALPHA_MIND - INFO - 2017-02-07 00:00:00 is finished\n",
      "2018-01-24 19:10:04,187 - ALPHA_MIND - INFO - 2017-02-21 00:00:00: 799\n"
     ]
    },
    {
     "name": "stdout",
     "output_type": "stream",
     "text": [
      "using backbone model and alpha model\n"
     ]
    },
    {
     "name": "stderr",
     "output_type": "stream",
     "text": [
      "2018-01-24 19:10:04,498 - ALPHA_MIND - INFO - 2017-02-21 00:00:00 is finished\n",
      "2018-01-24 19:10:04,503 - ALPHA_MIND - INFO - 2017-03-07 00:00:00: 800\n"
     ]
    },
    {
     "name": "stdout",
     "output_type": "stream",
     "text": [
      "using backbone model and alpha model\n"
     ]
    },
    {
     "name": "stderr",
     "output_type": "stream",
     "text": [
      "2018-01-24 19:10:04,817 - ALPHA_MIND - INFO - 2017-03-07 00:00:00 is finished\n",
      "2018-01-24 19:10:04,822 - ALPHA_MIND - INFO - 2017-03-21 00:00:00: 800\n"
     ]
    },
    {
     "name": "stdout",
     "output_type": "stream",
     "text": [
      "using backbone model and alpha model\n"
     ]
    },
    {
     "name": "stderr",
     "output_type": "stream",
     "text": [
      "2018-01-24 19:10:05,116 - ALPHA_MIND - INFO - 2017-03-21 00:00:00 is finished\n",
      "2018-01-24 19:10:05,121 - ALPHA_MIND - INFO - 2017-04-06 00:00:00: 800\n"
     ]
    },
    {
     "name": "stdout",
     "output_type": "stream",
     "text": [
      "using backbone model and alpha model\n"
     ]
    },
    {
     "name": "stderr",
     "output_type": "stream",
     "text": [
      "2018-01-24 19:10:05,434 - ALPHA_MIND - INFO - 2017-04-06 00:00:00 is finished\n",
      "2018-01-24 19:10:05,439 - ALPHA_MIND - INFO - 2017-04-20 00:00:00: 800\n"
     ]
    },
    {
     "name": "stdout",
     "output_type": "stream",
     "text": [
      "using backbone model and alpha model\n"
     ]
    },
    {
     "name": "stderr",
     "output_type": "stream",
     "text": [
      "2018-01-24 19:10:05,744 - ALPHA_MIND - INFO - 2017-04-20 00:00:00 is finished\n",
      "2018-01-24 19:10:05,749 - ALPHA_MIND - INFO - 2017-05-05 00:00:00: 800\n"
     ]
    },
    {
     "name": "stdout",
     "output_type": "stream",
     "text": [
      "using backbone model and alpha model\n"
     ]
    },
    {
     "name": "stderr",
     "output_type": "stream",
     "text": [
      "2018-01-24 19:10:06,066 - ALPHA_MIND - INFO - 2017-05-05 00:00:00 is finished\n",
      "2018-01-24 19:10:06,071 - ALPHA_MIND - INFO - 2017-05-19 00:00:00: 800\n"
     ]
    },
    {
     "name": "stdout",
     "output_type": "stream",
     "text": [
      "using backbone model and alpha model\n"
     ]
    },
    {
     "name": "stderr",
     "output_type": "stream",
     "text": [
      "2018-01-24 19:10:06,383 - ALPHA_MIND - INFO - 2017-05-19 00:00:00 is finished\n",
      "2018-01-24 19:10:06,390 - ALPHA_MIND - INFO - 2017-06-06 00:00:00: 800\n"
     ]
    },
    {
     "name": "stdout",
     "output_type": "stream",
     "text": [
      "using backbone model and alpha model\n"
     ]
    },
    {
     "name": "stderr",
     "output_type": "stream",
     "text": [
      "2018-01-24 19:10:06,683 - ALPHA_MIND - INFO - 2017-06-06 00:00:00 is finished\n",
      "2018-01-24 19:10:06,687 - ALPHA_MIND - INFO - 2017-06-20 00:00:00: 800\n"
     ]
    },
    {
     "name": "stdout",
     "output_type": "stream",
     "text": [
      "using backbone model and alpha model\n"
     ]
    },
    {
     "name": "stderr",
     "output_type": "stream",
     "text": [
      "2018-01-24 19:10:07,089 - ALPHA_MIND - INFO - 2017-06-20 00:00:00 is finished\n",
      "2018-01-24 19:10:07,094 - ALPHA_MIND - INFO - 2017-07-04 00:00:00: 800\n"
     ]
    },
    {
     "name": "stdout",
     "output_type": "stream",
     "text": [
      "using backbone model and alpha model\n"
     ]
    },
    {
     "name": "stderr",
     "output_type": "stream",
     "text": [
      "2018-01-24 19:10:07,408 - ALPHA_MIND - INFO - 2017-07-04 00:00:00 is finished\n",
      "2018-01-24 19:10:07,413 - ALPHA_MIND - INFO - 2017-07-18 00:00:00: 800\n"
     ]
    },
    {
     "name": "stdout",
     "output_type": "stream",
     "text": [
      "using backbone model and alpha model\n"
     ]
    },
    {
     "name": "stderr",
     "output_type": "stream",
     "text": [
      "2018-01-24 19:10:07,720 - ALPHA_MIND - INFO - 2017-07-18 00:00:00 is finished\n",
      "2018-01-24 19:10:07,724 - ALPHA_MIND - INFO - 2017-08-01 00:00:00: 800\n"
     ]
    },
    {
     "name": "stdout",
     "output_type": "stream",
     "text": [
      "using backbone model and alpha model\n"
     ]
    },
    {
     "name": "stderr",
     "output_type": "stream",
     "text": [
      "2018-01-24 19:10:08,039 - ALPHA_MIND - INFO - 2017-08-01 00:00:00 is finished\n",
      "2018-01-24 19:10:08,044 - ALPHA_MIND - INFO - 2017-08-15 00:00:00: 800\n"
     ]
    },
    {
     "name": "stdout",
     "output_type": "stream",
     "text": [
      "using backbone model and alpha model\n"
     ]
    },
    {
     "name": "stderr",
     "output_type": "stream",
     "text": [
      "2018-01-24 19:10:08,361 - ALPHA_MIND - INFO - 2017-08-15 00:00:00 is finished\n",
      "2018-01-24 19:10:08,365 - ALPHA_MIND - INFO - 2017-08-29 00:00:00: 800\n"
     ]
    },
    {
     "name": "stdout",
     "output_type": "stream",
     "text": [
      "using backbone model and alpha model\n"
     ]
    },
    {
     "name": "stderr",
     "output_type": "stream",
     "text": [
      "2018-01-24 19:10:08,670 - ALPHA_MIND - INFO - 2017-08-29 00:00:00 is finished\n",
      "2018-01-24 19:10:08,675 - ALPHA_MIND - INFO - 2017-09-12 00:00:00: 800\n"
     ]
    },
    {
     "name": "stdout",
     "output_type": "stream",
     "text": [
      "using backbone model and alpha model\n"
     ]
    },
    {
     "name": "stderr",
     "output_type": "stream",
     "text": [
      "2018-01-24 19:10:08,996 - ALPHA_MIND - INFO - 2017-09-12 00:00:00 is finished\n",
      "2018-01-24 19:10:09,000 - ALPHA_MIND - INFO - 2017-09-26 00:00:00: 800\n"
     ]
    },
    {
     "name": "stdout",
     "output_type": "stream",
     "text": [
      "using backbone model and alpha model\n"
     ]
    },
    {
     "name": "stderr",
     "output_type": "stream",
     "text": [
      "2018-01-24 19:10:09,306 - ALPHA_MIND - INFO - 2017-09-26 00:00:00 is finished\n",
      "2018-01-24 19:10:09,311 - ALPHA_MIND - INFO - 2017-10-17 00:00:00: 800\n"
     ]
    },
    {
     "name": "stdout",
     "output_type": "stream",
     "text": [
      "using backbone model and alpha model\n"
     ]
    },
    {
     "name": "stderr",
     "output_type": "stream",
     "text": [
      "2018-01-24 19:10:09,623 - ALPHA_MIND - INFO - 2017-10-17 00:00:00 is finished\n",
      "2018-01-24 19:10:09,628 - ALPHA_MIND - INFO - 2017-10-31 00:00:00: 800\n"
     ]
    },
    {
     "name": "stdout",
     "output_type": "stream",
     "text": [
      "using backbone model and alpha model\n"
     ]
    },
    {
     "name": "stderr",
     "output_type": "stream",
     "text": [
      "2018-01-24 19:10:09,943 - ALPHA_MIND - INFO - 2017-10-31 00:00:00 is finished\n",
      "2018-01-24 19:10:09,948 - ALPHA_MIND - INFO - 2017-11-14 00:00:00: 800\n"
     ]
    },
    {
     "name": "stdout",
     "output_type": "stream",
     "text": [
      "using backbone model and alpha model\n"
     ]
    },
    {
     "name": "stderr",
     "output_type": "stream",
     "text": [
      "2018-01-24 19:10:10,260 - ALPHA_MIND - INFO - 2017-11-14 00:00:00 is finished\n",
      "2018-01-24 19:10:10,266 - ALPHA_MIND - INFO - 2017-11-28 00:00:00: 800\n"
     ]
    },
    {
     "name": "stdout",
     "output_type": "stream",
     "text": [
      "using backbone model and alpha model\n"
     ]
    },
    {
     "name": "stderr",
     "output_type": "stream",
     "text": [
      "2018-01-24 19:10:10,582 - ALPHA_MIND - INFO - 2017-11-28 00:00:00 is finished\n",
      "2018-01-24 19:10:10,587 - ALPHA_MIND - INFO - 2017-12-12 00:00:00: 800\n"
     ]
    },
    {
     "name": "stdout",
     "output_type": "stream",
     "text": [
      "using backbone model and alpha model\n"
     ]
    },
    {
     "name": "stderr",
     "output_type": "stream",
     "text": [
      "2018-01-24 19:10:10,902 - ALPHA_MIND - INFO - 2017-12-12 00:00:00 is finished\n",
      "2018-01-24 19:10:10,907 - ALPHA_MIND - INFO - 2017-12-26 00:00:00: 800\n"
     ]
    },
    {
     "name": "stdout",
     "output_type": "stream",
     "text": [
      "using backbone model and alpha model\n"
     ]
    },
    {
     "name": "stderr",
     "output_type": "stream",
     "text": [
      "2018-01-24 19:10:11,238 - ALPHA_MIND - INFO - 2017-12-26 00:00:00 is finished\n",
      "2018-01-24 19:10:11,243 - ALPHA_MIND - INFO - 2018-01-10 00:00:00: 800\n"
     ]
    },
    {
     "name": "stdout",
     "output_type": "stream",
     "text": [
      "using backbone model and alpha model\n"
     ]
    },
    {
     "name": "stderr",
     "output_type": "stream",
     "text": [
      "2018-01-24 19:10:11,532 - ALPHA_MIND - INFO - 2018-01-10 00:00:00 is finished\n",
      "2018-01-24 19:10:11,785 - ALPHA_MIND - INFO - 2017-01-03 00:00:00: 800\n"
     ]
    },
    {
     "name": "stdout",
     "output_type": "stream",
     "text": [
      "start 0.01 weight gap simulation ...\n",
      "using backbone model and alpha model\n"
     ]
    },
    {
     "name": "stderr",
     "output_type": "stream",
     "text": [
      "2018-01-24 19:10:12,002 - ALPHA_MIND - INFO - 2017-01-03 00:00:00 is finished\n",
      "2018-01-24 19:10:12,006 - ALPHA_MIND - INFO - 2017-01-17 00:00:00: 800\n"
     ]
    },
    {
     "name": "stdout",
     "output_type": "stream",
     "text": [
      "using backbone model and alpha model\n"
     ]
    },
    {
     "name": "stderr",
     "output_type": "stream",
     "text": [
      "2018-01-24 19:10:12,303 - ALPHA_MIND - INFO - 2017-01-17 00:00:00 is finished\n",
      "2018-01-24 19:10:12,309 - ALPHA_MIND - INFO - 2017-02-07 00:00:00: 800\n"
     ]
    },
    {
     "name": "stdout",
     "output_type": "stream",
     "text": [
      "using backbone model and alpha model\n"
     ]
    },
    {
     "name": "stderr",
     "output_type": "stream",
     "text": [
      "2018-01-24 19:10:12,611 - ALPHA_MIND - INFO - 2017-02-07 00:00:00 is finished\n",
      "2018-01-24 19:10:12,616 - ALPHA_MIND - INFO - 2017-02-21 00:00:00: 799\n"
     ]
    },
    {
     "name": "stdout",
     "output_type": "stream",
     "text": [
      "using backbone model and alpha model\n"
     ]
    },
    {
     "name": "stderr",
     "output_type": "stream",
     "text": [
      "2018-01-24 19:10:12,910 - ALPHA_MIND - INFO - 2017-02-21 00:00:00 is finished\n",
      "2018-01-24 19:10:12,916 - ALPHA_MIND - INFO - 2017-03-07 00:00:00: 800\n"
     ]
    },
    {
     "name": "stdout",
     "output_type": "stream",
     "text": [
      "using backbone model and alpha model\n"
     ]
    },
    {
     "name": "stderr",
     "output_type": "stream",
     "text": [
      "2018-01-24 19:10:13,228 - ALPHA_MIND - INFO - 2017-03-07 00:00:00 is finished\n",
      "2018-01-24 19:10:13,234 - ALPHA_MIND - INFO - 2017-03-21 00:00:00: 800\n"
     ]
    },
    {
     "name": "stdout",
     "output_type": "stream",
     "text": [
      "using backbone model and alpha model\n"
     ]
    },
    {
     "name": "stderr",
     "output_type": "stream",
     "text": [
      "2018-01-24 19:10:13,538 - ALPHA_MIND - INFO - 2017-03-21 00:00:00 is finished\n",
      "2018-01-24 19:10:13,543 - ALPHA_MIND - INFO - 2017-04-06 00:00:00: 800\n"
     ]
    },
    {
     "name": "stdout",
     "output_type": "stream",
     "text": [
      "using backbone model and alpha model\n"
     ]
    },
    {
     "name": "stderr",
     "output_type": "stream",
     "text": [
      "2018-01-24 19:10:13,863 - ALPHA_MIND - INFO - 2017-04-06 00:00:00 is finished\n",
      "2018-01-24 19:10:13,867 - ALPHA_MIND - INFO - 2017-04-20 00:00:00: 800\n"
     ]
    },
    {
     "name": "stdout",
     "output_type": "stream",
     "text": [
      "using backbone model and alpha model\n"
     ]
    },
    {
     "name": "stderr",
     "output_type": "stream",
     "text": [
      "2018-01-24 19:10:14,181 - ALPHA_MIND - INFO - 2017-04-20 00:00:00 is finished\n",
      "2018-01-24 19:10:14,186 - ALPHA_MIND - INFO - 2017-05-05 00:00:00: 800\n"
     ]
    },
    {
     "name": "stdout",
     "output_type": "stream",
     "text": [
      "using backbone model and alpha model\n"
     ]
    },
    {
     "name": "stderr",
     "output_type": "stream",
     "text": [
      "2018-01-24 19:10:14,508 - ALPHA_MIND - INFO - 2017-05-05 00:00:00 is finished\n",
      "2018-01-24 19:10:14,513 - ALPHA_MIND - INFO - 2017-05-19 00:00:00: 800\n"
     ]
    },
    {
     "name": "stdout",
     "output_type": "stream",
     "text": [
      "using backbone model and alpha model\n"
     ]
    },
    {
     "name": "stderr",
     "output_type": "stream",
     "text": [
      "2018-01-24 19:10:14,825 - ALPHA_MIND - INFO - 2017-05-19 00:00:00 is finished\n",
      "2018-01-24 19:10:14,830 - ALPHA_MIND - INFO - 2017-06-06 00:00:00: 800\n"
     ]
    },
    {
     "name": "stdout",
     "output_type": "stream",
     "text": [
      "using backbone model and alpha model\n"
     ]
    },
    {
     "name": "stderr",
     "output_type": "stream",
     "text": [
      "2018-01-24 19:10:15,118 - ALPHA_MIND - INFO - 2017-06-06 00:00:00 is finished\n",
      "2018-01-24 19:10:15,123 - ALPHA_MIND - INFO - 2017-06-20 00:00:00: 800\n"
     ]
    },
    {
     "name": "stdout",
     "output_type": "stream",
     "text": [
      "using backbone model and alpha model\n"
     ]
    },
    {
     "name": "stderr",
     "output_type": "stream",
     "text": [
      "2018-01-24 19:10:15,446 - ALPHA_MIND - INFO - 2017-06-20 00:00:00 is finished\n",
      "2018-01-24 19:10:15,452 - ALPHA_MIND - INFO - 2017-07-04 00:00:00: 800\n"
     ]
    },
    {
     "name": "stdout",
     "output_type": "stream",
     "text": [
      "using backbone model and alpha model\n"
     ]
    },
    {
     "name": "stderr",
     "output_type": "stream",
     "text": [
      "2018-01-24 19:10:15,842 - ALPHA_MIND - INFO - 2017-07-04 00:00:00 is finished\n",
      "2018-01-24 19:10:15,847 - ALPHA_MIND - INFO - 2017-07-18 00:00:00: 800\n"
     ]
    },
    {
     "name": "stdout",
     "output_type": "stream",
     "text": [
      "using backbone model and alpha model\n"
     ]
    },
    {
     "name": "stderr",
     "output_type": "stream",
     "text": [
      "2018-01-24 19:10:16,154 - ALPHA_MIND - INFO - 2017-07-18 00:00:00 is finished\n",
      "2018-01-24 19:10:16,159 - ALPHA_MIND - INFO - 2017-08-01 00:00:00: 800\n"
     ]
    },
    {
     "name": "stdout",
     "output_type": "stream",
     "text": [
      "using backbone model and alpha model\n"
     ]
    },
    {
     "name": "stderr",
     "output_type": "stream",
     "text": [
      "2018-01-24 19:10:16,471 - ALPHA_MIND - INFO - 2017-08-01 00:00:00 is finished\n",
      "2018-01-24 19:10:16,476 - ALPHA_MIND - INFO - 2017-08-15 00:00:00: 800\n"
     ]
    },
    {
     "name": "stdout",
     "output_type": "stream",
     "text": [
      "using backbone model and alpha model\n"
     ]
    },
    {
     "name": "stderr",
     "output_type": "stream",
     "text": [
      "2018-01-24 19:10:16,785 - ALPHA_MIND - INFO - 2017-08-15 00:00:00 is finished\n",
      "2018-01-24 19:10:16,791 - ALPHA_MIND - INFO - 2017-08-29 00:00:00: 800\n"
     ]
    },
    {
     "name": "stdout",
     "output_type": "stream",
     "text": [
      "using backbone model and alpha model\n"
     ]
    },
    {
     "name": "stderr",
     "output_type": "stream",
     "text": [
      "2018-01-24 19:10:17,092 - ALPHA_MIND - INFO - 2017-08-29 00:00:00 is finished\n",
      "2018-01-24 19:10:17,097 - ALPHA_MIND - INFO - 2017-09-12 00:00:00: 800\n"
     ]
    },
    {
     "name": "stdout",
     "output_type": "stream",
     "text": [
      "using backbone model and alpha model\n"
     ]
    },
    {
     "name": "stderr",
     "output_type": "stream",
     "text": [
      "2018-01-24 19:10:17,407 - ALPHA_MIND - INFO - 2017-09-12 00:00:00 is finished\n",
      "2018-01-24 19:10:17,411 - ALPHA_MIND - INFO - 2017-09-26 00:00:00: 800\n"
     ]
    },
    {
     "name": "stdout",
     "output_type": "stream",
     "text": [
      "using backbone model and alpha model\n"
     ]
    },
    {
     "name": "stderr",
     "output_type": "stream",
     "text": [
      "2018-01-24 19:10:17,709 - ALPHA_MIND - INFO - 2017-09-26 00:00:00 is finished\n",
      "2018-01-24 19:10:17,714 - ALPHA_MIND - INFO - 2017-10-17 00:00:00: 800\n"
     ]
    },
    {
     "name": "stdout",
     "output_type": "stream",
     "text": [
      "using backbone model and alpha model\n"
     ]
    },
    {
     "name": "stderr",
     "output_type": "stream",
     "text": [
      "2018-01-24 19:10:18,013 - ALPHA_MIND - INFO - 2017-10-17 00:00:00 is finished\n",
      "2018-01-24 19:10:18,018 - ALPHA_MIND - INFO - 2017-10-31 00:00:00: 800\n"
     ]
    },
    {
     "name": "stdout",
     "output_type": "stream",
     "text": [
      "using backbone model and alpha model\n"
     ]
    },
    {
     "name": "stderr",
     "output_type": "stream",
     "text": [
      "2018-01-24 19:10:18,344 - ALPHA_MIND - INFO - 2017-10-31 00:00:00 is finished\n",
      "2018-01-24 19:10:18,348 - ALPHA_MIND - INFO - 2017-11-14 00:00:00: 800\n"
     ]
    },
    {
     "name": "stdout",
     "output_type": "stream",
     "text": [
      "using backbone model and alpha model\n"
     ]
    },
    {
     "name": "stderr",
     "output_type": "stream",
     "text": [
      "2018-01-24 19:10:18,658 - ALPHA_MIND - INFO - 2017-11-14 00:00:00 is finished\n",
      "2018-01-24 19:10:18,663 - ALPHA_MIND - INFO - 2017-11-28 00:00:00: 800\n"
     ]
    },
    {
     "name": "stdout",
     "output_type": "stream",
     "text": [
      "using backbone model and alpha model\n"
     ]
    },
    {
     "name": "stderr",
     "output_type": "stream",
     "text": [
      "2018-01-24 19:10:18,971 - ALPHA_MIND - INFO - 2017-11-28 00:00:00 is finished\n",
      "2018-01-24 19:10:18,975 - ALPHA_MIND - INFO - 2017-12-12 00:00:00: 800\n"
     ]
    },
    {
     "name": "stdout",
     "output_type": "stream",
     "text": [
      "using backbone model and alpha model\n"
     ]
    },
    {
     "name": "stderr",
     "output_type": "stream",
     "text": [
      "2018-01-24 19:10:19,290 - ALPHA_MIND - INFO - 2017-12-12 00:00:00 is finished\n",
      "2018-01-24 19:10:19,296 - ALPHA_MIND - INFO - 2017-12-26 00:00:00: 800\n"
     ]
    },
    {
     "name": "stdout",
     "output_type": "stream",
     "text": [
      "using backbone model and alpha model\n"
     ]
    },
    {
     "name": "stderr",
     "output_type": "stream",
     "text": [
      "2018-01-24 19:10:19,623 - ALPHA_MIND - INFO - 2017-12-26 00:00:00 is finished\n",
      "2018-01-24 19:10:19,628 - ALPHA_MIND - INFO - 2018-01-10 00:00:00: 800\n"
     ]
    },
    {
     "name": "stdout",
     "output_type": "stream",
     "text": [
      "using backbone model and alpha model\n"
     ]
    },
    {
     "name": "stderr",
     "output_type": "stream",
     "text": [
      "2018-01-24 19:10:19,918 - ALPHA_MIND - INFO - 2018-01-10 00:00:00 is finished\n",
      "2018-01-24 19:10:20,092 - ALPHA_MIND - INFO - 2017-01-03 00:00:00: 800\n"
     ]
    },
    {
     "name": "stdout",
     "output_type": "stream",
     "text": [
      "start 0.015 weight gap simulation ...\n",
      "using backbone model and alpha model\n"
     ]
    },
    {
     "name": "stderr",
     "output_type": "stream",
     "text": [
      "2018-01-24 19:10:20,400 - ALPHA_MIND - INFO - 2017-01-03 00:00:00 is finished\n",
      "2018-01-24 19:10:20,405 - ALPHA_MIND - INFO - 2017-01-17 00:00:00: 800\n"
     ]
    },
    {
     "name": "stdout",
     "output_type": "stream",
     "text": [
      "using backbone model and alpha model\n"
     ]
    },
    {
     "name": "stderr",
     "output_type": "stream",
     "text": [
      "2018-01-24 19:10:20,698 - ALPHA_MIND - INFO - 2017-01-17 00:00:00 is finished\n",
      "2018-01-24 19:10:20,704 - ALPHA_MIND - INFO - 2017-02-07 00:00:00: 800\n"
     ]
    },
    {
     "name": "stdout",
     "output_type": "stream",
     "text": [
      "using backbone model and alpha model\n"
     ]
    },
    {
     "name": "stderr",
     "output_type": "stream",
     "text": [
      "2018-01-24 19:10:21,025 - ALPHA_MIND - INFO - 2017-02-07 00:00:00 is finished\n",
      "2018-01-24 19:10:21,030 - ALPHA_MIND - INFO - 2017-02-21 00:00:00: 799\n"
     ]
    },
    {
     "name": "stdout",
     "output_type": "stream",
     "text": [
      "using backbone model and alpha model\n"
     ]
    },
    {
     "name": "stderr",
     "output_type": "stream",
     "text": [
      "2018-01-24 19:10:21,336 - ALPHA_MIND - INFO - 2017-02-21 00:00:00 is finished\n",
      "2018-01-24 19:10:21,341 - ALPHA_MIND - INFO - 2017-03-07 00:00:00: 800\n"
     ]
    },
    {
     "name": "stdout",
     "output_type": "stream",
     "text": [
      "using backbone model and alpha model\n"
     ]
    },
    {
     "name": "stderr",
     "output_type": "stream",
     "text": [
      "2018-01-24 19:10:21,653 - ALPHA_MIND - INFO - 2017-03-07 00:00:00 is finished\n",
      "2018-01-24 19:10:21,658 - ALPHA_MIND - INFO - 2017-03-21 00:00:00: 800\n"
     ]
    },
    {
     "name": "stdout",
     "output_type": "stream",
     "text": [
      "using backbone model and alpha model\n"
     ]
    },
    {
     "name": "stderr",
     "output_type": "stream",
     "text": [
      "2018-01-24 19:10:21,962 - ALPHA_MIND - INFO - 2017-03-21 00:00:00 is finished\n",
      "2018-01-24 19:10:21,968 - ALPHA_MIND - INFO - 2017-04-06 00:00:00: 800\n"
     ]
    },
    {
     "name": "stdout",
     "output_type": "stream",
     "text": [
      "using backbone model and alpha model\n"
     ]
    },
    {
     "name": "stderr",
     "output_type": "stream",
     "text": [
      "2018-01-24 19:10:22,277 - ALPHA_MIND - INFO - 2017-04-06 00:00:00 is finished\n",
      "2018-01-24 19:10:22,282 - ALPHA_MIND - INFO - 2017-04-20 00:00:00: 800\n"
     ]
    },
    {
     "name": "stdout",
     "output_type": "stream",
     "text": [
      "using backbone model and alpha model\n"
     ]
    },
    {
     "name": "stderr",
     "output_type": "stream",
     "text": [
      "2018-01-24 19:10:22,594 - ALPHA_MIND - INFO - 2017-04-20 00:00:00 is finished\n",
      "2018-01-24 19:10:22,599 - ALPHA_MIND - INFO - 2017-05-05 00:00:00: 800\n"
     ]
    },
    {
     "name": "stdout",
     "output_type": "stream",
     "text": [
      "using backbone model and alpha model\n"
     ]
    },
    {
     "name": "stderr",
     "output_type": "stream",
     "text": [
      "2018-01-24 19:10:22,903 - ALPHA_MIND - INFO - 2017-05-05 00:00:00 is finished\n",
      "2018-01-24 19:10:22,909 - ALPHA_MIND - INFO - 2017-05-19 00:00:00: 800\n"
     ]
    },
    {
     "name": "stdout",
     "output_type": "stream",
     "text": [
      "using backbone model and alpha model\n"
     ]
    },
    {
     "name": "stderr",
     "output_type": "stream",
     "text": [
      "2018-01-24 19:10:23,215 - ALPHA_MIND - INFO - 2017-05-19 00:00:00 is finished\n",
      "2018-01-24 19:10:23,221 - ALPHA_MIND - INFO - 2017-06-06 00:00:00: 800\n"
     ]
    },
    {
     "name": "stdout",
     "output_type": "stream",
     "text": [
      "using backbone model and alpha model\n"
     ]
    },
    {
     "name": "stderr",
     "output_type": "stream",
     "text": [
      "2018-01-24 19:10:23,517 - ALPHA_MIND - INFO - 2017-06-06 00:00:00 is finished\n",
      "2018-01-24 19:10:23,523 - ALPHA_MIND - INFO - 2017-06-20 00:00:00: 800\n"
     ]
    },
    {
     "name": "stdout",
     "output_type": "stream",
     "text": [
      "using backbone model and alpha model\n"
     ]
    },
    {
     "name": "stderr",
     "output_type": "stream",
     "text": [
      "2018-01-24 19:10:23,831 - ALPHA_MIND - INFO - 2017-06-20 00:00:00 is finished\n",
      "2018-01-24 19:10:23,836 - ALPHA_MIND - INFO - 2017-07-04 00:00:00: 800\n"
     ]
    },
    {
     "name": "stdout",
     "output_type": "stream",
     "text": [
      "using backbone model and alpha model\n"
     ]
    },
    {
     "name": "stderr",
     "output_type": "stream",
     "text": [
      "2018-01-24 19:10:24,135 - ALPHA_MIND - INFO - 2017-07-04 00:00:00 is finished\n",
      "2018-01-24 19:10:24,140 - ALPHA_MIND - INFO - 2017-07-18 00:00:00: 800\n"
     ]
    },
    {
     "name": "stdout",
     "output_type": "stream",
     "text": [
      "using backbone model and alpha model\n"
     ]
    },
    {
     "name": "stderr",
     "output_type": "stream",
     "text": [
      "2018-01-24 19:10:24,452 - ALPHA_MIND - INFO - 2017-07-18 00:00:00 is finished\n",
      "2018-01-24 19:10:24,457 - ALPHA_MIND - INFO - 2017-08-01 00:00:00: 800\n"
     ]
    },
    {
     "name": "stdout",
     "output_type": "stream",
     "text": [
      "using backbone model and alpha model\n"
     ]
    },
    {
     "name": "stderr",
     "output_type": "stream",
     "text": [
      "2018-01-24 19:10:24,771 - ALPHA_MIND - INFO - 2017-08-01 00:00:00 is finished\n",
      "2018-01-24 19:10:24,776 - ALPHA_MIND - INFO - 2017-08-15 00:00:00: 800\n"
     ]
    },
    {
     "name": "stdout",
     "output_type": "stream",
     "text": [
      "using backbone model and alpha model\n"
     ]
    },
    {
     "name": "stderr",
     "output_type": "stream",
     "text": [
      "2018-01-24 19:10:25,088 - ALPHA_MIND - INFO - 2017-08-15 00:00:00 is finished\n",
      "2018-01-24 19:10:25,092 - ALPHA_MIND - INFO - 2017-08-29 00:00:00: 800\n"
     ]
    },
    {
     "name": "stdout",
     "output_type": "stream",
     "text": [
      "using backbone model and alpha model\n"
     ]
    },
    {
     "name": "stderr",
     "output_type": "stream",
     "text": [
      "2018-01-24 19:10:25,475 - ALPHA_MIND - INFO - 2017-08-29 00:00:00 is finished\n",
      "2018-01-24 19:10:25,481 - ALPHA_MIND - INFO - 2017-09-12 00:00:00: 800\n"
     ]
    },
    {
     "name": "stdout",
     "output_type": "stream",
     "text": [
      "using backbone model and alpha model\n"
     ]
    },
    {
     "name": "stderr",
     "output_type": "stream",
     "text": [
      "2018-01-24 19:10:25,793 - ALPHA_MIND - INFO - 2017-09-12 00:00:00 is finished\n",
      "2018-01-24 19:10:25,798 - ALPHA_MIND - INFO - 2017-09-26 00:00:00: 800\n"
     ]
    },
    {
     "name": "stdout",
     "output_type": "stream",
     "text": [
      "using backbone model and alpha model\n"
     ]
    },
    {
     "name": "stderr",
     "output_type": "stream",
     "text": [
      "2018-01-24 19:10:26,090 - ALPHA_MIND - INFO - 2017-09-26 00:00:00 is finished\n",
      "2018-01-24 19:10:26,095 - ALPHA_MIND - INFO - 2017-10-17 00:00:00: 800\n"
     ]
    },
    {
     "name": "stdout",
     "output_type": "stream",
     "text": [
      "using backbone model and alpha model\n"
     ]
    },
    {
     "name": "stderr",
     "output_type": "stream",
     "text": [
      "2018-01-24 19:10:26,411 - ALPHA_MIND - INFO - 2017-10-17 00:00:00 is finished\n",
      "2018-01-24 19:10:26,415 - ALPHA_MIND - INFO - 2017-10-31 00:00:00: 800\n"
     ]
    },
    {
     "name": "stdout",
     "output_type": "stream",
     "text": [
      "using backbone model and alpha model\n"
     ]
    },
    {
     "name": "stderr",
     "output_type": "stream",
     "text": [
      "2018-01-24 19:10:26,728 - ALPHA_MIND - INFO - 2017-10-31 00:00:00 is finished\n",
      "2018-01-24 19:10:26,734 - ALPHA_MIND - INFO - 2017-11-14 00:00:00: 800\n"
     ]
    },
    {
     "name": "stdout",
     "output_type": "stream",
     "text": [
      "using backbone model and alpha model\n"
     ]
    },
    {
     "name": "stderr",
     "output_type": "stream",
     "text": [
      "2018-01-24 19:10:27,056 - ALPHA_MIND - INFO - 2017-11-14 00:00:00 is finished\n",
      "2018-01-24 19:10:27,062 - ALPHA_MIND - INFO - 2017-11-28 00:00:00: 800\n"
     ]
    },
    {
     "name": "stdout",
     "output_type": "stream",
     "text": [
      "using backbone model and alpha model\n"
     ]
    },
    {
     "name": "stderr",
     "output_type": "stream",
     "text": [
      "2018-01-24 19:10:27,358 - ALPHA_MIND - INFO - 2017-11-28 00:00:00 is finished\n",
      "2018-01-24 19:10:27,363 - ALPHA_MIND - INFO - 2017-12-12 00:00:00: 800\n"
     ]
    },
    {
     "name": "stdout",
     "output_type": "stream",
     "text": [
      "using backbone model and alpha model\n"
     ]
    },
    {
     "name": "stderr",
     "output_type": "stream",
     "text": [
      "2018-01-24 19:10:27,696 - ALPHA_MIND - INFO - 2017-12-12 00:00:00 is finished\n",
      "2018-01-24 19:10:27,701 - ALPHA_MIND - INFO - 2017-12-26 00:00:00: 800\n"
     ]
    },
    {
     "name": "stdout",
     "output_type": "stream",
     "text": [
      "using backbone model and alpha model\n"
     ]
    },
    {
     "name": "stderr",
     "output_type": "stream",
     "text": [
      "2018-01-24 19:10:28,004 - ALPHA_MIND - INFO - 2017-12-26 00:00:00 is finished\n",
      "2018-01-24 19:10:28,010 - ALPHA_MIND - INFO - 2018-01-10 00:00:00: 800\n"
     ]
    },
    {
     "name": "stdout",
     "output_type": "stream",
     "text": [
      "using backbone model and alpha model\n"
     ]
    },
    {
     "name": "stderr",
     "output_type": "stream",
     "text": [
      "2018-01-24 19:10:28,289 - ALPHA_MIND - INFO - 2018-01-10 00:00:00 is finished\n",
      "2018-01-24 19:10:28,461 - ALPHA_MIND - INFO - 2017-01-03 00:00:00: 800\n"
     ]
    },
    {
     "name": "stdout",
     "output_type": "stream",
     "text": [
      "start 0.02 weight gap simulation ...\n",
      "using backbone model and alpha model\n"
     ]
    },
    {
     "name": "stderr",
     "output_type": "stream",
     "text": [
      "2018-01-24 19:10:28,678 - ALPHA_MIND - INFO - 2017-01-03 00:00:00 is finished\n",
      "2018-01-24 19:10:28,683 - ALPHA_MIND - INFO - 2017-01-17 00:00:00: 800\n"
     ]
    },
    {
     "name": "stdout",
     "output_type": "stream",
     "text": [
      "using backbone model and alpha model\n"
     ]
    },
    {
     "name": "stderr",
     "output_type": "stream",
     "text": [
      "2018-01-24 19:10:28,977 - ALPHA_MIND - INFO - 2017-01-17 00:00:00 is finished\n",
      "2018-01-24 19:10:28,981 - ALPHA_MIND - INFO - 2017-02-07 00:00:00: 800\n"
     ]
    },
    {
     "name": "stdout",
     "output_type": "stream",
     "text": [
      "using backbone model and alpha model\n"
     ]
    },
    {
     "name": "stderr",
     "output_type": "stream",
     "text": [
      "2018-01-24 19:10:29,285 - ALPHA_MIND - INFO - 2017-02-07 00:00:00 is finished\n",
      "2018-01-24 19:10:29,290 - ALPHA_MIND - INFO - 2017-02-21 00:00:00: 799\n"
     ]
    },
    {
     "name": "stdout",
     "output_type": "stream",
     "text": [
      "using backbone model and alpha model\n"
     ]
    },
    {
     "name": "stderr",
     "output_type": "stream",
     "text": [
      "2018-01-24 19:10:29,683 - ALPHA_MIND - INFO - 2017-02-21 00:00:00 is finished\n",
      "2018-01-24 19:10:29,688 - ALPHA_MIND - INFO - 2017-03-07 00:00:00: 800\n"
     ]
    },
    {
     "name": "stdout",
     "output_type": "stream",
     "text": [
      "using backbone model and alpha model\n"
     ]
    },
    {
     "name": "stderr",
     "output_type": "stream",
     "text": [
      "2018-01-24 19:10:29,987 - ALPHA_MIND - INFO - 2017-03-07 00:00:00 is finished\n",
      "2018-01-24 19:10:29,993 - ALPHA_MIND - INFO - 2017-03-21 00:00:00: 800\n"
     ]
    },
    {
     "name": "stdout",
     "output_type": "stream",
     "text": [
      "using backbone model and alpha model\n"
     ]
    },
    {
     "name": "stderr",
     "output_type": "stream",
     "text": [
      "2018-01-24 19:10:30,282 - ALPHA_MIND - INFO - 2017-03-21 00:00:00 is finished\n",
      "2018-01-24 19:10:30,286 - ALPHA_MIND - INFO - 2017-04-06 00:00:00: 800\n"
     ]
    },
    {
     "name": "stdout",
     "output_type": "stream",
     "text": [
      "using backbone model and alpha model\n"
     ]
    },
    {
     "name": "stderr",
     "output_type": "stream",
     "text": [
      "2018-01-24 19:10:30,600 - ALPHA_MIND - INFO - 2017-04-06 00:00:00 is finished\n",
      "2018-01-24 19:10:30,606 - ALPHA_MIND - INFO - 2017-04-20 00:00:00: 800\n"
     ]
    },
    {
     "name": "stdout",
     "output_type": "stream",
     "text": [
      "using backbone model and alpha model\n"
     ]
    },
    {
     "name": "stderr",
     "output_type": "stream",
     "text": [
      "2018-01-24 19:10:30,909 - ALPHA_MIND - INFO - 2017-04-20 00:00:00 is finished\n",
      "2018-01-24 19:10:30,916 - ALPHA_MIND - INFO - 2017-05-05 00:00:00: 800\n"
     ]
    },
    {
     "name": "stdout",
     "output_type": "stream",
     "text": [
      "using backbone model and alpha model\n"
     ]
    },
    {
     "name": "stderr",
     "output_type": "stream",
     "text": [
      "2018-01-24 19:10:31,234 - ALPHA_MIND - INFO - 2017-05-05 00:00:00 is finished\n",
      "2018-01-24 19:10:31,240 - ALPHA_MIND - INFO - 2017-05-19 00:00:00: 800\n"
     ]
    },
    {
     "name": "stdout",
     "output_type": "stream",
     "text": [
      "using backbone model and alpha model\n"
     ]
    },
    {
     "name": "stderr",
     "output_type": "stream",
     "text": [
      "2018-01-24 19:10:31,551 - ALPHA_MIND - INFO - 2017-05-19 00:00:00 is finished\n",
      "2018-01-24 19:10:31,557 - ALPHA_MIND - INFO - 2017-06-06 00:00:00: 800\n"
     ]
    },
    {
     "name": "stdout",
     "output_type": "stream",
     "text": [
      "using backbone model and alpha model\n"
     ]
    },
    {
     "name": "stderr",
     "output_type": "stream",
     "text": [
      "2018-01-24 19:10:31,860 - ALPHA_MIND - INFO - 2017-06-06 00:00:00 is finished\n",
      "2018-01-24 19:10:31,865 - ALPHA_MIND - INFO - 2017-06-20 00:00:00: 800\n"
     ]
    },
    {
     "name": "stdout",
     "output_type": "stream",
     "text": [
      "using backbone model and alpha model\n"
     ]
    },
    {
     "name": "stderr",
     "output_type": "stream",
     "text": [
      "2018-01-24 19:10:32,168 - ALPHA_MIND - INFO - 2017-06-20 00:00:00 is finished\n",
      "2018-01-24 19:10:32,173 - ALPHA_MIND - INFO - 2017-07-04 00:00:00: 800\n"
     ]
    },
    {
     "name": "stdout",
     "output_type": "stream",
     "text": [
      "using backbone model and alpha model\n"
     ]
    },
    {
     "name": "stderr",
     "output_type": "stream",
     "text": [
      "2018-01-24 19:10:32,480 - ALPHA_MIND - INFO - 2017-07-04 00:00:00 is finished\n",
      "2018-01-24 19:10:32,486 - ALPHA_MIND - INFO - 2017-07-18 00:00:00: 800\n"
     ]
    },
    {
     "name": "stdout",
     "output_type": "stream",
     "text": [
      "using backbone model and alpha model\n"
     ]
    },
    {
     "name": "stderr",
     "output_type": "stream",
     "text": [
      "2018-01-24 19:10:32,799 - ALPHA_MIND - INFO - 2017-07-18 00:00:00 is finished\n",
      "2018-01-24 19:10:32,804 - ALPHA_MIND - INFO - 2017-08-01 00:00:00: 800\n"
     ]
    },
    {
     "name": "stdout",
     "output_type": "stream",
     "text": [
      "using backbone model and alpha model\n"
     ]
    },
    {
     "name": "stderr",
     "output_type": "stream",
     "text": [
      "2018-01-24 19:10:33,111 - ALPHA_MIND - INFO - 2017-08-01 00:00:00 is finished\n",
      "2018-01-24 19:10:33,116 - ALPHA_MIND - INFO - 2017-08-15 00:00:00: 800\n"
     ]
    },
    {
     "name": "stdout",
     "output_type": "stream",
     "text": [
      "using backbone model and alpha model\n"
     ]
    },
    {
     "name": "stderr",
     "output_type": "stream",
     "text": [
      "2018-01-24 19:10:33,426 - ALPHA_MIND - INFO - 2017-08-15 00:00:00 is finished\n",
      "2018-01-24 19:10:33,431 - ALPHA_MIND - INFO - 2017-08-29 00:00:00: 800\n"
     ]
    },
    {
     "name": "stdout",
     "output_type": "stream",
     "text": [
      "using backbone model and alpha model\n"
     ]
    },
    {
     "name": "stderr",
     "output_type": "stream",
     "text": [
      "2018-01-24 19:10:33,744 - ALPHA_MIND - INFO - 2017-08-29 00:00:00 is finished\n",
      "2018-01-24 19:10:33,749 - ALPHA_MIND - INFO - 2017-09-12 00:00:00: 800\n"
     ]
    },
    {
     "name": "stdout",
     "output_type": "stream",
     "text": [
      "using backbone model and alpha model\n"
     ]
    },
    {
     "name": "stderr",
     "output_type": "stream",
     "text": [
      "2018-01-24 19:10:34,067 - ALPHA_MIND - INFO - 2017-09-12 00:00:00 is finished\n",
      "2018-01-24 19:10:34,072 - ALPHA_MIND - INFO - 2017-09-26 00:00:00: 800\n"
     ]
    },
    {
     "name": "stdout",
     "output_type": "stream",
     "text": [
      "using backbone model and alpha model\n"
     ]
    },
    {
     "name": "stderr",
     "output_type": "stream",
     "text": [
      "2018-01-24 19:10:34,380 - ALPHA_MIND - INFO - 2017-09-26 00:00:00 is finished\n",
      "2018-01-24 19:10:34,385 - ALPHA_MIND - INFO - 2017-10-17 00:00:00: 800\n"
     ]
    },
    {
     "name": "stdout",
     "output_type": "stream",
     "text": [
      "using backbone model and alpha model\n"
     ]
    },
    {
     "name": "stderr",
     "output_type": "stream",
     "text": [
      "2018-01-24 19:10:34,784 - ALPHA_MIND - INFO - 2017-10-17 00:00:00 is finished\n",
      "2018-01-24 19:10:34,789 - ALPHA_MIND - INFO - 2017-10-31 00:00:00: 800\n"
     ]
    },
    {
     "name": "stdout",
     "output_type": "stream",
     "text": [
      "using backbone model and alpha model\n"
     ]
    },
    {
     "name": "stderr",
     "output_type": "stream",
     "text": [
      "2018-01-24 19:10:35,099 - ALPHA_MIND - INFO - 2017-10-31 00:00:00 is finished\n",
      "2018-01-24 19:10:35,104 - ALPHA_MIND - INFO - 2017-11-14 00:00:00: 800\n"
     ]
    },
    {
     "name": "stdout",
     "output_type": "stream",
     "text": [
      "using backbone model and alpha model\n"
     ]
    },
    {
     "name": "stderr",
     "output_type": "stream",
     "text": [
      "2018-01-24 19:10:35,438 - ALPHA_MIND - INFO - 2017-11-14 00:00:00 is finished\n",
      "2018-01-24 19:10:35,443 - ALPHA_MIND - INFO - 2017-11-28 00:00:00: 800\n"
     ]
    },
    {
     "name": "stdout",
     "output_type": "stream",
     "text": [
      "using backbone model and alpha model\n"
     ]
    },
    {
     "name": "stderr",
     "output_type": "stream",
     "text": [
      "2018-01-24 19:10:35,745 - ALPHA_MIND - INFO - 2017-11-28 00:00:00 is finished\n",
      "2018-01-24 19:10:35,750 - ALPHA_MIND - INFO - 2017-12-12 00:00:00: 800\n"
     ]
    },
    {
     "name": "stdout",
     "output_type": "stream",
     "text": [
      "using backbone model and alpha model\n"
     ]
    },
    {
     "name": "stderr",
     "output_type": "stream",
     "text": [
      "2018-01-24 19:10:36,070 - ALPHA_MIND - INFO - 2017-12-12 00:00:00 is finished\n",
      "2018-01-24 19:10:36,075 - ALPHA_MIND - INFO - 2017-12-26 00:00:00: 800\n"
     ]
    },
    {
     "name": "stdout",
     "output_type": "stream",
     "text": [
      "using backbone model and alpha model\n"
     ]
    },
    {
     "name": "stderr",
     "output_type": "stream",
     "text": [
      "2018-01-24 19:10:36,390 - ALPHA_MIND - INFO - 2017-12-26 00:00:00 is finished\n",
      "2018-01-24 19:10:36,395 - ALPHA_MIND - INFO - 2018-01-10 00:00:00: 800\n"
     ]
    },
    {
     "name": "stdout",
     "output_type": "stream",
     "text": [
      "using backbone model and alpha model\n"
     ]
    },
    {
     "name": "stderr",
     "output_type": "stream",
     "text": [
      "2018-01-24 19:10:36,682 - ALPHA_MIND - INFO - 2018-01-10 00:00:00 is finished\n"
     ]
    },
    {
     "data": {
      "image/png": "[encoded data removed]",
      "text/plain": [
       "<matplotlib.figure.Figure at 0x1ea012b4908>"
      ]
     },
     "metadata": {},
     "output_type": "display_data"
    },
    {
     "data": {
      "image/png": "[encoded data removed]",
      "text/plain": [
       "<matplotlib.figure.Figure at 0x1ea0773bf28>"
      ]
     },
     "metadata": {},
     "output_type": "display_data"
    },
    {
     "data": {
      "image/png": "[encoded data removed]",
      "text/plain": [
       "<matplotlib.figure.Figure at 0x1ea02f9e588>"
      ]
     },
     "metadata": {},
     "output_type": "display_data"
    },
    {
     "data": {
      "image/png": "[encoded data removed]",
      "text/plain": [
       "<matplotlib.figure.Figure at 0x1ea7ae7dd68>"
      ]
     },
     "metadata": {},
     "output_type": "display_data"
    }
   ],
   "source": [
    "# Predicting and re-balance phase\n",
    "\n",
    "weight_gaps = [0.005, 0.010, 0.015, 0.020]\n",
    "\n",
    "model1_weight = 1.0\n",
    "model2_weight = 0.5\n",
    "\n",
    "factor_groups = const_model_factor_data.groupby('trade_date')\n",
    "\n",
    "for s_i, weight_gap in enumerate(weight_gaps):\n",
    "    print(\"start {0} weight gap simulation ...\".format(weight_gap))\n",
    "\n",
    "    rets = []\n",
    "    turn_overs = []\n",
    "    leverags = []\n",
    "    previous_pos = pd.DataFrame()\n",
    "\n",
    "    index_dates = []\n",
    "\n",
    "    for i, value in enumerate(factor_groups):\n",
    "        date = value[0]\n",
    "        data = value[1]\n",
    "        ref_date = date.strftime('%Y-%m-%d')\n",
    "\n",
    "        total_data = data.fillna(data[model_features_keys].median())\n",
    "        alpha_logger.info('{0}: {1}'.format(date, len(total_data)))\n",
    "        risk_exp = total_data[neutralize_risk].values.astype(float)\n",
    "        industry = total_data.industry_code.values\n",
    "        benchmark_w = total_data.weight.values\n",
    "        \n",
    "        this_industry_data = industry_group.get_group(date)\n",
    "        \n",
    "        total_data = pd.merge(total_data, this_industry_data, on=['trade_date', 'code'])\n",
    "        constraint_exp = total_data[constraint_risk].values\n",
    "        industry = total_data.industry_name.values\n",
    "\n",
    "        risk_exp_expand = np.concatenate((constraint_exp, np.ones((len(risk_exp), 1))), axis=1).astype(float)\n",
    "\n",
    "        risk_names = constraint_risk + ['total']\n",
    "        risk_target = risk_exp_expand.T @ benchmark_w\n",
    "\n",
    "        lbound = np.maximum(0., benchmark_w - weight_gap)  # np.zeros(len(total_data))\n",
    "        ubound = weight_gap + benchmark_w\n",
    "\n",
    "        is_in_benchmark = (benchmark_w > 0.).astype(float)\n",
    "\n",
    "        risk_exp_expand = np.concatenate((risk_exp_expand, is_in_benchmark.reshape((-1, 1))), axis=1).astype(float)\n",
    "        risk_names.append('benchmark_total')\n",
    "\n",
    "        constraint = Constraints(risk_exp_expand, risk_names)\n",
    "\n",
    "        for j, name in enumerate(risk_names):\n",
    "            if name == 'total':\n",
    "                constraint.set_constraints(name,\n",
    "                                           lower_bound=risk_target[j],\n",
    "                                           upper_bound=risk_target[j])\n",
    "            elif name == 'SIZE':\n",
    "                base_target = abs(risk_target[j])\n",
    "                constraint.set_constraints(name,\n",
    "                                           lower_bound=risk_target[j] + base_target * size_risk_lower,\n",
    "                                           upper_bound=risk_target[j] + base_target * size_risk_upper)\n",
    "            elif name == 'benchmark_total':\n",
    "                base_target = benchmark_w.sum()\n",
    "                constraint.set_constraints(name,\n",
    "                                           lower_bound=benchmark_total_lower * base_target,\n",
    "                                           upper_bound=benchmark_total_upper * base_target)\n",
    "            else:\n",
    "                constraint.set_constraints(name,\n",
    "                                           lower_bound=risk_target[j] * industry_lower,\n",
    "                                           upper_bound=risk_target[j] * industry_upper)\n",
    "        \n",
    "        factor_values = factor_processing(total_data[model_features_keys].values,\n",
    "                                          pre_process=[winsorize_normal, standardize],\n",
    "                                          risk_factors=risk_exp,\n",
    "                                          post_process=[winsorize_normal, standardize])\n",
    "\n",
    "        # const linear model\n",
    "        er1 = const_model.predict(factor_values)\n",
    "        \n",
    "        try:\n",
    "            model = lasso_models_series.ix[date]\n",
    "        except KeyError:\n",
    "            alpha_logger.info(\"model is not available. Omit this date\")\n",
    "            continue\n",
    "            \n",
    "        index_dates.append(date)\n",
    "\n",
    "        x = predict_x[date]\n",
    "        this_predict_code = predict_code[date]\n",
    "        er2 = model.predict(x)\n",
    "\n",
    "        # combine model\n",
    "        er1_table = pd.DataFrame({'er1': er1, 'code': total_data.code.values})\n",
    "        er2_table = pd.DataFrame({'er2': er2, 'code': this_predict_code})\n",
    "        er_table = pd.merge(er1_table, er2_table, on=['code'], how='left').fillna(0)\n",
    "\n",
    "        er1 = er_table.er1.values\n",
    "        er2 = er_table.er2.values\n",
    "        \n",
    "        if er2.std() > 0:\n",
    "            print('using backbone model and alpha model')\n",
    "            er = model1_weight * er1 / er1.std() +  model2_weight * er2 / er2.std()\n",
    "        else:\n",
    "            print('using only backbone modedl')\n",
    "            er = model1_weight * er1\n",
    "            \n",
    "        codes = total_data['code'].values\n",
    "\n",
    "        if previous_pos.empty:\n",
    "            current_position = None\n",
    "            turn_over_target = None\n",
    "        else:\n",
    "            previous_pos.set_index('code', inplace=True)\n",
    "            remained_pos = previous_pos.loc[codes]\n",
    "\n",
    "            remained_pos.fillna(0., inplace=True)\n",
    "            turn_over_target = turn_over_target_base\n",
    "            current_position = remained_pos.weight.values\n",
    "\n",
    "        try:\n",
    "            target_pos, _ = er_portfolio_analysis(er,\n",
    "                                                  industry,\n",
    "                                                  None,\n",
    "                                                  constraint,\n",
    "                                                  False,\n",
    "                                                  benchmark_w,\n",
    "                                                  method=method,\n",
    "                                                  turn_over_target=turn_over_target,\n",
    "                                                  current_position=current_position,\n",
    "                                                  lbound=lbound,\n",
    "                                                  ubound=ubound)\n",
    "        except ValueError:\n",
    "            alpha_logger.info('{0} full re-balance'.format(date))\n",
    "            target_pos, _ = er_portfolio_analysis(er,\n",
    "                                                  industry,\n",
    "                                                  None,\n",
    "                                                  constraint,\n",
    "                                                  False,\n",
    "                                                  benchmark_w,\n",
    "                                                  method=method,\n",
    "                                                  lbound=lbound,\n",
    "                                                  ubound=ubound)\n",
    "\n",
    "        target_pos['code'] = total_data['code'].values\n",
    "\n",
    "        turn_over, executed_pos = executor.execute(target_pos=target_pos)\n",
    "\n",
    "        executed_codes = executed_pos.code.tolist()\n",
    "        dx_returns = engine.fetch_dx_return(date, executed_codes, horizon=horizon, offset=1)\n",
    "\n",
    "        result = pd.merge(executed_pos, total_data[['code', 'weight']], on=['code'], how='inner')\n",
    "        result = pd.merge(result, dx_returns, on=['code'])\n",
    "\n",
    "        leverage = result.weight_x.abs().sum()\n",
    "\n",
    "        ret = result.weight_x.values @ (np.exp(result.dx.values) - 1.)\n",
    "        rets.append(np.log(1. + ret))\n",
    "        executor.set_current(executed_pos)\n",
    "        turn_overs.append(turn_over)\n",
    "        leverags.append(leverage)\n",
    "\n",
    "        previous_pos = executed_pos\n",
    "        alpha_logger.info('{0} is finished'.format(date))\n",
    "\n",
    "    ret_df = pd.DataFrame({'returns': rets, 'turn_over': turn_overs, 'leverage': leverags}, index=index_dates)\n",
    "\n",
    "    # index return\n",
    "    index_return = engine.fetch_dx_return_index_range(benchmark_code, dates=ref_dates, horizon=horizon,\n",
    "                                                      offset=1).set_index('trade_date')\n",
    "    ret_df['index'] = index_return['dx']\n",
    "\n",
    "    ret_df.loc[advanceDateByCalendar('china.sse', ref_dates[-1], frequency)] = 0.\n",
    "    ret_df = ret_df.shift(1)\n",
    "    ret_df.iloc[0] = 0.\n",
    "    ret_df['tc_cost'] = ret_df.turn_over * 0.002\n",
    "    ret_df['returns'] = ret_df['leverage'] * (ret_df['returns'] - ret_df['index'])\n",
    "\n",
    "    ret_df[['returns', 'tc_cost']].cumsum().plot(figsize=(12, 6),\n",
    "                                                 title='Fixed frequency rebalanced: {0}'.format(frequency),\n",
    "                                                 secondary_y='tc_cost')\n",
    "\n",
    "    ret_df['ret_after_tc'] = ret_df['returns'] - ret_df['tc_cost']\n",
    "    \n",
    "\n",
    "    sharp_calc = MovingSharp(49)\n",
    "    drawdown_calc = MovingMaxDrawdown(49)\n",
    "    max_drawdown_calc = MovingMaxDrawdown(len(ret_df))\n",
    "\n",
    "    res_df = pd.DataFrame(columns=['daily_return', 'cum_ret', 'sharp', 'drawdown', 'max_drawn', 'leverage'])\n",
    "\n",
    "    total_returns = 0.\n",
    "\n",
    "    for i, ret in enumerate(ret_df['ret_after_tc']):\n",
    "        date = ret_df.index[i]\n",
    "        total_returns += ret\n",
    "        sharp_calc.push({'ret': ret, 'riskFree': 0.})\n",
    "        drawdown_calc.push({'ret': ret})\n",
    "        max_drawdown_calc.push({'ret': ret})\n",
    "\n",
    "        res_df.loc[date, 'daily_return'] = ret\n",
    "        res_df.loc[date, 'cum_ret'] = total_returns\n",
    "        res_df.loc[date, 'drawdown'] = drawdown_calc.result()[0]\n",
    "        res_df.loc[date, 'max_drawn'] = max_drawdown_calc.result()[0]\n",
    "        res_df.loc[date, 'leverage'] = ret_df.loc[date, 'leverage']\n",
    "\n",
    "        if i < 10:\n",
    "            res_df.loc[date, 'sharp'] = 0.\n",
    "        else:\n",
    "            res_df.loc[date, 'sharp'] = sharp_calc.result() * np.sqrt(49)\n",
    "\n",
    "    res_df.to_csv('hs300_rf_{0}.csv'.format(int(s_i)))"
   ]
  },
  {
   "cell_type": "code",
   "execution_count": null,
   "metadata": {
    "collapsed": true
   },
   "outputs": [],
   "source": []
  },
  {
   "cell_type": "code",
   "execution_count": null,
   "metadata": {
    "collapsed": true
   },
   "outputs": [],
   "source": []
  },
  {
   "cell_type": "code",
   "execution_count": null,
   "metadata": {
    "collapsed": true
   },
   "outputs": [],
   "source": []
  },
  {
   "cell_type": "code",
   "execution_count": null,
   "metadata": {
    "collapsed": true
   },
   "outputs": [],
   "source": []
  }
 ],
 "metadata": {
  "kernelspec": {
   "display_name": "Python 3",
   "language": "python",
   "name": "python3"
  },
  "language_info": {
   "codemirror_mode": {
    "name": "ipython",
    "version": 3
   },
   "file_extension": ".py",
   "mimetype": "text/x-python",
   "name": "python",
   "nbconvert_exporter": "python",
   "pygments_lexer": "ipython3",
   "version": "3.6.3"
  }
 },
 "nbformat": 4,
 "nbformat_minor": 2
}
