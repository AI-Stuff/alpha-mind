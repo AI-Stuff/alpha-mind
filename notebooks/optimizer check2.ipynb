{
 "cells": [
  {
   "cell_type": "code",
   "execution_count": null,
   "metadata": {
    "collapsed": true
   },
   "outputs": [],
   "source": [
    "import numpy as np\n",
    "from cvxopt import *"
   ]
  },
  {
   "cell_type": "code",
   "execution_count": null,
   "metadata": {
    "collapsed": true
   },
   "outputs": [],
   "source": [
    "sec_cov_values = np.fromfile('sec_cov_values.dat')\n",
    "signal = np.fromfile('signal.dat')\n",
    "sec_cov_values = sec_cov_values.reshape((len(signal), -1))\n",
    "n = len(sec_cov_values)"
   ]
  },
  {
   "cell_type": "code",
   "execution_count": null,
   "metadata": {},
   "outputs": [],
   "source": [
    "%%time\n",
    "P = matrix(sec_cov_values)\n",
    "q = -matrix(signal)\n",
    "\n",
    "G = np.zeros((2*n, n))\n",
    "h = np.zeros(2*n)\n",
    "for i in range(n):\n",
    "    G[i, i] = 1.\n",
    "    h[i] = 0.01\n",
    "    G[i+n, i] = -1.\n",
    "    h[i+n] = 0.\n",
    "    \n",
    "G = matrix(G)\n",
    "h = matrix(h)\n",
    "    \n",
    "A = np.ones((1, n))\n",
    "b = np.ones(1)\n",
    "\n",
    "A = matrix(A)\n",
    "b = matrix(b)\n",
    "\n",
    "sol = solvers.qp(P, q, G, h, A, b)"
   ]
  },
  {
   "cell_type": "code",
   "execution_count": null,
   "metadata": {
    "collapsed": true
   },
   "outputs": [],
   "source": []
  }
 ],
 "metadata": {
  "kernelspec": {
   "display_name": "Python [conda env:py2]",
   "language": "python",
   "name": "conda-env-py2-py"
  },
  "language_info": {
   "codemirror_mode": {
    "name": "ipython",
    "version": 2
   },
   "file_extension": ".py",
   "mimetype": "text/x-python",
   "name": "python",
   "nbconvert_exporter": "python",
   "pygments_lexer": "ipython2",
   "version": "2.7.13"
  }
 },
 "nbformat": 4,
 "nbformat_minor": 2
}
