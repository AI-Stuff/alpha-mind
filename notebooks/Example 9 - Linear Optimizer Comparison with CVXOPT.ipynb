{
 "cells": [
  {
   "cell_type": "code",
   "execution_count": 1,
   "metadata": {},
   "outputs": [],
   "source": [
    "import datetime as dt\n",
    "import numpy as np\n",
    "import cvxpy\n",
    "from alphamind.portfolio.linearbuilder import linear_builder"
   ]
  },
  {
   "cell_type": "code",
   "execution_count": 2,
   "metadata": {},
   "outputs": [],
   "source": [
    "def time_function(py_callable, n):\n",
    "    start = dt.datetime.now()\n",
    "    result = py_callable(n)\n",
    "    elapsed = (dt.datetime.now() - start).total_seconds()\n",
    "    return elapsed, result\n",
    "\n",
    "def cvxpy_lp(n):\n",
    "    w = cvxpy.Variable(n)\n",
    "\n",
    "    bndl = np.zeros(n)\n",
    "    bndu = 0.01 * np.ones(n)\n",
    "    risk_constraints1 = np.ones((n,1))\n",
    "    risk_constraints2 = np.zeros((n,1))\n",
    "    risk_constraints2[0][0] = 1.\n",
    "    risk_constraints2[1][0] = 1.\n",
    "    risk_constraints = np.concatenate((risk_constraints1, risk_constraints2), axis=1)\n",
    "\n",
    "    curr_risk_exposure = risk_constraints.T @ w\n",
    "    risk_targets = np.array([1., 0.015])\n",
    "\n",
    "    constraints = [w >= bndl,\n",
    "                   w <= bndu,\n",
    "                   curr_risk_exposure >= risk_targets,\n",
    "                   curr_risk_exposure <= risk_targets]\n",
    "    \n",
    "    np.random.seed(1)\n",
    "    er = np.random.randn(n)\n",
    "\n",
    "    objective = cvxpy.Minimize(-w.T * er)\n",
    "    prob = cvxpy.Problem(objective, constraints)\n",
    "    prob.solve()\n",
    "    return w, prob"
   ]
  },
  {
   "cell_type": "code",
   "execution_count": 3,
   "metadata": {},
   "outputs": [
    {
     "name": "stdout",
     "output_type": "stream",
     "text": [
      "Scale(n)    time(ms)       feval      min(x)      max(x)      sum(x)    x(0) + x(1)\n",
      "200            18.00       -0.82   -0.000021    0.011996    1.0000100.013991955470964355\n",
      "400            21.40       -1.28   -0.000000    0.010000    1.000000          0.015\n",
      "600            21.00       -1.64   -0.000435    0.009980    1.0001740.014845697577983343\n",
      "800            24.01       -1.83   -0.000802    0.010028    1.0002310.01474166785085744\n",
      "1000           44.88       -1.89   -0.000166    0.010000    1.0001490.014851819526468822\n",
      "1200           44.02       -2.07   -0.000571    0.009999    1.0001670.014833266833006432\n"
     ]
    },
    {
     "name": "stderr",
     "output_type": "stream",
     "text": [
      "d:\\ProgramData\\Anaconda3\\lib\\site-packages\\cvxpy-1.0.8-py3.6-win-amd64.egg\\cvxpy\\problems\\problem.py:614: RuntimeWarning: overflow encountered in long_scalars\n",
      "  if self.max_big_small_squared < big*small**2:\n",
      "d:\\ProgramData\\Anaconda3\\lib\\site-packages\\cvxpy-1.0.8-py3.6-win-amd64.egg\\cvxpy\\problems\\problem.py:615: RuntimeWarning: overflow encountered in long_scalars\n",
      "  self.max_big_small_squared = big*small**2\n"
     ]
    },
    {
     "name": "stdout",
     "output_type": "stream",
     "text": [
      "1400           57.00       -2.31   -0.000504    0.009997    1.0002170.014785380519459417\n",
      "1600           47.02       -2.90   -0.001650    0.009905    1.0004330.014667925787486116\n",
      "1800           79.06       -2.67   -0.000885    0.009999    1.0002300.014771011591262167\n",
      "2000           68.01       -2.81   -0.000333    0.010001    1.0002410.014758149340884413\n",
      "2200           72.02       -3.71   -0.000849    0.009969    1.0004940.014536311105299406\n",
      "2400           94.19       -2.46   -0.000536    0.010001    1.0000810.014917972574632015\n",
      "2600          135.07       -2.54   -0.000105    0.010001    1.0000900.01490885499964943\n",
      "2800          106.02       -3.40   -0.000983    0.010000    1.0002670.014733268551116162\n",
      "3000          109.02       -3.77   -0.001612    0.010001    1.0003180.014680802417975643\n"
     ]
    }
   ],
   "source": [
    "print(\"{0:<8}{1:>12}{2:>12}{3:>12}{4:>12}{5:>12}{6:>15}\".format('Scale(n)', 'time(ms)', 'feval', 'min(x)', 'max(x)', 'sum(x)', 'x(0) + x(1)'))\n",
    "\n",
    "for n in range(200, 3200, 200):\n",
    "    elapsed, result = time_function(cvxpy_lp, n)\n",
    "    s = np.array(result[0].value).flatten()\n",
    "    print(\"{0:<8}{1:>12.2f}{2:>12.2f}{3:>12f}{4:>12f}{5:>12f}{6:>15}\".format(n, elapsed*1000, result[1].value, s.min(), s.max(), s.sum(), s[0] + s[1]))"
   ]
  },
  {
   "cell_type": "code",
   "execution_count": 4,
   "metadata": {},
   "outputs": [],
   "source": [
    "def clp_lp(n):\n",
    "    np.random.seed(1)\n",
    "    er = np.random.randn(n)\n",
    "\n",
    "    bndl = np.zeros(n)\n",
    "    bndu = 0.01 * np.ones(n)\n",
    "    risk_constraints1 = np.ones((n,1))\n",
    "    risk_constraints2 = np.zeros((n,1))\n",
    "    risk_constraints2[0][0] = 1.\n",
    "    risk_constraints2[1][0] = 1.\n",
    "    risk_constraints = np.concatenate((risk_constraints1, risk_constraints2), axis=1)\n",
    "    risk_target = np.array([1., 0.015]), np.array([1., 0.015])\n",
    "    \n",
    "    result = linear_builder(er, bndl, bndu, risk_constraints, risk_target)\n",
    "    return result"
   ]
  },
  {
   "cell_type": "code",
   "execution_count": 5,
   "metadata": {},
   "outputs": [
    {
     "name": "stdout",
     "output_type": "stream",
     "text": [
      "Scale(n)    time(ms)       feval      min(x)      max(x)      sum(x)    x(0) + x(1)\n",
      "200             2.99       -0.82    0.000000    0.010000    1.0000000.015000000005429394\n",
      "400             2.99       -1.28    0.000000    0.010000    1.0000000.015000000000751215\n",
      "600             4.00       -1.54    0.000000    0.010000    1.0000000.01500000000851949\n",
      "800             5.00       -1.63    0.000000    0.010000    1.0000000.015000000002481837\n",
      "1000            7.00       -1.72    0.000000    0.010000    1.0000000.015000000001100414\n",
      "1200            6.00       -1.81    0.000000    0.010000    1.0000000.01500000000548405\n",
      "1400            9.01       -1.90    0.000000    0.010000    1.0000000.015000000001956426\n",
      "1600           10.00       -1.96    0.000000    0.010000    1.0000000.015000000000082848\n",
      "1800           10.16       -2.03    0.000000    0.010000    1.0000000.01500000000204834\n",
      "2000           12.05       -2.06    0.000000    0.010000    1.0000000.0150000000008303\n",
      "2200           12.99       -2.07    0.000000    0.010000    1.0000000.01500000000729576\n",
      "2400           12.00       -2.13    0.000000    0.010000    1.0000000.015000000004022507\n",
      "2600           23.02       -2.14    0.000000    0.010000    1.0000000.015000000001118521\n",
      "2800           20.99       -2.16    0.000000    0.010000    1.0000000.01500000000064263\n",
      "3000           22.00       -2.19    0.000000    0.010000    1.0000000.015000000003030482\n"
     ]
    }
   ],
   "source": [
    "print(\"{0:<8}{1:>12}{2:>12}{3:>12}{4:>12}{5:>12}{6:>15}\".format('Scale(n)', 'time(ms)', 'feval', 'min(x)', 'max(x)', 'sum(x)', 'x(0) + x(1)'))\n",
    "\n",
    "for n in range(200, 3200, 200):\n",
    "    elapsed, result = time_function(clp_lp, n)\n",
    "    s = result[2]\n",
    "    print(\"{0:<8}{1:>12.2f}{2:>12.2f}{3:>12f}{4:>12f}{5:>12f}{6:>15}\".format(n, elapsed*1000, result[1], s.min(), s.max(), s.sum(), s[0] + s[1]))"
   ]
  },
  {
   "cell_type": "code",
   "execution_count": null,
   "metadata": {},
   "outputs": [],
   "source": []
  }
 ],
 "metadata": {
  "kernelspec": {
   "display_name": "Python 3",
   "language": "python",
   "name": "python3"
  },
  "language_info": {
   "codemirror_mode": {
    "name": "ipython",
    "version": 3
   },
   "file_extension": ".py",
   "mimetype": "text/x-python",
   "name": "python",
   "nbconvert_exporter": "python",
   "pygments_lexer": "ipython3",
   "version": "3.6.5"
  },
  "varInspector": {
   "cols": {
    "lenName": 16,
    "lenType": 16,
    "lenVar": 40
   },
   "kernels_config": {
    "python": {
     "delete_cmd_postfix": "",
     "delete_cmd_prefix": "del ",
     "library": "var_list.py",
     "varRefreshCmd": "print(var_dic_list())"
    },
    "r": {
     "delete_cmd_postfix": ") ",
     "delete_cmd_prefix": "rm(",
     "library": "var_list.r",
     "varRefreshCmd": "cat(var_dic_list()) "
    }
   },
   "types_to_exclude": [
    "module",
    "function",
    "builtin_function_or_method",
    "instance",
    "_Feature"
   ],
   "window_display": false
  }
 },
 "nbformat": 4,
 "nbformat_minor": 2
}
