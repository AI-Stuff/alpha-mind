{
 "cells": [
  {
   "cell_type": "code",
   "execution_count": 1,
   "metadata": {},
   "outputs": [],
   "source": [
    "%matplotlib inline\n",
    "from matplotlib import pyplot as plt\n",
    "import uqer\n",
    "import numpy as np\n",
    "import pandas as pd\n",
    "from uqer import DataAPI as api\n",
    "from alphamind.api import *\n",
    "from alphamind.data.neutralize import neutralize\n",
    "\n",
    "plt.style.use('ggplot')"
   ]
  },
  {
   "cell_type": "code",
   "execution_count": 2,
   "metadata": {},
   "outputs": [
    {
     "name": "stdout",
     "output_type": "stream",
     "text": [
      "16937@wmcloud.com 账号登录成功\n"
     ]
    }
   ],
   "source": [
    "_ = uqer.Client(token='')"
   ]
  },
  {
   "cell_type": "code",
   "execution_count": 3,
   "metadata": {},
   "outputs": [],
   "source": [
    "ref_date = '2017-06-23'\n",
    "factor = 'EPS'\n",
    "\n",
    "engine = SqlEngine()\n",
    "universe = Universe('custom', ['zz800'])"
   ]
  },
  {
   "cell_type": "markdown",
   "metadata": {},
   "source": [
    "# Algorithm Description\n",
    "--------------------------"
   ]
  },
  {
   "cell_type": "markdown",
   "metadata": {},
   "source": [
    "猜测的 ``neutralize`` 残差$\\bar Res$计算公式：\n",
    "\n",
    "$$\\bar Res_{i,k} = \\bar f_{i,k} - \\sum_j \\beta_{j,k} \\times \\bar Ex_{i, j, k}$$\n",
    "\n",
    "其中：$k$为行业分类，$i$为该行业中第$i$只股票，$j$为第$j$个风险因子。$\\bar f$为因子序列，$\\bar Ex$为风险暴露矩阵。系数$\\beta_{j,k}$由OLS确定。\n",
    "\n",
    "下面的章节，我们分别比较三种``neutralize``的方法差别：\n",
    "\n",
    "* **UQER Neutralize**\n",
    "\n",
    "    使用优矿的SDK计算因子残差。\n",
    "\n",
    "\n",
    "* **Alpha-Mind Neutralize**\n",
    "\n",
    "    使用alpha-mind计算因子残差，alpha-mind可以由以下地址安装：\n",
    "    \n",
    "    ```\n",
    "    https://github.com/wegamekinglc/alpha-mind\n",
    "    ```\n",
    "\n",
    "* **Direct Weighted Least Square Fit Implementation**\n",
    "\n",
    "    直接使用scikit-learn的线性回归功能来计算因子残差。\n"
   ]
  },
  {
   "cell_type": "markdown",
   "metadata": {},
   "source": [
    "# Raw Data\n",
    "---------------------------"
   ]
  },
  {
   "cell_type": "code",
   "execution_count": 4,
   "metadata": {},
   "outputs": [],
   "source": [
    "codes = engine.fetch_codes(ref_date, universe)\n",
    "factor_data = engine.fetch_factor(ref_date, factor, codes)\n",
    "risk_cov, risk_expousre = engine.fetch_risk_model(ref_date, codes)\n",
    "total_data = pd.merge(factor_data, risk_expousre, on=['code']).dropna()"
   ]
  },
  {
   "cell_type": "code",
   "execution_count": 5,
   "metadata": {},
   "outputs": [],
   "source": [
    "total_data['ticker'] = total_data.code.apply(lambda x: '{0:06}'.format(x))\n",
    "total_data.set_index('ticker', inplace=True)"
   ]
  },
  {
   "cell_type": "code",
   "execution_count": 6,
   "metadata": {},
   "outputs": [
    {
     "data": {
      "text/plain": [
       "800"
      ]
     },
     "execution_count": 6,
     "metadata": {},
     "output_type": "execute_result"
    }
   ],
   "source": [
    "len(total_data)"
   ]
  },
  {
   "cell_type": "markdown",
   "metadata": {},
   "source": [
    "# UQER Neutralize\n",
    "-----------------------"
   ]
  },
  {
   "cell_type": "code",
   "execution_count": 7,
   "metadata": {},
   "outputs": [
    {
     "name": "stdout",
     "output_type": "stream",
     "text": [
      "CPU times: user 6.95 ms, sys: 3.42 ms, total: 10.4 ms\n",
      "Wall time: 122 ms\n"
     ]
    }
   ],
   "source": [
    "%%time\n",
    "neutralized_factor_uqer = uqer.neutralize(total_data[factor],\n",
    "                                          target_date=ref_date.replace('-', ''),\n",
    "                                          industry_type='short')"
   ]
  },
  {
   "cell_type": "code",
   "execution_count": 8,
   "metadata": {},
   "outputs": [
    {
     "data": {
      "text/html": [
       "<div>\n",
       "<style scoped>\n",
       "    .dataframe tbody tr th:only-of-type {\n",
       "        vertical-align: middle;\n",
       "    }\n",
       "\n",
       "    .dataframe tbody tr th {\n",
       "        vertical-align: top;\n",
       "    }\n",
       "\n",
       "    .dataframe thead th {\n",
       "        text-align: right;\n",
       "    }\n",
       "</style>\n",
       "<table border=\"1\" class=\"dataframe\">\n",
       "  <thead>\n",
       "    <tr style=\"text-align: right;\">\n",
       "      <th></th>\n",
       "      <th>uqer</th>\n",
       "    </tr>\n",
       "  </thead>\n",
       "  <tbody>\n",
       "    <tr>\n",
       "      <th>000001</th>\n",
       "      <td>-0.065580</td>\n",
       "    </tr>\n",
       "    <tr>\n",
       "      <th>000002</th>\n",
       "      <td>-0.279003</td>\n",
       "    </tr>\n",
       "    <tr>\n",
       "      <th>000006</th>\n",
       "      <td>-0.044765</td>\n",
       "    </tr>\n",
       "    <tr>\n",
       "      <th>000008</th>\n",
       "      <td>-0.049037</td>\n",
       "    </tr>\n",
       "    <tr>\n",
       "      <th>000009</th>\n",
       "      <td>0.011354</td>\n",
       "    </tr>\n",
       "    <tr>\n",
       "      <th>000012</th>\n",
       "      <td>0.084542</td>\n",
       "    </tr>\n",
       "    <tr>\n",
       "      <th>000021</th>\n",
       "      <td>0.047019</td>\n",
       "    </tr>\n",
       "    <tr>\n",
       "      <th>000025</th>\n",
       "      <td>-0.045585</td>\n",
       "    </tr>\n",
       "    <tr>\n",
       "      <th>000027</th>\n",
       "      <td>-0.014162</td>\n",
       "    </tr>\n",
       "    <tr>\n",
       "      <th>000028</th>\n",
       "      <td>0.352680</td>\n",
       "    </tr>\n",
       "  </tbody>\n",
       "</table>\n",
       "</div>"
      ],
      "text/plain": [
       "            uqer\n",
       "000001 -0.065580\n",
       "000002 -0.279003\n",
       "000006 -0.044765\n",
       "000008 -0.049037\n",
       "000009  0.011354\n",
       "000012  0.084542\n",
       "000021  0.047019\n",
       "000025 -0.045585\n",
       "000027 -0.014162\n",
       "000028  0.352680"
      ]
     },
     "execution_count": 8,
     "metadata": {},
     "output_type": "execute_result"
    }
   ],
   "source": [
    "df = pd.DataFrame(neutralized_factor_uqer, columns=['uqer'])\n",
    "df.head(10)"
   ]
  },
  {
   "cell_type": "code",
   "execution_count": 9,
   "metadata": {},
   "outputs": [
    {
     "data": {
      "text/plain": [
       "800"
      ]
     },
     "execution_count": 9,
     "metadata": {},
     "output_type": "execute_result"
    }
   ],
   "source": [
    "len(neutralized_factor_uqer)"
   ]
  },
  {
   "cell_type": "code",
   "execution_count": 10,
   "metadata": {},
   "outputs": [
    {
     "data": {
      "text/plain": [
       "BETA             -7.079814e-01\n",
       "MOMENTUM          5.939448e-01\n",
       "SIZE             -6.938956e-01\n",
       "EARNYILD          1.338850e+00\n",
       "RESVOL            2.322437e-01\n",
       "GROWTH           -2.983247e+00\n",
       "BTOP              1.012006e-01\n",
       "LEVERAGE          3.958701e-02\n",
       "LIQUIDTY         -6.292967e-01\n",
       "SIZENL            4.881117e-04\n",
       "Bank             -1.998401e-14\n",
       "RealEstate       -1.243450e-14\n",
       "Health            1.454392e-14\n",
       "Transportation   -6.106227e-16\n",
       "Mining           -1.282308e-14\n",
       "NonFerMetal      -2.775558e-17\n",
       "HouseApp          2.886580e-15\n",
       "LeiService       -4.996004e-16\n",
       "MachiEquip        9.547918e-15\n",
       "BuildDeco        -5.329071e-15\n",
       "CommeTrade        7.216450e-15\n",
       "CONMAT           -6.772360e-15\n",
       "Auto             -3.594347e-15\n",
       "Textile           5.412337e-15\n",
       "FoodBever         4.329870e-15\n",
       "Electronics       1.998401e-15\n",
       "Computer          3.719247e-15\n",
       "LightIndus        6.133982e-15\n",
       "Utilities         3.053113e-16\n",
       "Telecom          -4.163336e-15\n",
       "AgriForest        1.845746e-15\n",
       "CHEM              4.579670e-15\n",
       "Media             2.586820e-14\n",
       "IronSteel        -7.223389e-15\n",
       "NonBankFinan      2.442491e-15\n",
       "ELECEQP           2.942091e-15\n",
       "AERODEF          -7.494005e-16\n",
       "Conglomerates     1.679212e-15\n",
       "dtype: float64"
      ]
     },
     "execution_count": 10,
     "metadata": {},
     "output_type": "execute_result"
    }
   ],
   "source": [
    "risk_exposure_uqer = uqer.DataAPI.RMExposureDayGet(tradeDate=ref_date.replace('-', '')).set_index('ticker')\n",
    "targeted_secs = risk_exposure_uqer.loc[neutralized_factor_uqer.index]\n",
    "\n",
    "style_exposure = neutralized_factor_uqer.values @ targeted_secs[risk_styles].values\n",
    "industry_exposure = neutralized_factor_uqer.values @ targeted_secs[industry_styles].values\n",
    "\n",
    "exposure = pd.Series(np.concatenate([style_exposure, industry_exposure]), index=risk_styles+industry_styles)\n",
    "exposure"
   ]
  },
  {
   "cell_type": "markdown",
   "metadata": {},
   "source": [
    "# Alpha-Mind Neutralize\n",
    "--------------------------"
   ]
  },
  {
   "cell_type": "code",
   "execution_count": 11,
   "metadata": {},
   "outputs": [],
   "source": [
    "x = total_data[risk_styles + industry_styles].values\n",
    "y = total_data[factor].values"
   ]
  },
  {
   "cell_type": "code",
   "execution_count": 12,
   "metadata": {},
   "outputs": [
    {
     "name": "stdout",
     "output_type": "stream",
     "text": [
      "CPU times: user 1.59 s, sys: 8.02 ms, total: 1.6 s\n",
      "Wall time: 152 ms\n"
     ]
    }
   ],
   "source": [
    "%%time\n",
    "neutralized_factor_alphamind = neutralize(x, y, weights=np.ones(len(y)))"
   ]
  },
  {
   "cell_type": "code",
   "execution_count": 13,
   "metadata": {},
   "outputs": [
    {
     "data": {
      "text/html": [
       "<div>\n",
       "<style scoped>\n",
       "    .dataframe tbody tr th:only-of-type {\n",
       "        vertical-align: middle;\n",
       "    }\n",
       "\n",
       "    .dataframe tbody tr th {\n",
       "        vertical-align: top;\n",
       "    }\n",
       "\n",
       "    .dataframe thead th {\n",
       "        text-align: right;\n",
       "    }\n",
       "</style>\n",
       "<table border=\"1\" class=\"dataframe\">\n",
       "  <thead>\n",
       "    <tr style=\"text-align: right;\">\n",
       "      <th></th>\n",
       "      <th>uqer</th>\n",
       "      <th>alpha-mind</th>\n",
       "    </tr>\n",
       "  </thead>\n",
       "  <tbody>\n",
       "    <tr>\n",
       "      <th>000001</th>\n",
       "      <td>-0.065580</td>\n",
       "      <td>-0.076975</td>\n",
       "    </tr>\n",
       "    <tr>\n",
       "      <th>000002</th>\n",
       "      <td>-0.279003</td>\n",
       "      <td>-0.288382</td>\n",
       "    </tr>\n",
       "    <tr>\n",
       "      <th>000006</th>\n",
       "      <td>-0.044765</td>\n",
       "      <td>-0.054668</td>\n",
       "    </tr>\n",
       "    <tr>\n",
       "      <th>000008</th>\n",
       "      <td>-0.049037</td>\n",
       "      <td>-0.034123</td>\n",
       "    </tr>\n",
       "    <tr>\n",
       "      <th>000009</th>\n",
       "      <td>0.011354</td>\n",
       "      <td>0.029815</td>\n",
       "    </tr>\n",
       "  </tbody>\n",
       "</table>\n",
       "</div>"
      ],
      "text/plain": [
       "            uqer  alpha-mind\n",
       "000001 -0.065580   -0.076975\n",
       "000002 -0.279003   -0.288382\n",
       "000006 -0.044765   -0.054668\n",
       "000008 -0.049037   -0.034123\n",
       "000009  0.011354    0.029815"
      ]
     },
     "execution_count": 13,
     "metadata": {},
     "output_type": "execute_result"
    }
   ],
   "source": [
    "alphamind_series = pd.Series(neutralized_factor_alphamind.flatten(), index=total_data.index)\n",
    "df['alpha-mind'] = alphamind_series\n",
    "df.head()"
   ]
  },
  {
   "cell_type": "code",
   "execution_count": 14,
   "metadata": {},
   "outputs": [
    {
     "data": {
      "text/plain": [
       "800"
      ]
     },
     "execution_count": 14,
     "metadata": {},
     "output_type": "execute_result"
    }
   ],
   "source": [
    "len(alphamind_series)"
   ]
  },
  {
   "cell_type": "markdown",
   "metadata": {},
   "source": [
    "# The Ticker Missing in UQER but Still in Alpha-Mind\n",
    "-----------------------------------"
   ]
  },
  {
   "cell_type": "code",
   "execution_count": 15,
   "metadata": {},
   "outputs": [],
   "source": [
    "missed_codes = [c for c in alphamind_series.index if c not in neutralized_factor_uqer.index]"
   ]
  },
  {
   "cell_type": "code",
   "execution_count": 16,
   "metadata": {},
   "outputs": [
    {
     "data": {
      "text/html": [
       "<div>\n",
       "<style scoped>\n",
       "    .dataframe tbody tr th:only-of-type {\n",
       "        vertical-align: middle;\n",
       "    }\n",
       "\n",
       "    .dataframe tbody tr th {\n",
       "        vertical-align: top;\n",
       "    }\n",
       "\n",
       "    .dataframe thead th {\n",
       "        text-align: right;\n",
       "    }\n",
       "</style>\n",
       "<table border=\"1\" class=\"dataframe\">\n",
       "  <thead>\n",
       "    <tr style=\"text-align: right;\">\n",
       "      <th></th>\n",
       "      <th>code</th>\n",
       "      <th>isOpen</th>\n",
       "      <th>EPS</th>\n",
       "      <th>s_srisk</th>\n",
       "      <th>BETA</th>\n",
       "      <th>MOMENTUM</th>\n",
       "      <th>SIZE</th>\n",
       "      <th>EARNYILD</th>\n",
       "      <th>RESVOL</th>\n",
       "      <th>GROWTH</th>\n",
       "      <th>...</th>\n",
       "      <th>Telecom</th>\n",
       "      <th>AgriForest</th>\n",
       "      <th>CHEM</th>\n",
       "      <th>Media</th>\n",
       "      <th>IronSteel</th>\n",
       "      <th>NonBankFinan</th>\n",
       "      <th>ELECEQP</th>\n",
       "      <th>AERODEF</th>\n",
       "      <th>Conglomerates</th>\n",
       "      <th>COUNTRY</th>\n",
       "    </tr>\n",
       "    <tr>\n",
       "      <th>ticker</th>\n",
       "      <th></th>\n",
       "      <th></th>\n",
       "      <th></th>\n",
       "      <th></th>\n",
       "      <th></th>\n",
       "      <th></th>\n",
       "      <th></th>\n",
       "      <th></th>\n",
       "      <th></th>\n",
       "      <th></th>\n",
       "      <th></th>\n",
       "      <th></th>\n",
       "      <th></th>\n",
       "      <th></th>\n",
       "      <th></th>\n",
       "      <th></th>\n",
       "      <th></th>\n",
       "      <th></th>\n",
       "      <th></th>\n",
       "      <th></th>\n",
       "      <th></th>\n",
       "    </tr>\n",
       "  </thead>\n",
       "  <tbody>\n",
       "  </tbody>\n",
       "</table>\n",
       "<p>0 rows × 43 columns</p>\n",
       "</div>"
      ],
      "text/plain": [
       "Empty DataFrame\n",
       "Columns: [code, isOpen, EPS, s_srisk, BETA, MOMENTUM, SIZE, EARNYILD, RESVOL, GROWTH, BTOP, LEVERAGE, LIQUIDTY, SIZENL, Bank, RealEstate, Health, Transportation, Mining, NonFerMetal, HouseApp, LeiService, MachiEquip, BuildDeco, CommeTrade, CONMAT, Auto, Textile, FoodBever, Electronics, Computer, LightIndus, Utilities, Telecom, AgriForest, CHEM, Media, IronSteel, NonBankFinan, ELECEQP, AERODEF, Conglomerates, COUNTRY]\n",
       "Index: []\n",
       "\n",
       "[0 rows x 43 columns]"
      ]
     },
     "execution_count": 16,
     "metadata": {},
     "output_type": "execute_result"
    }
   ],
   "source": [
    "total_data.loc[missed_codes]"
   ]
  },
  {
   "cell_type": "markdown",
   "metadata": {},
   "source": [
    "# Direct Weighted Least Square Fit Implementation\n",
    "------------------------"
   ]
  },
  {
   "cell_type": "code",
   "execution_count": 17,
   "metadata": {},
   "outputs": [
    {
     "name": "stderr",
     "output_type": "stream",
     "text": [
      "/home/python/anaconda3/envs/py36/lib/python3.6/site-packages/statsmodels/compat/pandas.py:56: FutureWarning: The pandas.core.datetools module is deprecated and will be removed in a future version. Please use the pandas.tseries module instead.\n",
      "  from pandas.core import datetools\n"
     ]
    }
   ],
   "source": [
    "import statsmodels.api as sm"
   ]
  },
  {
   "cell_type": "code",
   "execution_count": 18,
   "metadata": {},
   "outputs": [],
   "source": [
    "mod = sm.WLS(y, x, weights=np.ones(len(y))).fit()\n",
    "lg_series = pd.Series(mod.resid, index=total_data.index)"
   ]
  },
  {
   "cell_type": "code",
   "execution_count": 19,
   "metadata": {},
   "outputs": [],
   "source": [
    "df['ols'] = lg_series"
   ]
  },
  {
   "cell_type": "markdown",
   "metadata": {},
   "source": [
    "# Comparison\n",
    "------------------"
   ]
  },
  {
   "cell_type": "code",
   "execution_count": 20,
   "metadata": {},
   "outputs": [],
   "source": [
    "df['uqer - ols'] = df['uqer'] - df['ols']\n",
    "df['alphamind - ols'] = df['alpha-mind'] - df['ols']"
   ]
  },
  {
   "cell_type": "code",
   "execution_count": 21,
   "metadata": {},
   "outputs": [
    {
     "data": {
      "text/plain": [
       "<matplotlib.axes._subplots.AxesSubplot at 0x7f5cb9dd7be0>"
      ]
     },
     "execution_count": 21,
     "metadata": {},
     "output_type": "execute_result"
    },
    {
     "data": {
      "image/png": "[encoded data removed]",
      "text/plain": [
       "<Figure size 1008x504 with 1 Axes>"
      ]
     },
     "metadata": {},
     "output_type": "display_data"
    }
   ],
   "source": [
    "df[['uqer - ols', 'alphamind - ols']].plot(figsize=(14, 7), ylim=(-1e-4, 1e-4))"
   ]
  },
  {
   "cell_type": "code",
   "execution_count": 22,
   "metadata": {},
   "outputs": [
    {
     "data": {
      "text/html": [
       "<div>\n",
       "<style scoped>\n",
       "    .dataframe tbody tr th:only-of-type {\n",
       "        vertical-align: middle;\n",
       "    }\n",
       "\n",
       "    .dataframe tbody tr th {\n",
       "        vertical-align: top;\n",
       "    }\n",
       "\n",
       "    .dataframe thead th {\n",
       "        text-align: right;\n",
       "    }\n",
       "</style>\n",
       "<table border=\"1\" class=\"dataframe\">\n",
       "  <thead>\n",
       "    <tr style=\"text-align: right;\">\n",
       "      <th></th>\n",
       "      <th>uqer</th>\n",
       "      <th>alpha-mind</th>\n",
       "      <th>ols</th>\n",
       "      <th>uqer - ols</th>\n",
       "      <th>alphamind - ols</th>\n",
       "    </tr>\n",
       "  </thead>\n",
       "  <tbody>\n",
       "    <tr>\n",
       "      <th>000001</th>\n",
       "      <td>-0.065580</td>\n",
       "      <td>-0.076975</td>\n",
       "      <td>-0.076975</td>\n",
       "      <td>0.011395</td>\n",
       "      <td>5.551115e-17</td>\n",
       "    </tr>\n",
       "    <tr>\n",
       "      <th>000002</th>\n",
       "      <td>-0.279003</td>\n",
       "      <td>-0.288382</td>\n",
       "      <td>-0.288382</td>\n",
       "      <td>0.009378</td>\n",
       "      <td>0.000000e+00</td>\n",
       "    </tr>\n",
       "    <tr>\n",
       "      <th>000006</th>\n",
       "      <td>-0.044765</td>\n",
       "      <td>-0.054668</td>\n",
       "      <td>-0.054668</td>\n",
       "      <td>0.009904</td>\n",
       "      <td>7.494005e-16</td>\n",
       "    </tr>\n",
       "    <tr>\n",
       "      <th>000008</th>\n",
       "      <td>-0.049037</td>\n",
       "      <td>-0.034123</td>\n",
       "      <td>-0.034123</td>\n",
       "      <td>-0.014914</td>\n",
       "      <td>-6.106227e-16</td>\n",
       "    </tr>\n",
       "    <tr>\n",
       "      <th>000009</th>\n",
       "      <td>0.011354</td>\n",
       "      <td>0.029815</td>\n",
       "      <td>0.029815</td>\n",
       "      <td>-0.018461</td>\n",
       "      <td>2.498002e-16</td>\n",
       "    </tr>\n",
       "  </tbody>\n",
       "</table>\n",
       "</div>"
      ],
      "text/plain": [
       "            uqer  alpha-mind       ols  uqer - ols  alphamind - ols\n",
       "000001 -0.065580   -0.076975 -0.076975    0.011395     5.551115e-17\n",
       "000002 -0.279003   -0.288382 -0.288382    0.009378     0.000000e+00\n",
       "000006 -0.044765   -0.054668 -0.054668    0.009904     7.494005e-16\n",
       "000008 -0.049037   -0.034123 -0.034123   -0.014914    -6.106227e-16\n",
       "000009  0.011354    0.029815  0.029815   -0.018461     2.498002e-16"
      ]
     },
     "execution_count": 22,
     "metadata": {},
     "output_type": "execute_result"
    }
   ],
   "source": [
    "df.head()"
   ]
  },
  {
   "cell_type": "code",
   "execution_count": null,
   "metadata": {},
   "outputs": [],
   "source": []
  }
 ],
 "metadata": {
  "kernelspec": {
   "display_name": "Python 3",
   "language": "python",
   "name": "python3"
  },
  "language_info": {
   "codemirror_mode": {
    "name": "ipython",
    "version": 3
   },
   "file_extension": ".py",
   "mimetype": "text/x-python",
   "name": "python",
   "nbconvert_exporter": "python",
   "pygments_lexer": "ipython3",
   "version": "3.6.4"
  }
 },
 "nbformat": 4,
 "nbformat_minor": 2
}
