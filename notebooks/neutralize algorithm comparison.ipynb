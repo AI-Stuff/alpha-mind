{
 "cells": [
  {
   "cell_type": "code",
   "execution_count": 1,
   "metadata": {},
   "outputs": [
    {
     "name": "stdout",
     "output_type": "stream",
     "text": [
      "当前 SDK 版本号是: 1.2.6 已是最新版\n"
     ]
    }
   ],
   "source": [
    "%matplotlib inline\n",
    "from matplotlib import pyplot as plt\n",
    "import uqer\n",
    "import numpy as np\n",
    "import pandas as pd\n",
    "from uqer import DataAPI as api\n",
    "import alphamind.data.store as store\n",
    "from alphamind.data.store import append_industry_info\n",
    "from alphamind.data.neutralize import neutralize\n",
    "\n",
    "plt.style.use('ggplot')"
   ]
  },
  {
   "cell_type": "code",
   "execution_count": 2,
   "metadata": {},
   "outputs": [
    {
     "name": "stdout",
     "output_type": "stream",
     "text": [
      "使用token: f1b9bea1d0b4e489c5ab9b69c3e2326a1bee6057af858067dbd1546453f428b2 验证成功\n"
     ]
    }
   ],
   "source": [
    "_ = uqer.Client(token='f1b9bea1d0b4e489c5ab9b69c3e2326a1bee6057af858067dbd1546453f428b2')"
   ]
  },
  {
   "cell_type": "code",
   "execution_count": 3,
   "metadata": {
    "collapsed": true
   },
   "outputs": [],
   "source": [
    "ref_date = '20170623'\n",
    "factor = 'FY12P'\n",
    "weight_factor = 'LFLO'"
   ]
  },
  {
   "cell_type": "markdown",
   "metadata": {},
   "source": [
    "# Algorithm Description\n",
    "--------------------------"
   ]
  },
  {
   "cell_type": "markdown",
   "metadata": {},
   "source": [
    "猜测的 ``neutralize`` 残差$\\bar Res$计算公式：\n",
    "\n",
    "$$\\bar Res_{i,k} = \\bar f_{i,k} - \\sum_j \\beta_{j,k} \\times \\bar Ex_{i, j, k}$$\n",
    "\n",
    "其中：$k$为行业分类，$i$为该行业中第$i$只股票，$j$为第$j$个风险因子。$\\bar f$为因子序列，$\\bar Ex$为风险暴露矩阵。系数$\\beta_{j,k}$由OLS确定。\n",
    "\n",
    "下面的章节，我们分别比较三种``neutralize``的方法差别：\n",
    "\n",
    "* **UQER Neutralize**\n",
    "\n",
    "    使用优矿的SDK计算因子残差。\n",
    "\n",
    "\n",
    "* **Alpha-Mind Neutralize**\n",
    "\n",
    "    使用alpha-mind计算因子残差，alpha-mind可以由以下地址安装：\n",
    "    \n",
    "    ```\n",
    "    https://github.com/wegamekinglc/alpha-mind\n",
    "    ```\n",
    "\n",
    "* **Direct Weighted Least Square Fit Implementation**\n",
    "\n",
    "    直接使用scikit-learn的线性回归功能来计算因子残差。\n"
   ]
  },
  {
   "cell_type": "markdown",
   "metadata": {},
   "source": [
    "# Raw Data\n",
    "---------------------------"
   ]
  },
  {
   "cell_type": "code",
   "execution_count": 4,
   "metadata": {},
   "outputs": [],
   "source": [
    "risk_factors = pd.read_pickle('20170623.csv')"
   ]
  },
  {
   "cell_type": "code",
   "execution_count": 5,
   "metadata": {},
   "outputs": [],
   "source": [
    "risk_styles = risk_factors.columns[1:].tolist()"
   ]
  },
  {
   "cell_type": "code",
   "execution_count": 6,
   "metadata": {},
   "outputs": [],
   "source": [
    "factor_data = api.MktStockFactorsOneDayGet(tradeDate=ref_date, field='ticker,' + factor + ',' + weight_factor)\n",
    "total_data = pd.merge(factor_data, risk_factors, on=['ticker'])\n",
    "total_data.set_index('ticker', inplace=True)\n",
    "total_data.dropna(inplace=True)"
   ]
  },
  {
   "cell_type": "code",
   "execution_count": 7,
   "metadata": {},
   "outputs": [
    {
     "data": {
      "text/html": [
       "<div>\n",
       "<style>\n",
       "    .dataframe thead tr:only-child th {\n",
       "        text-align: right;\n",
       "    }\n",
       "\n",
       "    .dataframe thead th {\n",
       "        text-align: left;\n",
       "    }\n",
       "\n",
       "    .dataframe tbody tr th {\n",
       "        vertical-align: top;\n",
       "    }\n",
       "</style>\n",
       "<table border=\"1\" class=\"dataframe\">\n",
       "  <thead>\n",
       "    <tr style=\"text-align: right;\">\n",
       "      <th></th>\n",
       "      <th>FY12P</th>\n",
       "      <th>LFLO</th>\n",
       "      <th>BETA</th>\n",
       "      <th>MOMENTUM</th>\n",
       "      <th>SIZE</th>\n",
       "      <th>EARNYILD</th>\n",
       "      <th>RESVOL</th>\n",
       "      <th>GROWTH</th>\n",
       "      <th>BTOP</th>\n",
       "      <th>LEVERAGE</th>\n",
       "      <th>...</th>\n",
       "      <th>BEV</th>\n",
       "      <th>FOODPROD</th>\n",
       "      <th>HEALTH</th>\n",
       "      <th>BANKS</th>\n",
       "      <th>DVFININS</th>\n",
       "      <th>REALEST</th>\n",
       "      <th>SOFTWARE</th>\n",
       "      <th>HDWRSEMI</th>\n",
       "      <th>UTILITIE</th>\n",
       "      <th>COUNTRY</th>\n",
       "    </tr>\n",
       "    <tr>\n",
       "      <th>ticker</th>\n",
       "      <th></th>\n",
       "      <th></th>\n",
       "      <th></th>\n",
       "      <th></th>\n",
       "      <th></th>\n",
       "      <th></th>\n",
       "      <th></th>\n",
       "      <th></th>\n",
       "      <th></th>\n",
       "      <th></th>\n",
       "      <th></th>\n",
       "      <th></th>\n",
       "      <th></th>\n",
       "      <th></th>\n",
       "      <th></th>\n",
       "      <th></th>\n",
       "      <th></th>\n",
       "      <th></th>\n",
       "      <th></th>\n",
       "      <th></th>\n",
       "      <th></th>\n",
       "    </tr>\n",
       "  </thead>\n",
       "  <tbody>\n",
       "    <tr>\n",
       "      <th>600778</th>\n",
       "      <td>-0.0916</td>\n",
       "      <td>21.6110</td>\n",
       "      <td>1.678</td>\n",
       "      <td>-1.031</td>\n",
       "      <td>-2.916</td>\n",
       "      <td>-3.419</td>\n",
       "      <td>-0.922</td>\n",
       "      <td>-1.468</td>\n",
       "      <td>0.224</td>\n",
       "      <td>1.801</td>\n",
       "      <td>...</td>\n",
       "      <td>0</td>\n",
       "      <td>0</td>\n",
       "      <td>0</td>\n",
       "      <td>0</td>\n",
       "      <td>0</td>\n",
       "      <td>0</td>\n",
       "      <td>0</td>\n",
       "      <td>0</td>\n",
       "      <td>0</td>\n",
       "      <td>1</td>\n",
       "    </tr>\n",
       "    <tr>\n",
       "      <th>000962</th>\n",
       "      <td>-0.0819</td>\n",
       "      <td>22.0732</td>\n",
       "      <td>0.616</td>\n",
       "      <td>-1.163</td>\n",
       "      <td>-2.363</td>\n",
       "      <td>-2.523</td>\n",
       "      <td>0.616</td>\n",
       "      <td>-2.122</td>\n",
       "      <td>-0.255</td>\n",
       "      <td>-0.426</td>\n",
       "      <td>...</td>\n",
       "      <td>0</td>\n",
       "      <td>0</td>\n",
       "      <td>0</td>\n",
       "      <td>0</td>\n",
       "      <td>0</td>\n",
       "      <td>0</td>\n",
       "      <td>0</td>\n",
       "      <td>0</td>\n",
       "      <td>0</td>\n",
       "      <td>1</td>\n",
       "    </tr>\n",
       "    <tr>\n",
       "      <th>601608</th>\n",
       "      <td>-0.0345</td>\n",
       "      <td>23.8892</td>\n",
       "      <td>0.265</td>\n",
       "      <td>-0.277</td>\n",
       "      <td>-0.170</td>\n",
       "      <td>-2.712</td>\n",
       "      <td>-1.117</td>\n",
       "      <td>-1.617</td>\n",
       "      <td>-0.764</td>\n",
       "      <td>0.310</td>\n",
       "      <td>...</td>\n",
       "      <td>0</td>\n",
       "      <td>0</td>\n",
       "      <td>0</td>\n",
       "      <td>0</td>\n",
       "      <td>0</td>\n",
       "      <td>0</td>\n",
       "      <td>0</td>\n",
       "      <td>0</td>\n",
       "      <td>0</td>\n",
       "      <td>1</td>\n",
       "    </tr>\n",
       "    <tr>\n",
       "      <th>600096</th>\n",
       "      <td>-0.0059</td>\n",
       "      <td>22.8140</td>\n",
       "      <td>1.105</td>\n",
       "      <td>-1.336</td>\n",
       "      <td>-1.280</td>\n",
       "      <td>-2.718</td>\n",
       "      <td>-1.250</td>\n",
       "      <td>-0.935</td>\n",
       "      <td>-0.186</td>\n",
       "      <td>2.400</td>\n",
       "      <td>...</td>\n",
       "      <td>0</td>\n",
       "      <td>0</td>\n",
       "      <td>0</td>\n",
       "      <td>0</td>\n",
       "      <td>0</td>\n",
       "      <td>0</td>\n",
       "      <td>0</td>\n",
       "      <td>0</td>\n",
       "      <td>0</td>\n",
       "      <td>1</td>\n",
       "    </tr>\n",
       "    <tr>\n",
       "      <th>002154</th>\n",
       "      <td>-0.0046</td>\n",
       "      <td>22.1009</td>\n",
       "      <td>1.179</td>\n",
       "      <td>-2.021</td>\n",
       "      <td>-2.144</td>\n",
       "      <td>-2.722</td>\n",
       "      <td>-1.028</td>\n",
       "      <td>-0.841</td>\n",
       "      <td>0.588</td>\n",
       "      <td>-0.419</td>\n",
       "      <td>...</td>\n",
       "      <td>0</td>\n",
       "      <td>0</td>\n",
       "      <td>0</td>\n",
       "      <td>0</td>\n",
       "      <td>0</td>\n",
       "      <td>0</td>\n",
       "      <td>0</td>\n",
       "      <td>0</td>\n",
       "      <td>0</td>\n",
       "      <td>1</td>\n",
       "    </tr>\n",
       "  </tbody>\n",
       "</table>\n",
       "<p>5 rows × 45 columns</p>\n",
       "</div>"
      ],
      "text/plain": [
       "         FY12P     LFLO   BETA  MOMENTUM   SIZE  EARNYILD  RESVOL  GROWTH  \\\n",
       "ticker                                                                      \n",
       "600778 -0.0916  21.6110  1.678    -1.031 -2.916    -3.419  -0.922  -1.468   \n",
       "000962 -0.0819  22.0732  0.616    -1.163 -2.363    -2.523   0.616  -2.122   \n",
       "601608 -0.0345  23.8892  0.265    -0.277 -0.170    -2.712  -1.117  -1.617   \n",
       "600096 -0.0059  22.8140  1.105    -1.336 -1.280    -2.718  -1.250  -0.935   \n",
       "002154 -0.0046  22.1009  1.179    -2.021 -2.144    -2.722  -1.028  -0.841   \n",
       "\n",
       "         BTOP  LEVERAGE   ...     BEV  FOODPROD  HEALTH  BANKS  DVFININS  \\\n",
       "ticker                    ...                                              \n",
       "600778  0.224     1.801   ...       0         0       0      0         0   \n",
       "000962 -0.255    -0.426   ...       0         0       0      0         0   \n",
       "601608 -0.764     0.310   ...       0         0       0      0         0   \n",
       "600096 -0.186     2.400   ...       0         0       0      0         0   \n",
       "002154  0.588    -0.419   ...       0         0       0      0         0   \n",
       "\n",
       "        REALEST  SOFTWARE  HDWRSEMI  UTILITIE  COUNTRY  \n",
       "ticker                                                  \n",
       "600778        0         0         0         0        1  \n",
       "000962        0         0         0         0        1  \n",
       "601608        0         0         0         0        1  \n",
       "600096        0         0         0         0        1  \n",
       "002154        0         0         0         0        1  \n",
       "\n",
       "[5 rows x 45 columns]"
      ]
     },
     "execution_count": 7,
     "metadata": {},
     "output_type": "execute_result"
    }
   ],
   "source": [
    "total_data.head()"
   ]
  },
  {
   "cell_type": "code",
   "execution_count": 8,
   "metadata": {},
   "outputs": [
    {
     "data": {
      "text/plain": [
       "2406"
      ]
     },
     "execution_count": 8,
     "metadata": {},
     "output_type": "execute_result"
    }
   ],
   "source": [
    "len(total_data)"
   ]
  },
  {
   "cell_type": "code",
   "execution_count": 9,
   "metadata": {},
   "outputs": [],
   "source": [
    "total_data['FLO'] = np.exp(total_data['LFLO'])\n",
    "total_data['wls'] = (total_data['FLO'] / total_data['FLO'].sum()) ** 2"
   ]
  },
  {
   "cell_type": "markdown",
   "metadata": {},
   "source": [
    "# UQER Neutralize\n",
    "-----------------------"
   ]
  },
  {
   "cell_type": "code",
   "execution_count": 11,
   "metadata": {},
   "outputs": [
    {
     "name": "stdout",
     "output_type": "stream",
     "text": [
      "Wall time: 169 ms\n"
     ]
    }
   ],
   "source": [
    "%%time\n",
    "neutralized_factor_uqer = uqer.neutralize(total_data[factor],\n",
    "                                          target_date=ref_date,\n",
    "                                          risk_module='short',\n",
    "                                          industry_type='short')"
   ]
  },
  {
   "cell_type": "code",
   "execution_count": 12,
   "metadata": {},
   "outputs": [
    {
     "data": {
      "text/html": [
       "<div>\n",
       "<style>\n",
       "    .dataframe thead tr:only-child th {\n",
       "        text-align: right;\n",
       "    }\n",
       "\n",
       "    .dataframe thead th {\n",
       "        text-align: left;\n",
       "    }\n",
       "\n",
       "    .dataframe tbody tr th {\n",
       "        vertical-align: top;\n",
       "    }\n",
       "</style>\n",
       "<table border=\"1\" class=\"dataframe\">\n",
       "  <thead>\n",
       "    <tr style=\"text-align: right;\">\n",
       "      <th></th>\n",
       "      <th>uqer</th>\n",
       "    </tr>\n",
       "  </thead>\n",
       "  <tbody>\n",
       "    <tr>\n",
       "      <th>000001</th>\n",
       "      <td>0.015150</td>\n",
       "    </tr>\n",
       "    <tr>\n",
       "      <th>000002</th>\n",
       "      <td>-0.003985</td>\n",
       "    </tr>\n",
       "    <tr>\n",
       "      <th>000006</th>\n",
       "      <td>-0.008520</td>\n",
       "    </tr>\n",
       "    <tr>\n",
       "      <th>000008</th>\n",
       "      <td>0.003012</td>\n",
       "    </tr>\n",
       "    <tr>\n",
       "      <th>000010</th>\n",
       "      <td>0.020408</td>\n",
       "    </tr>\n",
       "  </tbody>\n",
       "</table>\n",
       "</div>"
      ],
      "text/plain": [
       "            uqer\n",
       "000001  0.015150\n",
       "000002 -0.003985\n",
       "000006 -0.008520\n",
       "000008  0.003012\n",
       "000010  0.020408"
      ]
     },
     "execution_count": 12,
     "metadata": {},
     "output_type": "execute_result"
    }
   ],
   "source": [
    "df = pd.DataFrame(neutralized_factor_uqer, columns=['uqer'])\n",
    "df.head()"
   ]
  },
  {
   "cell_type": "code",
   "execution_count": 13,
   "metadata": {},
   "outputs": [
    {
     "data": {
      "text/plain": [
       "2406"
      ]
     },
     "execution_count": 13,
     "metadata": {},
     "output_type": "execute_result"
    }
   ],
   "source": [
    "len(neutralized_factor_uqer)"
   ]
  },
  {
   "cell_type": "markdown",
   "metadata": {},
   "source": [
    "# Alpha-Mind Neutralize\n",
    "--------------------------"
   ]
  },
  {
   "cell_type": "code",
   "execution_count": 14,
   "metadata": {},
   "outputs": [],
   "source": [
    "x = total_data[risk_styles].values\n",
    "y = total_data[factor].values"
   ]
  },
  {
   "cell_type": "code",
   "execution_count": 17,
   "metadata": {},
   "outputs": [
    {
     "name": "stdout",
     "output_type": "stream",
     "text": [
      "Wall time: 1 ms\n"
     ]
    }
   ],
   "source": [
    "%%time\n",
    "neutralized_factor_alphamind = neutralize(x, y, weights=np.ones(len(y)))"
   ]
  },
  {
   "cell_type": "code",
   "execution_count": 18,
   "metadata": {},
   "outputs": [],
   "source": [
    "alphamind_series = pd.Series(neutralized_factor_alphamind.flatten(), index=total_data.index)\n",
    "df['alpha-mind'] = alphamind_series"
   ]
  },
  {
   "cell_type": "code",
   "execution_count": 19,
   "metadata": {},
   "outputs": [
    {
     "data": {
      "text/plain": [
       "2406"
      ]
     },
     "execution_count": 19,
     "metadata": {},
     "output_type": "execute_result"
    }
   ],
   "source": [
    "len(alphamind_series)"
   ]
  },
  {
   "cell_type": "markdown",
   "metadata": {},
   "source": [
    "# The Ticker Missing in UQER but Still in Alpha-Mind\n",
    "-----------------------------------"
   ]
  },
  {
   "cell_type": "code",
   "execution_count": 20,
   "metadata": {
    "collapsed": true
   },
   "outputs": [],
   "source": [
    "missed_codes = [c for c in alphamind_series.index if c not in neutralized_factor_uqer.index]"
   ]
  },
  {
   "cell_type": "code",
   "execution_count": 21,
   "metadata": {},
   "outputs": [
    {
     "data": {
      "text/html": [
       "<div>\n",
       "<style>\n",
       "    .dataframe thead tr:only-child th {\n",
       "        text-align: right;\n",
       "    }\n",
       "\n",
       "    .dataframe thead th {\n",
       "        text-align: left;\n",
       "    }\n",
       "\n",
       "    .dataframe tbody tr th {\n",
       "        vertical-align: top;\n",
       "    }\n",
       "</style>\n",
       "<table border=\"1\" class=\"dataframe\">\n",
       "  <thead>\n",
       "    <tr style=\"text-align: right;\">\n",
       "      <th></th>\n",
       "      <th>FY12P</th>\n",
       "      <th>LFLO</th>\n",
       "      <th>BETA</th>\n",
       "      <th>MOMENTUM</th>\n",
       "      <th>SIZE</th>\n",
       "      <th>EARNYILD</th>\n",
       "      <th>RESVOL</th>\n",
       "      <th>GROWTH</th>\n",
       "      <th>BTOP</th>\n",
       "      <th>LEVERAGE</th>\n",
       "      <th>...</th>\n",
       "      <th>HEALTH</th>\n",
       "      <th>BANKS</th>\n",
       "      <th>DVFININS</th>\n",
       "      <th>REALEST</th>\n",
       "      <th>SOFTWARE</th>\n",
       "      <th>HDWRSEMI</th>\n",
       "      <th>UTILITIE</th>\n",
       "      <th>COUNTRY</th>\n",
       "      <th>FLO</th>\n",
       "      <th>wls</th>\n",
       "    </tr>\n",
       "    <tr>\n",
       "      <th>ticker</th>\n",
       "      <th></th>\n",
       "      <th></th>\n",
       "      <th></th>\n",
       "      <th></th>\n",
       "      <th></th>\n",
       "      <th></th>\n",
       "      <th></th>\n",
       "      <th></th>\n",
       "      <th></th>\n",
       "      <th></th>\n",
       "      <th></th>\n",
       "      <th></th>\n",
       "      <th></th>\n",
       "      <th></th>\n",
       "      <th></th>\n",
       "      <th></th>\n",
       "      <th></th>\n",
       "      <th></th>\n",
       "      <th></th>\n",
       "      <th></th>\n",
       "      <th></th>\n",
       "    </tr>\n",
       "  </thead>\n",
       "  <tbody>\n",
       "  </tbody>\n",
       "</table>\n",
       "<p>0 rows × 47 columns</p>\n",
       "</div>"
      ],
      "text/plain": [
       "Empty DataFrame\n",
       "Columns: [FY12P, LFLO, BETA, MOMENTUM, SIZE, EARNYILD, RESVOL, GROWTH, BTOP, LEVERAGE, LIQUIDTY, SIZENL, ENERGY, CHEM, CONMAT, MTLMIN, MATERIAL, AERODEF, BLDPROD, CNSTENG, ELECEQP, INDCONG, MACH, TRDDIST, COMSERV, AIRLINE, MARINE, RDRLTRAN, AUTO, HOUSEDUR, LEISLUX, CONSSERV, MEDIA, RETAIL, PERSPRD, BEV, FOODPROD, HEALTH, BANKS, DVFININS, REALEST, SOFTWARE, HDWRSEMI, UTILITIE, COUNTRY, FLO, wls]\n",
       "Index: []\n",
       "\n",
       "[0 rows x 47 columns]"
      ]
     },
     "execution_count": 21,
     "metadata": {},
     "output_type": "execute_result"
    }
   ],
   "source": [
    "total_data.ix[missed_codes]"
   ]
  },
  {
   "cell_type": "markdown",
   "metadata": {},
   "source": [
    "# Direct Weighted Least Square Fit Implementation\n",
    "------------------------"
   ]
  },
  {
   "cell_type": "code",
   "execution_count": 22,
   "metadata": {
    "collapsed": true
   },
   "outputs": [],
   "source": [
    "import statsmodels.api as sm"
   ]
  },
  {
   "cell_type": "code",
   "execution_count": 23,
   "metadata": {},
   "outputs": [],
   "source": [
    "mod = sm.WLS(y, x, weights=np.ones(len(y))).fit()\n",
    "lg_series = pd.Series(mod.resid, index=total_data.index)"
   ]
  },
  {
   "cell_type": "code",
   "execution_count": 24,
   "metadata": {},
   "outputs": [
    {
     "data": {
      "text/plain": [
       "array([-0.07230463, -0.0828871 , -0.03309311, ...,  0.04199391,\n",
       "        0.09846184,  0.47469864])"
      ]
     },
     "execution_count": 24,
     "metadata": {},
     "output_type": "execute_result"
    }
   ],
   "source": [
    "mod.resid"
   ]
  },
  {
   "cell_type": "code",
   "execution_count": 25,
   "metadata": {
    "collapsed": true
   },
   "outputs": [],
   "source": [
    "df['ols'] = lg_series"
   ]
  },
  {
   "cell_type": "markdown",
   "metadata": {},
   "source": [
    "# Comparison\n",
    "------------------"
   ]
  },
  {
   "cell_type": "code",
   "execution_count": 30,
   "metadata": {},
   "outputs": [],
   "source": [
    "df['uqer - ols'] = df['uqer'] - df['ols']\n",
    "df['alphamind - ols'] = df['alpha-mind'] - df['ols']"
   ]
  },
  {
   "cell_type": "code",
   "execution_count": 31,
   "metadata": {},
   "outputs": [
    {
     "data": {
      "text/plain": [
       "<matplotlib.axes._subplots.AxesSubplot at 0x14ea6f708d0>"
      ]
     },
     "execution_count": 31,
     "metadata": {},
     "output_type": "execute_result"
    },
    {
     "data": {
      "image/png": "[encoded data removed]",
      "text/plain": [
       "<matplotlib.figure.Figure at 0x14ea6f73f98>"
      ]
     },
     "metadata": {},
     "output_type": "display_data"
    }
   ],
   "source": [
    "df[['uqer - ols', 'alphamind - ols']].plot(figsize=(14, 7), ylim=(-1e-4, 1e-4))"
   ]
  },
  {
   "cell_type": "code",
   "execution_count": 32,
   "metadata": {},
   "outputs": [
    {
     "data": {
      "text/html": [
       "<div>\n",
       "<style>\n",
       "    .dataframe thead tr:only-child th {\n",
       "        text-align: right;\n",
       "    }\n",
       "\n",
       "    .dataframe thead th {\n",
       "        text-align: left;\n",
       "    }\n",
       "\n",
       "    .dataframe tbody tr th {\n",
       "        vertical-align: top;\n",
       "    }\n",
       "</style>\n",
       "<table border=\"1\" class=\"dataframe\">\n",
       "  <thead>\n",
       "    <tr style=\"text-align: right;\">\n",
       "      <th></th>\n",
       "      <th>uqer</th>\n",
       "      <th>alpha-mind</th>\n",
       "      <th>ols</th>\n",
       "      <th>uqer - ols</th>\n",
       "      <th>alphamind - ols</th>\n",
       "    </tr>\n",
       "  </thead>\n",
       "  <tbody>\n",
       "    <tr>\n",
       "      <th>000001</th>\n",
       "      <td>0.015150</td>\n",
       "      <td>0.015150</td>\n",
       "      <td>0.015150</td>\n",
       "      <td>2.775558e-17</td>\n",
       "      <td>3.053113e-16</td>\n",
       "    </tr>\n",
       "    <tr>\n",
       "      <th>000002</th>\n",
       "      <td>-0.003985</td>\n",
       "      <td>-0.003985</td>\n",
       "      <td>-0.003985</td>\n",
       "      <td>1.942890e-16</td>\n",
       "      <td>1.110223e-16</td>\n",
       "    </tr>\n",
       "    <tr>\n",
       "      <th>000006</th>\n",
       "      <td>-0.008520</td>\n",
       "      <td>-0.008520</td>\n",
       "      <td>-0.008520</td>\n",
       "      <td>-2.636780e-16</td>\n",
       "      <td>-4.163336e-17</td>\n",
       "    </tr>\n",
       "    <tr>\n",
       "      <th>000008</th>\n",
       "      <td>0.003012</td>\n",
       "      <td>0.003012</td>\n",
       "      <td>0.003012</td>\n",
       "      <td>-1.595946e-16</td>\n",
       "      <td>-1.700029e-16</td>\n",
       "    </tr>\n",
       "    <tr>\n",
       "      <th>000010</th>\n",
       "      <td>0.020408</td>\n",
       "      <td>0.020408</td>\n",
       "      <td>0.020408</td>\n",
       "      <td>-6.383782e-16</td>\n",
       "      <td>-2.914335e-16</td>\n",
       "    </tr>\n",
       "  </tbody>\n",
       "</table>\n",
       "</div>"
      ],
      "text/plain": [
       "            uqer  alpha-mind       ols    uqer - ols  alphamind - ols\n",
       "000001  0.015150    0.015150  0.015150  2.775558e-17     3.053113e-16\n",
       "000002 -0.003985   -0.003985 -0.003985  1.942890e-16     1.110223e-16\n",
       "000006 -0.008520   -0.008520 -0.008520 -2.636780e-16    -4.163336e-17\n",
       "000008  0.003012    0.003012  0.003012 -1.595946e-16    -1.700029e-16\n",
       "000010  0.020408    0.020408  0.020408 -6.383782e-16    -2.914335e-16"
      ]
     },
     "execution_count": 32,
     "metadata": {},
     "output_type": "execute_result"
    }
   ],
   "source": [
    "df.head()"
   ]
  },
  {
   "cell_type": "markdown",
   "metadata": {},
   "source": [
    "# Missing Codes for UQER neutralize in 2017\n",
    "--------------------------------"
   ]
  },
  {
   "cell_type": "code",
   "execution_count": 23,
   "metadata": {
    "collapsed": true
   },
   "outputs": [],
   "source": [
    "from PyFin.api import bizDatesList"
   ]
  },
  {
   "cell_type": "code",
   "execution_count": 24,
   "metadata": {
    "collapsed": true
   },
   "outputs": [],
   "source": [
    "biz_dates = bizDatesList('china.sse', '2017-01-05', '2017-07-03')"
   ]
  },
  {
   "cell_type": "code",
   "execution_count": 25,
   "metadata": {
    "collapsed": true
   },
   "outputs": [],
   "source": [
    "missed_codes_dict = {}\n",
    "\n",
    "for date in biz_dates:\n",
    "    ref_date = date.strftime('%Y%m%d')\n",
    "    factor_data = api.MktStockFactorsOneDayGet(tradeDate=ref_date, field='ticker,' + factor)\n",
    "    risk_factors = api.RMExposureDayGet(tradeDate=ref_date)\n",
    "    append_industry_info(risk_factors)\n",
    "\n",
    "    total_data = pd.merge(factor_data, risk_factors, on=['ticker'])\n",
    "    total_data.set_index('ticker', inplace=True)\n",
    "    total_data.dropna(inplace=True)\n",
    "    \n",
    "    neutralized_factor_uqer = uqer.neutralize(total_data[factor],\n",
    "                                              target_date=ref_date,\n",
    "                                              risk_module='day',\n",
    "                                              industry_type='day')\n",
    "    \n",
    "    missed_codes = [c for c in total_data.index if c not in neutralized_factor_uqer.index]\n",
    "    missed_codes_dict[date] = missed_codes"
   ]
  },
  {
   "cell_type": "code",
   "execution_count": 26,
   "metadata": {},
   "outputs": [
    {
     "data": {
      "text/plain": [
       "2017-01-05    [002821]\n",
       "2017-01-06    [002821]\n",
       "2017-01-09    [002821]\n",
       "2017-01-10    [002821]\n",
       "2017-01-11    [002821]\n",
       "dtype: object"
      ]
     },
     "execution_count": 26,
     "metadata": {},
     "output_type": "execute_result"
    }
   ],
   "source": [
    "missing_codes = pd.Series(missed_codes_dict)\n",
    "missing_codes.head()"
   ]
  },
  {
   "cell_type": "code",
   "execution_count": null,
   "metadata": {
    "collapsed": true
   },
   "outputs": [],
   "source": []
  }
 ],
 "metadata": {
  "kernelspec": {
   "display_name": "Python 3",
   "language": "python",
   "name": "python3"
  },
  "language_info": {
   "codemirror_mode": {
    "name": "ipython",
    "version": 3
   },
   "file_extension": ".py",
   "mimetype": "text/x-python",
   "name": "python",
   "nbconvert_exporter": "python",
   "pygments_lexer": "ipython3",
   "version": "3.6.1"
  }
 },
 "nbformat": 4,
 "nbformat_minor": 2
}
