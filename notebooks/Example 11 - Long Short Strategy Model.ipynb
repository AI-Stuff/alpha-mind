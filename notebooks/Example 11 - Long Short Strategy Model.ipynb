{
 "cells": [
  {
   "cell_type": "code",
   "execution_count": 1,
   "metadata": {},
   "outputs": [
    {
     "data": {
      "text/plain": [
       "datetime.datetime(2018, 4, 16, 9, 33, 24, 663186)"
      ]
     },
     "execution_count": 1,
     "metadata": {},
     "output_type": "execute_result"
    }
   ],
   "source": [
    "%matplotlib inline\n",
    "import datetime as dt\n",
    "import numpy as np\n",
    "import pandas as pd\n",
    "from PyFin.api import *\n",
    "from alphamind.api import *\n",
    "from matplotlib import pyplot as plt\n",
    "\n",
    "plt.style.use('ggplot')\n",
    "dt.datetime.now()"
   ]
  },
  {
   "cell_type": "code",
   "execution_count": 2,
   "metadata": {},
   "outputs": [],
   "source": [
    "start_date = '2017-04-10'\n",
    "end_date = '2018-04-09'\n",
    "\n",
    "freq = '5b'\n",
    "horizon = map_freq(freq)\n",
    "neutralized_risk = risk_styles + industry_styles\n",
    "universe = Universe(\"custom\", ['zz500'])\n",
    "data_source = None\n",
    "offset = 1\n",
    "method = 'ls'\n",
    "industry_name = 'sw_adj'\n",
    "industry_level = 1\n",
    "\n",
    "risk_model = 'short'\n",
    "executor = NaiveExecutor()\n",
    "ref_dates = makeSchedule(start_date, end_date, freq, 'china.sse')\n",
    "engine = SqlEngine(data_source)"
   ]
  },
  {
   "cell_type": "code",
   "execution_count": 3,
   "metadata": {},
   "outputs": [],
   "source": [
    "alpha_factors = {\n",
    "    'f01': LAST('ep_q'),\n",
    "    'f02': LAST('roe_q'),\n",
    "    'f03': LAST('GREV'),\n",
    "    'f04': LAST('SGRO'),\n",
    "    'f05': LAST('ILLIQUIDITY'),\n",
    "    }\n",
    "\n",
    "weights = dict(f01=0.5,\n",
    "               f02=0.5,\n",
    "               f03=0.5,\n",
    "               f04=0.5,\n",
    "               f05=0.5,\n",
    "              )\n",
    "\n",
    "alpha_model = ConstLinearModel(features=alpha_factors, weights=weights)\n",
    "\n",
    "def predict_worker(params):\n",
    "    data_meta = DataMeta(freq=freq,\n",
    "                         universe=universe,\n",
    "                         batch=0,\n",
    "                         neutralized_risk=neutralized_risk,\n",
    "                         risk_model='short',\n",
    "                         pre_process=[winsorize_normal, standardize],\n",
    "                         post_process=[standardize],\n",
    "                         warm_start=0,\n",
    "                         data_source=data_source)\n",
    "    ref_date, model = params\n",
    "    er = predict_by_model(ref_date, model, data_meta)\n",
    "    return er"
   ]
  },
  {
   "cell_type": "code",
   "execution_count": 4,
   "metadata": {},
   "outputs": [
    {
     "name": "stdout",
     "output_type": "stream",
     "text": [
      "Wall time: 18.6 s\n"
     ]
    }
   ],
   "source": [
    "%%time\n",
    "predicts = [predict_worker((d.strftime('%Y-%m-%d'), alpha_model)) for d in ref_dates]"
   ]
  },
  {
   "cell_type": "code",
   "execution_count": 5,
   "metadata": {},
   "outputs": [
    {
     "name": "stderr",
     "output_type": "stream",
     "text": [
      "2018-04-16 09:33:44,891 - ALPHA_MIND - INFO - 2017-04-10 full re-balance: 500\n",
      "2018-04-16 09:33:45,185 - ALPHA_MIND - INFO - 2017-04-10 is finished\n",
      "2018-04-16 09:33:45,190 - ALPHA_MIND - INFO - 2017-04-17 full re-balance: 500\n",
      "2018-04-16 09:33:45,616 - ALPHA_MIND - INFO - 2017-04-17 is finished\n",
      "2018-04-16 09:33:45,621 - ALPHA_MIND - INFO - 2017-04-24 full re-balance: 500\n",
      "2018-04-16 09:33:45,748 - ALPHA_MIND - INFO - 2017-04-24 is finished\n",
      "2018-04-16 09:33:45,753 - ALPHA_MIND - INFO - 2017-05-02 full re-balance: 500\n",
      "2018-04-16 09:33:45,877 - ALPHA_MIND - INFO - 2017-05-02 is finished\n",
      "2018-04-16 09:33:45,882 - ALPHA_MIND - INFO - 2017-05-09 full re-balance: 500\n",
      "2018-04-16 09:33:46,010 - ALPHA_MIND - INFO - 2017-05-09 is finished\n",
      "2018-04-16 09:33:46,015 - ALPHA_MIND - INFO - 2017-05-16 full re-balance: 500\n",
      "2018-04-16 09:33:46,229 - ALPHA_MIND - INFO - 2017-05-16 is finished\n",
      "2018-04-16 09:33:46,234 - ALPHA_MIND - INFO - 2017-05-23 full re-balance: 500\n",
      "2018-04-16 09:33:46,363 - ALPHA_MIND - INFO - 2017-05-23 is finished\n",
      "2018-04-16 09:33:46,368 - ALPHA_MIND - INFO - 2017-06-01 full re-balance: 500\n",
      "2018-04-16 09:33:46,499 - ALPHA_MIND - INFO - 2017-06-01 is finished\n",
      "2018-04-16 09:33:46,504 - ALPHA_MIND - INFO - 2017-06-08 full re-balance: 500\n",
      "2018-04-16 09:33:46,635 - ALPHA_MIND - INFO - 2017-06-08 is finished\n",
      "2018-04-16 09:33:46,641 - ALPHA_MIND - INFO - 2017-06-15 full re-balance: 500\n",
      "2018-04-16 09:33:46,772 - ALPHA_MIND - INFO - 2017-06-15 is finished\n",
      "2018-04-16 09:33:46,777 - ALPHA_MIND - INFO - 2017-06-22 full re-balance: 500\n",
      "2018-04-16 09:33:46,908 - ALPHA_MIND - INFO - 2017-06-22 is finished\n",
      "2018-04-16 09:33:46,913 - ALPHA_MIND - INFO - 2017-06-29 full re-balance: 500\n",
      "2018-04-16 09:33:47,043 - ALPHA_MIND - INFO - 2017-06-29 is finished\n",
      "2018-04-16 09:33:47,048 - ALPHA_MIND - INFO - 2017-07-06 full re-balance: 500\n",
      "2018-04-16 09:33:47,177 - ALPHA_MIND - INFO - 2017-07-06 is finished\n",
      "2018-04-16 09:33:47,183 - ALPHA_MIND - INFO - 2017-07-13 full re-balance: 500\n",
      "2018-04-16 09:33:47,313 - ALPHA_MIND - INFO - 2017-07-13 is finished\n",
      "2018-04-16 09:33:47,318 - ALPHA_MIND - INFO - 2017-07-20 full re-balance: 500\n",
      "2018-04-16 09:33:47,450 - ALPHA_MIND - INFO - 2017-07-20 is finished\n",
      "2018-04-16 09:33:47,455 - ALPHA_MIND - INFO - 2017-07-27 full re-balance: 500\n",
      "2018-04-16 09:33:47,585 - ALPHA_MIND - INFO - 2017-07-27 is finished\n",
      "2018-04-16 09:33:47,590 - ALPHA_MIND - INFO - 2017-08-03 full re-balance: 500\n",
      "2018-04-16 09:33:47,719 - ALPHA_MIND - INFO - 2017-08-03 is finished\n",
      "2018-04-16 09:33:47,725 - ALPHA_MIND - INFO - 2017-08-10 full re-balance: 500\n",
      "2018-04-16 09:33:47,853 - ALPHA_MIND - INFO - 2017-08-10 is finished\n",
      "2018-04-16 09:33:47,857 - ALPHA_MIND - INFO - 2017-08-17 full re-balance: 500\n",
      "2018-04-16 09:33:47,989 - ALPHA_MIND - INFO - 2017-08-17 is finished\n",
      "2018-04-16 09:33:47,994 - ALPHA_MIND - INFO - 2017-08-24 full re-balance: 500\n",
      "2018-04-16 09:33:48,129 - ALPHA_MIND - INFO - 2017-08-24 is finished\n",
      "2018-04-16 09:33:48,135 - ALPHA_MIND - INFO - 2017-08-31 full re-balance: 500\n",
      "2018-04-16 09:33:48,266 - ALPHA_MIND - INFO - 2017-08-31 is finished\n",
      "2018-04-16 09:33:48,271 - ALPHA_MIND - INFO - 2017-09-07 full re-balance: 500\n",
      "2018-04-16 09:33:48,402 - ALPHA_MIND - INFO - 2017-09-07 is finished\n",
      "2018-04-16 09:33:48,408 - ALPHA_MIND - INFO - 2017-09-14 full re-balance: 500\n",
      "2018-04-16 09:33:48,536 - ALPHA_MIND - INFO - 2017-09-14 is finished\n",
      "2018-04-16 09:33:48,541 - ALPHA_MIND - INFO - 2017-09-21 full re-balance: 500\n",
      "2018-04-16 09:33:48,673 - ALPHA_MIND - INFO - 2017-09-21 is finished\n",
      "2018-04-16 09:33:48,678 - ALPHA_MIND - INFO - 2017-09-28 full re-balance: 500\n",
      "2018-04-16 09:33:48,812 - ALPHA_MIND - INFO - 2017-09-28 is finished\n",
      "2018-04-16 09:33:48,817 - ALPHA_MIND - INFO - 2017-10-12 full re-balance: 500\n",
      "2018-04-16 09:33:48,948 - ALPHA_MIND - INFO - 2017-10-12 is finished\n",
      "2018-04-16 09:33:48,953 - ALPHA_MIND - INFO - 2017-10-19 full re-balance: 500\n",
      "2018-04-16 09:33:49,086 - ALPHA_MIND - INFO - 2017-10-19 is finished\n",
      "2018-04-16 09:33:49,091 - ALPHA_MIND - INFO - 2017-10-26 full re-balance: 500\n",
      "2018-04-16 09:33:49,228 - ALPHA_MIND - INFO - 2017-10-26 is finished\n",
      "2018-04-16 09:33:49,233 - ALPHA_MIND - INFO - 2017-11-02 full re-balance: 500\n",
      "2018-04-16 09:33:49,362 - ALPHA_MIND - INFO - 2017-11-02 is finished\n",
      "2018-04-16 09:33:49,367 - ALPHA_MIND - INFO - 2017-11-09 full re-balance: 500\n",
      "2018-04-16 09:33:49,503 - ALPHA_MIND - INFO - 2017-11-09 is finished\n",
      "2018-04-16 09:33:49,509 - ALPHA_MIND - INFO - 2017-11-16 full re-balance: 500\n",
      "2018-04-16 09:33:49,643 - ALPHA_MIND - INFO - 2017-11-16 is finished\n",
      "2018-04-16 09:33:49,648 - ALPHA_MIND - INFO - 2017-11-23 full re-balance: 500\n",
      "2018-04-16 09:33:49,782 - ALPHA_MIND - INFO - 2017-11-23 is finished\n",
      "2018-04-16 09:33:49,787 - ALPHA_MIND - INFO - 2017-11-30 full re-balance: 500\n",
      "2018-04-16 09:33:49,920 - ALPHA_MIND - INFO - 2017-11-30 is finished\n",
      "2018-04-16 09:33:49,925 - ALPHA_MIND - INFO - 2017-12-07 full re-balance: 500\n",
      "2018-04-16 09:33:50,064 - ALPHA_MIND - INFO - 2017-12-07 is finished\n",
      "2018-04-16 09:33:50,069 - ALPHA_MIND - INFO - 2017-12-14 full re-balance: 500\n",
      "2018-04-16 09:33:50,201 - ALPHA_MIND - INFO - 2017-12-14 is finished\n",
      "2018-04-16 09:33:50,205 - ALPHA_MIND - INFO - 2017-12-21 full re-balance: 500\n",
      "2018-04-16 09:33:50,340 - ALPHA_MIND - INFO - 2017-12-21 is finished\n",
      "2018-04-16 09:33:50,346 - ALPHA_MIND - INFO - 2017-12-28 full re-balance: 500\n",
      "2018-04-16 09:33:50,490 - ALPHA_MIND - INFO - 2017-12-28 is finished\n",
      "2018-04-16 09:33:50,496 - ALPHA_MIND - INFO - 2018-01-05 full re-balance: 500\n",
      "2018-04-16 09:33:50,634 - ALPHA_MIND - INFO - 2018-01-05 is finished\n",
      "2018-04-16 09:33:50,639 - ALPHA_MIND - INFO - 2018-01-12 full re-balance: 500\n",
      "2018-04-16 09:33:50,855 - ALPHA_MIND - INFO - 2018-01-12 is finished\n",
      "2018-04-16 09:33:50,859 - ALPHA_MIND - INFO - 2018-01-19 full re-balance: 500\n",
      "2018-04-16 09:33:50,991 - ALPHA_MIND - INFO - 2018-01-19 is finished\n",
      "2018-04-16 09:33:50,996 - ALPHA_MIND - INFO - 2018-01-26 full re-balance: 500\n",
      "2018-04-16 09:33:51,133 - ALPHA_MIND - INFO - 2018-01-26 is finished\n",
      "2018-04-16 09:33:51,138 - ALPHA_MIND - INFO - 2018-02-02 full re-balance: 500\n",
      "2018-04-16 09:33:51,274 - ALPHA_MIND - INFO - 2018-02-02 is finished\n",
      "2018-04-16 09:33:51,279 - ALPHA_MIND - INFO - 2018-02-09 full re-balance: 500\n",
      "2018-04-16 09:33:51,417 - ALPHA_MIND - INFO - 2018-02-09 is finished\n",
      "2018-04-16 09:33:51,422 - ALPHA_MIND - INFO - 2018-02-23 full re-balance: 500\n",
      "2018-04-16 09:33:51,565 - ALPHA_MIND - INFO - 2018-02-23 is finished\n",
      "2018-04-16 09:33:51,570 - ALPHA_MIND - INFO - 2018-03-02 full re-balance: 500\n",
      "2018-04-16 09:33:51,707 - ALPHA_MIND - INFO - 2018-03-02 is finished\n",
      "2018-04-16 09:33:51,713 - ALPHA_MIND - INFO - 2018-03-09 full re-balance: 500\n",
      "2018-04-16 09:33:51,850 - ALPHA_MIND - INFO - 2018-03-09 is finished\n",
      "2018-04-16 09:33:51,854 - ALPHA_MIND - INFO - 2018-03-16 full re-balance: 500\n",
      "2018-04-16 09:33:51,992 - ALPHA_MIND - INFO - 2018-03-16 is finished\n",
      "2018-04-16 09:33:51,997 - ALPHA_MIND - INFO - 2018-03-23 full re-balance: 500\n",
      "2018-04-16 09:33:52,133 - ALPHA_MIND - INFO - 2018-03-23 is finished\n",
      "2018-04-16 09:33:52,139 - ALPHA_MIND - INFO - 2018-03-30 full re-balance: 500\n",
      "2018-04-16 09:33:52,274 - ALPHA_MIND - INFO - 2018-03-30 is finished\n"
     ]
    }
   ],
   "source": [
    "industry_names = industry_list(industry_name, industry_level)\n",
    "industry_total = engine.fetch_industry_matrix_range(universe, dates=ref_dates, category=industry_name, level=industry_level)\n",
    "\n",
    "previous_pos = pd.DataFrame()\n",
    "rets = []\n",
    "turn_overs = []\n",
    "leverags = []\n",
    "\n",
    "for i, ref_date in enumerate(ref_dates):\n",
    "    ref_date = ref_date.strftime('%Y-%m-%d')\n",
    "    industry_matrix = industry_total[industry_total.trade_date == ref_date]\n",
    "    \n",
    "    res = industry_matrix.dropna()\n",
    "    codes = res.code.values.tolist()\n",
    "        \n",
    "    er = predicts[i].loc[codes].values\n",
    "    \n",
    "    alpha_logger.info('{0} full re-balance: {1}'.format(ref_date, len(er)))\n",
    "    target_pos, _ = er_portfolio_analysis(er,\n",
    "                                          industry_matrix.industry_name.values,\n",
    "                                          None,\n",
    "                                          None,\n",
    "                                          False,\n",
    "                                          None,\n",
    "                                          method=method)\n",
    "        \n",
    "    target_pos['code'] = codes\n",
    "    turn_over, executed_pos = executor.execute(target_pos=target_pos)\n",
    "\n",
    "    executed_codes = executed_pos.code.tolist()\n",
    "    dx_returns = engine.fetch_dx_return(ref_date, executed_codes, horizon=horizon, offset=offset)\n",
    "    result = pd.merge(executed_pos, dx_returns, on=['code'])\n",
    "\n",
    "    leverage = result.weight.abs().sum()\n",
    "\n",
    "    ret = result.weight.values @ (np.exp(result.dx.values) - 1.)\n",
    "    rets.append(np.log(1. + ret))\n",
    "    executor.set_current(executed_pos)\n",
    "    turn_overs.append(turn_over)\n",
    "    leverags.append(leverage)\n",
    "\n",
    "    previous_pos = executed_pos\n",
    "    alpha_logger.info('{0} is finished'.format(ref_date))"
   ]
  },
  {
   "cell_type": "code",
   "execution_count": 6,
   "metadata": {},
   "outputs": [
    {
     "data": {
      "text/plain": [
       "<matplotlib.axes._subplots.AxesSubplot at 0x157bcc7a4a8>"
      ]
     },
     "execution_count": 6,
     "metadata": {},
     "output_type": "execute_result"
    },
    {
     "data": {
      "image/png": "[encoded data removed]",
      "text/plain": [
       "<Figure size 864x432 with 2 Axes>"
      ]
     },
     "metadata": {},
     "output_type": "display_data"
    }
   ],
   "source": [
    "ret_df = pd.DataFrame({'returns': rets, 'turn_over': turn_overs, 'leverage': leverags}, index=ref_dates)\n",
    "ret_df.loc[advanceDateByCalendar('china.sse', ref_dates[-1], freq)] = 0.\n",
    "ret_df = ret_df.shift(1)\n",
    "ret_df.iloc[0] = 0.\n",
    "ret_df['tc_cost'] = ret_df.turn_over * 0.002\n",
    "\n",
    "ret_df[['returns', 'tc_cost']].cumsum().plot(figsize=(12, 6),\n",
    "                                             title='Fixed freq rebalanced: {0}'.format(freq),\n",
    "                                             secondary_y='tc_cost')"
   ]
  },
  {
   "cell_type": "code",
   "execution_count": null,
   "metadata": {},
   "outputs": [],
   "source": []
  }
 ],
 "metadata": {
  "kernelspec": {
   "display_name": "Python 3",
   "language": "python",
   "name": "python3"
  },
  "language_info": {
   "codemirror_mode": {
    "name": "ipython",
    "version": 3
   },
   "file_extension": ".py",
   "mimetype": "text/x-python",
   "name": "python",
   "nbconvert_exporter": "python",
   "pygments_lexer": "ipython3",
   "version": "3.6.5"
  },
  "varInspector": {
   "cols": {
    "lenName": 16,
    "lenType": 16,
    "lenVar": 40
   },
   "kernels_config": {
    "python": {
     "delete_cmd_postfix": "",
     "delete_cmd_prefix": "del ",
     "library": "var_list.py",
     "varRefreshCmd": "print(var_dic_list())"
    },
    "r": {
     "delete_cmd_postfix": ") ",
     "delete_cmd_prefix": "rm(",
     "library": "var_list.r",
     "varRefreshCmd": "cat(var_dic_list()) "
    }
   },
   "types_to_exclude": [
    "module",
    "function",
    "builtin_function_or_method",
    "instance",
    "_Feature"
   ],
   "window_display": false
  }
 },
 "nbformat": 4,
 "nbformat_minor": 2
}
