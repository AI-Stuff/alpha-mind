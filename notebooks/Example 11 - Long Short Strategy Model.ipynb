{
 "cells": [
  {
   "cell_type": "markdown",
   "metadata": {},
   "source": [
    "* 请在环境变量中设置`DB_URI`指向数据库"
   ]
  },
  {
   "cell_type": "code",
   "execution_count": 1,
   "metadata": {},
   "outputs": [
    {
     "data": {
      "text/plain": [
       "datetime.datetime(2019, 2, 10, 0, 16, 56, 354078)"
      ]
     },
     "execution_count": 1,
     "metadata": {},
     "output_type": "execute_result"
    }
   ],
   "source": [
    "%matplotlib inline\n",
    "import os\n",
    "import datetime as dt\n",
    "import numpy as np\n",
    "import pandas as pd\n",
    "from PyFin.api import *\n",
    "from alphamind.api import *\n",
    "from matplotlib import pyplot as plt\n",
    "\n",
    "plt.style.use('ggplot')\n",
    "dt.datetime.now()"
   ]
  },
  {
   "cell_type": "code",
   "execution_count": 2,
   "metadata": {},
   "outputs": [],
   "source": [
    "start_date = '2017-04-10'\n",
    "end_date = '2018-04-09'\n",
    "\n",
    "freq = '5b'\n",
    "horizon = map_freq(freq)\n",
    "neutralized_risk = risk_styles + industry_styles\n",
    "universe = Universe('zz500')\n",
    "data_source = os.environ['DB_URI']\n",
    "offset = 1\n",
    "method = 'ls'\n",
    "industry_name = 'sw'\n",
    "industry_level = 1\n",
    "\n",
    "risk_model = 'short'\n",
    "executor = NaiveExecutor()\n",
    "ref_dates = makeSchedule(start_date, end_date, freq, 'china.sse')\n",
    "engine = SqlEngine(data_source)"
   ]
  },
  {
   "cell_type": "code",
   "execution_count": 8,
   "metadata": {},
   "outputs": [],
   "source": [
    "alpha_factors = {\n",
    "    'f01': LAST('EPS'),\n",
    "    'f02': LAST('ROE')\n",
    "    }\n",
    "\n",
    "weights = dict(f01=1.0,\n",
    "               f02=1.0,\n",
    "              )\n",
    "\n",
    "alpha_model = ConstLinearModel(features=alpha_factors, weights=weights)\n",
    "\n",
    "def predict_worker(params):\n",
    "    data_meta = DataMeta(freq=freq,\n",
    "                         universe=universe,\n",
    "                         batch=1,\n",
    "                         neutralized_risk=neutralized_risk,\n",
    "                         risk_model='short',\n",
    "                         pre_process=[winsorize_normal, standardize],\n",
    "                         post_process=[standardize],\n",
    "                         warm_start=0,\n",
    "                         data_source=data_source)\n",
    "    ref_date, model = params\n",
    "    er, _ = predict_by_model(ref_date, model, data_meta)\n",
    "    return er"
   ]
  },
  {
   "cell_type": "code",
   "execution_count": 9,
   "metadata": {},
   "outputs": [
    {
     "name": "stdout",
     "output_type": "stream",
     "text": [
      "Wall time: 1min 9s\n"
     ]
    }
   ],
   "source": [
    "%%time\n",
    "predicts = [predict_worker((d.strftime('%Y-%m-%d'), alpha_model)) for d in ref_dates]"
   ]
  },
  {
   "cell_type": "code",
   "execution_count": 10,
   "metadata": {},
   "outputs": [
    {
     "name": "stderr",
     "output_type": "stream",
     "text": [
      "2019-02-10 00:19:34,241 - ALPHA_MIND - INFO - 2017-04-10 full re-balance: 500\n",
      "2019-02-10 00:19:34,503 - ALPHA_MIND - INFO - 2017-04-10 is finished\n",
      "2019-02-10 00:19:34,508 - ALPHA_MIND - INFO - 2017-04-17 full re-balance: 500\n",
      "2019-02-10 00:19:34,796 - ALPHA_MIND - INFO - 2017-04-17 is finished\n",
      "2019-02-10 00:19:34,802 - ALPHA_MIND - INFO - 2017-04-24 full re-balance: 500\n",
      "2019-02-10 00:19:35,044 - ALPHA_MIND - INFO - 2017-04-24 is finished\n",
      "2019-02-10 00:19:35,057 - ALPHA_MIND - INFO - 2017-05-02 full re-balance: 500\n",
      "2019-02-10 00:19:35,288 - ALPHA_MIND - INFO - 2017-05-02 is finished\n",
      "2019-02-10 00:19:35,301 - ALPHA_MIND - INFO - 2017-05-09 full re-balance: 500\n",
      "2019-02-10 00:19:35,561 - ALPHA_MIND - INFO - 2017-05-09 is finished\n",
      "2019-02-10 00:19:35,578 - ALPHA_MIND - INFO - 2017-05-16 full re-balance: 500\n",
      "2019-02-10 00:19:35,839 - ALPHA_MIND - INFO - 2017-05-16 is finished\n",
      "2019-02-10 00:19:35,849 - ALPHA_MIND - INFO - 2017-05-23 full re-balance: 500\n",
      "2019-02-10 00:19:36,085 - ALPHA_MIND - INFO - 2017-05-23 is finished\n",
      "2019-02-10 00:19:36,091 - ALPHA_MIND - INFO - 2017-06-01 full re-balance: 500\n",
      "2019-02-10 00:19:36,356 - ALPHA_MIND - INFO - 2017-06-01 is finished\n",
      "2019-02-10 00:19:36,362 - ALPHA_MIND - INFO - 2017-06-08 full re-balance: 500\n",
      "2019-02-10 00:19:36,620 - ALPHA_MIND - INFO - 2017-06-08 is finished\n",
      "2019-02-10 00:19:36,625 - ALPHA_MIND - INFO - 2017-06-15 full re-balance: 500\n",
      "2019-02-10 00:19:36,866 - ALPHA_MIND - INFO - 2017-06-15 is finished\n",
      "2019-02-10 00:19:36,873 - ALPHA_MIND - INFO - 2017-06-22 full re-balance: 500\n",
      "2019-02-10 00:19:37,103 - ALPHA_MIND - INFO - 2017-06-22 is finished\n",
      "2019-02-10 00:19:37,110 - ALPHA_MIND - INFO - 2017-06-29 full re-balance: 500\n",
      "2019-02-10 00:19:37,404 - ALPHA_MIND - INFO - 2017-06-29 is finished\n",
      "2019-02-10 00:19:37,412 - ALPHA_MIND - INFO - 2017-07-06 full re-balance: 500\n",
      "2019-02-10 00:19:37,630 - ALPHA_MIND - INFO - 2017-07-06 is finished\n",
      "2019-02-10 00:19:37,635 - ALPHA_MIND - INFO - 2017-07-13 full re-balance: 500\n",
      "2019-02-10 00:19:37,858 - ALPHA_MIND - INFO - 2017-07-13 is finished\n",
      "2019-02-10 00:19:37,866 - ALPHA_MIND - INFO - 2017-07-20 full re-balance: 500\n",
      "2019-02-10 00:19:38,127 - ALPHA_MIND - INFO - 2017-07-20 is finished\n",
      "2019-02-10 00:19:38,132 - ALPHA_MIND - INFO - 2017-07-27 full re-balance: 500\n",
      "2019-02-10 00:19:38,421 - ALPHA_MIND - INFO - 2017-07-27 is finished\n",
      "2019-02-10 00:19:38,428 - ALPHA_MIND - INFO - 2017-08-03 full re-balance: 500\n",
      "2019-02-10 00:19:38,692 - ALPHA_MIND - INFO - 2017-08-03 is finished\n",
      "2019-02-10 00:19:38,699 - ALPHA_MIND - INFO - 2017-08-10 full re-balance: 500\n",
      "2019-02-10 00:19:38,937 - ALPHA_MIND - INFO - 2017-08-10 is finished\n",
      "2019-02-10 00:19:38,942 - ALPHA_MIND - INFO - 2017-08-17 full re-balance: 500\n",
      "2019-02-10 00:19:39,171 - ALPHA_MIND - INFO - 2017-08-17 is finished\n",
      "2019-02-10 00:19:39,176 - ALPHA_MIND - INFO - 2017-08-24 full re-balance: 500\n",
      "2019-02-10 00:19:39,410 - ALPHA_MIND - INFO - 2017-08-24 is finished\n",
      "2019-02-10 00:19:39,417 - ALPHA_MIND - INFO - 2017-08-31 full re-balance: 500\n",
      "2019-02-10 00:19:39,649 - ALPHA_MIND - INFO - 2017-08-31 is finished\n",
      "2019-02-10 00:19:39,659 - ALPHA_MIND - INFO - 2017-09-07 full re-balance: 500\n",
      "2019-02-10 00:19:39,985 - ALPHA_MIND - INFO - 2017-09-07 is finished\n",
      "2019-02-10 00:19:39,993 - ALPHA_MIND - INFO - 2017-09-14 full re-balance: 500\n",
      "2019-02-10 00:19:40,246 - ALPHA_MIND - INFO - 2017-09-14 is finished\n",
      "2019-02-10 00:19:40,256 - ALPHA_MIND - INFO - 2017-09-21 full re-balance: 500\n",
      "2019-02-10 00:19:40,573 - ALPHA_MIND - INFO - 2017-09-21 is finished\n",
      "2019-02-10 00:19:40,578 - ALPHA_MIND - INFO - 2017-09-28 full re-balance: 500\n",
      "2019-02-10 00:19:40,804 - ALPHA_MIND - INFO - 2017-09-28 is finished\n",
      "2019-02-10 00:19:40,816 - ALPHA_MIND - INFO - 2017-10-12 full re-balance: 500\n",
      "2019-02-10 00:19:41,057 - ALPHA_MIND - INFO - 2017-10-12 is finished\n",
      "2019-02-10 00:19:41,068 - ALPHA_MIND - INFO - 2017-10-19 full re-balance: 500\n",
      "2019-02-10 00:19:41,333 - ALPHA_MIND - INFO - 2017-10-19 is finished\n",
      "2019-02-10 00:19:41,342 - ALPHA_MIND - INFO - 2017-10-26 full re-balance: 500\n",
      "2019-02-10 00:19:41,571 - ALPHA_MIND - INFO - 2017-10-26 is finished\n",
      "2019-02-10 00:19:41,579 - ALPHA_MIND - INFO - 2017-11-02 full re-balance: 500\n",
      "2019-02-10 00:19:41,768 - ALPHA_MIND - INFO - 2017-11-02 is finished\n",
      "2019-02-10 00:19:41,774 - ALPHA_MIND - INFO - 2017-11-09 full re-balance: 500\n",
      "2019-02-10 00:19:41,988 - ALPHA_MIND - INFO - 2017-11-09 is finished\n",
      "2019-02-10 00:19:41,993 - ALPHA_MIND - INFO - 2017-11-16 full re-balance: 500\n",
      "2019-02-10 00:19:42,235 - ALPHA_MIND - INFO - 2017-11-16 is finished\n",
      "2019-02-10 00:19:42,242 - ALPHA_MIND - INFO - 2017-11-23 full re-balance: 500\n",
      "2019-02-10 00:19:42,534 - ALPHA_MIND - INFO - 2017-11-23 is finished\n",
      "2019-02-10 00:19:42,538 - ALPHA_MIND - INFO - 2017-11-30 full re-balance: 500\n",
      "2019-02-10 00:19:42,774 - ALPHA_MIND - INFO - 2017-11-30 is finished\n",
      "2019-02-10 00:19:42,779 - ALPHA_MIND - INFO - 2017-12-07 full re-balance: 500\n",
      "2019-02-10 00:19:43,045 - ALPHA_MIND - INFO - 2017-12-07 is finished\n",
      "2019-02-10 00:19:43,053 - ALPHA_MIND - INFO - 2017-12-14 full re-balance: 500\n",
      "2019-02-10 00:19:43,274 - ALPHA_MIND - INFO - 2017-12-14 is finished\n",
      "2019-02-10 00:19:43,283 - ALPHA_MIND - INFO - 2017-12-21 full re-balance: 500\n",
      "2019-02-10 00:19:43,547 - ALPHA_MIND - INFO - 2017-12-21 is finished\n",
      "2019-02-10 00:19:43,559 - ALPHA_MIND - INFO - 2017-12-28 full re-balance: 500\n",
      "2019-02-10 00:19:43,798 - ALPHA_MIND - INFO - 2017-12-28 is finished\n",
      "2019-02-10 00:19:43,805 - ALPHA_MIND - INFO - 2018-01-05 full re-balance: 500\n",
      "2019-02-10 00:19:44,058 - ALPHA_MIND - INFO - 2018-01-05 is finished\n",
      "2019-02-10 00:19:44,067 - ALPHA_MIND - INFO - 2018-01-12 full re-balance: 500\n",
      "2019-02-10 00:19:44,310 - ALPHA_MIND - INFO - 2018-01-12 is finished\n",
      "2019-02-10 00:19:44,320 - ALPHA_MIND - INFO - 2018-01-19 full re-balance: 500\n",
      "2019-02-10 00:19:44,578 - ALPHA_MIND - INFO - 2018-01-19 is finished\n",
      "2019-02-10 00:19:44,588 - ALPHA_MIND - INFO - 2018-01-26 full re-balance: 500\n",
      "2019-02-10 00:19:44,855 - ALPHA_MIND - INFO - 2018-01-26 is finished\n",
      "2019-02-10 00:19:44,860 - ALPHA_MIND - INFO - 2018-02-02 full re-balance: 500\n",
      "2019-02-10 00:19:45,116 - ALPHA_MIND - INFO - 2018-02-02 is finished\n",
      "2019-02-10 00:19:45,123 - ALPHA_MIND - INFO - 2018-02-09 full re-balance: 500\n",
      "2019-02-10 00:19:45,380 - ALPHA_MIND - INFO - 2018-02-09 is finished\n",
      "2019-02-10 00:19:45,391 - ALPHA_MIND - INFO - 2018-02-23 full re-balance: 500\n",
      "2019-02-10 00:19:45,660 - ALPHA_MIND - INFO - 2018-02-23 is finished\n",
      "2019-02-10 00:19:45,666 - ALPHA_MIND - INFO - 2018-03-02 full re-balance: 500\n",
      "2019-02-10 00:19:45,890 - ALPHA_MIND - INFO - 2018-03-02 is finished\n",
      "2019-02-10 00:19:45,898 - ALPHA_MIND - INFO - 2018-03-09 full re-balance: 500\n",
      "2019-02-10 00:19:46,126 - ALPHA_MIND - INFO - 2018-03-09 is finished\n",
      "2019-02-10 00:19:46,136 - ALPHA_MIND - INFO - 2018-03-16 full re-balance: 500\n",
      "2019-02-10 00:19:46,352 - ALPHA_MIND - INFO - 2018-03-16 is finished\n",
      "2019-02-10 00:19:46,363 - ALPHA_MIND - INFO - 2018-03-23 full re-balance: 500\n",
      "2019-02-10 00:19:46,630 - ALPHA_MIND - INFO - 2018-03-23 is finished\n",
      "2019-02-10 00:19:46,642 - ALPHA_MIND - INFO - 2018-03-30 full re-balance: 500\n",
      "2019-02-10 00:19:46,885 - ALPHA_MIND - INFO - 2018-03-30 is finished\n"
     ]
    }
   ],
   "source": [
    "industry_names = industry_list(industry_name, industry_level)\n",
    "industry_total = engine.fetch_industry_matrix_range(universe, dates=ref_dates, category=industry_name, level=industry_level)\n",
    "\n",
    "previous_pos = pd.DataFrame()\n",
    "rets = []\n",
    "turn_overs = []\n",
    "leverags = []\n",
    "\n",
    "for i, ref_date in enumerate(ref_dates):\n",
    "    ref_date = ref_date.strftime('%Y-%m-%d')\n",
    "    industry_matrix = industry_total[industry_total.trade_date == ref_date]\n",
    "    \n",
    "    res = industry_matrix.dropna()\n",
    "    codes = res.code.values.tolist()\n",
    "        \n",
    "    er = predicts[i].loc[codes].values\n",
    "    \n",
    "    alpha_logger.info('{0} full re-balance: {1}'.format(ref_date, len(er)))\n",
    "    target_pos, _ = er_portfolio_analysis(er,\n",
    "                                          industry_matrix.industry_name.values,\n",
    "                                          None,\n",
    "                                          None,\n",
    "                                          False,\n",
    "                                          None,\n",
    "                                          method=method)\n",
    "        \n",
    "    target_pos['code'] = codes\n",
    "    turn_over, executed_pos = executor.execute(target_pos=target_pos)\n",
    "\n",
    "    executed_codes = executed_pos.code.tolist()\n",
    "    dx_returns = engine.fetch_dx_return(ref_date, executed_codes, horizon=horizon, offset=offset)\n",
    "    result = pd.merge(executed_pos, dx_returns, on=['code'])\n",
    "\n",
    "    leverage = result.weight.abs().sum()\n",
    "\n",
    "    ret = result.weight.values @ (np.exp(result.dx.values) - 1.)\n",
    "    rets.append(np.log(1. + ret))\n",
    "    executor.set_current(executed_pos)\n",
    "    turn_overs.append(turn_over)\n",
    "    leverags.append(leverage)\n",
    "\n",
    "    previous_pos = executed_pos\n",
    "    alpha_logger.info('{0} is finished'.format(ref_date))"
   ]
  },
  {
   "cell_type": "code",
   "execution_count": 11,
   "metadata": {},
   "outputs": [
    {
     "data": {
      "text/plain": [
       "<matplotlib.axes._subplots.AxesSubplot at 0x1ef2b939e48>"
      ]
     },
     "execution_count": 11,
     "metadata": {},
     "output_type": "execute_result"
    },
    {
     "data": {
      "image/png": "[encoded data removed]",
      "text/plain": [
       "<Figure size 864x432 with 2 Axes>"
      ]
     },
     "metadata": {
      "needs_background": "light"
     },
     "output_type": "display_data"
    }
   ],
   "source": [
    "ret_df = pd.DataFrame({'returns': rets, 'turn_over': turn_overs, 'leverage': leverags}, index=ref_dates)\n",
    "ret_df.loc[advanceDateByCalendar('china.sse', ref_dates[-1], freq)] = 0.\n",
    "ret_df = ret_df.shift(1)\n",
    "ret_df.iloc[0] = 0.\n",
    "ret_df['tc_cost'] = ret_df.turn_over * 0.002\n",
    "\n",
    "ret_df[['returns', 'tc_cost']].cumsum().plot(figsize=(12, 6),\n",
    "                                             title='Fixed freq rebalanced: {0}'.format(freq),\n",
    "                                             secondary_y='tc_cost')"
   ]
  },
  {
   "cell_type": "code",
   "execution_count": null,
   "metadata": {},
   "outputs": [],
   "source": []
  }
 ],
 "metadata": {
  "kernelspec": {
   "display_name": "Python 3",
   "language": "python",
   "name": "python3"
  },
  "language_info": {
   "codemirror_mode": {
    "name": "ipython",
    "version": 3
   },
   "file_extension": ".py",
   "mimetype": "text/x-python",
   "name": "python",
   "nbconvert_exporter": "python",
   "pygments_lexer": "ipython3",
   "version": "3.6.8"
  },
  "varInspector": {
   "cols": {
    "lenName": 16,
    "lenType": 16,
    "lenVar": 40
   },
   "kernels_config": {
    "python": {
     "delete_cmd_postfix": "",
     "delete_cmd_prefix": "del ",
     "library": "var_list.py",
     "varRefreshCmd": "print(var_dic_list())"
    },
    "r": {
     "delete_cmd_postfix": ") ",
     "delete_cmd_prefix": "rm(",
     "library": "var_list.r",
     "varRefreshCmd": "cat(var_dic_list()) "
    }
   },
   "types_to_exclude": [
    "module",
    "function",
    "builtin_function_or_method",
    "instance",
    "_Feature"
   ],
   "window_display": false
  }
 },
 "nbformat": 4,
 "nbformat_minor": 2
}
